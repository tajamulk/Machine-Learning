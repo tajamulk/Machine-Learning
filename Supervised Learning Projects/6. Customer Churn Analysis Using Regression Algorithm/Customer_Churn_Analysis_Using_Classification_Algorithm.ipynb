{
  "cells": [
    {
      "cell_type": "markdown",
      "metadata": {
        "id": "uYuWBqzdc83D"
      },
      "source": [
        "Project Completed by [Tajamul Khan](https://github.com/tajamulk2)\n",
        "* For More Projects like this. Check out my [GitHub](https://github.com/tajamulk2)\n",
        "* Let's connect over [Linked In](https://www.linkedin.com/in/tajamulk2/)"
      ]
    },
    {
      "attachments": {},
      "cell_type": "markdown",
      "metadata": {
        "id": "McDeclBCbwsZ"
      },
      "source": [
        "# **Customer Churn Analysis Using Regression Algorithms**\n",
        "\n",
        "You are the Data Scientist at a telecom company “Neo” whose customers are churning out to\n",
        "its competitors. You have to analyse the data of your company and find insights and stop your\n",
        "customers from churning out to other telecom companies."
      ]
    },
    {
      "cell_type": "markdown",
      "metadata": {
        "id": "GXHzVV9Gd72-"
      },
      "source": [
        "## **1. Import Libraries & Check Data**"
      ]
    },
    {
      "cell_type": "code",
      "execution_count": null,
      "metadata": {
        "id": "08MsTuEBdDcN"
      },
      "outputs": [],
      "source": [
        "import numpy as np\n",
        "import pandas as pd\n",
        "import matplotlib.pyplot as plt\n",
        "import seaborn as sns\n",
        "from sklearn.linear_model import LinearRegression\n",
        "from sklearn.linear_model import LogisticRegression\n",
        "from sklearn.model_selection import train_test_split\n",
        "from sklearn.metrics import r2_score, classification_report, mean_absolute_error\n",
        "from sklearn.metrics import mean_squared_error, confusion_matrix, accuracy_score\n",
        "import warnings\n",
        "warnings.filterwarnings('ignore')"
      ]
    },
    {
      "cell_type": "code",
      "execution_count": null,
      "metadata": {
        "id": "A9VbSJ8teNLg"
      },
      "outputs": [],
      "source": [
        "data = pd.read_csv('customer churn.csv')"
      ]
    },
    {
      "cell_type": "code",
      "execution_count": null,
      "metadata": {
        "colab": {
          "base_uri": "https://localhost:8080/",
          "height": 240
        },
        "id": "M58kN0Qreiwg",
        "outputId": "eb5b70f7-d9a7-4888-93af-1b900c1deb30"
      },
      "outputs": [
        {
          "data": {
            "text/html": [
              "\n",
              "  <div id=\"df-1a64dcb0-2667-41c1-a782-0e9ad5b03057\">\n",
              "    <div class=\"colab-df-container\">\n",
              "      <div>\n",
              "<style scoped>\n",
              "    .dataframe tbody tr th:only-of-type {\n",
              "        vertical-align: middle;\n",
              "    }\n",
              "\n",
              "    .dataframe tbody tr th {\n",
              "        vertical-align: top;\n",
              "    }\n",
              "\n",
              "    .dataframe thead th {\n",
              "        text-align: right;\n",
              "    }\n",
              "</style>\n",
              "<table border=\"1\" class=\"dataframe\">\n",
              "  <thead>\n",
              "    <tr style=\"text-align: right;\">\n",
              "      <th></th>\n",
              "      <th>customerID</th>\n",
              "      <th>gender</th>\n",
              "      <th>SeniorCitizen</th>\n",
              "      <th>Partner</th>\n",
              "      <th>Dependents</th>\n",
              "      <th>tenure</th>\n",
              "      <th>PhoneService</th>\n",
              "      <th>MultipleLines</th>\n",
              "      <th>InternetService</th>\n",
              "      <th>OnlineSecurity</th>\n",
              "      <th>...</th>\n",
              "      <th>DeviceProtection</th>\n",
              "      <th>TechSupport</th>\n",
              "      <th>StreamingTV</th>\n",
              "      <th>StreamingMovies</th>\n",
              "      <th>Contract</th>\n",
              "      <th>PaperlessBilling</th>\n",
              "      <th>PaymentMethod</th>\n",
              "      <th>MonthlyCharges</th>\n",
              "      <th>TotalCharges</th>\n",
              "      <th>Churn</th>\n",
              "    </tr>\n",
              "  </thead>\n",
              "  <tbody>\n",
              "    <tr>\n",
              "      <th>0</th>\n",
              "      <td>7590-VHVEG</td>\n",
              "      <td>Female</td>\n",
              "      <td>0</td>\n",
              "      <td>Yes</td>\n",
              "      <td>No</td>\n",
              "      <td>1</td>\n",
              "      <td>No</td>\n",
              "      <td>No phone service</td>\n",
              "      <td>DSL</td>\n",
              "      <td>No</td>\n",
              "      <td>...</td>\n",
              "      <td>No</td>\n",
              "      <td>No</td>\n",
              "      <td>No</td>\n",
              "      <td>No</td>\n",
              "      <td>Month-to-month</td>\n",
              "      <td>Yes</td>\n",
              "      <td>Electronic check</td>\n",
              "      <td>29.85</td>\n",
              "      <td>29.85</td>\n",
              "      <td>No</td>\n",
              "    </tr>\n",
              "    <tr>\n",
              "      <th>1</th>\n",
              "      <td>5575-GNVDE</td>\n",
              "      <td>Male</td>\n",
              "      <td>0</td>\n",
              "      <td>No</td>\n",
              "      <td>No</td>\n",
              "      <td>34</td>\n",
              "      <td>Yes</td>\n",
              "      <td>No</td>\n",
              "      <td>DSL</td>\n",
              "      <td>Yes</td>\n",
              "      <td>...</td>\n",
              "      <td>Yes</td>\n",
              "      <td>No</td>\n",
              "      <td>No</td>\n",
              "      <td>No</td>\n",
              "      <td>One year</td>\n",
              "      <td>No</td>\n",
              "      <td>Mailed check</td>\n",
              "      <td>56.95</td>\n",
              "      <td>1889.5</td>\n",
              "      <td>No</td>\n",
              "    </tr>\n",
              "  </tbody>\n",
              "</table>\n",
              "<p>2 rows × 21 columns</p>\n",
              "</div>\n",
              "      <button class=\"colab-df-convert\" onclick=\"convertToInteractive('df-1a64dcb0-2667-41c1-a782-0e9ad5b03057')\"\n",
              "              title=\"Convert this dataframe to an interactive table.\"\n",
              "              style=\"display:none;\">\n",
              "        \n",
              "  <svg xmlns=\"http://www.w3.org/2000/svg\" height=\"24px\"viewBox=\"0 0 24 24\"\n",
              "       width=\"24px\">\n",
              "    <path d=\"M0 0h24v24H0V0z\" fill=\"none\"/>\n",
              "    <path d=\"M18.56 5.44l.94 2.06.94-2.06 2.06-.94-2.06-.94-.94-2.06-.94 2.06-2.06.94zm-11 1L8.5 8.5l.94-2.06 2.06-.94-2.06-.94L8.5 2.5l-.94 2.06-2.06.94zm10 10l.94 2.06.94-2.06 2.06-.94-2.06-.94-.94-2.06-.94 2.06-2.06.94z\"/><path d=\"M17.41 7.96l-1.37-1.37c-.4-.4-.92-.59-1.43-.59-.52 0-1.04.2-1.43.59L10.3 9.45l-7.72 7.72c-.78.78-.78 2.05 0 2.83L4 21.41c.39.39.9.59 1.41.59.51 0 1.02-.2 1.41-.59l7.78-7.78 2.81-2.81c.8-.78.8-2.07 0-2.86zM5.41 20L4 18.59l7.72-7.72 1.47 1.35L5.41 20z\"/>\n",
              "  </svg>\n",
              "      </button>\n",
              "      \n",
              "  <style>\n",
              "    .colab-df-container {\n",
              "      display:flex;\n",
              "      flex-wrap:wrap;\n",
              "      gap: 12px;\n",
              "    }\n",
              "\n",
              "    .colab-df-convert {\n",
              "      background-color: #E8F0FE;\n",
              "      border: none;\n",
              "      border-radius: 50%;\n",
              "      cursor: pointer;\n",
              "      display: none;\n",
              "      fill: #1967D2;\n",
              "      height: 32px;\n",
              "      padding: 0 0 0 0;\n",
              "      width: 32px;\n",
              "    }\n",
              "\n",
              "    .colab-df-convert:hover {\n",
              "      background-color: #E2EBFA;\n",
              "      box-shadow: 0px 1px 2px rgba(60, 64, 67, 0.3), 0px 1px 3px 1px rgba(60, 64, 67, 0.15);\n",
              "      fill: #174EA6;\n",
              "    }\n",
              "\n",
              "    [theme=dark] .colab-df-convert {\n",
              "      background-color: #3B4455;\n",
              "      fill: #D2E3FC;\n",
              "    }\n",
              "\n",
              "    [theme=dark] .colab-df-convert:hover {\n",
              "      background-color: #434B5C;\n",
              "      box-shadow: 0px 1px 3px 1px rgba(0, 0, 0, 0.15);\n",
              "      filter: drop-shadow(0px 1px 2px rgba(0, 0, 0, 0.3));\n",
              "      fill: #FFFFFF;\n",
              "    }\n",
              "  </style>\n",
              "\n",
              "      <script>\n",
              "        const buttonEl =\n",
              "          document.querySelector('#df-1a64dcb0-2667-41c1-a782-0e9ad5b03057 button.colab-df-convert');\n",
              "        buttonEl.style.display =\n",
              "          google.colab.kernel.accessAllowed ? 'block' : 'none';\n",
              "\n",
              "        async function convertToInteractive(key) {\n",
              "          const element = document.querySelector('#df-1a64dcb0-2667-41c1-a782-0e9ad5b03057');\n",
              "          const dataTable =\n",
              "            await google.colab.kernel.invokeFunction('convertToInteractive',\n",
              "                                                     [key], {});\n",
              "          if (!dataTable) return;\n",
              "\n",
              "          const docLinkHtml = 'Like what you see? Visit the ' +\n",
              "            '<a target=\"_blank\" href=https://colab.research.google.com/notebooks/data_table.ipynb>data table notebook</a>'\n",
              "            + ' to learn more about interactive tables.';\n",
              "          element.innerHTML = '';\n",
              "          dataTable['output_type'] = 'display_data';\n",
              "          await google.colab.output.renderOutput(dataTable, element);\n",
              "          const docLink = document.createElement('div');\n",
              "          docLink.innerHTML = docLinkHtml;\n",
              "          element.appendChild(docLink);\n",
              "        }\n",
              "      </script>\n",
              "    </div>\n",
              "  </div>\n",
              "  "
            ],
            "text/plain": [
              "   customerID  gender  SeniorCitizen Partner Dependents  tenure PhoneService  \\\n",
              "0  7590-VHVEG  Female              0     Yes         No       1           No   \n",
              "1  5575-GNVDE    Male              0      No         No      34          Yes   \n",
              "\n",
              "      MultipleLines InternetService OnlineSecurity  ... DeviceProtection  \\\n",
              "0  No phone service             DSL             No  ...               No   \n",
              "1                No             DSL            Yes  ...              Yes   \n",
              "\n",
              "  TechSupport StreamingTV StreamingMovies        Contract PaperlessBilling  \\\n",
              "0          No          No              No  Month-to-month              Yes   \n",
              "1          No          No              No        One year               No   \n",
              "\n",
              "      PaymentMethod MonthlyCharges  TotalCharges Churn  \n",
              "0  Electronic check          29.85         29.85    No  \n",
              "1      Mailed check          56.95        1889.5    No  \n",
              "\n",
              "[2 rows x 21 columns]"
            ]
          },
          "execution_count": 14,
          "metadata": {},
          "output_type": "execute_result"
        }
      ],
      "source": [
        "data.head(2)"
      ]
    },
    {
      "cell_type": "code",
      "execution_count": null,
      "metadata": {
        "colab": {
          "base_uri": "https://localhost:8080/"
        },
        "id": "ywgP8FX_ejvC",
        "outputId": "79cc977d-9582-43e2-baaa-c0feb8ad2eaa"
      },
      "outputs": [
        {
          "data": {
            "text/plain": [
              "(7043, 21)"
            ]
          },
          "execution_count": 9,
          "metadata": {},
          "output_type": "execute_result"
        }
      ],
      "source": [
        "data.shape"
      ]
    },
    {
      "cell_type": "code",
      "execution_count": null,
      "metadata": {
        "colab": {
          "base_uri": "https://localhost:8080/"
        },
        "id": "TDa_b3wyeqxT",
        "outputId": "6b225f59-16f2-4c7e-c241-2f8b3beb0934"
      },
      "outputs": [
        {
          "data": {
            "text/plain": [
              "147903"
            ]
          },
          "execution_count": 10,
          "metadata": {},
          "output_type": "execute_result"
        }
      ],
      "source": [
        "data.size"
      ]
    },
    {
      "cell_type": "markdown",
      "metadata": {
        "id": "iYMRsnV9ezr9"
      },
      "source": [
        "## **2. EDA**"
      ]
    },
    {
      "cell_type": "code",
      "execution_count": null,
      "metadata": {
        "colab": {
          "base_uri": "https://localhost:8080/"
        },
        "id": "TKURfIJwe3s7",
        "outputId": "b9467dec-8c13-4939-9161-81b18f2ac247"
      },
      "outputs": [
        {
          "name": "stdout",
          "output_type": "stream",
          "text": [
            "<class 'pandas.core.frame.DataFrame'>\n",
            "RangeIndex: 7043 entries, 0 to 7042\n",
            "Data columns (total 21 columns):\n",
            " #   Column            Non-Null Count  Dtype  \n",
            "---  ------            --------------  -----  \n",
            " 0   customerID        7043 non-null   object \n",
            " 1   gender            7043 non-null   object \n",
            " 2   SeniorCitizen     7043 non-null   int64  \n",
            " 3   Partner           7043 non-null   object \n",
            " 4   Dependents        7043 non-null   object \n",
            " 5   tenure            7043 non-null   int64  \n",
            " 6   PhoneService      7043 non-null   object \n",
            " 7   MultipleLines     7043 non-null   object \n",
            " 8   InternetService   7043 non-null   object \n",
            " 9   OnlineSecurity    7043 non-null   object \n",
            " 10  OnlineBackup      7043 non-null   object \n",
            " 11  DeviceProtection  7043 non-null   object \n",
            " 12  TechSupport       7043 non-null   object \n",
            " 13  StreamingTV       7043 non-null   object \n",
            " 14  StreamingMovies   7043 non-null   object \n",
            " 15  Contract          7043 non-null   object \n",
            " 16  PaperlessBilling  7043 non-null   object \n",
            " 17  PaymentMethod     7043 non-null   object \n",
            " 18  MonthlyCharges    7043 non-null   float64\n",
            " 19  TotalCharges      7043 non-null   object \n",
            " 20  Churn             7043 non-null   object \n",
            "dtypes: float64(1), int64(2), object(18)\n",
            "memory usage: 1.1+ MB\n"
          ]
        }
      ],
      "source": [
        "data.info()"
      ]
    },
    {
      "cell_type": "code",
      "execution_count": null,
      "metadata": {
        "colab": {
          "base_uri": "https://localhost:8080/",
          "height": 300
        },
        "id": "TfcPyDGOfAGF",
        "outputId": "df4ed3bc-7311-4242-9868-b41d0a67e524"
      },
      "outputs": [
        {
          "data": {
            "text/html": [
              "\n",
              "  <div id=\"df-59fb56bb-8388-4453-bcb0-1d46feb88b7b\">\n",
              "    <div class=\"colab-df-container\">\n",
              "      <div>\n",
              "<style scoped>\n",
              "    .dataframe tbody tr th:only-of-type {\n",
              "        vertical-align: middle;\n",
              "    }\n",
              "\n",
              "    .dataframe tbody tr th {\n",
              "        vertical-align: top;\n",
              "    }\n",
              "\n",
              "    .dataframe thead th {\n",
              "        text-align: right;\n",
              "    }\n",
              "</style>\n",
              "<table border=\"1\" class=\"dataframe\">\n",
              "  <thead>\n",
              "    <tr style=\"text-align: right;\">\n",
              "      <th></th>\n",
              "      <th>SeniorCitizen</th>\n",
              "      <th>tenure</th>\n",
              "      <th>MonthlyCharges</th>\n",
              "    </tr>\n",
              "  </thead>\n",
              "  <tbody>\n",
              "    <tr>\n",
              "      <th>count</th>\n",
              "      <td>7043.000000</td>\n",
              "      <td>7043.000000</td>\n",
              "      <td>7043.000000</td>\n",
              "    </tr>\n",
              "    <tr>\n",
              "      <th>mean</th>\n",
              "      <td>0.162147</td>\n",
              "      <td>32.371149</td>\n",
              "      <td>64.761692</td>\n",
              "    </tr>\n",
              "    <tr>\n",
              "      <th>std</th>\n",
              "      <td>0.368612</td>\n",
              "      <td>24.559481</td>\n",
              "      <td>30.090047</td>\n",
              "    </tr>\n",
              "    <tr>\n",
              "      <th>min</th>\n",
              "      <td>0.000000</td>\n",
              "      <td>0.000000</td>\n",
              "      <td>18.250000</td>\n",
              "    </tr>\n",
              "    <tr>\n",
              "      <th>25%</th>\n",
              "      <td>0.000000</td>\n",
              "      <td>9.000000</td>\n",
              "      <td>35.500000</td>\n",
              "    </tr>\n",
              "    <tr>\n",
              "      <th>50%</th>\n",
              "      <td>0.000000</td>\n",
              "      <td>29.000000</td>\n",
              "      <td>70.350000</td>\n",
              "    </tr>\n",
              "    <tr>\n",
              "      <th>75%</th>\n",
              "      <td>0.000000</td>\n",
              "      <td>55.000000</td>\n",
              "      <td>89.850000</td>\n",
              "    </tr>\n",
              "    <tr>\n",
              "      <th>max</th>\n",
              "      <td>1.000000</td>\n",
              "      <td>72.000000</td>\n",
              "      <td>118.750000</td>\n",
              "    </tr>\n",
              "  </tbody>\n",
              "</table>\n",
              "</div>\n",
              "      <button class=\"colab-df-convert\" onclick=\"convertToInteractive('df-59fb56bb-8388-4453-bcb0-1d46feb88b7b')\"\n",
              "              title=\"Convert this dataframe to an interactive table.\"\n",
              "              style=\"display:none;\">\n",
              "        \n",
              "  <svg xmlns=\"http://www.w3.org/2000/svg\" height=\"24px\"viewBox=\"0 0 24 24\"\n",
              "       width=\"24px\">\n",
              "    <path d=\"M0 0h24v24H0V0z\" fill=\"none\"/>\n",
              "    <path d=\"M18.56 5.44l.94 2.06.94-2.06 2.06-.94-2.06-.94-.94-2.06-.94 2.06-2.06.94zm-11 1L8.5 8.5l.94-2.06 2.06-.94-2.06-.94L8.5 2.5l-.94 2.06-2.06.94zm10 10l.94 2.06.94-2.06 2.06-.94-2.06-.94-.94-2.06-.94 2.06-2.06.94z\"/><path d=\"M17.41 7.96l-1.37-1.37c-.4-.4-.92-.59-1.43-.59-.52 0-1.04.2-1.43.59L10.3 9.45l-7.72 7.72c-.78.78-.78 2.05 0 2.83L4 21.41c.39.39.9.59 1.41.59.51 0 1.02-.2 1.41-.59l7.78-7.78 2.81-2.81c.8-.78.8-2.07 0-2.86zM5.41 20L4 18.59l7.72-7.72 1.47 1.35L5.41 20z\"/>\n",
              "  </svg>\n",
              "      </button>\n",
              "      \n",
              "  <style>\n",
              "    .colab-df-container {\n",
              "      display:flex;\n",
              "      flex-wrap:wrap;\n",
              "      gap: 12px;\n",
              "    }\n",
              "\n",
              "    .colab-df-convert {\n",
              "      background-color: #E8F0FE;\n",
              "      border: none;\n",
              "      border-radius: 50%;\n",
              "      cursor: pointer;\n",
              "      display: none;\n",
              "      fill: #1967D2;\n",
              "      height: 32px;\n",
              "      padding: 0 0 0 0;\n",
              "      width: 32px;\n",
              "    }\n",
              "\n",
              "    .colab-df-convert:hover {\n",
              "      background-color: #E2EBFA;\n",
              "      box-shadow: 0px 1px 2px rgba(60, 64, 67, 0.3), 0px 1px 3px 1px rgba(60, 64, 67, 0.15);\n",
              "      fill: #174EA6;\n",
              "    }\n",
              "\n",
              "    [theme=dark] .colab-df-convert {\n",
              "      background-color: #3B4455;\n",
              "      fill: #D2E3FC;\n",
              "    }\n",
              "\n",
              "    [theme=dark] .colab-df-convert:hover {\n",
              "      background-color: #434B5C;\n",
              "      box-shadow: 0px 1px 3px 1px rgba(0, 0, 0, 0.15);\n",
              "      filter: drop-shadow(0px 1px 2px rgba(0, 0, 0, 0.3));\n",
              "      fill: #FFFFFF;\n",
              "    }\n",
              "  </style>\n",
              "\n",
              "      <script>\n",
              "        const buttonEl =\n",
              "          document.querySelector('#df-59fb56bb-8388-4453-bcb0-1d46feb88b7b button.colab-df-convert');\n",
              "        buttonEl.style.display =\n",
              "          google.colab.kernel.accessAllowed ? 'block' : 'none';\n",
              "\n",
              "        async function convertToInteractive(key) {\n",
              "          const element = document.querySelector('#df-59fb56bb-8388-4453-bcb0-1d46feb88b7b');\n",
              "          const dataTable =\n",
              "            await google.colab.kernel.invokeFunction('convertToInteractive',\n",
              "                                                     [key], {});\n",
              "          if (!dataTable) return;\n",
              "\n",
              "          const docLinkHtml = 'Like what you see? Visit the ' +\n",
              "            '<a target=\"_blank\" href=https://colab.research.google.com/notebooks/data_table.ipynb>data table notebook</a>'\n",
              "            + ' to learn more about interactive tables.';\n",
              "          element.innerHTML = '';\n",
              "          dataTable['output_type'] = 'display_data';\n",
              "          await google.colab.output.renderOutput(dataTable, element);\n",
              "          const docLink = document.createElement('div');\n",
              "          docLink.innerHTML = docLinkHtml;\n",
              "          element.appendChild(docLink);\n",
              "        }\n",
              "      </script>\n",
              "    </div>\n",
              "  </div>\n",
              "  "
            ],
            "text/plain": [
              "       SeniorCitizen       tenure  MonthlyCharges\n",
              "count    7043.000000  7043.000000     7043.000000\n",
              "mean        0.162147    32.371149       64.761692\n",
              "std         0.368612    24.559481       30.090047\n",
              "min         0.000000     0.000000       18.250000\n",
              "25%         0.000000     9.000000       35.500000\n",
              "50%         0.000000    29.000000       70.350000\n",
              "75%         0.000000    55.000000       89.850000\n",
              "max         1.000000    72.000000      118.750000"
            ]
          },
          "execution_count": 15,
          "metadata": {},
          "output_type": "execute_result"
        }
      ],
      "source": [
        "data.describe()"
      ]
    },
    {
      "cell_type": "code",
      "execution_count": null,
      "metadata": {
        "colab": {
          "base_uri": "https://localhost:8080/"
        },
        "id": "pXUhGbw4fkka",
        "outputId": "ee04ff68-1930-49e3-bef0-f0748512ca89"
      },
      "outputs": [
        {
          "data": {
            "text/plain": [
              "Index(['customerID', 'gender', 'SeniorCitizen', 'Partner', 'Dependents',\n",
              "       'tenure', 'PhoneService', 'MultipleLines', 'InternetService',\n",
              "       'OnlineSecurity', 'OnlineBackup', 'DeviceProtection', 'TechSupport',\n",
              "       'StreamingTV', 'StreamingMovies', 'Contract', 'PaperlessBilling',\n",
              "       'PaymentMethod', 'MonthlyCharges', 'TotalCharges', 'Churn'],\n",
              "      dtype='object')"
            ]
          },
          "execution_count": 19,
          "metadata": {},
          "output_type": "execute_result"
        }
      ],
      "source": [
        "data.columns"
      ]
    },
    {
      "cell_type": "code",
      "execution_count": null,
      "metadata": {
        "colab": {
          "base_uri": "https://localhost:8080/"
        },
        "id": "MwVmJ9DpgXrt",
        "outputId": "92ac11af-28c0-47db-88aa-fad672022fdc"
      },
      "outputs": [
        {
          "data": {
            "text/plain": [
              "0"
            ]
          },
          "execution_count": 23,
          "metadata": {},
          "output_type": "execute_result"
        }
      ],
      "source": [
        "data.duplicated().sum()"
      ]
    },
    {
      "cell_type": "code",
      "execution_count": null,
      "metadata": {
        "id": "bmdc11zLgaoe"
      },
      "outputs": [],
      "source": [
        "data.isna().sum()"
      ]
    },
    {
      "cell_type": "markdown",
      "metadata": {
        "id": "TNIX1dwbfd2V"
      },
      "source": [
        "## **3. Data Cleaning**"
      ]
    },
    {
      "cell_type": "markdown",
      "metadata": {
        "id": "pXAw95B4frZc"
      },
      "source": [
        "* **Duplicates**"
      ]
    },
    {
      "cell_type": "code",
      "execution_count": null,
      "metadata": {
        "colab": {
          "base_uri": "https://localhost:8080/"
        },
        "id": "Kzfj0qsqfo-V",
        "outputId": "496b3339-884f-42a8-ef6d-eb5798a23f41"
      },
      "outputs": [
        {
          "data": {
            "text/plain": [
              "0"
            ]
          },
          "execution_count": 20,
          "metadata": {},
          "output_type": "execute_result"
        }
      ],
      "source": [
        "data.duplicated().sum()"
      ]
    },
    {
      "cell_type": "markdown",
      "metadata": {
        "id": "OFDD8_WPfvNO"
      },
      "source": [
        "* **Missing Data**"
      ]
    },
    {
      "cell_type": "code",
      "execution_count": null,
      "metadata": {
        "colab": {
          "base_uri": "https://localhost:8080/"
        },
        "id": "EgZCcSSjfJ8g",
        "outputId": "7a3e5f4c-8622-4f2f-ef8e-7723b8a5249b"
      },
      "outputs": [
        {
          "data": {
            "text/plain": [
              "customerID          0\n",
              "gender              0\n",
              "SeniorCitizen       0\n",
              "Partner             0\n",
              "Dependents          0\n",
              "tenure              0\n",
              "PhoneService        0\n",
              "MultipleLines       0\n",
              "InternetService     0\n",
              "OnlineSecurity      0\n",
              "OnlineBackup        0\n",
              "DeviceProtection    0\n",
              "TechSupport         0\n",
              "StreamingTV         0\n",
              "StreamingMovies     0\n",
              "Contract            0\n",
              "PaperlessBilling    0\n",
              "PaymentMethod       0\n",
              "MonthlyCharges      0\n",
              "TotalCharges        0\n",
              "Churn               0\n",
              "dtype: int64"
            ]
          },
          "execution_count": 16,
          "metadata": {},
          "output_type": "execute_result"
        }
      ],
      "source": [
        "data.isnull().sum()"
      ]
    },
    {
      "cell_type": "markdown",
      "metadata": {
        "id": "IK_fVvMaf3Oa"
      },
      "source": [
        "* **Outliers**"
      ]
    },
    {
      "cell_type": "code",
      "execution_count": null,
      "metadata": {
        "colab": {
          "base_uri": "https://localhost:8080/",
          "height": 803
        },
        "id": "b7h6NFAYfXKk",
        "outputId": "4c6ea694-b4ba-482b-ef91-b2eea05568df"
      },
      "outputs": [
        {
          "data": {
            "image/png": "[encoded data removed]",
            "text/plain": [
              "<Figure size 432x288 with 1 Axes>"
            ]
          },
          "metadata": {
            "needs_background": "light"
          },
          "output_type": "display_data"
        },
        {
          "data": {
            "image/png": "[encoded data removed]",
            "text/plain": [
              "<Figure size 432x288 with 1 Axes>"
            ]
          },
          "metadata": {
            "needs_background": "light"
          },
          "output_type": "display_data"
        },
        {
          "data": {
            "image/png": "[encoded data removed]",
            "text/plain": [
              "<Figure size 432x288 with 1 Axes>"
            ]
          },
          "metadata": {
            "needs_background": "light"
          },
          "output_type": "display_data"
        }
      ],
      "source": [
        "for i in data.columns:\n",
        "  if data[i].dtypes != object:\n",
        "    plt.boxplot(data[i])\n",
        "    plt.xlabel(i)\n",
        "    plt.show()"
      ]
    },
    {
      "cell_type": "markdown",
      "metadata": {
        "id": "BK4M2rZ_gu2M"
      },
      "source": [
        "## **4. Tasks**"
      ]
    },
    {
      "cell_type": "markdown",
      "metadata": {
        "id": "dUHT9Xozg6eY"
      },
      "source": [
        "### **4.1 Data Manipulation:**\n",
        "\n",
        "1. Extract the 5th column & store it in ‘customer_5’\n",
        "2. Extract the 15th column & store it in ‘customer_15’\n",
        "3. Extract all the male senior citizens whose Payment Method is Electronic check &\n",
        "store the result in ‘senior_male_electronic’\n",
        "4. Extract all those customers whose tenure is greater than 70 months or their\n",
        "Monthly charges is more than 100$ & store the result in ‘customer_total_tenure’\n",
        "5. Extract all the customers whose Contract is of two years, payment method is Mailed\n",
        "check & the value of Churn is ‘Yes’ & store the result in ‘two_mail_yes’\n",
        "6. Extract 333 random records from the customer_churn dataframe& store the result in\n",
        "‘customer_333’\n",
        "7. Get the count of different levels from the ‘Churn’ column"
      ]
    },
    {
      "cell_type": "markdown",
      "metadata": {
        "id": "tMLzNZzFjBFz"
      },
      "source": [
        "1. **Extract the 5th column & store it in ‘customer_5’**\n",
        "\n",
        "---\n",
        "\n"
      ]
    },
    {
      "cell_type": "code",
      "execution_count": null,
      "metadata": {
        "colab": {
          "base_uri": "https://localhost:8080/"
        },
        "id": "YYl6_FCkgr7k",
        "outputId": "52b4fb15-fb5f-4f1a-dbc2-d9ac1e1fb093"
      },
      "outputs": [
        {
          "data": {
            "text/plain": [
              "719     No\n",
              "1542    No\n",
              "Name: Dependents, dtype: object"
            ]
          },
          "execution_count": 102,
          "metadata": {},
          "output_type": "execute_result"
        }
      ],
      "source": [
        "customer_5 = data.iloc[:,4]\n",
        "customer_5.sample(2)"
      ]
    },
    {
      "cell_type": "markdown",
      "metadata": {
        "id": "W8QFW3z8jGwV"
      },
      "source": [
        "2. **Extract the 15th column & store it in ‘customer_15’**\n",
        "\n",
        "---\n",
        "\n"
      ]
    },
    {
      "cell_type": "code",
      "execution_count": null,
      "metadata": {
        "colab": {
          "base_uri": "https://localhost:8080/"
        },
        "id": "1vuBVTm9hO6_",
        "outputId": "9d38898f-48f5-4c66-e1e9-38ff57603e08"
      },
      "outputs": [
        {
          "data": {
            "text/plain": [
              "2229    No\n",
              "878     No\n",
              "Name: StreamingMovies, dtype: object"
            ]
          },
          "execution_count": 103,
          "metadata": {},
          "output_type": "execute_result"
        }
      ],
      "source": [
        "customer_15 = data.iloc[:,14]\n",
        "customer_15.sample(2)"
      ]
    },
    {
      "cell_type": "markdown",
      "metadata": {
        "id": "sszcd2zGjjiK"
      },
      "source": [
        "**Important Note**"
      ]
    },
    {
      "cell_type": "code",
      "execution_count": null,
      "metadata": {
        "id": "TBlRzBpKiSkd"
      },
      "outputs": [],
      "source": [
        "#To check Index of Columns\n",
        "pp = list(data.columns)\n",
        "for x,y in enumerate(pp):\n",
        "  print(x,y)"
      ]
    },
    {
      "cell_type": "markdown",
      "metadata": {
        "id": "wrudUK7Sj41x"
      },
      "source": [
        "3. **Extract all the male senior citizens whose Payment Method is Electronic check & store the result in ‘senior_male_electronic’**\n",
        "\n",
        "---\n",
        "\n"
      ]
    },
    {
      "cell_type": "code",
      "execution_count": null,
      "metadata": {
        "colab": {
          "base_uri": "https://localhost:8080/",
          "height": 289
        },
        "id": "nZ5vtJkxipvG",
        "outputId": "a13d4123-ce60-41b1-8e4a-4f2f3d4d6d7b"
      },
      "outputs": [
        {
          "data": {
            "text/html": [
              "\n",
              "  <div id=\"df-33c81d45-2eec-4e29-8a6c-2dd1e7096412\">\n",
              "    <div class=\"colab-df-container\">\n",
              "      <div>\n",
              "<style scoped>\n",
              "    .dataframe tbody tr th:only-of-type {\n",
              "        vertical-align: middle;\n",
              "    }\n",
              "\n",
              "    .dataframe tbody tr th {\n",
              "        vertical-align: top;\n",
              "    }\n",
              "\n",
              "    .dataframe thead th {\n",
              "        text-align: right;\n",
              "    }\n",
              "</style>\n",
              "<table border=\"1\" class=\"dataframe\">\n",
              "  <thead>\n",
              "    <tr style=\"text-align: right;\">\n",
              "      <th></th>\n",
              "      <th>customerID</th>\n",
              "      <th>gender</th>\n",
              "      <th>SeniorCitizen</th>\n",
              "      <th>Partner</th>\n",
              "      <th>Dependents</th>\n",
              "      <th>tenure</th>\n",
              "      <th>PhoneService</th>\n",
              "      <th>MultipleLines</th>\n",
              "      <th>InternetService</th>\n",
              "      <th>OnlineSecurity</th>\n",
              "      <th>...</th>\n",
              "      <th>StreamingTV</th>\n",
              "      <th>StreamingMovies</th>\n",
              "      <th>Contract</th>\n",
              "      <th>PaperlessBilling</th>\n",
              "      <th>PaymentMethod</th>\n",
              "      <th>MonthlyCharges</th>\n",
              "      <th>TotalCharges</th>\n",
              "      <th>Churn</th>\n",
              "      <th>customer_5</th>\n",
              "      <th>customer_15</th>\n",
              "    </tr>\n",
              "  </thead>\n",
              "  <tbody>\n",
              "    <tr>\n",
              "      <th>2167</th>\n",
              "      <td>9061-TIHDA</td>\n",
              "      <td>Male</td>\n",
              "      <td>1</td>\n",
              "      <td>Yes</td>\n",
              "      <td>No</td>\n",
              "      <td>13</td>\n",
              "      <td>Yes</td>\n",
              "      <td>Yes</td>\n",
              "      <td>Fiber optic</td>\n",
              "      <td>No</td>\n",
              "      <td>...</td>\n",
              "      <td>Yes</td>\n",
              "      <td>Yes</td>\n",
              "      <td>Month-to-month</td>\n",
              "      <td>Yes</td>\n",
              "      <td>Electronic check</td>\n",
              "      <td>95.25</td>\n",
              "      <td>1233.65</td>\n",
              "      <td>Yes</td>\n",
              "      <td>No</td>\n",
              "      <td>Yes</td>\n",
              "    </tr>\n",
              "    <tr>\n",
              "      <th>1285</th>\n",
              "      <td>9134-CEQMF</td>\n",
              "      <td>Male</td>\n",
              "      <td>1</td>\n",
              "      <td>Yes</td>\n",
              "      <td>No</td>\n",
              "      <td>7</td>\n",
              "      <td>Yes</td>\n",
              "      <td>No</td>\n",
              "      <td>Fiber optic</td>\n",
              "      <td>No</td>\n",
              "      <td>...</td>\n",
              "      <td>Yes</td>\n",
              "      <td>Yes</td>\n",
              "      <td>Month-to-month</td>\n",
              "      <td>Yes</td>\n",
              "      <td>Electronic check</td>\n",
              "      <td>89.50</td>\n",
              "      <td>676.7</td>\n",
              "      <td>Yes</td>\n",
              "      <td>No</td>\n",
              "      <td>Yes</td>\n",
              "    </tr>\n",
              "    <tr>\n",
              "      <th>1976</th>\n",
              "      <td>9497-QCMMS</td>\n",
              "      <td>Male</td>\n",
              "      <td>1</td>\n",
              "      <td>No</td>\n",
              "      <td>No</td>\n",
              "      <td>1</td>\n",
              "      <td>Yes</td>\n",
              "      <td>Yes</td>\n",
              "      <td>Fiber optic</td>\n",
              "      <td>No</td>\n",
              "      <td>...</td>\n",
              "      <td>Yes</td>\n",
              "      <td>Yes</td>\n",
              "      <td>Month-to-month</td>\n",
              "      <td>Yes</td>\n",
              "      <td>Electronic check</td>\n",
              "      <td>93.55</td>\n",
              "      <td>93.55</td>\n",
              "      <td>Yes</td>\n",
              "      <td>No</td>\n",
              "      <td>Yes</td>\n",
              "    </tr>\n",
              "  </tbody>\n",
              "</table>\n",
              "<p>3 rows × 23 columns</p>\n",
              "</div>\n",
              "      <button class=\"colab-df-convert\" onclick=\"convertToInteractive('df-33c81d45-2eec-4e29-8a6c-2dd1e7096412')\"\n",
              "              title=\"Convert this dataframe to an interactive table.\"\n",
              "              style=\"display:none;\">\n",
              "        \n",
              "  <svg xmlns=\"http://www.w3.org/2000/svg\" height=\"24px\"viewBox=\"0 0 24 24\"\n",
              "       width=\"24px\">\n",
              "    <path d=\"M0 0h24v24H0V0z\" fill=\"none\"/>\n",
              "    <path d=\"M18.56 5.44l.94 2.06.94-2.06 2.06-.94-2.06-.94-.94-2.06-.94 2.06-2.06.94zm-11 1L8.5 8.5l.94-2.06 2.06-.94-2.06-.94L8.5 2.5l-.94 2.06-2.06.94zm10 10l.94 2.06.94-2.06 2.06-.94-2.06-.94-.94-2.06-.94 2.06-2.06.94z\"/><path d=\"M17.41 7.96l-1.37-1.37c-.4-.4-.92-.59-1.43-.59-.52 0-1.04.2-1.43.59L10.3 9.45l-7.72 7.72c-.78.78-.78 2.05 0 2.83L4 21.41c.39.39.9.59 1.41.59.51 0 1.02-.2 1.41-.59l7.78-7.78 2.81-2.81c.8-.78.8-2.07 0-2.86zM5.41 20L4 18.59l7.72-7.72 1.47 1.35L5.41 20z\"/>\n",
              "  </svg>\n",
              "      </button>\n",
              "      \n",
              "  <style>\n",
              "    .colab-df-container {\n",
              "      display:flex;\n",
              "      flex-wrap:wrap;\n",
              "      gap: 12px;\n",
              "    }\n",
              "\n",
              "    .colab-df-convert {\n",
              "      background-color: #E8F0FE;\n",
              "      border: none;\n",
              "      border-radius: 50%;\n",
              "      cursor: pointer;\n",
              "      display: none;\n",
              "      fill: #1967D2;\n",
              "      height: 32px;\n",
              "      padding: 0 0 0 0;\n",
              "      width: 32px;\n",
              "    }\n",
              "\n",
              "    .colab-df-convert:hover {\n",
              "      background-color: #E2EBFA;\n",
              "      box-shadow: 0px 1px 2px rgba(60, 64, 67, 0.3), 0px 1px 3px 1px rgba(60, 64, 67, 0.15);\n",
              "      fill: #174EA6;\n",
              "    }\n",
              "\n",
              "    [theme=dark] .colab-df-convert {\n",
              "      background-color: #3B4455;\n",
              "      fill: #D2E3FC;\n",
              "    }\n",
              "\n",
              "    [theme=dark] .colab-df-convert:hover {\n",
              "      background-color: #434B5C;\n",
              "      box-shadow: 0px 1px 3px 1px rgba(0, 0, 0, 0.15);\n",
              "      filter: drop-shadow(0px 1px 2px rgba(0, 0, 0, 0.3));\n",
              "      fill: #FFFFFF;\n",
              "    }\n",
              "  </style>\n",
              "\n",
              "      <script>\n",
              "        const buttonEl =\n",
              "          document.querySelector('#df-33c81d45-2eec-4e29-8a6c-2dd1e7096412 button.colab-df-convert');\n",
              "        buttonEl.style.display =\n",
              "          google.colab.kernel.accessAllowed ? 'block' : 'none';\n",
              "\n",
              "        async function convertToInteractive(key) {\n",
              "          const element = document.querySelector('#df-33c81d45-2eec-4e29-8a6c-2dd1e7096412');\n",
              "          const dataTable =\n",
              "            await google.colab.kernel.invokeFunction('convertToInteractive',\n",
              "                                                     [key], {});\n",
              "          if (!dataTable) return;\n",
              "\n",
              "          const docLinkHtml = 'Like what you see? Visit the ' +\n",
              "            '<a target=\"_blank\" href=https://colab.research.google.com/notebooks/data_table.ipynb>data table notebook</a>'\n",
              "            + ' to learn more about interactive tables.';\n",
              "          element.innerHTML = '';\n",
              "          dataTable['output_type'] = 'display_data';\n",
              "          await google.colab.output.renderOutput(dataTable, element);\n",
              "          const docLink = document.createElement('div');\n",
              "          docLink.innerHTML = docLinkHtml;\n",
              "          element.appendChild(docLink);\n",
              "        }\n",
              "      </script>\n",
              "    </div>\n",
              "  </div>\n",
              "  "
            ],
            "text/plain": [
              "      customerID gender  SeniorCitizen Partner Dependents  tenure  \\\n",
              "2167  9061-TIHDA   Male              1     Yes         No      13   \n",
              "1285  9134-CEQMF   Male              1     Yes         No       7   \n",
              "1976  9497-QCMMS   Male              1      No         No       1   \n",
              "\n",
              "     PhoneService MultipleLines InternetService OnlineSecurity  ...  \\\n",
              "2167          Yes           Yes     Fiber optic             No  ...   \n",
              "1285          Yes            No     Fiber optic             No  ...   \n",
              "1976          Yes           Yes     Fiber optic             No  ...   \n",
              "\n",
              "     StreamingTV StreamingMovies        Contract PaperlessBilling  \\\n",
              "2167         Yes             Yes  Month-to-month              Yes   \n",
              "1285         Yes             Yes  Month-to-month              Yes   \n",
              "1976         Yes             Yes  Month-to-month              Yes   \n",
              "\n",
              "         PaymentMethod MonthlyCharges TotalCharges Churn  customer_5  \\\n",
              "2167  Electronic check          95.25      1233.65   Yes          No   \n",
              "1285  Electronic check          89.50        676.7   Yes          No   \n",
              "1976  Electronic check          93.55        93.55   Yes          No   \n",
              "\n",
              "     customer_15  \n",
              "2167         Yes  \n",
              "1285         Yes  \n",
              "1976         Yes  \n",
              "\n",
              "[3 rows x 23 columns]"
            ]
          },
          "execution_count": 105,
          "metadata": {},
          "output_type": "execute_result"
        }
      ],
      "source": [
        "senior_male_electronics = data[(data['gender'] == 'Male') & (data['SeniorCitizen'] == 1) &\n",
        "                               (data['PaymentMethod'] == 'Electronic check')]\n",
        "\n",
        "senior_male_electronics.sample(3)"
      ]
    },
    {
      "cell_type": "markdown",
      "metadata": {
        "id": "0K0GdbxonncU"
      },
      "source": [
        "4. **Extract all those customers whose tenure is greater than 70 months or their Monthly charges is more than 100$ & store the result in ‘customer_total_tenure’**\n",
        "\n",
        "---\n",
        "\n"
      ]
    },
    {
      "cell_type": "code",
      "execution_count": null,
      "metadata": {
        "id": "VJ2pgq_Mm3o6"
      },
      "outputs": [],
      "source": [
        "customer_total_tenure = data[(data['tenure']> 70) | (data['MonthlyCharges']>100)]\n",
        "customer_total_tenure.sample(2)"
      ]
    },
    {
      "cell_type": "markdown",
      "metadata": {
        "id": "OLyRQ6t_o2ei"
      },
      "source": [
        "5. **Extract all the customers whose Contract is of two years, payment method is Mailed check & the value of Churn is ‘Yes’ & store the result in ‘two_mail_yes’**"
      ]
    },
    {
      "cell_type": "code",
      "execution_count": null,
      "metadata": {
        "colab": {
          "base_uri": "https://localhost:8080/",
          "height": 240
        },
        "id": "VOMCPNDRow_I",
        "outputId": "6837103d-1ce6-45c7-98e7-1e141b4fa9b1"
      },
      "outputs": [
        {
          "data": {
            "text/html": [
              "\n",
              "  <div id=\"df-00bc03d5-006d-41e5-8520-0d7d155e3238\">\n",
              "    <div class=\"colab-df-container\">\n",
              "      <div>\n",
              "<style scoped>\n",
              "    .dataframe tbody tr th:only-of-type {\n",
              "        vertical-align: middle;\n",
              "    }\n",
              "\n",
              "    .dataframe tbody tr th {\n",
              "        vertical-align: top;\n",
              "    }\n",
              "\n",
              "    .dataframe thead th {\n",
              "        text-align: right;\n",
              "    }\n",
              "</style>\n",
              "<table border=\"1\" class=\"dataframe\">\n",
              "  <thead>\n",
              "    <tr style=\"text-align: right;\">\n",
              "      <th></th>\n",
              "      <th>customerID</th>\n",
              "      <th>gender</th>\n",
              "      <th>SeniorCitizen</th>\n",
              "      <th>Partner</th>\n",
              "      <th>Dependents</th>\n",
              "      <th>tenure</th>\n",
              "      <th>PhoneService</th>\n",
              "      <th>MultipleLines</th>\n",
              "      <th>InternetService</th>\n",
              "      <th>OnlineSecurity</th>\n",
              "      <th>...</th>\n",
              "      <th>StreamingTV</th>\n",
              "      <th>StreamingMovies</th>\n",
              "      <th>Contract</th>\n",
              "      <th>PaperlessBilling</th>\n",
              "      <th>PaymentMethod</th>\n",
              "      <th>MonthlyCharges</th>\n",
              "      <th>TotalCharges</th>\n",
              "      <th>Churn</th>\n",
              "      <th>customer_5</th>\n",
              "      <th>customer_15</th>\n",
              "    </tr>\n",
              "  </thead>\n",
              "  <tbody>\n",
              "    <tr>\n",
              "      <th>5947</th>\n",
              "      <td>7951-QKZPL</td>\n",
              "      <td>Female</td>\n",
              "      <td>0</td>\n",
              "      <td>Yes</td>\n",
              "      <td>Yes</td>\n",
              "      <td>33</td>\n",
              "      <td>Yes</td>\n",
              "      <td>Yes</td>\n",
              "      <td>No</td>\n",
              "      <td>No internet service</td>\n",
              "      <td>...</td>\n",
              "      <td>No internet service</td>\n",
              "      <td>No internet service</td>\n",
              "      <td>Two year</td>\n",
              "      <td>Yes</td>\n",
              "      <td>Mailed check</td>\n",
              "      <td>24.5</td>\n",
              "      <td>740.3</td>\n",
              "      <td>Yes</td>\n",
              "      <td>Yes</td>\n",
              "      <td>No internet service</td>\n",
              "    </tr>\n",
              "    <tr>\n",
              "      <th>6680</th>\n",
              "      <td>9412-ARGBX</td>\n",
              "      <td>Female</td>\n",
              "      <td>0</td>\n",
              "      <td>No</td>\n",
              "      <td>Yes</td>\n",
              "      <td>48</td>\n",
              "      <td>Yes</td>\n",
              "      <td>No</td>\n",
              "      <td>Fiber optic</td>\n",
              "      <td>No</td>\n",
              "      <td>...</td>\n",
              "      <td>Yes</td>\n",
              "      <td>No</td>\n",
              "      <td>Two year</td>\n",
              "      <td>Yes</td>\n",
              "      <td>Mailed check</td>\n",
              "      <td>95.5</td>\n",
              "      <td>4627.85</td>\n",
              "      <td>Yes</td>\n",
              "      <td>Yes</td>\n",
              "      <td>No</td>\n",
              "    </tr>\n",
              "  </tbody>\n",
              "</table>\n",
              "<p>2 rows × 23 columns</p>\n",
              "</div>\n",
              "      <button class=\"colab-df-convert\" onclick=\"convertToInteractive('df-00bc03d5-006d-41e5-8520-0d7d155e3238')\"\n",
              "              title=\"Convert this dataframe to an interactive table.\"\n",
              "              style=\"display:none;\">\n",
              "        \n",
              "  <svg xmlns=\"http://www.w3.org/2000/svg\" height=\"24px\"viewBox=\"0 0 24 24\"\n",
              "       width=\"24px\">\n",
              "    <path d=\"M0 0h24v24H0V0z\" fill=\"none\"/>\n",
              "    <path d=\"M18.56 5.44l.94 2.06.94-2.06 2.06-.94-2.06-.94-.94-2.06-.94 2.06-2.06.94zm-11 1L8.5 8.5l.94-2.06 2.06-.94-2.06-.94L8.5 2.5l-.94 2.06-2.06.94zm10 10l.94 2.06.94-2.06 2.06-.94-2.06-.94-.94-2.06-.94 2.06-2.06.94z\"/><path d=\"M17.41 7.96l-1.37-1.37c-.4-.4-.92-.59-1.43-.59-.52 0-1.04.2-1.43.59L10.3 9.45l-7.72 7.72c-.78.78-.78 2.05 0 2.83L4 21.41c.39.39.9.59 1.41.59.51 0 1.02-.2 1.41-.59l7.78-7.78 2.81-2.81c.8-.78.8-2.07 0-2.86zM5.41 20L4 18.59l7.72-7.72 1.47 1.35L5.41 20z\"/>\n",
              "  </svg>\n",
              "      </button>\n",
              "      \n",
              "  <style>\n",
              "    .colab-df-container {\n",
              "      display:flex;\n",
              "      flex-wrap:wrap;\n",
              "      gap: 12px;\n",
              "    }\n",
              "\n",
              "    .colab-df-convert {\n",
              "      background-color: #E8F0FE;\n",
              "      border: none;\n",
              "      border-radius: 50%;\n",
              "      cursor: pointer;\n",
              "      display: none;\n",
              "      fill: #1967D2;\n",
              "      height: 32px;\n",
              "      padding: 0 0 0 0;\n",
              "      width: 32px;\n",
              "    }\n",
              "\n",
              "    .colab-df-convert:hover {\n",
              "      background-color: #E2EBFA;\n",
              "      box-shadow: 0px 1px 2px rgba(60, 64, 67, 0.3), 0px 1px 3px 1px rgba(60, 64, 67, 0.15);\n",
              "      fill: #174EA6;\n",
              "    }\n",
              "\n",
              "    [theme=dark] .colab-df-convert {\n",
              "      background-color: #3B4455;\n",
              "      fill: #D2E3FC;\n",
              "    }\n",
              "\n",
              "    [theme=dark] .colab-df-convert:hover {\n",
              "      background-color: #434B5C;\n",
              "      box-shadow: 0px 1px 3px 1px rgba(0, 0, 0, 0.15);\n",
              "      filter: drop-shadow(0px 1px 2px rgba(0, 0, 0, 0.3));\n",
              "      fill: #FFFFFF;\n",
              "    }\n",
              "  </style>\n",
              "\n",
              "      <script>\n",
              "        const buttonEl =\n",
              "          document.querySelector('#df-00bc03d5-006d-41e5-8520-0d7d155e3238 button.colab-df-convert');\n",
              "        buttonEl.style.display =\n",
              "          google.colab.kernel.accessAllowed ? 'block' : 'none';\n",
              "\n",
              "        async function convertToInteractive(key) {\n",
              "          const element = document.querySelector('#df-00bc03d5-006d-41e5-8520-0d7d155e3238');\n",
              "          const dataTable =\n",
              "            await google.colab.kernel.invokeFunction('convertToInteractive',\n",
              "                                                     [key], {});\n",
              "          if (!dataTable) return;\n",
              "\n",
              "          const docLinkHtml = 'Like what you see? Visit the ' +\n",
              "            '<a target=\"_blank\" href=https://colab.research.google.com/notebooks/data_table.ipynb>data table notebook</a>'\n",
              "            + ' to learn more about interactive tables.';\n",
              "          element.innerHTML = '';\n",
              "          dataTable['output_type'] = 'display_data';\n",
              "          await google.colab.output.renderOutput(dataTable, element);\n",
              "          const docLink = document.createElement('div');\n",
              "          docLink.innerHTML = docLinkHtml;\n",
              "          element.appendChild(docLink);\n",
              "        }\n",
              "      </script>\n",
              "    </div>\n",
              "  </div>\n",
              "  "
            ],
            "text/plain": [
              "      customerID  gender  SeniorCitizen Partner Dependents  tenure  \\\n",
              "5947  7951-QKZPL  Female              0     Yes        Yes      33   \n",
              "6680  9412-ARGBX  Female              0      No        Yes      48   \n",
              "\n",
              "     PhoneService MultipleLines InternetService       OnlineSecurity  ...  \\\n",
              "5947          Yes           Yes              No  No internet service  ...   \n",
              "6680          Yes            No     Fiber optic                   No  ...   \n",
              "\n",
              "              StreamingTV      StreamingMovies  Contract PaperlessBilling  \\\n",
              "5947  No internet service  No internet service  Two year              Yes   \n",
              "6680                  Yes                   No  Two year              Yes   \n",
              "\n",
              "     PaymentMethod MonthlyCharges TotalCharges Churn  customer_5  \\\n",
              "5947  Mailed check           24.5        740.3   Yes         Yes   \n",
              "6680  Mailed check           95.5      4627.85   Yes         Yes   \n",
              "\n",
              "              customer_15  \n",
              "5947  No internet service  \n",
              "6680                   No  \n",
              "\n",
              "[2 rows x 23 columns]"
            ]
          },
          "execution_count": 84,
          "metadata": {},
          "output_type": "execute_result"
        }
      ],
      "source": [
        "two_mail_yes = data[(data['Contract'] == 'Two year') & (data['PaymentMethod'] == 'Mailed check') & (data['Churn'] =='Yes')]\n",
        "two_mail_yes.sample(2)"
      ]
    },
    {
      "cell_type": "markdown",
      "metadata": {
        "id": "niaLzlwJqj5f"
      },
      "source": [
        "6. **Extract 333 random records from the customer_churn dataframe& store the result in\n",
        "‘customer_333’**"
      ]
    },
    {
      "cell_type": "code",
      "execution_count": null,
      "metadata": {
        "colab": {
          "base_uri": "https://localhost:8080/",
          "height": 386
        },
        "id": "QMMUKEjRqOi4",
        "outputId": "2e25dad2-a33e-45f6-8c53-ca69e327aa1d"
      },
      "outputs": [
        {
          "data": {
            "text/html": [
              "\n",
              "  <div id=\"df-e0f25d68-38b9-4d95-960e-b392ddb81188\">\n",
              "    <div class=\"colab-df-container\">\n",
              "      <div>\n",
              "<style scoped>\n",
              "    .dataframe tbody tr th:only-of-type {\n",
              "        vertical-align: middle;\n",
              "    }\n",
              "\n",
              "    .dataframe tbody tr th {\n",
              "        vertical-align: top;\n",
              "    }\n",
              "\n",
              "    .dataframe thead th {\n",
              "        text-align: right;\n",
              "    }\n",
              "</style>\n",
              "<table border=\"1\" class=\"dataframe\">\n",
              "  <thead>\n",
              "    <tr style=\"text-align: right;\">\n",
              "      <th></th>\n",
              "      <th>customerID</th>\n",
              "      <th>gender</th>\n",
              "      <th>SeniorCitizen</th>\n",
              "      <th>Partner</th>\n",
              "      <th>Dependents</th>\n",
              "      <th>tenure</th>\n",
              "      <th>PhoneService</th>\n",
              "      <th>MultipleLines</th>\n",
              "      <th>InternetService</th>\n",
              "      <th>OnlineSecurity</th>\n",
              "      <th>...</th>\n",
              "      <th>StreamingTV</th>\n",
              "      <th>StreamingMovies</th>\n",
              "      <th>Contract</th>\n",
              "      <th>PaperlessBilling</th>\n",
              "      <th>PaymentMethod</th>\n",
              "      <th>MonthlyCharges</th>\n",
              "      <th>TotalCharges</th>\n",
              "      <th>Churn</th>\n",
              "      <th>customer_5</th>\n",
              "      <th>customer_15</th>\n",
              "    </tr>\n",
              "  </thead>\n",
              "  <tbody>\n",
              "    <tr>\n",
              "      <th>2993</th>\n",
              "      <td>2239-CFOUJ</td>\n",
              "      <td>Male</td>\n",
              "      <td>0</td>\n",
              "      <td>Yes</td>\n",
              "      <td>Yes</td>\n",
              "      <td>1</td>\n",
              "      <td>Yes</td>\n",
              "      <td>No</td>\n",
              "      <td>No</td>\n",
              "      <td>No internet service</td>\n",
              "      <td>...</td>\n",
              "      <td>No internet service</td>\n",
              "      <td>No internet service</td>\n",
              "      <td>One year</td>\n",
              "      <td>No</td>\n",
              "      <td>Mailed check</td>\n",
              "      <td>20.40</td>\n",
              "      <td>20.4</td>\n",
              "      <td>No</td>\n",
              "      <td>Yes</td>\n",
              "      <td>No internet service</td>\n",
              "    </tr>\n",
              "    <tr>\n",
              "      <th>3487</th>\n",
              "      <td>9257-AZMTZ</td>\n",
              "      <td>Female</td>\n",
              "      <td>0</td>\n",
              "      <td>Yes</td>\n",
              "      <td>Yes</td>\n",
              "      <td>52</td>\n",
              "      <td>Yes</td>\n",
              "      <td>No</td>\n",
              "      <td>No</td>\n",
              "      <td>No internet service</td>\n",
              "      <td>...</td>\n",
              "      <td>No internet service</td>\n",
              "      <td>No internet service</td>\n",
              "      <td>Two year</td>\n",
              "      <td>No</td>\n",
              "      <td>Bank transfer (automatic)</td>\n",
              "      <td>20.10</td>\n",
              "      <td>1078.75</td>\n",
              "      <td>No</td>\n",
              "      <td>Yes</td>\n",
              "      <td>No internet service</td>\n",
              "    </tr>\n",
              "    <tr>\n",
              "      <th>116</th>\n",
              "      <td>9560-BBZXK</td>\n",
              "      <td>Female</td>\n",
              "      <td>0</td>\n",
              "      <td>No</td>\n",
              "      <td>No</td>\n",
              "      <td>36</td>\n",
              "      <td>No</td>\n",
              "      <td>No phone service</td>\n",
              "      <td>DSL</td>\n",
              "      <td>Yes</td>\n",
              "      <td>...</td>\n",
              "      <td>No</td>\n",
              "      <td>No</td>\n",
              "      <td>Two year</td>\n",
              "      <td>No</td>\n",
              "      <td>Bank transfer (automatic)</td>\n",
              "      <td>31.05</td>\n",
              "      <td>1126.35</td>\n",
              "      <td>No</td>\n",
              "      <td>No</td>\n",
              "      <td>No</td>\n",
              "    </tr>\n",
              "    <tr>\n",
              "      <th>1501</th>\n",
              "      <td>5014-GSOUQ</td>\n",
              "      <td>Male</td>\n",
              "      <td>0</td>\n",
              "      <td>No</td>\n",
              "      <td>No</td>\n",
              "      <td>13</td>\n",
              "      <td>Yes</td>\n",
              "      <td>No</td>\n",
              "      <td>No</td>\n",
              "      <td>No internet service</td>\n",
              "      <td>...</td>\n",
              "      <td>No internet service</td>\n",
              "      <td>No internet service</td>\n",
              "      <td>Two year</td>\n",
              "      <td>No</td>\n",
              "      <td>Mailed check</td>\n",
              "      <td>19.95</td>\n",
              "      <td>243.65</td>\n",
              "      <td>No</td>\n",
              "      <td>No</td>\n",
              "      <td>No internet service</td>\n",
              "    </tr>\n",
              "    <tr>\n",
              "      <th>826</th>\n",
              "      <td>3643-AHCFP</td>\n",
              "      <td>Male</td>\n",
              "      <td>1</td>\n",
              "      <td>Yes</td>\n",
              "      <td>No</td>\n",
              "      <td>7</td>\n",
              "      <td>Yes</td>\n",
              "      <td>Yes</td>\n",
              "      <td>Fiber optic</td>\n",
              "      <td>No</td>\n",
              "      <td>...</td>\n",
              "      <td>Yes</td>\n",
              "      <td>Yes</td>\n",
              "      <td>Month-to-month</td>\n",
              "      <td>Yes</td>\n",
              "      <td>Bank transfer (automatic)</td>\n",
              "      <td>95.60</td>\n",
              "      <td>644.35</td>\n",
              "      <td>Yes</td>\n",
              "      <td>No</td>\n",
              "      <td>Yes</td>\n",
              "    </tr>\n",
              "  </tbody>\n",
              "</table>\n",
              "<p>5 rows × 23 columns</p>\n",
              "</div>\n",
              "      <button class=\"colab-df-convert\" onclick=\"convertToInteractive('df-e0f25d68-38b9-4d95-960e-b392ddb81188')\"\n",
              "              title=\"Convert this dataframe to an interactive table.\"\n",
              "              style=\"display:none;\">\n",
              "        \n",
              "  <svg xmlns=\"http://www.w3.org/2000/svg\" height=\"24px\"viewBox=\"0 0 24 24\"\n",
              "       width=\"24px\">\n",
              "    <path d=\"M0 0h24v24H0V0z\" fill=\"none\"/>\n",
              "    <path d=\"M18.56 5.44l.94 2.06.94-2.06 2.06-.94-2.06-.94-.94-2.06-.94 2.06-2.06.94zm-11 1L8.5 8.5l.94-2.06 2.06-.94-2.06-.94L8.5 2.5l-.94 2.06-2.06.94zm10 10l.94 2.06.94-2.06 2.06-.94-2.06-.94-.94-2.06-.94 2.06-2.06.94z\"/><path d=\"M17.41 7.96l-1.37-1.37c-.4-.4-.92-.59-1.43-.59-.52 0-1.04.2-1.43.59L10.3 9.45l-7.72 7.72c-.78.78-.78 2.05 0 2.83L4 21.41c.39.39.9.59 1.41.59.51 0 1.02-.2 1.41-.59l7.78-7.78 2.81-2.81c.8-.78.8-2.07 0-2.86zM5.41 20L4 18.59l7.72-7.72 1.47 1.35L5.41 20z\"/>\n",
              "  </svg>\n",
              "      </button>\n",
              "      \n",
              "  <style>\n",
              "    .colab-df-container {\n",
              "      display:flex;\n",
              "      flex-wrap:wrap;\n",
              "      gap: 12px;\n",
              "    }\n",
              "\n",
              "    .colab-df-convert {\n",
              "      background-color: #E8F0FE;\n",
              "      border: none;\n",
              "      border-radius: 50%;\n",
              "      cursor: pointer;\n",
              "      display: none;\n",
              "      fill: #1967D2;\n",
              "      height: 32px;\n",
              "      padding: 0 0 0 0;\n",
              "      width: 32px;\n",
              "    }\n",
              "\n",
              "    .colab-df-convert:hover {\n",
              "      background-color: #E2EBFA;\n",
              "      box-shadow: 0px 1px 2px rgba(60, 64, 67, 0.3), 0px 1px 3px 1px rgba(60, 64, 67, 0.15);\n",
              "      fill: #174EA6;\n",
              "    }\n",
              "\n",
              "    [theme=dark] .colab-df-convert {\n",
              "      background-color: #3B4455;\n",
              "      fill: #D2E3FC;\n",
              "    }\n",
              "\n",
              "    [theme=dark] .colab-df-convert:hover {\n",
              "      background-color: #434B5C;\n",
              "      box-shadow: 0px 1px 3px 1px rgba(0, 0, 0, 0.15);\n",
              "      filter: drop-shadow(0px 1px 2px rgba(0, 0, 0, 0.3));\n",
              "      fill: #FFFFFF;\n",
              "    }\n",
              "  </style>\n",
              "\n",
              "      <script>\n",
              "        const buttonEl =\n",
              "          document.querySelector('#df-e0f25d68-38b9-4d95-960e-b392ddb81188 button.colab-df-convert');\n",
              "        buttonEl.style.display =\n",
              "          google.colab.kernel.accessAllowed ? 'block' : 'none';\n",
              "\n",
              "        async function convertToInteractive(key) {\n",
              "          const element = document.querySelector('#df-e0f25d68-38b9-4d95-960e-b392ddb81188');\n",
              "          const dataTable =\n",
              "            await google.colab.kernel.invokeFunction('convertToInteractive',\n",
              "                                                     [key], {});\n",
              "          if (!dataTable) return;\n",
              "\n",
              "          const docLinkHtml = 'Like what you see? Visit the ' +\n",
              "            '<a target=\"_blank\" href=https://colab.research.google.com/notebooks/data_table.ipynb>data table notebook</a>'\n",
              "            + ' to learn more about interactive tables.';\n",
              "          element.innerHTML = '';\n",
              "          dataTable['output_type'] = 'display_data';\n",
              "          await google.colab.output.renderOutput(dataTable, element);\n",
              "          const docLink = document.createElement('div');\n",
              "          docLink.innerHTML = docLinkHtml;\n",
              "          element.appendChild(docLink);\n",
              "        }\n",
              "      </script>\n",
              "    </div>\n",
              "  </div>\n",
              "  "
            ],
            "text/plain": [
              "      customerID  gender  SeniorCitizen Partner Dependents  tenure  \\\n",
              "2993  2239-CFOUJ    Male              0     Yes        Yes       1   \n",
              "3487  9257-AZMTZ  Female              0     Yes        Yes      52   \n",
              "116   9560-BBZXK  Female              0      No         No      36   \n",
              "1501  5014-GSOUQ    Male              0      No         No      13   \n",
              "826   3643-AHCFP    Male              1     Yes         No       7   \n",
              "\n",
              "     PhoneService     MultipleLines InternetService       OnlineSecurity  ...  \\\n",
              "2993          Yes                No              No  No internet service  ...   \n",
              "3487          Yes                No              No  No internet service  ...   \n",
              "116            No  No phone service             DSL                  Yes  ...   \n",
              "1501          Yes                No              No  No internet service  ...   \n",
              "826           Yes               Yes     Fiber optic                   No  ...   \n",
              "\n",
              "              StreamingTV      StreamingMovies        Contract  \\\n",
              "2993  No internet service  No internet service        One year   \n",
              "3487  No internet service  No internet service        Two year   \n",
              "116                    No                   No        Two year   \n",
              "1501  No internet service  No internet service        Two year   \n",
              "826                   Yes                  Yes  Month-to-month   \n",
              "\n",
              "     PaperlessBilling              PaymentMethod MonthlyCharges TotalCharges  \\\n",
              "2993               No               Mailed check          20.40         20.4   \n",
              "3487               No  Bank transfer (automatic)          20.10      1078.75   \n",
              "116                No  Bank transfer (automatic)          31.05      1126.35   \n",
              "1501               No               Mailed check          19.95       243.65   \n",
              "826               Yes  Bank transfer (automatic)          95.60       644.35   \n",
              "\n",
              "     Churn  customer_5          customer_15  \n",
              "2993    No         Yes  No internet service  \n",
              "3487    No         Yes  No internet service  \n",
              "116     No          No                   No  \n",
              "1501    No          No  No internet service  \n",
              "826    Yes          No                  Yes  \n",
              "\n",
              "[5 rows x 23 columns]"
            ]
          },
          "execution_count": 96,
          "metadata": {},
          "output_type": "execute_result"
        }
      ],
      "source": [
        "customer_333 = data.sample(333)\n",
        "customer_333.sample(5)"
      ]
    },
    {
      "cell_type": "markdown",
      "metadata": {
        "id": "6y-dIQ6HrJJX"
      },
      "source": [
        "7. **Get the count of different levels from the ‘Churn’ column**"
      ]
    },
    {
      "cell_type": "code",
      "execution_count": null,
      "metadata": {
        "colab": {
          "base_uri": "https://localhost:8080/"
        },
        "id": "jkadDv-8rDNX",
        "outputId": "cd3e96d1-8d5f-493a-bb01-69fb0050f973"
      },
      "outputs": [
        {
          "data": {
            "text/plain": [
              "No     5174\n",
              "Yes    1869\n",
              "Name: Churn, dtype: int64"
            ]
          },
          "execution_count": 89,
          "metadata": {},
          "output_type": "execute_result"
        }
      ],
      "source": [
        "data.Churn.value_counts()"
      ]
    },
    {
      "cell_type": "markdown",
      "metadata": {
        "id": "4Oj0CG1WtyID"
      },
      "source": [
        "### **4.2 Data Visualization:**\n",
        "\n",
        "1. Build a bar-plot for the ’InternetService’ column:\n",
        "  * Set x-axis label to ‘Categories of Internet Service’\n",
        "  * Set y-axis label to ‘Count of Categories’\n",
        "  * Set the title of plot to be ‘Distribution of Internet Service’\n",
        "  * Set the color of the bars to be ‘orange’\n",
        "2. Build a histogram for the ‘tenure’ column:\n",
        "  * Set the number of bins to be 30\n",
        "  * Set the color of the bins to be ‘green’\n",
        "  * Assign the title ‘Distribution of tenure’\n",
        "3. Build a scatter-plot between ‘MonthlyCharges’ & ‘tenure’. Map ‘MonthlyCharges’ to\n",
        "the y-axis & ‘tenure’ to the ‘x-axis’:\n",
        "  * Assign the points a color of ‘brown’\n",
        "  * Set the x-axis label to ‘Tenure of customer’\n",
        "  * Set the y-axis label to ‘Monthly Charges of customer’\n",
        "  * Set the title to ‘Tenure vs Monthly Charges’\n",
        "4. Build a box-plot between ‘tenure’ & ‘Contract’.\n",
        "  * Map ‘tenure’ on the y-axis & ‘Contract’ on the x-axis."
      ]
    },
    {
      "cell_type": "markdown",
      "metadata": {
        "id": "xijm2gwJu-yu"
      },
      "source": [
        "  1. **Build a bar-plot for the ’InternetService’ column:**\n",
        "* Set x-axis label to ‘Categories of Internet Service’\n",
        "* Set y-axis label to ‘Count of Categories’\n",
        "* Set the title of plot to be ‘Distribution of Internet Service’\n",
        "* Set the color of the bars to be ‘orange’"
      ]
    },
    {
      "cell_type": "code",
      "execution_count": null,
      "metadata": {
        "id": "zNASVZfMyPFz"
      },
      "outputs": [],
      "source": [
        "x = data.InternetService.value_counts().index\n",
        "y = data.InternetService.value_counts()"
      ]
    },
    {
      "cell_type": "code",
      "execution_count": null,
      "metadata": {
        "colab": {
          "base_uri": "https://localhost:8080/",
          "height": 296
        },
        "id": "Pz6EfwvxuI0y",
        "outputId": "12d3e63e-8b9b-45f1-b157-06e5a8f46d6b"
      },
      "outputs": [
        {
          "data": {
            "image/png": "[encoded data removed]",
            "text/plain": [
              "<Figure size 432x288 with 1 Axes>"
            ]
          },
          "metadata": {
            "needs_background": "light"
          },
          "output_type": "display_data"
        },
        {
          "data": {
            "text/plain": [
              "<Figure size 432x288 with 0 Axes>"
            ]
          },
          "metadata": {},
          "output_type": "display_data"
        }
      ],
      "source": [
        "plt.bar(x,y, color = ['blue', 'orange', 'red'])\n",
        "plt.xlabel('Categories of Internet Service')\n",
        "plt.ylabel('Count of Categories')\n",
        "plt.show()\n",
        "plt.tight_layout();"
      ]
    },
    {
      "cell_type": "markdown",
      "metadata": {
        "id": "8ifHhupBzVj4"
      },
      "source": [
        "  2. **Build a histogram for the ‘tenure’ column:**\n",
        "* Set the number of bins to be 30\n",
        "* Set the color of the bins to be ‘green’\n",
        "* Assign the title ‘Distribution of tenure’"
      ]
    },
    {
      "cell_type": "code",
      "execution_count": null,
      "metadata": {
        "colab": {
          "base_uri": "https://localhost:8080/",
          "height": 297
        },
        "id": "bTVGDF-fz-xR",
        "outputId": "f4f1824b-8a7d-4d28-cc6f-d94340c4cc5d"
      },
      "outputs": [
        {
          "data": {
            "image/png": "[encoded data removed]",
            "text/plain": [
              "<Figure size 432x288 with 1 Axes>"
            ]
          },
          "metadata": {
            "needs_background": "light"
          },
          "output_type": "display_data"
        }
      ],
      "source": [
        "plt.title('Distribution of tenure')\n",
        "plt.hist(data.tenure, bins = 30, color = 'green')\n",
        "plt.tight_layout();"
      ]
    },
    {
      "cell_type": "markdown",
      "metadata": {
        "id": "JiZTJaEy0xHN"
      },
      "source": [
        "  3. **Build a scatter-plot between ‘MonthlyCharges’ & ‘tenure’. Map ‘MonthlyCharges’ to\n",
        "the y-axis & ‘tenure’ to the ‘x-axis’:**\n",
        "\n",
        "---\n",
        "\n",
        "\n",
        "  * Assign the points a color of ‘brown’\n",
        "  * Set the x-axis label to ‘Tenure of customer’\n",
        "  * Set the y-axis label to ‘Monthly Charges of customer’\n",
        "  * Set the title to ‘Tenure vs Monthly Charges’"
      ]
    },
    {
      "cell_type": "code",
      "execution_count": null,
      "metadata": {
        "colab": {
          "base_uri": "https://localhost:8080/",
          "height": 297
        },
        "id": "F75m9KjH0Xme",
        "outputId": "bfdeab58-8919-4627-b6f4-4e6fda4d5f9a"
      },
      "outputs": [
        {
          "data": {
            "image/png": "[encoded data removed]",
            "text/plain": [
              "<Figure size 432x288 with 1 Axes>"
            ]
          },
          "metadata": {
            "needs_background": "light"
          },
          "output_type": "display_data"
        }
      ],
      "source": [
        "plt.title = 'Tenure vs Monthly Charges'\n",
        "sns.scatterplot(y = 'MonthlyCharges', x = 'tenure', data = data, color = 'brown')\n",
        "plt.xlabel = 'Tenure of customer'\n",
        "plt.ylabel = 'Monthly Charges of customer'\n",
        "plt.tight_layout()\n",
        "plt.show();"
      ]
    },
    {
      "cell_type": "code",
      "execution_count": null,
      "metadata": {
        "colab": {
          "base_uri": "https://localhost:8080/",
          "height": 357
        },
        "id": "mjxPlACS13tg",
        "outputId": "4ae2c89f-b2f6-4c84-e4a5-b571a4a9c703"
      },
      "outputs": [
        {
          "name": "stderr",
          "output_type": "stream",
          "text": [
            "/usr/local/lib/python3.7/dist-packages/matplotlib/cbook/__init__.py:1376: VisibleDeprecationWarning: Creating an ndarray from ragged nested sequences (which is a list-or-tuple of lists-or-tuples-or ndarrays with different lengths or shapes) is deprecated. If you meant to do this, you must specify 'dtype=object' when creating the ndarray.\n",
            "  X = np.atleast_1d(X.T if isinstance(X, np.ndarray) else np.asarray(X))\n"
          ]
        },
        {
          "data": {
            "image/png": "[encoded data removed]",
            "text/plain": [
              "<Figure size 432x288 with 1 Axes>"
            ]
          },
          "metadata": {
            "needs_background": "light"
          },
          "output_type": "display_data"
        }
      ],
      "source": [
        "data.boxplot('tenure',by=['Contract'])\n",
        "plt.tight_layout()"
      ]
    },
    {
      "cell_type": "markdown",
      "metadata": {
        "id": "d_Xgtr803CG5"
      },
      "source": [
        "  4. **Build a box-plot between ‘tenure’ & ‘Contract’.**\n",
        "\n",
        "---\n",
        "\n",
        "* Map ‘tenure’ on the y-axis & ‘Contract’ on the x-axis."
      ]
    },
    {
      "cell_type": "code",
      "execution_count": null,
      "metadata": {
        "colab": {
          "base_uri": "https://localhost:8080/",
          "height": 297
        },
        "id": "av_vxwBB2Jmm",
        "outputId": "d0699e8a-f2da-4777-ae34-1ebb779193bc"
      },
      "outputs": [
        {
          "data": {
            "image/png": "[encoded data removed]",
            "text/plain": [
              "<Figure size 432x288 with 1 Axes>"
            ]
          },
          "metadata": {
            "needs_background": "light"
          },
          "output_type": "display_data"
        }
      ],
      "source": [
        "sns.boxplot(x = 'Contract' , y = 'tenure', data = data)\n",
        "plt.tight_layout();"
      ]
    },
    {
      "cell_type": "markdown",
      "metadata": {
        "id": "cvV1UQZH6PPH"
      },
      "source": [
        "* **Note**\n",
        "\n",
        "`Boxplot is an in-built function of plot`"
      ]
    },
    {
      "cell_type": "code",
      "execution_count": null,
      "metadata": {
        "colab": {
          "base_uri": "https://localhost:8080/",
          "height": 475
        },
        "id": "sYAsqLGx3pNE",
        "outputId": "1312bb79-93a5-4dea-a837-242eb02318ad"
      },
      "outputs": [
        {
          "name": "stderr",
          "output_type": "stream",
          "text": [
            "/usr/local/lib/python3.7/dist-packages/matplotlib/cbook/__init__.py:1376: VisibleDeprecationWarning: Creating an ndarray from ragged nested sequences (which is a list-or-tuple of lists-or-tuples-or ndarrays with different lengths or shapes) is deprecated. If you meant to do this, you must specify 'dtype=object' when creating the ndarray.\n",
            "  X = np.atleast_1d(X.T if isinstance(X, np.ndarray) else np.asarray(X))\n"
          ]
        },
        {
          "data": {
            "image/png": "[encoded data removed]",
            "text/plain": [
              "<Figure size 432x432 with 1 Axes>"
            ]
          },
          "metadata": {
            "needs_background": "light"
          },
          "output_type": "display_data"
        }
      ],
      "source": [
        "# We can play around with Boxplot\n",
        "\n",
        "data.boxplot(column = 'tenure', by='Contract', figsize = (6,6));"
      ]
    },
    {
      "cell_type": "markdown",
      "metadata": {
        "id": "rqWGkFxy846Q"
      },
      "source": [
        "### **4.3. Linear Regression:**\n",
        "\n",
        "**Build a simple linear model where dependent variable is ‘MonthlyCharges’ and\n",
        "independent variable is ‘tenure’**\n",
        "\n",
        "---\n",
        "\n",
        "\n",
        "1. Divide the dataset into train and test sets in 70:30 ratio.\n",
        "2. Build the model on train set and predict the values on test set\n",
        "3. After predicting the values, find the root mean square error\n",
        "4. Find out the error in prediction & store the result in ‘error’\n",
        "5. Find the root mean square error"
      ]
    },
    {
      "cell_type": "markdown",
      "metadata": {
        "id": "6kpDMGz3Ea8t"
      },
      "source": [
        "* **Split Data**"
      ]
    },
    {
      "cell_type": "code",
      "execution_count": null,
      "metadata": {
        "id": "Psyi2-u89aBI"
      },
      "outputs": [],
      "source": [
        "#Please Note to convert 1D Array into 2D use double Square Brackets\n",
        "\n",
        "y = data[['MonthlyCharges']]\n",
        "X = data[['tenure']]"
      ]
    },
    {
      "cell_type": "code",
      "execution_count": null,
      "metadata": {
        "colab": {
          "base_uri": "https://localhost:8080/"
        },
        "id": "CYQY0tSpBhoZ",
        "outputId": "735c5f05-5dba-4b36-ee80-cd377f967e76"
      },
      "outputs": [
        {
          "data": {
            "text/plain": [
              "(7043, 1)"
            ]
          },
          "execution_count": 299,
          "metadata": {},
          "output_type": "execute_result"
        }
      ],
      "source": [
        "y.shape"
      ]
    },
    {
      "cell_type": "code",
      "execution_count": null,
      "metadata": {
        "colab": {
          "base_uri": "https://localhost:8080/"
        },
        "id": "9jNFu6yrBEuM",
        "outputId": "8c424e80-7177-43f2-a06c-5da0ce003e2b"
      },
      "outputs": [
        {
          "data": {
            "text/plain": [
              "(7043, 1)"
            ]
          },
          "execution_count": 300,
          "metadata": {},
          "output_type": "execute_result"
        }
      ],
      "source": [
        "X.shape"
      ]
    },
    {
      "cell_type": "code",
      "execution_count": null,
      "metadata": {
        "id": "52aqhvel9nzZ"
      },
      "outputs": [],
      "source": [
        "X_train, X_test, y_train, y_test = train_test_split(X,y, test_size = 0.3, random_state = 0)"
      ]
    },
    {
      "cell_type": "markdown",
      "metadata": {
        "id": "WvXI0iigEeNK"
      },
      "source": [
        "* **Model Building**"
      ]
    },
    {
      "cell_type": "code",
      "execution_count": null,
      "metadata": {
        "id": "w09MJ3mx99cQ"
      },
      "outputs": [],
      "source": [
        "LR = LinearRegression()"
      ]
    },
    {
      "cell_type": "code",
      "execution_count": null,
      "metadata": {
        "colab": {
          "base_uri": "https://localhost:8080/"
        },
        "id": "wJeC9pmh-B15",
        "outputId": "11320f02-4adc-46dd-d979-b668cfb5072f"
      },
      "outputs": [
        {
          "data": {
            "text/plain": [
              "LinearRegression()"
            ]
          },
          "execution_count": 303,
          "metadata": {},
          "output_type": "execute_result"
        }
      ],
      "source": [
        "LR.fit(X_train, y_train)"
      ]
    },
    {
      "cell_type": "code",
      "execution_count": null,
      "metadata": {
        "id": "2mGsvur8B9Oo"
      },
      "outputs": [],
      "source": [
        "Predictions = LR.predict(X_test)"
      ]
    },
    {
      "cell_type": "code",
      "execution_count": null,
      "metadata": {
        "colab": {
          "base_uri": "https://localhost:8080/",
          "height": 265
        },
        "id": "p8mg95cyCFJJ",
        "outputId": "430e404c-276a-45e6-b0da-da334b194fb9"
      },
      "outputs": [
        {
          "data": {
            "image/png": "[encoded data removed]",
            "text/plain": [
              "<Figure size 432x288 with 1 Axes>"
            ]
          },
          "metadata": {
            "needs_background": "light"
          },
          "output_type": "display_data"
        }
      ],
      "source": [
        "plt.scatter(Predictions, y_test);"
      ]
    },
    {
      "cell_type": "markdown",
      "metadata": {
        "id": "68GWLNFOEjwy"
      },
      "source": [
        "* **Model Evaluation**"
      ]
    },
    {
      "cell_type": "code",
      "execution_count": null,
      "metadata": {
        "colab": {
          "base_uri": "https://localhost:8080/"
        },
        "id": "OszQcpy7ChZr",
        "outputId": "8fceed06-f70e-455c-b120-df0e31482e81"
      },
      "outputs": [
        {
          "data": {
            "text/plain": [
              "array([55.37598517])"
            ]
          },
          "execution_count": 306,
          "metadata": {},
          "output_type": "execute_result"
        }
      ],
      "source": [
        "LR.intercept_"
      ]
    },
    {
      "cell_type": "code",
      "execution_count": null,
      "metadata": {
        "colab": {
          "base_uri": "https://localhost:8080/"
        },
        "id": "1FuUGIilClFz",
        "outputId": "8b3b3ba8-4cde-4307-dfed-936db361464e"
      },
      "outputs": [
        {
          "data": {
            "text/plain": [
              "array([[0.29341636]])"
            ]
          },
          "execution_count": 307,
          "metadata": {},
          "output_type": "execute_result"
        }
      ],
      "source": [
        "LR.coef_"
      ]
    },
    {
      "cell_type": "code",
      "execution_count": null,
      "metadata": {
        "colab": {
          "base_uri": "https://localhost:8080/"
        },
        "id": "rnzY2k_OEJYj",
        "outputId": "079a6b80-b082-4aa9-decc-61a5db8afbd0"
      },
      "outputs": [
        {
          "data": {
            "text/plain": [
              "25.651705933984932"
            ]
          },
          "execution_count": 308,
          "metadata": {},
          "output_type": "execute_result"
        }
      ],
      "source": [
        "MAE = mean_absolute_error(y_test, Predictions)\n",
        "MAE"
      ]
    },
    {
      "cell_type": "code",
      "execution_count": null,
      "metadata": {
        "colab": {
          "base_uri": "https://localhost:8080/"
        },
        "id": "K_ZOMbCSEmeB",
        "outputId": "41797b38-1cac-475e-fc65-b74dc9151dbe"
      },
      "outputs": [
        {
          "data": {
            "text/plain": [
              "864.0415701364655"
            ]
          },
          "execution_count": 309,
          "metadata": {},
          "output_type": "execute_result"
        }
      ],
      "source": [
        "Variance = mean_squared_error(y_test, Predictions)  #less MSE = Good Model | 0 MSE = Perfect Model\n",
        "Variance"
      ]
    },
    {
      "cell_type": "code",
      "execution_count": null,
      "metadata": {
        "colab": {
          "base_uri": "https://localhost:8080/"
        },
        "id": "Zv8m-X85Ewhx",
        "outputId": "4439cb4c-ac6a-462f-fd97-2fbe291aae1c"
      },
      "outputs": [
        {
          "data": {
            "text/plain": [
              "29.394584027273893"
            ]
          },
          "execution_count": 310,
          "metadata": {},
          "output_type": "execute_result"
        }
      ],
      "source": [
        "Standard_Deviation = np.sqrt(mean_squared_error(y_test, Predictions))\n",
        "Standard_Deviation"
      ]
    },
    {
      "cell_type": "markdown",
      "metadata": {
        "id": "MptF5x3OHyju"
      },
      "source": [
        "**r2 score** = How much predicted scores match actual data points"
      ]
    },
    {
      "cell_type": "code",
      "execution_count": null,
      "metadata": {
        "colab": {
          "base_uri": "https://localhost:8080/"
        },
        "id": "XDZku1_eFG_m",
        "outputId": "264d72aa-405b-4bd4-c4c2-60ddefa35f0d"
      },
      "outputs": [
        {
          "data": {
            "text/plain": [
              "0.069470028128085"
            ]
          },
          "execution_count": 311,
          "metadata": {},
          "output_type": "execute_result"
        }
      ],
      "source": [
        "r2_score(y_test, Predictions) #Goodness of Fit is preffered for Multiple linear regression\n",
        "\n",
        "#Accuracy score is used for Logistic Regression"
      ]
    },
    {
      "cell_type": "markdown",
      "metadata": {
        "id": "0pVLJX_ZPzv0"
      },
      "source": [
        "* **OLS Method**\n",
        "\n",
        "`Useful Method for Logistic Regression with Muti Independent Variables`"
      ]
    },
    {
      "cell_type": "code",
      "execution_count": null,
      "metadata": {
        "id": "_V0eZ5OmQhJf"
      },
      "outputs": [],
      "source": [
        "import statsmodels.api as sm"
      ]
    },
    {
      "cell_type": "code",
      "execution_count": null,
      "metadata": {
        "id": "CzpW2cjAP3PF"
      },
      "outputs": [],
      "source": [
        "X = sm.OLS(y_train, X_train).fit()\n",
        "X.summary()"
      ]
    },
    {
      "cell_type": "markdown",
      "metadata": {
        "id": "oaxmSHF4Cva4"
      },
      "source": [
        "### **4.4. Logistic Regression:**\n",
        "\n",
        "**A. Build a simple logistic regression model where dependent variable is ‘Churn’ &\n",
        "independent variable is ‘MonthlyCharges’**\n",
        "\n",
        "1. Divide the dataset in 65:35 ratio\n",
        "2. Build the model on train set and predict the values on test set\n",
        "3. Build the confusion matrix and get the accuracy score"
      ]
    },
    {
      "cell_type": "markdown",
      "metadata": {
        "id": "9ywTfAkTKor8"
      },
      "source": [
        "* **Data Split**"
      ]
    },
    {
      "cell_type": "code",
      "execution_count": null,
      "metadata": {
        "id": "d3Oj_G_SJ1yV"
      },
      "outputs": [],
      "source": [
        "y = data[['Churn']]\n",
        "x = data[['MonthlyCharges']]"
      ]
    },
    {
      "cell_type": "code",
      "execution_count": null,
      "metadata": {
        "id": "aAPjcp_iK4U2"
      },
      "outputs": [],
      "source": [
        "x_train, x_test, y_train, y_test = train_test_split(x,y, test_size = 0.35, random_state=0)"
      ]
    },
    {
      "cell_type": "markdown",
      "metadata": {
        "id": "PWvpwCENLK7o"
      },
      "source": [
        "* **Building Model**"
      ]
    },
    {
      "cell_type": "code",
      "execution_count": null,
      "metadata": {
        "id": "jPERQkMTK8BR"
      },
      "outputs": [],
      "source": [
        "LM = LogisticRegression()"
      ]
    },
    {
      "cell_type": "code",
      "execution_count": null,
      "metadata": {
        "colab": {
          "base_uri": "https://localhost:8080/"
        },
        "id": "Wgfm8ameLZMe",
        "outputId": "ca26df66-c471-4391-c914-64eef68e9dff"
      },
      "outputs": [
        {
          "data": {
            "text/plain": [
              "LogisticRegression()"
            ]
          },
          "execution_count": 330,
          "metadata": {},
          "output_type": "execute_result"
        }
      ],
      "source": [
        "LM.fit(x_train, y_train)"
      ]
    },
    {
      "cell_type": "code",
      "execution_count": null,
      "metadata": {
        "id": "2k__h2rgLcfg"
      },
      "outputs": [],
      "source": [
        "predictions = LM.predict(x_test)"
      ]
    },
    {
      "cell_type": "markdown",
      "metadata": {
        "id": "itSfybEDL8sh"
      },
      "source": [
        "* **Evaluating Model**"
      ]
    },
    {
      "cell_type": "code",
      "execution_count": null,
      "metadata": {
        "colab": {
          "base_uri": "https://localhost:8080/",
          "height": 70
        },
        "id": "YYstk5F4MAZa",
        "outputId": "aa6b238b-aba8-4661-e05b-6c2437935074"
      },
      "outputs": [
        {
          "data": {
            "application/vnd.google.colaboratory.intrinsic+json": {
              "type": "string"
            },
            "text/plain": [
              "'              precision    recall  f1-score   support\\n\\n          No       1.00      0.74      0.85      2466\\n         Yes       0.00      0.00      0.00         0\\n\\n    accuracy                           0.74      2466\\n   macro avg       0.50      0.37      0.42      2466\\nweighted avg       1.00      0.74      0.85      2466\\n'"
            ]
          },
          "execution_count": 332,
          "metadata": {},
          "output_type": "execute_result"
        }
      ],
      "source": [
        "classification_report(predictions, y_test) #Gives report of Accuracy, Precision, Recall, F1-Score"
      ]
    },
    {
      "cell_type": "code",
      "execution_count": null,
      "metadata": {
        "colab": {
          "base_uri": "https://localhost:8080/"
        },
        "id": "0HzJ4-8nMtox",
        "outputId": "1595e29b-368c-45ed-8420-10400d0fc8ca"
      },
      "outputs": [
        {
          "data": {
            "text/plain": [
              "array([[1815,  651],\n",
              "       [   0,    0]])"
            ]
          },
          "execution_count": 333,
          "metadata": {},
          "output_type": "execute_result"
        }
      ],
      "source": [
        "confusion_matrix(predictions, y_test)"
      ]
    },
    {
      "cell_type": "code",
      "execution_count": null,
      "metadata": {
        "colab": {
          "base_uri": "https://localhost:8080/"
        },
        "id": "t2Yz4jj9RgJU",
        "outputId": "e6bb7410-b244-4ad5-968f-24f785aea6ca"
      },
      "outputs": [
        {
          "data": {
            "text/plain": [
              "0.7360097323600974"
            ]
          },
          "execution_count": 337,
          "metadata": {},
          "output_type": "execute_result"
        }
      ],
      "source": [
        "accuracy_score(predictions, y_test)"
      ]
    },
    {
      "cell_type": "markdown",
      "metadata": {
        "id": "jBnsPwLmOOYU"
      },
      "source": [
        "![Confusion.png](data:image/png;base64,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)"
      ]
    },
    {
      "cell_type": "markdown",
      "metadata": {
        "id": "QikBWF0fTUyn"
      },
      "source": [
        "**B. Build a multiple logistic regression model where dependent variable is ‘Churn’ &\n",
        "independent variables are ‘tenure’ & ‘MonthlyCharges’**\n",
        "1. Divide the dataset in 80:20 ratio\n",
        "2. Build the model on train set and predict the values on test set\n",
        "3. Build the confusion matrix and get the accuracy score"
      ]
    },
    {
      "cell_type": "markdown",
      "metadata": {
        "id": "P5WORwGVTcR9"
      },
      "source": [
        "* **Data Split**"
      ]
    },
    {
      "cell_type": "code",
      "execution_count": null,
      "metadata": {
        "id": "QKpjf3M7Tacl"
      },
      "outputs": [],
      "source": [
        "y = data[['Churn']]\n",
        "x = data[['MonthlyCharges', 'tenure']]"
      ]
    },
    {
      "cell_type": "code",
      "execution_count": null,
      "metadata": {
        "id": "u1Kou4Z5TxOo"
      },
      "outputs": [],
      "source": [
        "x_train, x_test, y_train, y_test = train_test_split(x,y, test_size = 0.20, random_state=0)"
      ]
    },
    {
      "cell_type": "markdown",
      "metadata": {
        "id": "vMtUG8hKTrJz"
      },
      "source": [
        "* **Building Model**"
      ]
    },
    {
      "cell_type": "code",
      "execution_count": null,
      "metadata": {
        "id": "bMGfz_KxTksm"
      },
      "outputs": [],
      "source": [
        "LM = LogisticRegression()"
      ]
    },
    {
      "cell_type": "code",
      "execution_count": null,
      "metadata": {
        "colab": {
          "base_uri": "https://localhost:8080/"
        },
        "id": "cRKpy8NATuW4",
        "outputId": "59e79217-f174-468c-df33-9dad833940c5"
      },
      "outputs": [
        {
          "data": {
            "text/plain": [
              "LogisticRegression()"
            ]
          },
          "execution_count": 342,
          "metadata": {},
          "output_type": "execute_result"
        }
      ],
      "source": [
        "LM.fit(x_train, y_train)"
      ]
    },
    {
      "cell_type": "code",
      "execution_count": null,
      "metadata": {
        "id": "x2FBPD7RT7oZ"
      },
      "outputs": [],
      "source": [
        "predictions = LM.predict(x_test)"
      ]
    },
    {
      "cell_type": "markdown",
      "metadata": {
        "id": "8MTaMq3LUC3C"
      },
      "source": [
        "* **Model Evaluation**"
      ]
    },
    {
      "cell_type": "code",
      "execution_count": null,
      "metadata": {
        "colab": {
          "base_uri": "https://localhost:8080/"
        },
        "id": "sp22LutwT_29",
        "outputId": "65c7d566-8c47-4e34-a62e-f348935f70ff"
      },
      "outputs": [
        {
          "data": {
            "text/plain": [
              "0.7735982966643009"
            ]
          },
          "execution_count": 345,
          "metadata": {},
          "output_type": "execute_result"
        }
      ],
      "source": [
        "accuracy_score(predictions,y_test)"
      ]
    },
    {
      "cell_type": "code",
      "execution_count": null,
      "metadata": {
        "colab": {
          "base_uri": "https://localhost:8080/"
        },
        "id": "2GOVfjk2UQdA",
        "outputId": "b8896336-0371-4cce-f4c1-e90caef1b2a5"
      },
      "outputs": [
        {
          "data": {
            "text/plain": [
              "array([[934, 212],\n",
              "       [107, 156]])"
            ]
          },
          "execution_count": 346,
          "metadata": {},
          "output_type": "execute_result"
        }
      ],
      "source": [
        "confusion_matrix(predictions,y_test)"
      ]
    },
    {
      "cell_type": "code",
      "execution_count": null,
      "metadata": {
        "colab": {
          "base_uri": "https://localhost:8080/",
          "height": 70
        },
        "id": "B0cNqWYeUWNx",
        "outputId": "68982706-9696-4225-9c15-bacd5161e9b2"
      },
      "outputs": [
        {
          "data": {
            "application/vnd.google.colaboratory.intrinsic+json": {
              "type": "string"
            },
            "text/plain": [
              "'              precision    recall  f1-score   support\\n\\n          No       0.90      0.82      0.85      1146\\n         Yes       0.42      0.59      0.49       263\\n\\n    accuracy                           0.77      1409\\n   macro avg       0.66      0.70      0.67      1409\\nweighted avg       0.81      0.77      0.79      1409\\n'"
            ]
          },
          "execution_count": 347,
          "metadata": {},
          "output_type": "execute_result"
        }
      ],
      "source": [
        "classification_report(predictions,y_test)"
      ]
    },
    {
      "attachments": {},
      "cell_type": "markdown",
      "metadata": {},
      "source": [
        "Project Completed by [Tajamul Khan](https://github.com/tajamulk2)\n",
        "* For More Projects like this. Check out my [GitHub](https://github.com/tajamulk2)\n",
        "* Let's connect over [Linked In](https://www.linkedin.com/in/tajamulk2/)"
      ]
    },
    {
      "cell_type": "markdown",
      "metadata": {},
      "source": []
    }
  ],
  "metadata": {
    "colab": {
      "collapsed_sections": [
        "dUHT9Xozg6eY"
      ],
      "provenance": []
    },
    "kernelspec": {
      "display_name": "Python 3",
      "name": "python3"
    },
    "language_info": {
      "name": "python"
    }
  },
  "nbformat": 4,
  "nbformat_minor": 0
}
