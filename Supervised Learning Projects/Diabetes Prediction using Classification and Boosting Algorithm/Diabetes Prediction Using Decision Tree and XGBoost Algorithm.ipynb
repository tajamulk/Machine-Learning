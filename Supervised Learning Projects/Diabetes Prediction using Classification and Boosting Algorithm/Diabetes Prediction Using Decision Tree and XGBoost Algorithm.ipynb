{
  "cells": [
    {
      "cell_type": "markdown",
      "metadata": {
        "id": "C5rozLDDh5NB"
      },
      "source": [
        "#Importing Library and Preparing the dataset"
      ]
    },
    {
      "cell_type": "code",
      "execution_count": null,
      "metadata": {
        "id": "Tkoi-Q1GYW5n"
      },
      "outputs": [],
      "source": [
        "import numpy as np\n",
        "import pandas as pd\n",
        "import matplotlib.pyplot as plt\n",
        "import seaborn as sns\n",
        "sns.set(color_codes=True)\n",
        "from sklearn.model_selection import train_test_split\n",
        "%matplotlib inline"
      ]
    },
    {
      "cell_type": "code",
      "execution_count": null,
      "metadata": {
        "colab": {
          "base_uri": "https://localhost:8080/",
          "height": 424
        },
        "id": "DQQGQCszZIXg",
        "outputId": "2c54a98e-6f12-4b16-e437-1473290b79da"
      },
      "outputs": [
        {
          "output_type": "execute_result",
          "data": {
            "text/plain": [
              "     Pregnancies  Glucose  BloodPressure  SkinThickness  Insulin   BMI  \\\n",
              "0              6      148             72             35        0  33.6   \n",
              "1              1       85             66             29        0  26.6   \n",
              "2              8      183             64              0        0  23.3   \n",
              "3              1       89             66             23       94  28.1   \n",
              "4              0      137             40             35      168  43.1   \n",
              "..           ...      ...            ...            ...      ...   ...   \n",
              "763           10      101             76             48      180  32.9   \n",
              "764            2      122             70             27        0  36.8   \n",
              "765            5      121             72             23      112  26.2   \n",
              "766            1      126             60              0        0  30.1   \n",
              "767            1       93             70             31        0  30.4   \n",
              "\n",
              "     DiabetesPedigreeFunction  Age  Outcome  \n",
              "0                       0.627   50        1  \n",
              "1                       0.351   31        0  \n",
              "2                       0.672   32        1  \n",
              "3                       0.167   21        0  \n",
              "4                       2.288   33        1  \n",
              "..                        ...  ...      ...  \n",
              "763                     0.171   63        0  \n",
              "764                     0.340   27        0  \n",
              "765                     0.245   30        0  \n",
              "766                     0.349   47        1  \n",
              "767                     0.315   23        0  \n",
              "\n",
              "[768 rows x 9 columns]"
            ],
            "text/html": [
              "\n",
              "  <div id=\"df-58b8298b-67a3-406d-ad2f-92ca1b4b6307\">\n",
              "    <div class=\"colab-df-container\">\n",
              "      <div>\n",
              "<style scoped>\n",
              "    .dataframe tbody tr th:only-of-type {\n",
              "        vertical-align: middle;\n",
              "    }\n",
              "\n",
              "    .dataframe tbody tr th {\n",
              "        vertical-align: top;\n",
              "    }\n",
              "\n",
              "    .dataframe thead th {\n",
              "        text-align: right;\n",
              "    }\n",
              "</style>\n",
              "<table border=\"1\" class=\"dataframe\">\n",
              "  <thead>\n",
              "    <tr style=\"text-align: right;\">\n",
              "      <th></th>\n",
              "      <th>Pregnancies</th>\n",
              "      <th>Glucose</th>\n",
              "      <th>BloodPressure</th>\n",
              "      <th>SkinThickness</th>\n",
              "      <th>Insulin</th>\n",
              "      <th>BMI</th>\n",
              "      <th>DiabetesPedigreeFunction</th>\n",
              "      <th>Age</th>\n",
              "      <th>Outcome</th>\n",
              "    </tr>\n",
              "  </thead>\n",
              "  <tbody>\n",
              "    <tr>\n",
              "      <th>0</th>\n",
              "      <td>6</td>\n",
              "      <td>148</td>\n",
              "      <td>72</td>\n",
              "      <td>35</td>\n",
              "      <td>0</td>\n",
              "      <td>33.6</td>\n",
              "      <td>0.627</td>\n",
              "      <td>50</td>\n",
              "      <td>1</td>\n",
              "    </tr>\n",
              "    <tr>\n",
              "      <th>1</th>\n",
              "      <td>1</td>\n",
              "      <td>85</td>\n",
              "      <td>66</td>\n",
              "      <td>29</td>\n",
              "      <td>0</td>\n",
              "      <td>26.6</td>\n",
              "      <td>0.351</td>\n",
              "      <td>31</td>\n",
              "      <td>0</td>\n",
              "    </tr>\n",
              "    <tr>\n",
              "      <th>2</th>\n",
              "      <td>8</td>\n",
              "      <td>183</td>\n",
              "      <td>64</td>\n",
              "      <td>0</td>\n",
              "      <td>0</td>\n",
              "      <td>23.3</td>\n",
              "      <td>0.672</td>\n",
              "      <td>32</td>\n",
              "      <td>1</td>\n",
              "    </tr>\n",
              "    <tr>\n",
              "      <th>3</th>\n",
              "      <td>1</td>\n",
              "      <td>89</td>\n",
              "      <td>66</td>\n",
              "      <td>23</td>\n",
              "      <td>94</td>\n",
              "      <td>28.1</td>\n",
              "      <td>0.167</td>\n",
              "      <td>21</td>\n",
              "      <td>0</td>\n",
              "    </tr>\n",
              "    <tr>\n",
              "      <th>4</th>\n",
              "      <td>0</td>\n",
              "      <td>137</td>\n",
              "      <td>40</td>\n",
              "      <td>35</td>\n",
              "      <td>168</td>\n",
              "      <td>43.1</td>\n",
              "      <td>2.288</td>\n",
              "      <td>33</td>\n",
              "      <td>1</td>\n",
              "    </tr>\n",
              "    <tr>\n",
              "      <th>...</th>\n",
              "      <td>...</td>\n",
              "      <td>...</td>\n",
              "      <td>...</td>\n",
              "      <td>...</td>\n",
              "      <td>...</td>\n",
              "      <td>...</td>\n",
              "      <td>...</td>\n",
              "      <td>...</td>\n",
              "      <td>...</td>\n",
              "    </tr>\n",
              "    <tr>\n",
              "      <th>763</th>\n",
              "      <td>10</td>\n",
              "      <td>101</td>\n",
              "      <td>76</td>\n",
              "      <td>48</td>\n",
              "      <td>180</td>\n",
              "      <td>32.9</td>\n",
              "      <td>0.171</td>\n",
              "      <td>63</td>\n",
              "      <td>0</td>\n",
              "    </tr>\n",
              "    <tr>\n",
              "      <th>764</th>\n",
              "      <td>2</td>\n",
              "      <td>122</td>\n",
              "      <td>70</td>\n",
              "      <td>27</td>\n",
              "      <td>0</td>\n",
              "      <td>36.8</td>\n",
              "      <td>0.340</td>\n",
              "      <td>27</td>\n",
              "      <td>0</td>\n",
              "    </tr>\n",
              "    <tr>\n",
              "      <th>765</th>\n",
              "      <td>5</td>\n",
              "      <td>121</td>\n",
              "      <td>72</td>\n",
              "      <td>23</td>\n",
              "      <td>112</td>\n",
              "      <td>26.2</td>\n",
              "      <td>0.245</td>\n",
              "      <td>30</td>\n",
              "      <td>0</td>\n",
              "    </tr>\n",
              "    <tr>\n",
              "      <th>766</th>\n",
              "      <td>1</td>\n",
              "      <td>126</td>\n",
              "      <td>60</td>\n",
              "      <td>0</td>\n",
              "      <td>0</td>\n",
              "      <td>30.1</td>\n",
              "      <td>0.349</td>\n",
              "      <td>47</td>\n",
              "      <td>1</td>\n",
              "    </tr>\n",
              "    <tr>\n",
              "      <th>767</th>\n",
              "      <td>1</td>\n",
              "      <td>93</td>\n",
              "      <td>70</td>\n",
              "      <td>31</td>\n",
              "      <td>0</td>\n",
              "      <td>30.4</td>\n",
              "      <td>0.315</td>\n",
              "      <td>23</td>\n",
              "      <td>0</td>\n",
              "    </tr>\n",
              "  </tbody>\n",
              "</table>\n",
              "<p>768 rows × 9 columns</p>\n",
              "</div>\n",
              "      <button class=\"colab-df-convert\" onclick=\"convertToInteractive('df-58b8298b-67a3-406d-ad2f-92ca1b4b6307')\"\n",
              "              title=\"Convert this dataframe to an interactive table.\"\n",
              "              style=\"display:none;\">\n",
              "        \n",
              "  <svg xmlns=\"http://www.w3.org/2000/svg\" height=\"24px\"viewBox=\"0 0 24 24\"\n",
              "       width=\"24px\">\n",
              "    <path d=\"M0 0h24v24H0V0z\" fill=\"none\"/>\n",
              "    <path d=\"M18.56 5.44l.94 2.06.94-2.06 2.06-.94-2.06-.94-.94-2.06-.94 2.06-2.06.94zm-11 1L8.5 8.5l.94-2.06 2.06-.94-2.06-.94L8.5 2.5l-.94 2.06-2.06.94zm10 10l.94 2.06.94-2.06 2.06-.94-2.06-.94-.94-2.06-.94 2.06-2.06.94z\"/><path d=\"M17.41 7.96l-1.37-1.37c-.4-.4-.92-.59-1.43-.59-.52 0-1.04.2-1.43.59L10.3 9.45l-7.72 7.72c-.78.78-.78 2.05 0 2.83L4 21.41c.39.39.9.59 1.41.59.51 0 1.02-.2 1.41-.59l7.78-7.78 2.81-2.81c.8-.78.8-2.07 0-2.86zM5.41 20L4 18.59l7.72-7.72 1.47 1.35L5.41 20z\"/>\n",
              "  </svg>\n",
              "      </button>\n",
              "      \n",
              "  <style>\n",
              "    .colab-df-container {\n",
              "      display:flex;\n",
              "      flex-wrap:wrap;\n",
              "      gap: 12px;\n",
              "    }\n",
              "\n",
              "    .colab-df-convert {\n",
              "      background-color: #E8F0FE;\n",
              "      border: none;\n",
              "      border-radius: 50%;\n",
              "      cursor: pointer;\n",
              "      display: none;\n",
              "      fill: #1967D2;\n",
              "      height: 32px;\n",
              "      padding: 0 0 0 0;\n",
              "      width: 32px;\n",
              "    }\n",
              "\n",
              "    .colab-df-convert:hover {\n",
              "      background-color: #E2EBFA;\n",
              "      box-shadow: 0px 1px 2px rgba(60, 64, 67, 0.3), 0px 1px 3px 1px rgba(60, 64, 67, 0.15);\n",
              "      fill: #174EA6;\n",
              "    }\n",
              "\n",
              "    [theme=dark] .colab-df-convert {\n",
              "      background-color: #3B4455;\n",
              "      fill: #D2E3FC;\n",
              "    }\n",
              "\n",
              "    [theme=dark] .colab-df-convert:hover {\n",
              "      background-color: #434B5C;\n",
              "      box-shadow: 0px 1px 3px 1px rgba(0, 0, 0, 0.15);\n",
              "      filter: drop-shadow(0px 1px 2px rgba(0, 0, 0, 0.3));\n",
              "      fill: #FFFFFF;\n",
              "    }\n",
              "  </style>\n",
              "\n",
              "      <script>\n",
              "        const buttonEl =\n",
              "          document.querySelector('#df-58b8298b-67a3-406d-ad2f-92ca1b4b6307 button.colab-df-convert');\n",
              "        buttonEl.style.display =\n",
              "          google.colab.kernel.accessAllowed ? 'block' : 'none';\n",
              "\n",
              "        async function convertToInteractive(key) {\n",
              "          const element = document.querySelector('#df-58b8298b-67a3-406d-ad2f-92ca1b4b6307');\n",
              "          const dataTable =\n",
              "            await google.colab.kernel.invokeFunction('convertToInteractive',\n",
              "                                                     [key], {});\n",
              "          if (!dataTable) return;\n",
              "\n",
              "          const docLinkHtml = 'Like what you see? Visit the ' +\n",
              "            '<a target=\"_blank\" href=https://colab.research.google.com/notebooks/data_table.ipynb>data table notebook</a>'\n",
              "            + ' to learn more about interactive tables.';\n",
              "          element.innerHTML = '';\n",
              "          dataTable['output_type'] = 'display_data';\n",
              "          await google.colab.output.renderOutput(dataTable, element);\n",
              "          const docLink = document.createElement('div');\n",
              "          docLink.innerHTML = docLinkHtml;\n",
              "          element.appendChild(docLink);\n",
              "        }\n",
              "      </script>\n",
              "    </div>\n",
              "  </div>\n",
              "  "
            ]
          },
          "metadata": {},
          "execution_count": 2
        }
      ],
      "source": [
        "diabetes_df = pd.read_csv('diabetes.csv')\n",
        "diabetes_df"
      ]
    },
    {
      "cell_type": "markdown",
      "metadata": {
        "id": "uXtabIv9ZQkA"
      },
      "source": [
        "#Exploratory Data Analysis"
      ]
    },
    {
      "cell_type": "code",
      "execution_count": null,
      "metadata": {
        "colab": {
          "base_uri": "https://localhost:8080/"
        },
        "id": "YykQn0R_ZIfp",
        "outputId": "76eabc61-b57e-4211-8678-098e5f079a00"
      },
      "outputs": [
        {
          "output_type": "execute_result",
          "data": {
            "text/plain": [
              "Index(['Pregnancies', 'Glucose', 'BloodPressure', 'SkinThickness', 'Insulin',\n",
              "       'BMI', 'DiabetesPedigreeFunction', 'Age', 'Outcome'],\n",
              "      dtype='object')"
            ]
          },
          "metadata": {},
          "execution_count": 3
        }
      ],
      "source": [
        "#Column in Dataset\n",
        "diabetes_df.columns"
      ]
    },
    {
      "cell_type": "code",
      "execution_count": null,
      "metadata": {
        "colab": {
          "base_uri": "https://localhost:8080/"
        },
        "id": "1j58i5cYZWa9",
        "outputId": "c1dc84eb-8429-444d-c8ed-4af9d76b2f4a"
      },
      "outputs": [
        {
          "output_type": "stream",
          "name": "stdout",
          "text": [
            "<class 'pandas.core.frame.DataFrame'>\n",
            "RangeIndex: 768 entries, 0 to 767\n",
            "Data columns (total 9 columns):\n",
            " #   Column                    Non-Null Count  Dtype  \n",
            "---  ------                    --------------  -----  \n",
            " 0   Pregnancies               768 non-null    int64  \n",
            " 1   Glucose                   768 non-null    int64  \n",
            " 2   BloodPressure             768 non-null    int64  \n",
            " 3   SkinThickness             768 non-null    int64  \n",
            " 4   Insulin                   768 non-null    int64  \n",
            " 5   BMI                       768 non-null    float64\n",
            " 6   DiabetesPedigreeFunction  768 non-null    float64\n",
            " 7   Age                       768 non-null    int64  \n",
            " 8   Outcome                   768 non-null    int64  \n",
            "dtypes: float64(2), int64(7)\n",
            "memory usage: 54.1 KB\n"
          ]
        }
      ],
      "source": [
        "#Show data types and null value each column\n",
        "diabetes_df.info()"
      ]
    },
    {
      "cell_type": "code",
      "execution_count": null,
      "metadata": {
        "colab": {
          "base_uri": "https://localhost:8080/",
          "height": 363
        },
        "id": "u1HqjXcsZaLv",
        "outputId": "97dd3a97-137b-46c4-bb5f-f1264fc1d493"
      },
      "outputs": [
        {
          "output_type": "execute_result",
          "data": {
            "text/plain": [
              "   Pregnancies  Glucose  BloodPressure  SkinThickness  Insulin    BMI  \\\n",
              "0        False    False          False          False    False  False   \n",
              "1        False    False          False          False    False  False   \n",
              "2        False    False          False          False    False  False   \n",
              "3        False    False          False          False    False  False   \n",
              "4        False    False          False          False    False  False   \n",
              "5        False    False          False          False    False  False   \n",
              "6        False    False          False          False    False  False   \n",
              "7        False    False          False          False    False  False   \n",
              "8        False    False          False          False    False  False   \n",
              "9        False    False          False          False    False  False   \n",
              "\n",
              "   DiabetesPedigreeFunction    Age  Outcome  \n",
              "0                     False  False    False  \n",
              "1                     False  False    False  \n",
              "2                     False  False    False  \n",
              "3                     False  False    False  \n",
              "4                     False  False    False  \n",
              "5                     False  False    False  \n",
              "6                     False  False    False  \n",
              "7                     False  False    False  \n",
              "8                     False  False    False  \n",
              "9                     False  False    False  "
            ],
            "text/html": [
              "\n",
              "  <div id=\"df-8bb81f7f-e827-42c6-8513-86b1cfc1aca9\">\n",
              "    <div class=\"colab-df-container\">\n",
              "      <div>\n",
              "<style scoped>\n",
              "    .dataframe tbody tr th:only-of-type {\n",
              "        vertical-align: middle;\n",
              "    }\n",
              "\n",
              "    .dataframe tbody tr th {\n",
              "        vertical-align: top;\n",
              "    }\n",
              "\n",
              "    .dataframe thead th {\n",
              "        text-align: right;\n",
              "    }\n",
              "</style>\n",
              "<table border=\"1\" class=\"dataframe\">\n",
              "  <thead>\n",
              "    <tr style=\"text-align: right;\">\n",
              "      <th></th>\n",
              "      <th>Pregnancies</th>\n",
              "      <th>Glucose</th>\n",
              "      <th>BloodPressure</th>\n",
              "      <th>SkinThickness</th>\n",
              "      <th>Insulin</th>\n",
              "      <th>BMI</th>\n",
              "      <th>DiabetesPedigreeFunction</th>\n",
              "      <th>Age</th>\n",
              "      <th>Outcome</th>\n",
              "    </tr>\n",
              "  </thead>\n",
              "  <tbody>\n",
              "    <tr>\n",
              "      <th>0</th>\n",
              "      <td>False</td>\n",
              "      <td>False</td>\n",
              "      <td>False</td>\n",
              "      <td>False</td>\n",
              "      <td>False</td>\n",
              "      <td>False</td>\n",
              "      <td>False</td>\n",
              "      <td>False</td>\n",
              "      <td>False</td>\n",
              "    </tr>\n",
              "    <tr>\n",
              "      <th>1</th>\n",
              "      <td>False</td>\n",
              "      <td>False</td>\n",
              "      <td>False</td>\n",
              "      <td>False</td>\n",
              "      <td>False</td>\n",
              "      <td>False</td>\n",
              "      <td>False</td>\n",
              "      <td>False</td>\n",
              "      <td>False</td>\n",
              "    </tr>\n",
              "    <tr>\n",
              "      <th>2</th>\n",
              "      <td>False</td>\n",
              "      <td>False</td>\n",
              "      <td>False</td>\n",
              "      <td>False</td>\n",
              "      <td>False</td>\n",
              "      <td>False</td>\n",
              "      <td>False</td>\n",
              "      <td>False</td>\n",
              "      <td>False</td>\n",
              "    </tr>\n",
              "    <tr>\n",
              "      <th>3</th>\n",
              "      <td>False</td>\n",
              "      <td>False</td>\n",
              "      <td>False</td>\n",
              "      <td>False</td>\n",
              "      <td>False</td>\n",
              "      <td>False</td>\n",
              "      <td>False</td>\n",
              "      <td>False</td>\n",
              "      <td>False</td>\n",
              "    </tr>\n",
              "    <tr>\n",
              "      <th>4</th>\n",
              "      <td>False</td>\n",
              "      <td>False</td>\n",
              "      <td>False</td>\n",
              "      <td>False</td>\n",
              "      <td>False</td>\n",
              "      <td>False</td>\n",
              "      <td>False</td>\n",
              "      <td>False</td>\n",
              "      <td>False</td>\n",
              "    </tr>\n",
              "    <tr>\n",
              "      <th>5</th>\n",
              "      <td>False</td>\n",
              "      <td>False</td>\n",
              "      <td>False</td>\n",
              "      <td>False</td>\n",
              "      <td>False</td>\n",
              "      <td>False</td>\n",
              "      <td>False</td>\n",
              "      <td>False</td>\n",
              "      <td>False</td>\n",
              "    </tr>\n",
              "    <tr>\n",
              "      <th>6</th>\n",
              "      <td>False</td>\n",
              "      <td>False</td>\n",
              "      <td>False</td>\n",
              "      <td>False</td>\n",
              "      <td>False</td>\n",
              "      <td>False</td>\n",
              "      <td>False</td>\n",
              "      <td>False</td>\n",
              "      <td>False</td>\n",
              "    </tr>\n",
              "    <tr>\n",
              "      <th>7</th>\n",
              "      <td>False</td>\n",
              "      <td>False</td>\n",
              "      <td>False</td>\n",
              "      <td>False</td>\n",
              "      <td>False</td>\n",
              "      <td>False</td>\n",
              "      <td>False</td>\n",
              "      <td>False</td>\n",
              "      <td>False</td>\n",
              "    </tr>\n",
              "    <tr>\n",
              "      <th>8</th>\n",
              "      <td>False</td>\n",
              "      <td>False</td>\n",
              "      <td>False</td>\n",
              "      <td>False</td>\n",
              "      <td>False</td>\n",
              "      <td>False</td>\n",
              "      <td>False</td>\n",
              "      <td>False</td>\n",
              "      <td>False</td>\n",
              "    </tr>\n",
              "    <tr>\n",
              "      <th>9</th>\n",
              "      <td>False</td>\n",
              "      <td>False</td>\n",
              "      <td>False</td>\n",
              "      <td>False</td>\n",
              "      <td>False</td>\n",
              "      <td>False</td>\n",
              "      <td>False</td>\n",
              "      <td>False</td>\n",
              "      <td>False</td>\n",
              "    </tr>\n",
              "  </tbody>\n",
              "</table>\n",
              "</div>\n",
              "      <button class=\"colab-df-convert\" onclick=\"convertToInteractive('df-8bb81f7f-e827-42c6-8513-86b1cfc1aca9')\"\n",
              "              title=\"Convert this dataframe to an interactive table.\"\n",
              "              style=\"display:none;\">\n",
              "        \n",
              "  <svg xmlns=\"http://www.w3.org/2000/svg\" height=\"24px\"viewBox=\"0 0 24 24\"\n",
              "       width=\"24px\">\n",
              "    <path d=\"M0 0h24v24H0V0z\" fill=\"none\"/>\n",
              "    <path d=\"M18.56 5.44l.94 2.06.94-2.06 2.06-.94-2.06-.94-.94-2.06-.94 2.06-2.06.94zm-11 1L8.5 8.5l.94-2.06 2.06-.94-2.06-.94L8.5 2.5l-.94 2.06-2.06.94zm10 10l.94 2.06.94-2.06 2.06-.94-2.06-.94-.94-2.06-.94 2.06-2.06.94z\"/><path d=\"M17.41 7.96l-1.37-1.37c-.4-.4-.92-.59-1.43-.59-.52 0-1.04.2-1.43.59L10.3 9.45l-7.72 7.72c-.78.78-.78 2.05 0 2.83L4 21.41c.39.39.9.59 1.41.59.51 0 1.02-.2 1.41-.59l7.78-7.78 2.81-2.81c.8-.78.8-2.07 0-2.86zM5.41 20L4 18.59l7.72-7.72 1.47 1.35L5.41 20z\"/>\n",
              "  </svg>\n",
              "      </button>\n",
              "      \n",
              "  <style>\n",
              "    .colab-df-container {\n",
              "      display:flex;\n",
              "      flex-wrap:wrap;\n",
              "      gap: 12px;\n",
              "    }\n",
              "\n",
              "    .colab-df-convert {\n",
              "      background-color: #E8F0FE;\n",
              "      border: none;\n",
              "      border-radius: 50%;\n",
              "      cursor: pointer;\n",
              "      display: none;\n",
              "      fill: #1967D2;\n",
              "      height: 32px;\n",
              "      padding: 0 0 0 0;\n",
              "      width: 32px;\n",
              "    }\n",
              "\n",
              "    .colab-df-convert:hover {\n",
              "      background-color: #E2EBFA;\n",
              "      box-shadow: 0px 1px 2px rgba(60, 64, 67, 0.3), 0px 1px 3px 1px rgba(60, 64, 67, 0.15);\n",
              "      fill: #174EA6;\n",
              "    }\n",
              "\n",
              "    [theme=dark] .colab-df-convert {\n",
              "      background-color: #3B4455;\n",
              "      fill: #D2E3FC;\n",
              "    }\n",
              "\n",
              "    [theme=dark] .colab-df-convert:hover {\n",
              "      background-color: #434B5C;\n",
              "      box-shadow: 0px 1px 3px 1px rgba(0, 0, 0, 0.15);\n",
              "      filter: drop-shadow(0px 1px 2px rgba(0, 0, 0, 0.3));\n",
              "      fill: #FFFFFF;\n",
              "    }\n",
              "  </style>\n",
              "\n",
              "      <script>\n",
              "        const buttonEl =\n",
              "          document.querySelector('#df-8bb81f7f-e827-42c6-8513-86b1cfc1aca9 button.colab-df-convert');\n",
              "        buttonEl.style.display =\n",
              "          google.colab.kernel.accessAllowed ? 'block' : 'none';\n",
              "\n",
              "        async function convertToInteractive(key) {\n",
              "          const element = document.querySelector('#df-8bb81f7f-e827-42c6-8513-86b1cfc1aca9');\n",
              "          const dataTable =\n",
              "            await google.colab.kernel.invokeFunction('convertToInteractive',\n",
              "                                                     [key], {});\n",
              "          if (!dataTable) return;\n",
              "\n",
              "          const docLinkHtml = 'Like what you see? Visit the ' +\n",
              "            '<a target=\"_blank\" href=https://colab.research.google.com/notebooks/data_table.ipynb>data table notebook</a>'\n",
              "            + ' to learn more about interactive tables.';\n",
              "          element.innerHTML = '';\n",
              "          dataTable['output_type'] = 'display_data';\n",
              "          await google.colab.output.renderOutput(dataTable, element);\n",
              "          const docLink = document.createElement('div');\n",
              "          docLink.innerHTML = docLinkHtml;\n",
              "          element.appendChild(docLink);\n",
              "        }\n",
              "      </script>\n",
              "    </div>\n",
              "  </div>\n",
              "  "
            ]
          },
          "metadata": {},
          "execution_count": 5
        }
      ],
      "source": [
        "#Menampilkan 10 baris pertama\n",
        "diabetes_df.isnull().head(10)"
      ]
    },
    {
      "cell_type": "code",
      "execution_count": null,
      "metadata": {
        "colab": {
          "base_uri": "https://localhost:8080/"
        },
        "id": "a_YbR5ARZggU",
        "outputId": "bbd07228-581a-4b4f-a911-3a4f16533618"
      },
      "outputs": [
        {
          "output_type": "execute_result",
          "data": {
            "text/plain": [
              "Pregnancies                 0\n",
              "Glucose                     0\n",
              "BloodPressure               0\n",
              "SkinThickness               0\n",
              "Insulin                     0\n",
              "BMI                         0\n",
              "DiabetesPedigreeFunction    0\n",
              "Age                         0\n",
              "Outcome                     0\n",
              "dtype: int64"
            ]
          },
          "metadata": {},
          "execution_count": 6
        }
      ],
      "source": [
        "#Checking if there is null value\n",
        "diabetes_df.isnull().sum()"
      ]
    },
    {
      "cell_type": "code",
      "execution_count": null,
      "metadata": {
        "colab": {
          "base_uri": "https://localhost:8080/"
        },
        "id": "UwQObE1cZmJo",
        "outputId": "706f3c3f-bc64-4b55-fb6f-0110904c7c18"
      },
      "outputs": [
        {
          "output_type": "stream",
          "name": "stdout",
          "text": [
            "Pregnancies                   0\n",
            "Glucose                       5\n",
            "BloodPressure                35\n",
            "SkinThickness               227\n",
            "Insulin                     374\n",
            "BMI                          11\n",
            "DiabetesPedigreeFunction      0\n",
            "Age                           0\n",
            "Outcome                       0\n",
            "dtype: int64\n"
          ]
        }
      ],
      "source": [
        "#Checking if there is zero value\n",
        "\n",
        "#replace 0 value with NaN\n",
        "diabetes_df_copy = diabetes_df.copy(deep = True) #deep = True -> Buat salinan indeks dan data dalam dataframe\n",
        "diabetes_df_copy[['Glucose','BloodPressure','SkinThickness','Insulin','BMI']] = diabetes_df_copy[['Glucose','BloodPressure','SkinThickness','Insulin','BMI']].replace(0,np.NaN)\n",
        "\n",
        "# Showing the Count of NANs\n",
        "print(diabetes_df_copy.isnull().sum())"
      ]
    },
    {
      "cell_type": "markdown",
      "metadata": {
        "id": "8gi5nu5FQGoU"
      },
      "source": [
        "#Berdasarkan Jurnal A model for early prediction of diabetes\n",
        "oleh Talha Mahboob Alam et al, yang bersumber dari : https://reader.elsevier.com/reader/sd/pii/S2352914819300176?token=7D4F21A1900E1B47FA971E110A1469CE2A8882E14CFBF3A4C3790507841542704D1370C180ADD4341ED02B627B619B3F&originRegion=eu-west-1&originCreation=20220928035824\n",
        "\n",
        "\"Data cleaning consists of filling the missing values and removing\n",
        "noisy data. Noisy data contains outliers which are removed to resolve\n",
        "inconsistencies . In our dataset, glucose, blood Pressure, skin\n",
        "thickness, insulin, and BMI have some zero values. **Thus, all the zero\n",
        "values were replaced with the median value of that attribute.**\"\n",
        "\n",
        "\n",
        "Jadi di tahap ini yang saya lakukan adalah mengisi value 0 (missing values) pada beberapa kolom tersebut dengan nilai median untuk mengatasi nilai inconsistent"
      ]
    },
    {
      "cell_type": "code",
      "execution_count": null,
      "metadata": {
        "id": "KiFPUtNyZ0c4"
      },
      "outputs": [],
      "source": [
        "#Fill null value with median\n",
        "diabetes_df_copy['Glucose'].fillna(diabetes_df_copy['Glucose'].median(), inplace = True)\n",
        "diabetes_df_copy['BloodPressure'].fillna(diabetes_df_copy['BloodPressure'].median(), inplace = True)\n",
        "diabetes_df_copy['SkinThickness'].fillna(diabetes_df_copy['SkinThickness'].median(), inplace = True)\n",
        "diabetes_df_copy['Insulin'].fillna(diabetes_df_copy['Insulin'].median(), inplace = True)\n",
        "diabetes_df_copy['BMI'].fillna(diabetes_df_copy['BMI'].median(), inplace = True)\n",
        "#inplace = True -> untuk menyimpan hasil modifikasi pada dataframe diabetes_df_copy"
      ]
    },
    {
      "cell_type": "markdown",
      "metadata": {
        "id": "DbL04ZOTQLMQ"
      },
      "source": [
        "#Berdasarkan Jurnal Deteksi Dini Penyakit Diabetes Menggunakan Machine Learning dengan Algoritma Logistic Regression\n",
        "\n",
        "yang dikutip dari : https://jurnal.ugm.ac.id/v3/JNTETI/article/view/3586/1646 \n",
        "\n",
        "\"Pada  tahap  ini  juga  dilakukan pengecekan  terhadap  data  yang  tidak  seimbang.  Penanganan terhadap  data  yang  tidak  seimbang  dilakukan  menggunakan synthetic minority over-sampling technique(SMOTE)\"\n",
        "\n",
        "Pada tahap ini yang akan saya lakukan adala oversampling minority value, yakni value 1 pada variabel outcome yang berfungsi untuk menyeimbangkan data yang nantinya akan digunakan untuk prediksi\n",
        "\n",
        "#Berdasarkan Jurnal SMOTE: Synthetic Minority Over-sampling Technique\n",
        "yang dikutip dari : https://www.jair.org/index.php/jair/article/view/10302/24590\n",
        "\n",
        "\"However, the nature of the application requires a fairly high rate of correct detection in the minority class and allows for a small error rate in the majority class inorder to achieve this.\"\n",
        "\n",
        "Alasan saya menggunakan teknik Oversampling adalah untuk meningkatkan sampel kelas minoritas dan untuk memperkecil tingkat kesalahan di kelas mayoritas\n",
        "\n",
        "\n"
      ]
    },
    {
      "cell_type": "code",
      "execution_count": null,
      "metadata": {
        "colab": {
          "base_uri": "https://localhost:8080/",
          "height": 392
        },
        "id": "5hDL0y_laLF6",
        "outputId": "f5be9d8e-ddf9-4b52-8c34-d5efe79a45b0"
      },
      "outputs": [
        {
          "output_type": "stream",
          "name": "stdout",
          "text": [
            "0    500\n",
            "1    268\n",
            "Name: Outcome, dtype: int64\n"
          ]
        },
        {
          "output_type": "stream",
          "name": "stderr",
          "text": [
            "/usr/local/lib/python3.8/dist-packages/seaborn/_decorators.py:36: FutureWarning: Pass the following variable as a keyword arg: x. From version 0.12, the only valid positional argument will be `data`, and passing other arguments without an explicit keyword will result in an error or misinterpretation.\n",
            "  warnings.warn(\n"
          ]
        },
        {
          "output_type": "display_data",
          "data": {
            "text/plain": [
              "<Figure size 432x288 with 1 Axes>"
            ],
            "image/png": "[encoded data removed]"
          },
          "metadata": {
            "needs_background": "light"
          }
        }
      ],
      "source": [
        "#Counting 1 and 0 Value in Outcome column\n",
        "sns.countplot(diabetes_df_copy['Outcome']) #membuat bar plot perbandingan jumlah value\n",
        "print(diabetes_df_copy.Outcome.value_counts()) #menampilkan jumlah value 0 dan 1"
      ]
    },
    {
      "cell_type": "code",
      "execution_count": null,
      "metadata": {
        "id": "Zbdr4mEHQGOs"
      },
      "outputs": [],
      "source": [
        "from sklearn.utils import resample\n",
        "#create two different dataframe of majority and minority class \n",
        "df_majority = diabetes_df_copy[(diabetes_df_copy['Outcome']==0)] # semua data yang value outcome nya = 0\n",
        "df_minority = diabetes_df_copy[(diabetes_df_copy['Outcome']==1)] # semua data yang value outcome nya = 1\n",
        "# upsample minority class\n",
        "df_minority_upsampled = resample(df_minority, \n",
        "                                 n_samples= 500, # to match majority class, menyamakan jumlah value 1 dengan 0\n",
        "                                 random_state=0)  # reproducible results, random state 0 is better than 42\n",
        "                                                  #Random state = Mengontrol pengacakan yang diterapkan ke data agar hasil yang didapatkan tetap sama\n",
        "# Combine majority class with upsampled minority class\n",
        "diabetes_df_copy2 = pd.concat([df_minority_upsampled, df_majority]) #menggabungkan Outcome 1 (minority) yang sudah di upsample dengan Outcome 0 (majority)"
      ]
    },
    {
      "cell_type": "code",
      "execution_count": null,
      "metadata": {
        "colab": {
          "base_uri": "https://localhost:8080/",
          "height": 392
        },
        "id": "yPf52HZ-RTas",
        "outputId": "80f91a4c-74f4-44ce-bc3a-c568b3eaefcb"
      },
      "outputs": [
        {
          "output_type": "stream",
          "name": "stderr",
          "text": [
            "/usr/local/lib/python3.8/dist-packages/seaborn/_decorators.py:36: FutureWarning: Pass the following variable as a keyword arg: x. From version 0.12, the only valid positional argument will be `data`, and passing other arguments without an explicit keyword will result in an error or misinterpretation.\n",
            "  warnings.warn(\n"
          ]
        },
        {
          "output_type": "stream",
          "name": "stdout",
          "text": [
            "1    500\n",
            "0    500\n",
            "Name: Outcome, dtype: int64\n"
          ]
        },
        {
          "output_type": "display_data",
          "data": {
            "text/plain": [
              "<Figure size 432x288 with 1 Axes>"
            ],
            "image/png": "[encoded data removed]"
          },
          "metadata": {
            "needs_background": "light"
          }
        }
      ],
      "source": [
        "#Counting 1 and 0 Value in Outcome column\n",
        "sns.countplot(diabetes_df_copy2['Outcome'])\n",
        "print(diabetes_df_copy2.Outcome.value_counts())"
      ]
    },
    {
      "cell_type": "markdown",
      "metadata": {
        "id": "4EQpsSulEcCy"
      },
      "source": [
        "#Berdasarkan Jurnal Prediksi Risiko Penyakit Diabetes menggunakan Algoritma Regresi Logistik \n",
        "oleh Qatrunnada Refa Cahyani,Mochammad JanuarFinandi, Jathu Rianti, Devi Lestari Arianti, Arya Dwi Pratama Putra yang dapat diakses melalui https://journal.literasisains.id/index.php/jomlai/article/view/598/470 , kita melakukan tahap preprocessing yaitu pengecekan outliers pada variabel. Outliers  dihapus  dengan  menggunakan  Z-Score. Beberapa data dihapus karena nilainya jauh dari Z-Score. Maka jumlah data yang awalnya 1000 menjadi 941\n",
        "\n",
        "#Berdasarkan Detection of Spatial Outlier by Using Improved Z-Score Test\n",
        "yang dapat diakses melalui : https://booksc.org/book/77788899/9f8c40 , \"The zscore test has long been used to detect outliers in data.\" \n",
        "\n",
        "Fungsi Tes Z-Score adalah untuk mendeteksi apakah terdapat outlier dalam data.  \n",
        "\n",
        "#Alasan Menggunakan Z-Scores \n",
        "##Berdasarkan Outlier Detection in Multivariate Time Series Data Using a Fusion of K-Medoid, Standardized Euclidean Distance and Z-Score\n",
        "yang dapat diakses melalui : https://link.springer.com/chapter/10.1007/978-3-030-69143-1_21 \n",
        "\n",
        "Z-score technique produced a better outlier detection result of 0.9978 F-measure as compared to inter-quartile of 0.8571 F-measure.\n",
        "\n",
        "Alasan saya menggunakan Z Score adalah karena Teknik Z-score menghasilkan hasil deteksi outlier yang lebih baik"
      ]
    },
    {
      "cell_type": "markdown",
      "metadata": {
        "id": "nqR_bs7mYvGh"
      },
      "source": [
        "#Checking Outliers using Box Plot"
      ]
    },
    {
      "cell_type": "code",
      "execution_count": null,
      "metadata": {
        "colab": {
          "base_uri": "https://localhost:8080/",
          "height": 302
        },
        "id": "yXpiZOgbCwrc",
        "outputId": "2ab3cf5e-56a4-400d-ff4f-909a0aef4651"
      },
      "outputs": [
        {
          "output_type": "execute_result",
          "data": {
            "text/plain": [
              "<matplotlib.axes._subplots.AxesSubplot at 0x7f26f34585b0>"
            ]
          },
          "metadata": {},
          "execution_count": 12
        },
        {
          "output_type": "display_data",
          "data": {
            "text/plain": [
              "<Figure size 432x288 with 1 Axes>"
            ],
            "image/png": "[encoded data removed]"
          },
          "metadata": {
            "needs_background": "light"
          }
        }
      ],
      "source": [
        "sns.boxplot(x=diabetes_df_copy2[\"Pregnancies\"])"
      ]
    },
    {
      "cell_type": "code",
      "execution_count": null,
      "metadata": {
        "colab": {
          "base_uri": "https://localhost:8080/",
          "height": 302
        },
        "id": "mKp2ydmmDsnJ",
        "outputId": "bc411eac-e8db-40ff-fdb6-b9e41bd7c93b"
      },
      "outputs": [
        {
          "output_type": "execute_result",
          "data": {
            "text/plain": [
              "<matplotlib.axes._subplots.AxesSubplot at 0x7f26f33635b0>"
            ]
          },
          "metadata": {},
          "execution_count": 13
        },
        {
          "output_type": "display_data",
          "data": {
            "text/plain": [
              "<Figure size 432x288 with 1 Axes>"
            ],
            "image/png": "[encoded data removed]"
          },
          "metadata": {
            "needs_background": "light"
          }
        }
      ],
      "source": [
        "sns.boxplot(x=diabetes_df_copy2[\"Glucose\"])"
      ]
    },
    {
      "cell_type": "code",
      "execution_count": null,
      "metadata": {
        "colab": {
          "base_uri": "https://localhost:8080/",
          "height": 302
        },
        "id": "ymPIfyp5D2vA",
        "outputId": "baa53fdb-6ba6-4483-95bc-0d88f25e8b03"
      },
      "outputs": [
        {
          "output_type": "execute_result",
          "data": {
            "text/plain": [
              "<matplotlib.axes._subplots.AxesSubplot at 0x7f26f334a670>"
            ]
          },
          "metadata": {},
          "execution_count": 14
        },
        {
          "output_type": "display_data",
          "data": {
            "text/plain": [
              "<Figure size 432x288 with 1 Axes>"
            ],
            "image/png": "[encoded data removed]"
          },
          "metadata": {
            "needs_background": "light"
          }
        }
      ],
      "source": [
        "sns.boxplot(x=diabetes_df_copy2[\"BloodPressure\"])"
      ]
    },
    {
      "cell_type": "code",
      "execution_count": null,
      "metadata": {
        "colab": {
          "base_uri": "https://localhost:8080/",
          "height": 302
        },
        "id": "IeRajmmnD90E",
        "outputId": "5280efbf-bd1c-4bbf-e1b8-5fb04d436cef"
      },
      "outputs": [
        {
          "output_type": "execute_result",
          "data": {
            "text/plain": [
              "<matplotlib.axes._subplots.AxesSubplot at 0x7f26f33336a0>"
            ]
          },
          "metadata": {},
          "execution_count": 15
        },
        {
          "output_type": "display_data",
          "data": {
            "text/plain": [
              "<Figure size 432x288 with 1 Axes>"
            ],
            "image/png": "[encoded data removed]"
          },
          "metadata": {
            "needs_background": "light"
          }
        }
      ],
      "source": [
        "sns.boxplot(x=diabetes_df_copy2[\"SkinThickness\"])"
      ]
    },
    {
      "cell_type": "code",
      "execution_count": null,
      "metadata": {
        "colab": {
          "base_uri": "https://localhost:8080/",
          "height": 302
        },
        "id": "iL9-vq1PVAtD",
        "outputId": "311322c8-6fa2-45a0-b66e-521eefbecf26"
      },
      "outputs": [
        {
          "output_type": "execute_result",
          "data": {
            "text/plain": [
              "<matplotlib.axes._subplots.AxesSubplot at 0x7f26f32e6490>"
            ]
          },
          "metadata": {},
          "execution_count": 16
        },
        {
          "output_type": "display_data",
          "data": {
            "text/plain": [
              "<Figure size 432x288 with 1 Axes>"
            ],
            "image/png": "[encoded data removed]"
          },
          "metadata": {
            "needs_background": "light"
          }
        }
      ],
      "source": [
        "sns.boxplot(x=diabetes_df_copy2[\"Insulin\"])"
      ]
    },
    {
      "cell_type": "code",
      "execution_count": null,
      "metadata": {
        "colab": {
          "base_uri": "https://localhost:8080/",
          "height": 302
        },
        "id": "MldSKSPiEVcC",
        "outputId": "c14bc511-889e-485e-98b0-e27ae07786df"
      },
      "outputs": [
        {
          "output_type": "execute_result",
          "data": {
            "text/plain": [
              "<matplotlib.axes._subplots.AxesSubplot at 0x7f26f32c4460>"
            ]
          },
          "metadata": {},
          "execution_count": 17
        },
        {
          "output_type": "display_data",
          "data": {
            "text/plain": [
              "<Figure size 432x288 with 1 Axes>"
            ],
            "image/png": "[encoded data removed]"
          },
          "metadata": {
            "needs_background": "light"
          }
        }
      ],
      "source": [
        "sns.boxplot(x=diabetes_df_copy2[\"BMI\"])"
      ]
    },
    {
      "cell_type": "code",
      "execution_count": null,
      "metadata": {
        "colab": {
          "base_uri": "https://localhost:8080/",
          "height": 302
        },
        "id": "c3725TpXFSMy",
        "outputId": "912b58ba-a18f-4532-f427-a8729684c00e"
      },
      "outputs": [
        {
          "output_type": "execute_result",
          "data": {
            "text/plain": [
              "<matplotlib.axes._subplots.AxesSubplot at 0x7f26f329a040>"
            ]
          },
          "metadata": {},
          "execution_count": 18
        },
        {
          "output_type": "display_data",
          "data": {
            "text/plain": [
              "<Figure size 432x288 with 1 Axes>"
            ],
            "image/png": "[encoded data removed]"
          },
          "metadata": {
            "needs_background": "light"
          }
        }
      ],
      "source": [
        "sns.boxplot(x=diabetes_df_copy2[\"DiabetesPedigreeFunction\"])"
      ]
    },
    {
      "cell_type": "code",
      "execution_count": null,
      "metadata": {
        "colab": {
          "base_uri": "https://localhost:8080/",
          "height": 302
        },
        "id": "tyeVcitaFfPm",
        "outputId": "d1266ecc-57df-43f8-a47f-d87397d70b4f"
      },
      "outputs": [
        {
          "output_type": "execute_result",
          "data": {
            "text/plain": [
              "<matplotlib.axes._subplots.AxesSubplot at 0x7f26f31e5670>"
            ]
          },
          "metadata": {},
          "execution_count": 19
        },
        {
          "output_type": "display_data",
          "data": {
            "text/plain": [
              "<Figure size 432x288 with 1 Axes>"
            ],
            "image/png": "[encoded data removed]"
          },
          "metadata": {
            "needs_background": "light"
          }
        }
      ],
      "source": [
        "sns.boxplot(x=diabetes_df_copy2[\"Age\"])"
      ]
    },
    {
      "cell_type": "markdown",
      "source": [
        "#Check Outlier From Scratch using Z-Score"
      ],
      "metadata": {
        "id": "VsvHfqXO14th"
      }
    },
    {
      "cell_type": "code",
      "source": [
        "out=[]\n",
        "def Zscore_outlier(df):\n",
        "    m = np.mean(df)\n",
        "    sd = np.std(df)\n",
        "    for i in df: \n",
        "        z = (i-m)/sd\n",
        "        if np.abs(z) > 3: \n",
        "            out.append(i)\n",
        "    print(\"Outliers:\",out)\n",
        "Zscore_outlier(diabetes_df_copy2[\"Pregnancies\"])\n"
      ],
      "metadata": {
        "colab": {
          "base_uri": "https://localhost:8080/"
        },
        "id": "PGFwyJpE18yr",
        "outputId": "4c1a7fdb-3478-4a69-d556-a9316554f9c9"
      },
      "execution_count": null,
      "outputs": [
        {
          "output_type": "stream",
          "name": "stdout",
          "text": [
            "Outliers: [17]\n"
          ]
        }
      ]
    },
    {
      "cell_type": "code",
      "source": [
        "out=[]\n",
        "def Zscore_outlier(df):\n",
        "    m = np.mean(df)\n",
        "    sd = np.std(df)\n",
        "    for i in df: \n",
        "        z = (i-m)/sd\n",
        "        if np.abs(z) > 3: \n",
        "            out.append(i)\n",
        "    print(\"Outliers:\",out)\n",
        "Zscore_outlier(diabetes_df_copy2[\"BloodPressure\"])"
      ],
      "metadata": {
        "colab": {
          "base_uri": "https://localhost:8080/"
        },
        "id": "8QxUclbX31gU",
        "outputId": "0f4023cc-c1e3-48af-9882-1352bceda54a"
      },
      "execution_count": null,
      "outputs": [
        {
          "output_type": "stream",
          "name": "stdout",
          "text": [
            "Outliers: [110.0, 114.0, 110.0, 110.0, 114.0, 114.0, 30.0, 110.0, 114.0, 30.0, 30.0, 122.0, 110.0, 24.0]\n"
          ]
        }
      ]
    },
    {
      "cell_type": "code",
      "source": [
        "out=[]\n",
        "def Zscore_outlier(df):\n",
        "    m = np.mean(df)\n",
        "    sd = np.std(df)\n",
        "    for i in df: \n",
        "        z = (i-m)/sd\n",
        "        if np.abs(z) > 3: \n",
        "            out.append(i)\n",
        "    print(\"Outliers:\",out)\n",
        "Zscore_outlier(diabetes_df_copy2[\"SkinThickness\"])"
      ],
      "metadata": {
        "colab": {
          "base_uri": "https://localhost:8080/"
        },
        "id": "f5YiZQ973-Pi",
        "outputId": "40b498b6-f90f-4151-9861-8e013f991953"
      },
      "execution_count": null,
      "outputs": [
        {
          "output_type": "stream",
          "name": "stdout",
          "text": [
            "Outliers: [99.0, 56.0, 56.0, 99.0, 63.0, 60.0]\n"
          ]
        }
      ]
    },
    {
      "cell_type": "code",
      "source": [
        "out=[]\n",
        "def Zscore_outlier(df):\n",
        "    m = np.mean(df)\n",
        "    sd = np.std(df)\n",
        "    for i in df: \n",
        "        z = (i-m)/sd\n",
        "        if np.abs(z) > 3: \n",
        "            out.append(i)\n",
        "    print(\"Outliers:\",out)\n",
        "Zscore_outlier(diabetes_df_copy2[\"Insulin\"])"
      ],
      "metadata": {
        "colab": {
          "base_uri": "https://localhost:8080/"
        },
        "id": "33_h1WDD4GY2",
        "outputId": "71adf93e-6a38-4e2e-ac71-273f119be821"
      },
      "execution_count": null,
      "outputs": [
        {
          "output_type": "stream",
          "name": "stdout",
          "text": [
            "Outliers: [478.0, 600.0, 495.0, 540.0, 600.0, 543.0, 600.0, 543.0, 846.0, 495.0, 600.0, 540.0, 846.0, 543.0, 474.0, 579.0, 478.0, 485.0, 744.0, 680.0, 545.0, 415.0, 480.0, 440.0]\n"
          ]
        }
      ]
    },
    {
      "cell_type": "code",
      "source": [
        "out=[]\n",
        "def Zscore_outlier(df):\n",
        "    m = np.mean(df)\n",
        "    sd = np.std(df)\n",
        "    for i in df: \n",
        "        z = (i-m)/sd\n",
        "        if np.abs(z) > 3: \n",
        "            out.append(i)\n",
        "    print(\"Outliers:\",out)\n",
        "Zscore_outlier(diabetes_df_copy2[\"BMI\"])"
      ],
      "metadata": {
        "colab": {
          "base_uri": "https://localhost:8080/"
        },
        "id": "izmpXtED4RHI",
        "outputId": "59030e8f-1ffc-48f0-8940-7a73eaed315c"
      },
      "execution_count": null,
      "outputs": [
        {
          "output_type": "stream",
          "name": "stdout",
          "text": [
            "Outliers: [67.1, 53.2, 53.2, 55.0, 59.4, 55.0, 57.3]\n"
          ]
        }
      ]
    },
    {
      "cell_type": "code",
      "source": [
        "out=[]\n",
        "def Zscore_outlier(df):\n",
        "    m = np.mean(df)\n",
        "    sd = np.std(df)\n",
        "    for i in df: \n",
        "        z = (i-m)/sd\n",
        "        if np.abs(z) > 3: \n",
        "            out.append(i)\n",
        "    print(\"Outliers:\",out)\n",
        "Zscore_outlier(diabetes_df_copy2[\"Age\"])"
      ],
      "metadata": {
        "colab": {
          "base_uri": "https://localhost:8080/"
        },
        "id": "a8fNdeBb4bDA",
        "outputId": "057a4277-93b0-4ebb-e5aa-1049c4533459"
      },
      "execution_count": null,
      "outputs": [
        {
          "output_type": "stream",
          "name": "stdout",
          "text": [
            "Outliers: [70, 70, 72, 81]\n"
          ]
        }
      ]
    },
    {
      "cell_type": "code",
      "source": [
        "out=[]\n",
        "def Zscore_outlier(df):\n",
        "    m = np.mean(df)\n",
        "    sd = np.std(df)\n",
        "    for i in df: \n",
        "        z = (i-m)/sd\n",
        "        if np.abs(z) > 3: \n",
        "            out.append(i)\n",
        "    print(\"Outliers:\",out)\n",
        "Zscore_outlier(diabetes_df_copy2[\"DiabetesPedigreeFunction\"])"
      ],
      "metadata": {
        "colab": {
          "base_uri": "https://localhost:8080/"
        },
        "id": "HgLbmZi24fkr",
        "outputId": "eb1d2b52-ae24-4bb4-8ea0-8e2da5f355e9"
      },
      "execution_count": null,
      "outputs": [
        {
          "output_type": "stream",
          "name": "stdout",
          "text": [
            "Outliers: [1.893, 2.288, 2.42, 1.781, 2.329, 1.476, 1.731, 1.6, 1.699, 1.698, 1.461]\n"
          ]
        }
      ]
    },
    {
      "cell_type": "markdown",
      "metadata": {
        "id": "0tUiXfVGUlmD"
      },
      "source": [
        "#Removing Outliers using Z Scores"
      ]
    },
    {
      "cell_type": "markdown",
      "source": [
        "#Berdasarkan jurnal Performance analysis of machine learning based optimized feature selection approaches for breast cancer diagnosis\n",
        "\n",
        "yang dikutip dari : https://link.springer.com/article/10.1007/s41870-021-00671-5 \n",
        "\n",
        "\"Data preprocessing is a useful step that helps to remove\n",
        "noise, inconsistencies and redundancy to achieve high\n",
        "quality data which improves the performance. During the\n",
        "data pre-processing, all the missing values are filled by the\n",
        "mean of the corresponding feature. Formatting of the given\n",
        "dataset is ensured to be consistent. All the incorrect data\n",
        "types of the features changed to their required datatype.\n",
        "Data normalization is performed on the given dataset to\n",
        "make its range consistent. We used z-score normalization\n",
        "on all the features to restrict the range of values between 3\n",
        "to - 3\"\n",
        "\n",
        "\"Generally, some of machine learning algorithms does\n",
        "not handle categorical data. Diagnosis feature in this\n",
        "dataset contains two categories M(malignant) and B(benign) is replaced numeric with M by 1 and N by 0.\"\n",
        "\n",
        "Menurut jurnal tersebut. ambang batas Z-Score yang dapat diterapkan adalah antara -3 dan 3 untuk 2 kategori diagnosis (True or False)"
      ],
      "metadata": {
        "id": "4VqWCiSsOr3I"
      }
    },
    {
      "cell_type": "code",
      "execution_count": null,
      "metadata": {
        "colab": {
          "base_uri": "https://localhost:8080/"
        },
        "id": "Dm09h_JsTkiv",
        "outputId": "9ba1a762-42e5-4f7a-fd83-8edea5c110f7"
      },
      "outputs": [
        {
          "output_type": "execute_result",
          "data": {
            "text/plain": [
              "(941, 9)"
            ]
          },
          "metadata": {},
          "execution_count": 20
        }
      ],
      "source": [
        "import scipy.stats as stats\n",
        "z = np.abs(stats.zscore(diabetes_df_copy2))\n",
        "data_clean = diabetes_df_copy2[(z<3).all(axis = 1)] #print all of rows that have z<3 (z score below 3)\n",
        "data_clean.shape\n",
        "\n",
        "#z<3 = print semua data yang Z-Scorenya kurang dari 3\n",
        "#.all(axis=1) =  melihat di bagian kolom untuk setiap baris (melihat kolom z score setelah di proses dengan print z kurang dari 3)\n",
        "#np.abs = berfungsi untuk bilangan mutlak (mengubah z-score yang minus menjadi positif)"
      ]
    },
    {
      "cell_type": "code",
      "execution_count": null,
      "metadata": {
        "colab": {
          "base_uri": "https://localhost:8080/",
          "height": 424
        },
        "id": "ekBCPCTaSB5n",
        "outputId": "d485ae27-e4bc-44fb-d922-e49aaedebf05"
      },
      "outputs": [
        {
          "output_type": "execute_result",
          "data": {
            "text/plain": [
              "     Pregnancies  Glucose  BloodPressure  SkinThickness  Insulin   BMI  \\\n",
              "451            2    134.0           70.0           29.0    125.0  28.9   \n",
              "128            1    117.0           88.0           24.0    145.0  34.5   \n",
              "306           10    161.0           68.0           23.0    132.0  25.5   \n",
              "542           10     90.0           85.0           32.0    125.0  34.9   \n",
              "730            3    130.0           78.0           23.0     79.0  28.4   \n",
              "..           ...      ...            ...            ...      ...   ...   \n",
              "762            9     89.0           62.0           29.0    125.0  22.5   \n",
              "763           10    101.0           76.0           48.0    180.0  32.9   \n",
              "764            2    122.0           70.0           27.0    125.0  36.8   \n",
              "765            5    121.0           72.0           23.0    112.0  26.2   \n",
              "767            1     93.0           70.0           31.0    125.0  30.4   \n",
              "\n",
              "     DiabetesPedigreeFunction  Age  Outcome  \n",
              "451                     0.542   23        1  \n",
              "128                     0.403   40        1  \n",
              "306                     0.326   47        1  \n",
              "542                     0.825   56        1  \n",
              "730                     0.323   34        1  \n",
              "..                        ...  ...      ...  \n",
              "762                     0.142   33        0  \n",
              "763                     0.171   63        0  \n",
              "764                     0.340   27        0  \n",
              "765                     0.245   30        0  \n",
              "767                     0.315   23        0  \n",
              "\n",
              "[941 rows x 9 columns]"
            ],
            "text/html": [
              "\n",
              "  <div id=\"df-7a864118-ec3a-4ef7-b376-ec26016a2a00\">\n",
              "    <div class=\"colab-df-container\">\n",
              "      <div>\n",
              "<style scoped>\n",
              "    .dataframe tbody tr th:only-of-type {\n",
              "        vertical-align: middle;\n",
              "    }\n",
              "\n",
              "    .dataframe tbody tr th {\n",
              "        vertical-align: top;\n",
              "    }\n",
              "\n",
              "    .dataframe thead th {\n",
              "        text-align: right;\n",
              "    }\n",
              "</style>\n",
              "<table border=\"1\" class=\"dataframe\">\n",
              "  <thead>\n",
              "    <tr style=\"text-align: right;\">\n",
              "      <th></th>\n",
              "      <th>Pregnancies</th>\n",
              "      <th>Glucose</th>\n",
              "      <th>BloodPressure</th>\n",
              "      <th>SkinThickness</th>\n",
              "      <th>Insulin</th>\n",
              "      <th>BMI</th>\n",
              "      <th>DiabetesPedigreeFunction</th>\n",
              "      <th>Age</th>\n",
              "      <th>Outcome</th>\n",
              "    </tr>\n",
              "  </thead>\n",
              "  <tbody>\n",
              "    <tr>\n",
              "      <th>451</th>\n",
              "      <td>2</td>\n",
              "      <td>134.0</td>\n",
              "      <td>70.0</td>\n",
              "      <td>29.0</td>\n",
              "      <td>125.0</td>\n",
              "      <td>28.9</td>\n",
              "      <td>0.542</td>\n",
              "      <td>23</td>\n",
              "      <td>1</td>\n",
              "    </tr>\n",
              "    <tr>\n",
              "      <th>128</th>\n",
              "      <td>1</td>\n",
              "      <td>117.0</td>\n",
              "      <td>88.0</td>\n",
              "      <td>24.0</td>\n",
              "      <td>145.0</td>\n",
              "      <td>34.5</td>\n",
              "      <td>0.403</td>\n",
              "      <td>40</td>\n",
              "      <td>1</td>\n",
              "    </tr>\n",
              "    <tr>\n",
              "      <th>306</th>\n",
              "      <td>10</td>\n",
              "      <td>161.0</td>\n",
              "      <td>68.0</td>\n",
              "      <td>23.0</td>\n",
              "      <td>132.0</td>\n",
              "      <td>25.5</td>\n",
              "      <td>0.326</td>\n",
              "      <td>47</td>\n",
              "      <td>1</td>\n",
              "    </tr>\n",
              "    <tr>\n",
              "      <th>542</th>\n",
              "      <td>10</td>\n",
              "      <td>90.0</td>\n",
              "      <td>85.0</td>\n",
              "      <td>32.0</td>\n",
              "      <td>125.0</td>\n",
              "      <td>34.9</td>\n",
              "      <td>0.825</td>\n",
              "      <td>56</td>\n",
              "      <td>1</td>\n",
              "    </tr>\n",
              "    <tr>\n",
              "      <th>730</th>\n",
              "      <td>3</td>\n",
              "      <td>130.0</td>\n",
              "      <td>78.0</td>\n",
              "      <td>23.0</td>\n",
              "      <td>79.0</td>\n",
              "      <td>28.4</td>\n",
              "      <td>0.323</td>\n",
              "      <td>34</td>\n",
              "      <td>1</td>\n",
              "    </tr>\n",
              "    <tr>\n",
              "      <th>...</th>\n",
              "      <td>...</td>\n",
              "      <td>...</td>\n",
              "      <td>...</td>\n",
              "      <td>...</td>\n",
              "      <td>...</td>\n",
              "      <td>...</td>\n",
              "      <td>...</td>\n",
              "      <td>...</td>\n",
              "      <td>...</td>\n",
              "    </tr>\n",
              "    <tr>\n",
              "      <th>762</th>\n",
              "      <td>9</td>\n",
              "      <td>89.0</td>\n",
              "      <td>62.0</td>\n",
              "      <td>29.0</td>\n",
              "      <td>125.0</td>\n",
              "      <td>22.5</td>\n",
              "      <td>0.142</td>\n",
              "      <td>33</td>\n",
              "      <td>0</td>\n",
              "    </tr>\n",
              "    <tr>\n",
              "      <th>763</th>\n",
              "      <td>10</td>\n",
              "      <td>101.0</td>\n",
              "      <td>76.0</td>\n",
              "      <td>48.0</td>\n",
              "      <td>180.0</td>\n",
              "      <td>32.9</td>\n",
              "      <td>0.171</td>\n",
              "      <td>63</td>\n",
              "      <td>0</td>\n",
              "    </tr>\n",
              "    <tr>\n",
              "      <th>764</th>\n",
              "      <td>2</td>\n",
              "      <td>122.0</td>\n",
              "      <td>70.0</td>\n",
              "      <td>27.0</td>\n",
              "      <td>125.0</td>\n",
              "      <td>36.8</td>\n",
              "      <td>0.340</td>\n",
              "      <td>27</td>\n",
              "      <td>0</td>\n",
              "    </tr>\n",
              "    <tr>\n",
              "      <th>765</th>\n",
              "      <td>5</td>\n",
              "      <td>121.0</td>\n",
              "      <td>72.0</td>\n",
              "      <td>23.0</td>\n",
              "      <td>112.0</td>\n",
              "      <td>26.2</td>\n",
              "      <td>0.245</td>\n",
              "      <td>30</td>\n",
              "      <td>0</td>\n",
              "    </tr>\n",
              "    <tr>\n",
              "      <th>767</th>\n",
              "      <td>1</td>\n",
              "      <td>93.0</td>\n",
              "      <td>70.0</td>\n",
              "      <td>31.0</td>\n",
              "      <td>125.0</td>\n",
              "      <td>30.4</td>\n",
              "      <td>0.315</td>\n",
              "      <td>23</td>\n",
              "      <td>0</td>\n",
              "    </tr>\n",
              "  </tbody>\n",
              "</table>\n",
              "<p>941 rows × 9 columns</p>\n",
              "</div>\n",
              "      <button class=\"colab-df-convert\" onclick=\"convertToInteractive('df-7a864118-ec3a-4ef7-b376-ec26016a2a00')\"\n",
              "              title=\"Convert this dataframe to an interactive table.\"\n",
              "              style=\"display:none;\">\n",
              "        \n",
              "  <svg xmlns=\"http://www.w3.org/2000/svg\" height=\"24px\"viewBox=\"0 0 24 24\"\n",
              "       width=\"24px\">\n",
              "    <path d=\"M0 0h24v24H0V0z\" fill=\"none\"/>\n",
              "    <path d=\"M18.56 5.44l.94 2.06.94-2.06 2.06-.94-2.06-.94-.94-2.06-.94 2.06-2.06.94zm-11 1L8.5 8.5l.94-2.06 2.06-.94-2.06-.94L8.5 2.5l-.94 2.06-2.06.94zm10 10l.94 2.06.94-2.06 2.06-.94-2.06-.94-.94-2.06-.94 2.06-2.06.94z\"/><path d=\"M17.41 7.96l-1.37-1.37c-.4-.4-.92-.59-1.43-.59-.52 0-1.04.2-1.43.59L10.3 9.45l-7.72 7.72c-.78.78-.78 2.05 0 2.83L4 21.41c.39.39.9.59 1.41.59.51 0 1.02-.2 1.41-.59l7.78-7.78 2.81-2.81c.8-.78.8-2.07 0-2.86zM5.41 20L4 18.59l7.72-7.72 1.47 1.35L5.41 20z\"/>\n",
              "  </svg>\n",
              "      </button>\n",
              "      \n",
              "  <style>\n",
              "    .colab-df-container {\n",
              "      display:flex;\n",
              "      flex-wrap:wrap;\n",
              "      gap: 12px;\n",
              "    }\n",
              "\n",
              "    .colab-df-convert {\n",
              "      background-color: #E8F0FE;\n",
              "      border: none;\n",
              "      border-radius: 50%;\n",
              "      cursor: pointer;\n",
              "      display: none;\n",
              "      fill: #1967D2;\n",
              "      height: 32px;\n",
              "      padding: 0 0 0 0;\n",
              "      width: 32px;\n",
              "    }\n",
              "\n",
              "    .colab-df-convert:hover {\n",
              "      background-color: #E2EBFA;\n",
              "      box-shadow: 0px 1px 2px rgba(60, 64, 67, 0.3), 0px 1px 3px 1px rgba(60, 64, 67, 0.15);\n",
              "      fill: #174EA6;\n",
              "    }\n",
              "\n",
              "    [theme=dark] .colab-df-convert {\n",
              "      background-color: #3B4455;\n",
              "      fill: #D2E3FC;\n",
              "    }\n",
              "\n",
              "    [theme=dark] .colab-df-convert:hover {\n",
              "      background-color: #434B5C;\n",
              "      box-shadow: 0px 1px 3px 1px rgba(0, 0, 0, 0.15);\n",
              "      filter: drop-shadow(0px 1px 2px rgba(0, 0, 0, 0.3));\n",
              "      fill: #FFFFFF;\n",
              "    }\n",
              "  </style>\n",
              "\n",
              "      <script>\n",
              "        const buttonEl =\n",
              "          document.querySelector('#df-7a864118-ec3a-4ef7-b376-ec26016a2a00 button.colab-df-convert');\n",
              "        buttonEl.style.display =\n",
              "          google.colab.kernel.accessAllowed ? 'block' : 'none';\n",
              "\n",
              "        async function convertToInteractive(key) {\n",
              "          const element = document.querySelector('#df-7a864118-ec3a-4ef7-b376-ec26016a2a00');\n",
              "          const dataTable =\n",
              "            await google.colab.kernel.invokeFunction('convertToInteractive',\n",
              "                                                     [key], {});\n",
              "          if (!dataTable) return;\n",
              "\n",
              "          const docLinkHtml = 'Like what you see? Visit the ' +\n",
              "            '<a target=\"_blank\" href=https://colab.research.google.com/notebooks/data_table.ipynb>data table notebook</a>'\n",
              "            + ' to learn more about interactive tables.';\n",
              "          element.innerHTML = '';\n",
              "          dataTable['output_type'] = 'display_data';\n",
              "          await google.colab.output.renderOutput(dataTable, element);\n",
              "          const docLink = document.createElement('div');\n",
              "          docLink.innerHTML = docLinkHtml;\n",
              "          element.appendChild(docLink);\n",
              "        }\n",
              "      </script>\n",
              "    </div>\n",
              "  </div>\n",
              "  "
            ]
          },
          "metadata": {},
          "execution_count": 21
        }
      ],
      "source": [
        "#Cleaned Outliers data using Z Scores\n",
        "data_clean"
      ]
    },
    {
      "cell_type": "code",
      "source": [
        "diabetes_df_copy2"
      ],
      "metadata": {
        "colab": {
          "base_uri": "https://localhost:8080/",
          "height": 424
        },
        "id": "ZWdSqi_Qe5Xa",
        "outputId": "0d547998-d6cb-4443-d0cd-e81a043eed4b"
      },
      "execution_count": null,
      "outputs": [
        {
          "output_type": "execute_result",
          "data": {
            "text/plain": [
              "     Pregnancies  Glucose  BloodPressure  SkinThickness  Insulin   BMI  \\\n",
              "451            2    134.0           70.0           29.0    125.0  28.9   \n",
              "128            1    117.0           88.0           24.0    145.0  34.5   \n",
              "306           10    161.0           68.0           23.0    132.0  25.5   \n",
              "542           10     90.0           85.0           32.0    125.0  34.9   \n",
              "730            3    130.0           78.0           23.0     79.0  28.4   \n",
              "..           ...      ...            ...            ...      ...   ...   \n",
              "762            9     89.0           62.0           29.0    125.0  22.5   \n",
              "763           10    101.0           76.0           48.0    180.0  32.9   \n",
              "764            2    122.0           70.0           27.0    125.0  36.8   \n",
              "765            5    121.0           72.0           23.0    112.0  26.2   \n",
              "767            1     93.0           70.0           31.0    125.0  30.4   \n",
              "\n",
              "     DiabetesPedigreeFunction  Age  Outcome  \n",
              "451                     0.542   23        1  \n",
              "128                     0.403   40        1  \n",
              "306                     0.326   47        1  \n",
              "542                     0.825   56        1  \n",
              "730                     0.323   34        1  \n",
              "..                        ...  ...      ...  \n",
              "762                     0.142   33        0  \n",
              "763                     0.171   63        0  \n",
              "764                     0.340   27        0  \n",
              "765                     0.245   30        0  \n",
              "767                     0.315   23        0  \n",
              "\n",
              "[1000 rows x 9 columns]"
            ],
            "text/html": [
              "\n",
              "  <div id=\"df-334f75ea-5430-4ff0-945c-392f646d5694\">\n",
              "    <div class=\"colab-df-container\">\n",
              "      <div>\n",
              "<style scoped>\n",
              "    .dataframe tbody tr th:only-of-type {\n",
              "        vertical-align: middle;\n",
              "    }\n",
              "\n",
              "    .dataframe tbody tr th {\n",
              "        vertical-align: top;\n",
              "    }\n",
              "\n",
              "    .dataframe thead th {\n",
              "        text-align: right;\n",
              "    }\n",
              "</style>\n",
              "<table border=\"1\" class=\"dataframe\">\n",
              "  <thead>\n",
              "    <tr style=\"text-align: right;\">\n",
              "      <th></th>\n",
              "      <th>Pregnancies</th>\n",
              "      <th>Glucose</th>\n",
              "      <th>BloodPressure</th>\n",
              "      <th>SkinThickness</th>\n",
              "      <th>Insulin</th>\n",
              "      <th>BMI</th>\n",
              "      <th>DiabetesPedigreeFunction</th>\n",
              "      <th>Age</th>\n",
              "      <th>Outcome</th>\n",
              "    </tr>\n",
              "  </thead>\n",
              "  <tbody>\n",
              "    <tr>\n",
              "      <th>451</th>\n",
              "      <td>2</td>\n",
              "      <td>134.0</td>\n",
              "      <td>70.0</td>\n",
              "      <td>29.0</td>\n",
              "      <td>125.0</td>\n",
              "      <td>28.9</td>\n",
              "      <td>0.542</td>\n",
              "      <td>23</td>\n",
              "      <td>1</td>\n",
              "    </tr>\n",
              "    <tr>\n",
              "      <th>128</th>\n",
              "      <td>1</td>\n",
              "      <td>117.0</td>\n",
              "      <td>88.0</td>\n",
              "      <td>24.0</td>\n",
              "      <td>145.0</td>\n",
              "      <td>34.5</td>\n",
              "      <td>0.403</td>\n",
              "      <td>40</td>\n",
              "      <td>1</td>\n",
              "    </tr>\n",
              "    <tr>\n",
              "      <th>306</th>\n",
              "      <td>10</td>\n",
              "      <td>161.0</td>\n",
              "      <td>68.0</td>\n",
              "      <td>23.0</td>\n",
              "      <td>132.0</td>\n",
              "      <td>25.5</td>\n",
              "      <td>0.326</td>\n",
              "      <td>47</td>\n",
              "      <td>1</td>\n",
              "    </tr>\n",
              "    <tr>\n",
              "      <th>542</th>\n",
              "      <td>10</td>\n",
              "      <td>90.0</td>\n",
              "      <td>85.0</td>\n",
              "      <td>32.0</td>\n",
              "      <td>125.0</td>\n",
              "      <td>34.9</td>\n",
              "      <td>0.825</td>\n",
              "      <td>56</td>\n",
              "      <td>1</td>\n",
              "    </tr>\n",
              "    <tr>\n",
              "      <th>730</th>\n",
              "      <td>3</td>\n",
              "      <td>130.0</td>\n",
              "      <td>78.0</td>\n",
              "      <td>23.0</td>\n",
              "      <td>79.0</td>\n",
              "      <td>28.4</td>\n",
              "      <td>0.323</td>\n",
              "      <td>34</td>\n",
              "      <td>1</td>\n",
              "    </tr>\n",
              "    <tr>\n",
              "      <th>...</th>\n",
              "      <td>...</td>\n",
              "      <td>...</td>\n",
              "      <td>...</td>\n",
              "      <td>...</td>\n",
              "      <td>...</td>\n",
              "      <td>...</td>\n",
              "      <td>...</td>\n",
              "      <td>...</td>\n",
              "      <td>...</td>\n",
              "    </tr>\n",
              "    <tr>\n",
              "      <th>762</th>\n",
              "      <td>9</td>\n",
              "      <td>89.0</td>\n",
              "      <td>62.0</td>\n",
              "      <td>29.0</td>\n",
              "      <td>125.0</td>\n",
              "      <td>22.5</td>\n",
              "      <td>0.142</td>\n",
              "      <td>33</td>\n",
              "      <td>0</td>\n",
              "    </tr>\n",
              "    <tr>\n",
              "      <th>763</th>\n",
              "      <td>10</td>\n",
              "      <td>101.0</td>\n",
              "      <td>76.0</td>\n",
              "      <td>48.0</td>\n",
              "      <td>180.0</td>\n",
              "      <td>32.9</td>\n",
              "      <td>0.171</td>\n",
              "      <td>63</td>\n",
              "      <td>0</td>\n",
              "    </tr>\n",
              "    <tr>\n",
              "      <th>764</th>\n",
              "      <td>2</td>\n",
              "      <td>122.0</td>\n",
              "      <td>70.0</td>\n",
              "      <td>27.0</td>\n",
              "      <td>125.0</td>\n",
              "      <td>36.8</td>\n",
              "      <td>0.340</td>\n",
              "      <td>27</td>\n",
              "      <td>0</td>\n",
              "    </tr>\n",
              "    <tr>\n",
              "      <th>765</th>\n",
              "      <td>5</td>\n",
              "      <td>121.0</td>\n",
              "      <td>72.0</td>\n",
              "      <td>23.0</td>\n",
              "      <td>112.0</td>\n",
              "      <td>26.2</td>\n",
              "      <td>0.245</td>\n",
              "      <td>30</td>\n",
              "      <td>0</td>\n",
              "    </tr>\n",
              "    <tr>\n",
              "      <th>767</th>\n",
              "      <td>1</td>\n",
              "      <td>93.0</td>\n",
              "      <td>70.0</td>\n",
              "      <td>31.0</td>\n",
              "      <td>125.0</td>\n",
              "      <td>30.4</td>\n",
              "      <td>0.315</td>\n",
              "      <td>23</td>\n",
              "      <td>0</td>\n",
              "    </tr>\n",
              "  </tbody>\n",
              "</table>\n",
              "<p>1000 rows × 9 columns</p>\n",
              "</div>\n",
              "      <button class=\"colab-df-convert\" onclick=\"convertToInteractive('df-334f75ea-5430-4ff0-945c-392f646d5694')\"\n",
              "              title=\"Convert this dataframe to an interactive table.\"\n",
              "              style=\"display:none;\">\n",
              "        \n",
              "  <svg xmlns=\"http://www.w3.org/2000/svg\" height=\"24px\"viewBox=\"0 0 24 24\"\n",
              "       width=\"24px\">\n",
              "    <path d=\"M0 0h24v24H0V0z\" fill=\"none\"/>\n",
              "    <path d=\"M18.56 5.44l.94 2.06.94-2.06 2.06-.94-2.06-.94-.94-2.06-.94 2.06-2.06.94zm-11 1L8.5 8.5l.94-2.06 2.06-.94-2.06-.94L8.5 2.5l-.94 2.06-2.06.94zm10 10l.94 2.06.94-2.06 2.06-.94-2.06-.94-.94-2.06-.94 2.06-2.06.94z\"/><path d=\"M17.41 7.96l-1.37-1.37c-.4-.4-.92-.59-1.43-.59-.52 0-1.04.2-1.43.59L10.3 9.45l-7.72 7.72c-.78.78-.78 2.05 0 2.83L4 21.41c.39.39.9.59 1.41.59.51 0 1.02-.2 1.41-.59l7.78-7.78 2.81-2.81c.8-.78.8-2.07 0-2.86zM5.41 20L4 18.59l7.72-7.72 1.47 1.35L5.41 20z\"/>\n",
              "  </svg>\n",
              "      </button>\n",
              "      \n",
              "  <style>\n",
              "    .colab-df-container {\n",
              "      display:flex;\n",
              "      flex-wrap:wrap;\n",
              "      gap: 12px;\n",
              "    }\n",
              "\n",
              "    .colab-df-convert {\n",
              "      background-color: #E8F0FE;\n",
              "      border: none;\n",
              "      border-radius: 50%;\n",
              "      cursor: pointer;\n",
              "      display: none;\n",
              "      fill: #1967D2;\n",
              "      height: 32px;\n",
              "      padding: 0 0 0 0;\n",
              "      width: 32px;\n",
              "    }\n",
              "\n",
              "    .colab-df-convert:hover {\n",
              "      background-color: #E2EBFA;\n",
              "      box-shadow: 0px 1px 2px rgba(60, 64, 67, 0.3), 0px 1px 3px 1px rgba(60, 64, 67, 0.15);\n",
              "      fill: #174EA6;\n",
              "    }\n",
              "\n",
              "    [theme=dark] .colab-df-convert {\n",
              "      background-color: #3B4455;\n",
              "      fill: #D2E3FC;\n",
              "    }\n",
              "\n",
              "    [theme=dark] .colab-df-convert:hover {\n",
              "      background-color: #434B5C;\n",
              "      box-shadow: 0px 1px 3px 1px rgba(0, 0, 0, 0.15);\n",
              "      filter: drop-shadow(0px 1px 2px rgba(0, 0, 0, 0.3));\n",
              "      fill: #FFFFFF;\n",
              "    }\n",
              "  </style>\n",
              "\n",
              "      <script>\n",
              "        const buttonEl =\n",
              "          document.querySelector('#df-334f75ea-5430-4ff0-945c-392f646d5694 button.colab-df-convert');\n",
              "        buttonEl.style.display =\n",
              "          google.colab.kernel.accessAllowed ? 'block' : 'none';\n",
              "\n",
              "        async function convertToInteractive(key) {\n",
              "          const element = document.querySelector('#df-334f75ea-5430-4ff0-945c-392f646d5694');\n",
              "          const dataTable =\n",
              "            await google.colab.kernel.invokeFunction('convertToInteractive',\n",
              "                                                     [key], {});\n",
              "          if (!dataTable) return;\n",
              "\n",
              "          const docLinkHtml = 'Like what you see? Visit the ' +\n",
              "            '<a target=\"_blank\" href=https://colab.research.google.com/notebooks/data_table.ipynb>data table notebook</a>'\n",
              "            + ' to learn more about interactive tables.';\n",
              "          element.innerHTML = '';\n",
              "          dataTable['output_type'] = 'display_data';\n",
              "          await google.colab.output.renderOutput(dataTable, element);\n",
              "          const docLink = document.createElement('div');\n",
              "          docLink.innerHTML = docLinkHtml;\n",
              "          element.appendChild(docLink);\n",
              "        }\n",
              "      </script>\n",
              "    </div>\n",
              "  </div>\n",
              "  "
            ]
          },
          "metadata": {},
          "execution_count": 22
        }
      ]
    },
    {
      "cell_type": "markdown",
      "source": [
        "#Print baris yang mengandung outlier"
      ],
      "metadata": {
        "id": "6iuLvSALHev_"
      }
    },
    {
      "cell_type": "code",
      "source": [
        "#Print rows dalam dataframe diabetes_df_copy2 yang not isin(tidak didalam) dataframe data_clean\n",
        "#lambang (~) menandakan NOT\n",
        "diabetes_df_copy2[~diabetes_df_copy2.index.isin(data_clean.index)]"
      ],
      "metadata": {
        "colab": {
          "base_uri": "https://localhost:8080/",
          "height": 1000
        },
        "id": "n5QhwMm_G_Xu",
        "outputId": "1d2c0d2a-a0ce-43c5-beaf-1d6dba916868"
      },
      "execution_count": null,
      "outputs": [
        {
          "output_type": "execute_result",
          "data": {
            "text/plain": [
              "     Pregnancies  Glucose  BloodPressure  SkinThickness  Insulin   BMI  \\\n",
              "220            0    177.0           60.0           29.0    478.0  34.6   \n",
              "584            8    124.0           76.0           24.0    600.0  28.7   \n",
              "45             0    180.0           66.0           39.0    125.0  42.0   \n",
              "177            0    129.0          110.0           46.0    130.0  67.1   \n",
              "691           13    158.0          114.0           29.0    125.0  42.3   \n",
              "111            8    155.0           62.0           26.0    495.0  34.0   \n",
              "655            2    155.0           52.0           27.0    540.0  38.7   \n",
              "579            2    197.0           70.0           99.0    125.0  34.7   \n",
              "120            0    162.0           76.0           56.0    100.0  53.2   \n",
              "4              0    137.0           40.0           35.0    168.0  43.1   \n",
              "120            0    162.0           76.0           56.0    100.0  53.2   \n",
              "584            8    124.0           76.0           24.0    600.0  28.7   \n",
              "43             9    171.0          110.0           24.0    240.0  45.4   \n",
              "8              2    197.0           70.0           45.0    543.0  30.5   \n",
              "584            8    124.0           76.0           24.0    600.0  28.7   \n",
              "43             9    171.0          110.0           24.0    240.0  45.4   \n",
              "159           17    163.0           72.0           41.0    114.0  40.9   \n",
              "691           13    158.0          114.0           29.0    125.0  42.3   \n",
              "8              2    197.0           70.0           45.0    543.0  30.5   \n",
              "13             1    189.0           60.0           23.0    846.0  30.1   \n",
              "186            8    181.0           68.0           36.0    495.0  30.1   \n",
              "691           13    158.0          114.0           29.0    125.0  42.3   \n",
              "584            8    124.0           76.0           24.0    600.0  28.7   \n",
              "655            2    155.0           52.0           27.0    540.0  38.7   \n",
              "13             1    189.0           60.0           23.0    846.0  30.1   \n",
              "125            1     88.0           30.0           42.0     99.0  55.0   \n",
              "8              2    197.0           70.0           45.0    543.0  30.5   \n",
              "43             9    171.0          110.0           24.0    240.0  45.4   \n",
              "666            4    145.0           82.0           18.0    125.0  32.5   \n",
              "415            3    173.0           84.0           33.0    474.0  35.7   \n",
              "691           13    158.0          114.0           29.0    125.0  42.3   \n",
              "666            4    145.0           82.0           18.0    125.0  32.5   \n",
              "579            2    197.0           70.0           99.0    125.0  34.7   \n",
              "445            0    180.0           78.0           63.0     14.0  59.4   \n",
              "125            1     88.0           30.0           42.0     99.0  55.0   \n",
              "409            1    172.0           68.0           49.0    579.0  42.4   \n",
              "220            0    177.0           60.0           29.0    478.0  34.6   \n",
              "18             1    103.0           30.0           38.0     83.0  43.3   \n",
              "57             0    100.0           88.0           60.0    110.0  46.8   \n",
              "58             0    146.0           82.0           29.0    125.0  40.5   \n",
              "106            1     96.0          122.0           29.0    125.0  22.4   \n",
              "153            1    153.0           82.0           42.0    485.0  40.6   \n",
              "228            4    197.0           70.0           39.0    744.0  36.7   \n",
              "247            0    165.0           90.0           33.0    680.0  52.3   \n",
              "286            5    155.0           84.0           44.0    545.0  38.7   \n",
              "330            8    118.0           72.0           19.0    125.0  23.1   \n",
              "371            0    118.0           64.0           23.0     89.0  32.3   \n",
              "392            1    131.0           64.0           14.0    415.0  23.7   \n",
              "395            2    127.0           58.0           24.0    275.0  27.7   \n",
              "453            2    119.0           72.0           29.0    125.0  19.6   \n",
              "459            9    134.0           74.0           33.0     60.0  25.9   \n",
              "486            1    139.0           62.0           41.0    480.0  40.7   \n",
              "549            4    189.0          110.0           31.0    125.0  28.5   \n",
              "593            2     82.0           52.0           22.0    115.0  28.5   \n",
              "597            1     89.0           24.0           19.0     25.0  27.8   \n",
              "621            2     92.0           76.0           20.0    125.0  24.2   \n",
              "622            6    183.0           94.0           29.0    125.0  40.8   \n",
              "645            2    157.0           74.0           35.0    440.0  39.4   \n",
              "673            3    123.0          100.0           35.0    240.0  57.3   \n",
              "\n",
              "     DiabetesPedigreeFunction  Age  Outcome  \n",
              "220                     1.072   21        1  \n",
              "584                     0.687   52        1  \n",
              "45                      1.893   25        1  \n",
              "177                     0.319   26        1  \n",
              "691                     0.257   44        1  \n",
              "111                     0.543   46        1  \n",
              "655                     0.240   25        1  \n",
              "579                     0.575   62        1  \n",
              "120                     0.759   25        1  \n",
              "4                       2.288   33        1  \n",
              "120                     0.759   25        1  \n",
              "584                     0.687   52        1  \n",
              "43                      0.721   54        1  \n",
              "8                       0.158   53        1  \n",
              "584                     0.687   52        1  \n",
              "43                      0.721   54        1  \n",
              "159                     0.817   47        1  \n",
              "691                     0.257   44        1  \n",
              "8                       0.158   53        1  \n",
              "13                      0.398   59        1  \n",
              "186                     0.615   60        1  \n",
              "691                     0.257   44        1  \n",
              "584                     0.687   52        1  \n",
              "655                     0.240   25        1  \n",
              "13                      0.398   59        1  \n",
              "125                     0.496   26        1  \n",
              "8                       0.158   53        1  \n",
              "43                      0.721   54        1  \n",
              "666                     0.235   70        1  \n",
              "415                     0.258   22        1  \n",
              "691                     0.257   44        1  \n",
              "666                     0.235   70        1  \n",
              "579                     0.575   62        1  \n",
              "445                     2.420   25        1  \n",
              "125                     0.496   26        1  \n",
              "409                     0.702   28        1  \n",
              "220                     1.072   21        1  \n",
              "18                      0.183   33        0  \n",
              "57                      0.962   31        0  \n",
              "58                      1.781   44        0  \n",
              "106                     0.207   27        0  \n",
              "153                     0.687   23        0  \n",
              "228                     2.329   31        0  \n",
              "247                     0.427   23        0  \n",
              "286                     0.619   34        0  \n",
              "330                     1.476   46        0  \n",
              "371                     1.731   21        0  \n",
              "392                     0.389   21        0  \n",
              "395                     1.600   25        0  \n",
              "453                     0.832   72        0  \n",
              "459                     0.460   81        0  \n",
              "486                     0.536   21        0  \n",
              "549                     0.680   37        0  \n",
              "593                     1.699   25        0  \n",
              "597                     0.559   21        0  \n",
              "621                     1.698   28        0  \n",
              "622                     1.461   45        0  \n",
              "645                     0.134   30        0  \n",
              "673                     0.880   22        0  "
            ],
            "text/html": [
              "\n",
              "  <div id=\"df-2d3a2337-0b8b-4382-a36d-75371df26143\">\n",
              "    <div class=\"colab-df-container\">\n",
              "      <div>\n",
              "<style scoped>\n",
              "    .dataframe tbody tr th:only-of-type {\n",
              "        vertical-align: middle;\n",
              "    }\n",
              "\n",
              "    .dataframe tbody tr th {\n",
              "        vertical-align: top;\n",
              "    }\n",
              "\n",
              "    .dataframe thead th {\n",
              "        text-align: right;\n",
              "    }\n",
              "</style>\n",
              "<table border=\"1\" class=\"dataframe\">\n",
              "  <thead>\n",
              "    <tr style=\"text-align: right;\">\n",
              "      <th></th>\n",
              "      <th>Pregnancies</th>\n",
              "      <th>Glucose</th>\n",
              "      <th>BloodPressure</th>\n",
              "      <th>SkinThickness</th>\n",
              "      <th>Insulin</th>\n",
              "      <th>BMI</th>\n",
              "      <th>DiabetesPedigreeFunction</th>\n",
              "      <th>Age</th>\n",
              "      <th>Outcome</th>\n",
              "    </tr>\n",
              "  </thead>\n",
              "  <tbody>\n",
              "    <tr>\n",
              "      <th>220</th>\n",
              "      <td>0</td>\n",
              "      <td>177.0</td>\n",
              "      <td>60.0</td>\n",
              "      <td>29.0</td>\n",
              "      <td>478.0</td>\n",
              "      <td>34.6</td>\n",
              "      <td>1.072</td>\n",
              "      <td>21</td>\n",
              "      <td>1</td>\n",
              "    </tr>\n",
              "    <tr>\n",
              "      <th>584</th>\n",
              "      <td>8</td>\n",
              "      <td>124.0</td>\n",
              "      <td>76.0</td>\n",
              "      <td>24.0</td>\n",
              "      <td>600.0</td>\n",
              "      <td>28.7</td>\n",
              "      <td>0.687</td>\n",
              "      <td>52</td>\n",
              "      <td>1</td>\n",
              "    </tr>\n",
              "    <tr>\n",
              "      <th>45</th>\n",
              "      <td>0</td>\n",
              "      <td>180.0</td>\n",
              "      <td>66.0</td>\n",
              "      <td>39.0</td>\n",
              "      <td>125.0</td>\n",
              "      <td>42.0</td>\n",
              "      <td>1.893</td>\n",
              "      <td>25</td>\n",
              "      <td>1</td>\n",
              "    </tr>\n",
              "    <tr>\n",
              "      <th>177</th>\n",
              "      <td>0</td>\n",
              "      <td>129.0</td>\n",
              "      <td>110.0</td>\n",
              "      <td>46.0</td>\n",
              "      <td>130.0</td>\n",
              "      <td>67.1</td>\n",
              "      <td>0.319</td>\n",
              "      <td>26</td>\n",
              "      <td>1</td>\n",
              "    </tr>\n",
              "    <tr>\n",
              "      <th>691</th>\n",
              "      <td>13</td>\n",
              "      <td>158.0</td>\n",
              "      <td>114.0</td>\n",
              "      <td>29.0</td>\n",
              "      <td>125.0</td>\n",
              "      <td>42.3</td>\n",
              "      <td>0.257</td>\n",
              "      <td>44</td>\n",
              "      <td>1</td>\n",
              "    </tr>\n",
              "    <tr>\n",
              "      <th>111</th>\n",
              "      <td>8</td>\n",
              "      <td>155.0</td>\n",
              "      <td>62.0</td>\n",
              "      <td>26.0</td>\n",
              "      <td>495.0</td>\n",
              "      <td>34.0</td>\n",
              "      <td>0.543</td>\n",
              "      <td>46</td>\n",
              "      <td>1</td>\n",
              "    </tr>\n",
              "    <tr>\n",
              "      <th>655</th>\n",
              "      <td>2</td>\n",
              "      <td>155.0</td>\n",
              "      <td>52.0</td>\n",
              "      <td>27.0</td>\n",
              "      <td>540.0</td>\n",
              "      <td>38.7</td>\n",
              "      <td>0.240</td>\n",
              "      <td>25</td>\n",
              "      <td>1</td>\n",
              "    </tr>\n",
              "    <tr>\n",
              "      <th>579</th>\n",
              "      <td>2</td>\n",
              "      <td>197.0</td>\n",
              "      <td>70.0</td>\n",
              "      <td>99.0</td>\n",
              "      <td>125.0</td>\n",
              "      <td>34.7</td>\n",
              "      <td>0.575</td>\n",
              "      <td>62</td>\n",
              "      <td>1</td>\n",
              "    </tr>\n",
              "    <tr>\n",
              "      <th>120</th>\n",
              "      <td>0</td>\n",
              "      <td>162.0</td>\n",
              "      <td>76.0</td>\n",
              "      <td>56.0</td>\n",
              "      <td>100.0</td>\n",
              "      <td>53.2</td>\n",
              "      <td>0.759</td>\n",
              "      <td>25</td>\n",
              "      <td>1</td>\n",
              "    </tr>\n",
              "    <tr>\n",
              "      <th>4</th>\n",
              "      <td>0</td>\n",
              "      <td>137.0</td>\n",
              "      <td>40.0</td>\n",
              "      <td>35.0</td>\n",
              "      <td>168.0</td>\n",
              "      <td>43.1</td>\n",
              "      <td>2.288</td>\n",
              "      <td>33</td>\n",
              "      <td>1</td>\n",
              "    </tr>\n",
              "    <tr>\n",
              "      <th>120</th>\n",
              "      <td>0</td>\n",
              "      <td>162.0</td>\n",
              "      <td>76.0</td>\n",
              "      <td>56.0</td>\n",
              "      <td>100.0</td>\n",
              "      <td>53.2</td>\n",
              "      <td>0.759</td>\n",
              "      <td>25</td>\n",
              "      <td>1</td>\n",
              "    </tr>\n",
              "    <tr>\n",
              "      <th>584</th>\n",
              "      <td>8</td>\n",
              "      <td>124.0</td>\n",
              "      <td>76.0</td>\n",
              "      <td>24.0</td>\n",
              "      <td>600.0</td>\n",
              "      <td>28.7</td>\n",
              "      <td>0.687</td>\n",
              "      <td>52</td>\n",
              "      <td>1</td>\n",
              "    </tr>\n",
              "    <tr>\n",
              "      <th>43</th>\n",
              "      <td>9</td>\n",
              "      <td>171.0</td>\n",
              "      <td>110.0</td>\n",
              "      <td>24.0</td>\n",
              "      <td>240.0</td>\n",
              "      <td>45.4</td>\n",
              "      <td>0.721</td>\n",
              "      <td>54</td>\n",
              "      <td>1</td>\n",
              "    </tr>\n",
              "    <tr>\n",
              "      <th>8</th>\n",
              "      <td>2</td>\n",
              "      <td>197.0</td>\n",
              "      <td>70.0</td>\n",
              "      <td>45.0</td>\n",
              "      <td>543.0</td>\n",
              "      <td>30.5</td>\n",
              "      <td>0.158</td>\n",
              "      <td>53</td>\n",
              "      <td>1</td>\n",
              "    </tr>\n",
              "    <tr>\n",
              "      <th>584</th>\n",
              "      <td>8</td>\n",
              "      <td>124.0</td>\n",
              "      <td>76.0</td>\n",
              "      <td>24.0</td>\n",
              "      <td>600.0</td>\n",
              "      <td>28.7</td>\n",
              "      <td>0.687</td>\n",
              "      <td>52</td>\n",
              "      <td>1</td>\n",
              "    </tr>\n",
              "    <tr>\n",
              "      <th>43</th>\n",
              "      <td>9</td>\n",
              "      <td>171.0</td>\n",
              "      <td>110.0</td>\n",
              "      <td>24.0</td>\n",
              "      <td>240.0</td>\n",
              "      <td>45.4</td>\n",
              "      <td>0.721</td>\n",
              "      <td>54</td>\n",
              "      <td>1</td>\n",
              "    </tr>\n",
              "    <tr>\n",
              "      <th>159</th>\n",
              "      <td>17</td>\n",
              "      <td>163.0</td>\n",
              "      <td>72.0</td>\n",
              "      <td>41.0</td>\n",
              "      <td>114.0</td>\n",
              "      <td>40.9</td>\n",
              "      <td>0.817</td>\n",
              "      <td>47</td>\n",
              "      <td>1</td>\n",
              "    </tr>\n",
              "    <tr>\n",
              "      <th>691</th>\n",
              "      <td>13</td>\n",
              "      <td>158.0</td>\n",
              "      <td>114.0</td>\n",
              "      <td>29.0</td>\n",
              "      <td>125.0</td>\n",
              "      <td>42.3</td>\n",
              "      <td>0.257</td>\n",
              "      <td>44</td>\n",
              "      <td>1</td>\n",
              "    </tr>\n",
              "    <tr>\n",
              "      <th>8</th>\n",
              "      <td>2</td>\n",
              "      <td>197.0</td>\n",
              "      <td>70.0</td>\n",
              "      <td>45.0</td>\n",
              "      <td>543.0</td>\n",
              "      <td>30.5</td>\n",
              "      <td>0.158</td>\n",
              "      <td>53</td>\n",
              "      <td>1</td>\n",
              "    </tr>\n",
              "    <tr>\n",
              "      <th>13</th>\n",
              "      <td>1</td>\n",
              "      <td>189.0</td>\n",
              "      <td>60.0</td>\n",
              "      <td>23.0</td>\n",
              "      <td>846.0</td>\n",
              "      <td>30.1</td>\n",
              "      <td>0.398</td>\n",
              "      <td>59</td>\n",
              "      <td>1</td>\n",
              "    </tr>\n",
              "    <tr>\n",
              "      <th>186</th>\n",
              "      <td>8</td>\n",
              "      <td>181.0</td>\n",
              "      <td>68.0</td>\n",
              "      <td>36.0</td>\n",
              "      <td>495.0</td>\n",
              "      <td>30.1</td>\n",
              "      <td>0.615</td>\n",
              "      <td>60</td>\n",
              "      <td>1</td>\n",
              "    </tr>\n",
              "    <tr>\n",
              "      <th>691</th>\n",
              "      <td>13</td>\n",
              "      <td>158.0</td>\n",
              "      <td>114.0</td>\n",
              "      <td>29.0</td>\n",
              "      <td>125.0</td>\n",
              "      <td>42.3</td>\n",
              "      <td>0.257</td>\n",
              "      <td>44</td>\n",
              "      <td>1</td>\n",
              "    </tr>\n",
              "    <tr>\n",
              "      <th>584</th>\n",
              "      <td>8</td>\n",
              "      <td>124.0</td>\n",
              "      <td>76.0</td>\n",
              "      <td>24.0</td>\n",
              "      <td>600.0</td>\n",
              "      <td>28.7</td>\n",
              "      <td>0.687</td>\n",
              "      <td>52</td>\n",
              "      <td>1</td>\n",
              "    </tr>\n",
              "    <tr>\n",
              "      <th>655</th>\n",
              "      <td>2</td>\n",
              "      <td>155.0</td>\n",
              "      <td>52.0</td>\n",
              "      <td>27.0</td>\n",
              "      <td>540.0</td>\n",
              "      <td>38.7</td>\n",
              "      <td>0.240</td>\n",
              "      <td>25</td>\n",
              "      <td>1</td>\n",
              "    </tr>\n",
              "    <tr>\n",
              "      <th>13</th>\n",
              "      <td>1</td>\n",
              "      <td>189.0</td>\n",
              "      <td>60.0</td>\n",
              "      <td>23.0</td>\n",
              "      <td>846.0</td>\n",
              "      <td>30.1</td>\n",
              "      <td>0.398</td>\n",
              "      <td>59</td>\n",
              "      <td>1</td>\n",
              "    </tr>\n",
              "    <tr>\n",
              "      <th>125</th>\n",
              "      <td>1</td>\n",
              "      <td>88.0</td>\n",
              "      <td>30.0</td>\n",
              "      <td>42.0</td>\n",
              "      <td>99.0</td>\n",
              "      <td>55.0</td>\n",
              "      <td>0.496</td>\n",
              "      <td>26</td>\n",
              "      <td>1</td>\n",
              "    </tr>\n",
              "    <tr>\n",
              "      <th>8</th>\n",
              "      <td>2</td>\n",
              "      <td>197.0</td>\n",
              "      <td>70.0</td>\n",
              "      <td>45.0</td>\n",
              "      <td>543.0</td>\n",
              "      <td>30.5</td>\n",
              "      <td>0.158</td>\n",
              "      <td>53</td>\n",
              "      <td>1</td>\n",
              "    </tr>\n",
              "    <tr>\n",
              "      <th>43</th>\n",
              "      <td>9</td>\n",
              "      <td>171.0</td>\n",
              "      <td>110.0</td>\n",
              "      <td>24.0</td>\n",
              "      <td>240.0</td>\n",
              "      <td>45.4</td>\n",
              "      <td>0.721</td>\n",
              "      <td>54</td>\n",
              "      <td>1</td>\n",
              "    </tr>\n",
              "    <tr>\n",
              "      <th>666</th>\n",
              "      <td>4</td>\n",
              "      <td>145.0</td>\n",
              "      <td>82.0</td>\n",
              "      <td>18.0</td>\n",
              "      <td>125.0</td>\n",
              "      <td>32.5</td>\n",
              "      <td>0.235</td>\n",
              "      <td>70</td>\n",
              "      <td>1</td>\n",
              "    </tr>\n",
              "    <tr>\n",
              "      <th>415</th>\n",
              "      <td>3</td>\n",
              "      <td>173.0</td>\n",
              "      <td>84.0</td>\n",
              "      <td>33.0</td>\n",
              "      <td>474.0</td>\n",
              "      <td>35.7</td>\n",
              "      <td>0.258</td>\n",
              "      <td>22</td>\n",
              "      <td>1</td>\n",
              "    </tr>\n",
              "    <tr>\n",
              "      <th>691</th>\n",
              "      <td>13</td>\n",
              "      <td>158.0</td>\n",
              "      <td>114.0</td>\n",
              "      <td>29.0</td>\n",
              "      <td>125.0</td>\n",
              "      <td>42.3</td>\n",
              "      <td>0.257</td>\n",
              "      <td>44</td>\n",
              "      <td>1</td>\n",
              "    </tr>\n",
              "    <tr>\n",
              "      <th>666</th>\n",
              "      <td>4</td>\n",
              "      <td>145.0</td>\n",
              "      <td>82.0</td>\n",
              "      <td>18.0</td>\n",
              "      <td>125.0</td>\n",
              "      <td>32.5</td>\n",
              "      <td>0.235</td>\n",
              "      <td>70</td>\n",
              "      <td>1</td>\n",
              "    </tr>\n",
              "    <tr>\n",
              "      <th>579</th>\n",
              "      <td>2</td>\n",
              "      <td>197.0</td>\n",
              "      <td>70.0</td>\n",
              "      <td>99.0</td>\n",
              "      <td>125.0</td>\n",
              "      <td>34.7</td>\n",
              "      <td>0.575</td>\n",
              "      <td>62</td>\n",
              "      <td>1</td>\n",
              "    </tr>\n",
              "    <tr>\n",
              "      <th>445</th>\n",
              "      <td>0</td>\n",
              "      <td>180.0</td>\n",
              "      <td>78.0</td>\n",
              "      <td>63.0</td>\n",
              "      <td>14.0</td>\n",
              "      <td>59.4</td>\n",
              "      <td>2.420</td>\n",
              "      <td>25</td>\n",
              "      <td>1</td>\n",
              "    </tr>\n",
              "    <tr>\n",
              "      <th>125</th>\n",
              "      <td>1</td>\n",
              "      <td>88.0</td>\n",
              "      <td>30.0</td>\n",
              "      <td>42.0</td>\n",
              "      <td>99.0</td>\n",
              "      <td>55.0</td>\n",
              "      <td>0.496</td>\n",
              "      <td>26</td>\n",
              "      <td>1</td>\n",
              "    </tr>\n",
              "    <tr>\n",
              "      <th>409</th>\n",
              "      <td>1</td>\n",
              "      <td>172.0</td>\n",
              "      <td>68.0</td>\n",
              "      <td>49.0</td>\n",
              "      <td>579.0</td>\n",
              "      <td>42.4</td>\n",
              "      <td>0.702</td>\n",
              "      <td>28</td>\n",
              "      <td>1</td>\n",
              "    </tr>\n",
              "    <tr>\n",
              "      <th>220</th>\n",
              "      <td>0</td>\n",
              "      <td>177.0</td>\n",
              "      <td>60.0</td>\n",
              "      <td>29.0</td>\n",
              "      <td>478.0</td>\n",
              "      <td>34.6</td>\n",
              "      <td>1.072</td>\n",
              "      <td>21</td>\n",
              "      <td>1</td>\n",
              "    </tr>\n",
              "    <tr>\n",
              "      <th>18</th>\n",
              "      <td>1</td>\n",
              "      <td>103.0</td>\n",
              "      <td>30.0</td>\n",
              "      <td>38.0</td>\n",
              "      <td>83.0</td>\n",
              "      <td>43.3</td>\n",
              "      <td>0.183</td>\n",
              "      <td>33</td>\n",
              "      <td>0</td>\n",
              "    </tr>\n",
              "    <tr>\n",
              "      <th>57</th>\n",
              "      <td>0</td>\n",
              "      <td>100.0</td>\n",
              "      <td>88.0</td>\n",
              "      <td>60.0</td>\n",
              "      <td>110.0</td>\n",
              "      <td>46.8</td>\n",
              "      <td>0.962</td>\n",
              "      <td>31</td>\n",
              "      <td>0</td>\n",
              "    </tr>\n",
              "    <tr>\n",
              "      <th>58</th>\n",
              "      <td>0</td>\n",
              "      <td>146.0</td>\n",
              "      <td>82.0</td>\n",
              "      <td>29.0</td>\n",
              "      <td>125.0</td>\n",
              "      <td>40.5</td>\n",
              "      <td>1.781</td>\n",
              "      <td>44</td>\n",
              "      <td>0</td>\n",
              "    </tr>\n",
              "    <tr>\n",
              "      <th>106</th>\n",
              "      <td>1</td>\n",
              "      <td>96.0</td>\n",
              "      <td>122.0</td>\n",
              "      <td>29.0</td>\n",
              "      <td>125.0</td>\n",
              "      <td>22.4</td>\n",
              "      <td>0.207</td>\n",
              "      <td>27</td>\n",
              "      <td>0</td>\n",
              "    </tr>\n",
              "    <tr>\n",
              "      <th>153</th>\n",
              "      <td>1</td>\n",
              "      <td>153.0</td>\n",
              "      <td>82.0</td>\n",
              "      <td>42.0</td>\n",
              "      <td>485.0</td>\n",
              "      <td>40.6</td>\n",
              "      <td>0.687</td>\n",
              "      <td>23</td>\n",
              "      <td>0</td>\n",
              "    </tr>\n",
              "    <tr>\n",
              "      <th>228</th>\n",
              "      <td>4</td>\n",
              "      <td>197.0</td>\n",
              "      <td>70.0</td>\n",
              "      <td>39.0</td>\n",
              "      <td>744.0</td>\n",
              "      <td>36.7</td>\n",
              "      <td>2.329</td>\n",
              "      <td>31</td>\n",
              "      <td>0</td>\n",
              "    </tr>\n",
              "    <tr>\n",
              "      <th>247</th>\n",
              "      <td>0</td>\n",
              "      <td>165.0</td>\n",
              "      <td>90.0</td>\n",
              "      <td>33.0</td>\n",
              "      <td>680.0</td>\n",
              "      <td>52.3</td>\n",
              "      <td>0.427</td>\n",
              "      <td>23</td>\n",
              "      <td>0</td>\n",
              "    </tr>\n",
              "    <tr>\n",
              "      <th>286</th>\n",
              "      <td>5</td>\n",
              "      <td>155.0</td>\n",
              "      <td>84.0</td>\n",
              "      <td>44.0</td>\n",
              "      <td>545.0</td>\n",
              "      <td>38.7</td>\n",
              "      <td>0.619</td>\n",
              "      <td>34</td>\n",
              "      <td>0</td>\n",
              "    </tr>\n",
              "    <tr>\n",
              "      <th>330</th>\n",
              "      <td>8</td>\n",
              "      <td>118.0</td>\n",
              "      <td>72.0</td>\n",
              "      <td>19.0</td>\n",
              "      <td>125.0</td>\n",
              "      <td>23.1</td>\n",
              "      <td>1.476</td>\n",
              "      <td>46</td>\n",
              "      <td>0</td>\n",
              "    </tr>\n",
              "    <tr>\n",
              "      <th>371</th>\n",
              "      <td>0</td>\n",
              "      <td>118.0</td>\n",
              "      <td>64.0</td>\n",
              "      <td>23.0</td>\n",
              "      <td>89.0</td>\n",
              "      <td>32.3</td>\n",
              "      <td>1.731</td>\n",
              "      <td>21</td>\n",
              "      <td>0</td>\n",
              "    </tr>\n",
              "    <tr>\n",
              "      <th>392</th>\n",
              "      <td>1</td>\n",
              "      <td>131.0</td>\n",
              "      <td>64.0</td>\n",
              "      <td>14.0</td>\n",
              "      <td>415.0</td>\n",
              "      <td>23.7</td>\n",
              "      <td>0.389</td>\n",
              "      <td>21</td>\n",
              "      <td>0</td>\n",
              "    </tr>\n",
              "    <tr>\n",
              "      <th>395</th>\n",
              "      <td>2</td>\n",
              "      <td>127.0</td>\n",
              "      <td>58.0</td>\n",
              "      <td>24.0</td>\n",
              "      <td>275.0</td>\n",
              "      <td>27.7</td>\n",
              "      <td>1.600</td>\n",
              "      <td>25</td>\n",
              "      <td>0</td>\n",
              "    </tr>\n",
              "    <tr>\n",
              "      <th>453</th>\n",
              "      <td>2</td>\n",
              "      <td>119.0</td>\n",
              "      <td>72.0</td>\n",
              "      <td>29.0</td>\n",
              "      <td>125.0</td>\n",
              "      <td>19.6</td>\n",
              "      <td>0.832</td>\n",
              "      <td>72</td>\n",
              "      <td>0</td>\n",
              "    </tr>\n",
              "    <tr>\n",
              "      <th>459</th>\n",
              "      <td>9</td>\n",
              "      <td>134.0</td>\n",
              "      <td>74.0</td>\n",
              "      <td>33.0</td>\n",
              "      <td>60.0</td>\n",
              "      <td>25.9</td>\n",
              "      <td>0.460</td>\n",
              "      <td>81</td>\n",
              "      <td>0</td>\n",
              "    </tr>\n",
              "    <tr>\n",
              "      <th>486</th>\n",
              "      <td>1</td>\n",
              "      <td>139.0</td>\n",
              "      <td>62.0</td>\n",
              "      <td>41.0</td>\n",
              "      <td>480.0</td>\n",
              "      <td>40.7</td>\n",
              "      <td>0.536</td>\n",
              "      <td>21</td>\n",
              "      <td>0</td>\n",
              "    </tr>\n",
              "    <tr>\n",
              "      <th>549</th>\n",
              "      <td>4</td>\n",
              "      <td>189.0</td>\n",
              "      <td>110.0</td>\n",
              "      <td>31.0</td>\n",
              "      <td>125.0</td>\n",
              "      <td>28.5</td>\n",
              "      <td>0.680</td>\n",
              "      <td>37</td>\n",
              "      <td>0</td>\n",
              "    </tr>\n",
              "    <tr>\n",
              "      <th>593</th>\n",
              "      <td>2</td>\n",
              "      <td>82.0</td>\n",
              "      <td>52.0</td>\n",
              "      <td>22.0</td>\n",
              "      <td>115.0</td>\n",
              "      <td>28.5</td>\n",
              "      <td>1.699</td>\n",
              "      <td>25</td>\n",
              "      <td>0</td>\n",
              "    </tr>\n",
              "    <tr>\n",
              "      <th>597</th>\n",
              "      <td>1</td>\n",
              "      <td>89.0</td>\n",
              "      <td>24.0</td>\n",
              "      <td>19.0</td>\n",
              "      <td>25.0</td>\n",
              "      <td>27.8</td>\n",
              "      <td>0.559</td>\n",
              "      <td>21</td>\n",
              "      <td>0</td>\n",
              "    </tr>\n",
              "    <tr>\n",
              "      <th>621</th>\n",
              "      <td>2</td>\n",
              "      <td>92.0</td>\n",
              "      <td>76.0</td>\n",
              "      <td>20.0</td>\n",
              "      <td>125.0</td>\n",
              "      <td>24.2</td>\n",
              "      <td>1.698</td>\n",
              "      <td>28</td>\n",
              "      <td>0</td>\n",
              "    </tr>\n",
              "    <tr>\n",
              "      <th>622</th>\n",
              "      <td>6</td>\n",
              "      <td>183.0</td>\n",
              "      <td>94.0</td>\n",
              "      <td>29.0</td>\n",
              "      <td>125.0</td>\n",
              "      <td>40.8</td>\n",
              "      <td>1.461</td>\n",
              "      <td>45</td>\n",
              "      <td>0</td>\n",
              "    </tr>\n",
              "    <tr>\n",
              "      <th>645</th>\n",
              "      <td>2</td>\n",
              "      <td>157.0</td>\n",
              "      <td>74.0</td>\n",
              "      <td>35.0</td>\n",
              "      <td>440.0</td>\n",
              "      <td>39.4</td>\n",
              "      <td>0.134</td>\n",
              "      <td>30</td>\n",
              "      <td>0</td>\n",
              "    </tr>\n",
              "    <tr>\n",
              "      <th>673</th>\n",
              "      <td>3</td>\n",
              "      <td>123.0</td>\n",
              "      <td>100.0</td>\n",
              "      <td>35.0</td>\n",
              "      <td>240.0</td>\n",
              "      <td>57.3</td>\n",
              "      <td>0.880</td>\n",
              "      <td>22</td>\n",
              "      <td>0</td>\n",
              "    </tr>\n",
              "  </tbody>\n",
              "</table>\n",
              "</div>\n",
              "      <button class=\"colab-df-convert\" onclick=\"convertToInteractive('df-2d3a2337-0b8b-4382-a36d-75371df26143')\"\n",
              "              title=\"Convert this dataframe to an interactive table.\"\n",
              "              style=\"display:none;\">\n",
              "        \n",
              "  <svg xmlns=\"http://www.w3.org/2000/svg\" height=\"24px\"viewBox=\"0 0 24 24\"\n",
              "       width=\"24px\">\n",
              "    <path d=\"M0 0h24v24H0V0z\" fill=\"none\"/>\n",
              "    <path d=\"M18.56 5.44l.94 2.06.94-2.06 2.06-.94-2.06-.94-.94-2.06-.94 2.06-2.06.94zm-11 1L8.5 8.5l.94-2.06 2.06-.94-2.06-.94L8.5 2.5l-.94 2.06-2.06.94zm10 10l.94 2.06.94-2.06 2.06-.94-2.06-.94-.94-2.06-.94 2.06-2.06.94z\"/><path d=\"M17.41 7.96l-1.37-1.37c-.4-.4-.92-.59-1.43-.59-.52 0-1.04.2-1.43.59L10.3 9.45l-7.72 7.72c-.78.78-.78 2.05 0 2.83L4 21.41c.39.39.9.59 1.41.59.51 0 1.02-.2 1.41-.59l7.78-7.78 2.81-2.81c.8-.78.8-2.07 0-2.86zM5.41 20L4 18.59l7.72-7.72 1.47 1.35L5.41 20z\"/>\n",
              "  </svg>\n",
              "      </button>\n",
              "      \n",
              "  <style>\n",
              "    .colab-df-container {\n",
              "      display:flex;\n",
              "      flex-wrap:wrap;\n",
              "      gap: 12px;\n",
              "    }\n",
              "\n",
              "    .colab-df-convert {\n",
              "      background-color: #E8F0FE;\n",
              "      border: none;\n",
              "      border-radius: 50%;\n",
              "      cursor: pointer;\n",
              "      display: none;\n",
              "      fill: #1967D2;\n",
              "      height: 32px;\n",
              "      padding: 0 0 0 0;\n",
              "      width: 32px;\n",
              "    }\n",
              "\n",
              "    .colab-df-convert:hover {\n",
              "      background-color: #E2EBFA;\n",
              "      box-shadow: 0px 1px 2px rgba(60, 64, 67, 0.3), 0px 1px 3px 1px rgba(60, 64, 67, 0.15);\n",
              "      fill: #174EA6;\n",
              "    }\n",
              "\n",
              "    [theme=dark] .colab-df-convert {\n",
              "      background-color: #3B4455;\n",
              "      fill: #D2E3FC;\n",
              "    }\n",
              "\n",
              "    [theme=dark] .colab-df-convert:hover {\n",
              "      background-color: #434B5C;\n",
              "      box-shadow: 0px 1px 3px 1px rgba(0, 0, 0, 0.15);\n",
              "      filter: drop-shadow(0px 1px 2px rgba(0, 0, 0, 0.3));\n",
              "      fill: #FFFFFF;\n",
              "    }\n",
              "  </style>\n",
              "\n",
              "      <script>\n",
              "        const buttonEl =\n",
              "          document.querySelector('#df-2d3a2337-0b8b-4382-a36d-75371df26143 button.colab-df-convert');\n",
              "        buttonEl.style.display =\n",
              "          google.colab.kernel.accessAllowed ? 'block' : 'none';\n",
              "\n",
              "        async function convertToInteractive(key) {\n",
              "          const element = document.querySelector('#df-2d3a2337-0b8b-4382-a36d-75371df26143');\n",
              "          const dataTable =\n",
              "            await google.colab.kernel.invokeFunction('convertToInteractive',\n",
              "                                                     [key], {});\n",
              "          if (!dataTable) return;\n",
              "\n",
              "          const docLinkHtml = 'Like what you see? Visit the ' +\n",
              "            '<a target=\"_blank\" href=https://colab.research.google.com/notebooks/data_table.ipynb>data table notebook</a>'\n",
              "            + ' to learn more about interactive tables.';\n",
              "          element.innerHTML = '';\n",
              "          dataTable['output_type'] = 'display_data';\n",
              "          await google.colab.output.renderOutput(dataTable, element);\n",
              "          const docLink = document.createElement('div');\n",
              "          docLink.innerHTML = docLinkHtml;\n",
              "          element.appendChild(docLink);\n",
              "        }\n",
              "      </script>\n",
              "    </div>\n",
              "  </div>\n",
              "  "
            ]
          },
          "metadata": {},
          "execution_count": 23
        }
      ]
    },
    {
      "cell_type": "markdown",
      "metadata": {
        "id": "L2jgeHISKr-V"
      },
      "source": [
        "#Data Correlation\n",
        "Berdasarkan Diabetes Prediction Based on XGBoost Algorithm oleh Mingqi Li et al 2020 bersumber dari https://iopscience.iop.org/article/10.1088/1757-899X/768/7/072093/pdf \n",
        "\n",
        "Setelah data preprocessing, kita harus mempelajari apakah data tersebut diproses dengan baik atau tidak dan bagaimana caranya\n",
        "banyak korelasi antara data tersebut. Koefisien korelasi dapat digunakan untuk mencerminkan kedekatan\n",
        "hubungan antar variabel. Koefisien korelasi dihitung dengan metode selisih.\n",
        "Hal ini juga didasarkan pada dispersi kedua variabel dan rata-ratanya masing-masing. keduanya\n",
        "perbedaan dikalikan untuk mencerminkan tingkat korelasi antara dua variabel\n",
        "\n",
        "#Berdasarkan Jurnal Prediksi Risiko Penyakit Diabetes menggunakan Algoritma Regresi Logistik\n",
        " Jika  nilai  korelasi  >  0 maka terdapat  korelasi  positif.Sementara  nilai  satu  variabel  meningkat,  nilai  variabel  lainnya  juga meningkat. Jika persamaan korelasi = 0 maka tidak ada korelasi.  Jika korelasi < 0 maka ada korelasi  negatif. Sementara satu variabel meningkat, variabel lainnya menurun. Ketika korelasi diperiksa, ada 2 variabel yang bertindak sebagai korelasi positif terhadap  variabel  dependen outcome,variabel  tersebut  adalah glucose.  Seiring  peningkatan  ini,  variabel dependen  juga meningkat. Dengan demikian, semua variabel digunakan untuk modelling karena korelasinya berdekatan.\n",
        "\n",
        "#Berdasarkan Complex heatmaps reveal patterns and correlations in multidimensional genomic data\n",
        "Yang dapat dikutip dari : https://academic.oup.com/bioinformatics/article/32/18/2847/1743594 \n",
        "\n",
        " Heatmaps are a fundamental visualization method that is broadly used to unravel patterns hidden in genomic data. They are especially popular for gene expression analysis (Eisen et al., 1998) and methylation profiling (Sturm et al., 2012). With the increasing availability of genomic datasets, **visualization methods that effectively show relations within multidimensional data are urgently needed.** \n",
        "\n",
        "Alasan saya menggunakan heatmap adalah karena heatmap correlation dapat digunakan untuk menemukan hubungan potensial antara variabel dan untuk memahami kekuatan hubungan ini dan mendeteksi hubungan linier dan nonlinier"
      ]
    },
    {
      "cell_type": "markdown",
      "source": [
        "#Fungsi Heatmap Correlation Matrix\n",
        "Berdasarkan Jurnal Implementasi Seleksi Fitur Klasifikasi Waktu\n",
        "Kelulusan Mahasiswa Menggunakan Correlation\n",
        "Matrix With Heatmap\n",
        "\n",
        "Yang dikutip dari : https://ejurnal.ung.ac.id/index.php/jjeee/article/view/14403/4663# \n",
        "\n",
        "\"atribut yang memiliki warna merah muda adalah atribut yang relavan dengan atribut aoutput dan sebaliknya atribut yang berwarna merah tua adalah atribut yang kurang relevan dengan atribut aoutput.\"\n",
        "\n",
        "Atribut berwarna merah tua yang dimaksud oleh penulis adalah atribut yang memiliki korelasi negatif tinggi dengan kolom output\n",
        "\n",
        "\"dari 13 atribut awal yang digunakan terseleksi menjadi 9 atribut yang memiliki relevansi atau berkontribusi terhadap hasil output yaitu : jenis kelamin, kelas, umur, SKS1, IPS1, SKS2, SKS3, SKS4 dan SKS5, sedangkan atribut input yang kurang relevan terdapat 4 atribut yaitu : IPS2, IPS3, IPS4 dan IPS5\"\n",
        "\n",
        "#Alasan menggunakan Correlation Matrix Heatmap pada penelitian ini\n",
        "Untuk melihat relevansi antar kolom. Disini target kolom saya adalah kolom \"Output\", dan relevansi antar kolomnya memiliki nilai positif. Maka saya akan menggunakan semua kolom sebagai indikator "
      ],
      "metadata": {
        "id": "sB_tV1C5Um1S"
      }
    },
    {
      "cell_type": "code",
      "execution_count": null,
      "metadata": {
        "colab": {
          "base_uri": "https://localhost:8080/"
        },
        "id": "kXE2EbOrKreP",
        "outputId": "97d723a9-cd5e-4fd6-efd0-659f3dfe3fb0"
      },
      "outputs": [
        {
          "output_type": "execute_result",
          "data": {
            "text/plain": [
              "<matplotlib.axes._subplots.AxesSubplot at 0x7f26f31bcbe0>"
            ]
          },
          "metadata": {},
          "execution_count": 24
        },
        {
          "output_type": "display_data",
          "data": {
            "text/plain": [
              "<Figure size 432x288 with 2 Axes>"
            ],
            "image/png": "[encoded data removed]"
          },
          "metadata": {
            "needs_background": "light"
          }
        }
      ],
      "source": [
        "sns.heatmap(data_clean.corr(), annot=True)\n",
        "\n",
        "#.corr() = correlation matrix\n",
        "#annot=True = memberikan value korelasi antar kolom dalam bentuk angka"
      ]
    },
    {
      "cell_type": "markdown",
      "metadata": {
        "id": "gv0JwSPca4t1"
      },
      "source": [
        "#Machine Learning Model Building"
      ]
    },
    {
      "cell_type": "markdown",
      "source": [
        "axis=1 = Remove column\n",
        "\n",
        "Dataset X = menggunakan semua kolom untuk kriteria dan ciri ciri pada tubuh pasien\n",
        "\n",
        "Dataset y = sebagai hasil apakah pasien memiliki diabetes atau tidak"
      ],
      "metadata": {
        "id": "SkibHEZRd_7a"
      }
    },
    {
      "cell_type": "markdown",
      "source": [
        "![xy.png](data:image/png;base64,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)"
      ],
      "metadata": {
        "id": "jcMYpm1dg9EA"
      }
    },
    {
      "cell_type": "code",
      "execution_count": null,
      "metadata": {
        "id": "ONY71YNsawyF"
      },
      "outputs": [],
      "source": [
        "X = data_clean.drop('Outcome', axis=1) #menggunakan semua atribut kecuali class (Outcome)\n",
        "y = data_clean['Outcome'] #hanya menggunakan atribut class (Outcome)"
      ]
    },
    {
      "cell_type": "markdown",
      "metadata": {
        "id": "Z40EEUmS10ti"
      },
      "source": [
        "#Metode 90 10"
      ]
    },
    {
      "cell_type": "markdown",
      "metadata": {
        "id": "ZhKqFxakba_E"
      },
      "source": [
        "#Berdasarkan Jurnal Analysis and Prediction Of Pima Indian Diabetes Dataset Using SDKNN Classifier Technique\n",
        "\n",
        "yang dikutip dari : https://iopscience.iop.org/article/10.1088/1757-899X/1070/1/012059/meta \n",
        "\n",
        "\"Our concept is implemented on Pima Indian Diabetes Dataset (PIDD). The analysis on Pima Indian Diabetes Dataset (PIDD) is carried out by splitting dataset in to 90% training data and 10% testing data. We have found that, in our proposed technique, average classification accuracy gives result 83.2%, a great improvement as compared to other conventional technique.\"\n",
        "\n",
        "Untuk tahap train test split, saya akan membagi data train menjadi 90% dan data test menjadi 10% karena dapat menghasilkan akurasi yang lebih baik"
      ]
    },
    {
      "cell_type": "markdown",
      "metadata": {
        "id": "8DE0nQ_gIZop"
      },
      "source": [
        "#Berdasarkan A Novel Diabetes Healthcare Disease Prediction Framework Using Machine Learning Techniques \n",
        "yang dikutip dari : https://downloads.hindawi.com/journals/jhe/2022/1684017.pdf\n",
        "\n",
        "\n",
        "Foremost using\n",
        "a function like the model selection train test split, the data set\n",
        "is divided into the training and testing data sets. Due to the\n",
        "limited data set source, about 90%, of the data set, is used for\n",
        "training purposes and the remaining 10% is used for testing\n",
        "by selecting the data randomly. \n",
        "\n",
        "Alasan saya membagi data train dan test menjadi 90% dan 10% adalah karena terbatasnya jumlah data untuk di training"
      ]
    },
    {
      "cell_type": "markdown",
      "source": [
        "![xytraintest.png](data:image/png;base64,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)"
      ],
      "metadata": {
        "id": "w6TShsSAikTl"
      }
    },
    {
      "cell_type": "code",
      "execution_count": null,
      "metadata": {
        "id": "XvOzqrMmbFJp"
      },
      "outputs": [],
      "source": [
        "#test size 10% and train size 90%\n",
        "#Random state = Mengontrol pengacakan yang diterapkan ke data sebelum menerapkan pemisahan agar hasil yang didapatkan tetap sama\n",
        "from sklearn.model_selection import train_test_split\n",
        "X_train, X_test, y_train, y_test = train_test_split(X,y, test_size=0.1, random_state=0) #split test 10% dan train sisa dari test yaitu 90%"
      ]
    },
    {
      "cell_type": "markdown",
      "source": [
        "#Random state :"
      ],
      "metadata": {
        "id": "-M61nx5CLmcb"
      }
    },
    {
      "cell_type": "markdown",
      "source": [
        "#Berdasarkan Jurnal A robust voting approach for diabetes prediction using traditional machine learning techniques\n",
        "\n",
        "\"5.3 Decision Tree\n",
        "\n",
        "The optimum results obtained for this classifer tuning the\n",
        "parameters of maximum features, minimum samples leaf,\n",
        "minimum samples split and random state. Thus, the values\n",
        "of these parameters are chosen as: ‘maximum features’:\n",
        "‘log2’, ‘minimum samples leaf’: 12, ‘minimum samples split’:\n",
        "5, ‘random state’: 0. The corresponding performance are\n",
        "obtained as accuracy 77.92%, precision 77%, recall 78%,\n",
        "F-1 score 77% and ROC score 72.56%.\"\n",
        "\n",
        "Alasan saya menggunakan random state 0 adalah karena dalam penelitian tersebut menggunakan parameter random state = 0 untuk algoritma decision tree"
      ],
      "metadata": {
        "id": "P_v-H-XjIu-1"
      }
    },
    {
      "cell_type": "markdown",
      "source": [
        "#Berdasarkan Jurnal PERBANDINGAN AKURASI ALGORIMA DECISION TREE DAN ALGORITMA SUPPORT VECTOR MACHINE PADA PENYAKIT DIABETES\n",
        "\n",
        "Pada penelitian kali ini, penulis menggunakan\n",
        "hyperparameter random_state dan splitter. Hasil dari\n",
        "Tuning Hyperparameter bisa dilihat pada Gambar 5.\n",
        "\n",
        "![random state.PNG](data:image/png;base64,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)\n",
        "\n",
        "Gambar 5. Hasil Tuning Hyperparameter Decision\n",
        "Tree\n"
      ],
      "metadata": {
        "id": "ptbPunPuJkKu"
      }
    },
    {
      "cell_type": "markdown",
      "source": [
        "#Berdasarkan Jurnal Performance Accuration Method of Machine Learning for Diabetes Prediction\n",
        "\n",
        "This research we  made  a  split test  with parameter constraints like  the  following train_test_split (X,  y,  test_size=  0.25,  random_state=42),where  we  made  a  test  data  of  0.25  from  testing  data  and supplying data with parameters 42.\n"
      ],
      "metadata": {
        "id": "xgII1ImzWFl0"
      }
    },
    {
      "cell_type": "markdown",
      "source": [
        "#Berdasarkan Jurnal MACHINE LEARNING UNTUK PERBANDINGAN TINGKAT AKURASI PREDIKSI PENYAKIT DIABETES METODE SUPERVISED LEARNING\n",
        "\n",
        "Algoritma Decision Tree yang kita gunakan untuk menetukan ambang batas parameter fitur algoritma Decision Tree Classifier adalah (yang pertama max_depth = dengen nilai 6, yang kedua max_features = dengan nilai 4, ketiga min_samples_split = dengan nilai 4, dan random_state = 42), menghasilkan akurasi pada dataset pelatihan ini: 0.852, akurasi pada dataset testing: 0.729"
      ],
      "metadata": {
        "id": "2oqtd50iWZtR"
      }
    },
    {
      "cell_type": "markdown",
      "metadata": {
        "id": "LwHZqjeJbQmc"
      },
      "source": [
        "#Decision Tree"
      ]
    },
    {
      "cell_type": "code",
      "execution_count": null,
      "metadata": {
        "colab": {
          "base_uri": "https://localhost:8080/"
        },
        "id": "QMxQD9DhbNb1",
        "outputId": "54304414-11de-4cc1-820b-64042f45c76c"
      },
      "outputs": [
        {
          "output_type": "execute_result",
          "data": {
            "text/plain": [
              "DecisionTreeClassifier(random_state=0)"
            ]
          },
          "metadata": {},
          "execution_count": 27
        }
      ],
      "source": [
        "from sklearn.tree import DecisionTreeClassifier\n",
        "\n",
        "dtree = DecisionTreeClassifier(random_state=0) #Mengontrol keacakan estimator agar hasil yang didapatkan selalu tetap\n",
        "dtree.fit(X_train, y_train)"
      ]
    },
    {
      "cell_type": "code",
      "execution_count": null,
      "metadata": {
        "id": "fQVlQsi5bVqx"
      },
      "outputs": [],
      "source": [
        "from sklearn.metrics import confusion_matrix"
      ]
    },
    {
      "cell_type": "markdown",
      "metadata": {
        "id": "Yczm1-OoKki4"
      },
      "source": [
        "#Berdasarkan Jurnal Machine learning models for non-invasive glucose measurement: towards diabetes management in smart healthcare\n",
        "yang dikutip dari : https://link.springer.com/article/10.1007/s12553-022-00690-7\n",
        "\n",
        "**Precision:** Precision is measurement of how many positive predictions are made for actual positive values.\n",
        "\n",
        "**Recall/true positive rate/sensitivity:** Recall is measurement of correct positive predictions from all positive predictions made\n",
        "\n",
        "**F-1 Score:** F-1 Measure is a combination of precision and recall"
      ]
    },
    {
      "cell_type": "markdown",
      "metadata": {
        "id": "mAnaNMNUCZX0"
      },
      "source": [
        "#Penjelasan\n",
        "**Precision:** Tedapat 76% pasien yang **sebenarnya** terkena diabetes dibandingkan dengan keseluruhan pasien yang **diprediksi** terkena diabetes.\n",
        "\n",
        "**Recall :** Terdapat 87% pasien yang **diprediksi** terkena diabetes dibandingkan dengan keseluruhan pasien yang **sebenarnya** terkena diabetes. \n",
        "\n",
        "**F-1 Score :** jika F1-Score punya skor yang baik mengindikasikan bahwa model klasifikasi punya precision dan recall yang baik\n",
        "\n",
        "\n"
      ]
    },
    {
      "cell_type": "markdown",
      "source": [
        "#Berdasarkan jurnal The advantages of the Matthews correlation coefficient (MCC) over F1 score and accuracy in binary classification evaluation\n",
        "\n",
        "\"Checking only F1, one would read a good value (0.66 in\n",
        "the [0, 1] interval).\"\n",
        "\n",
        "nilai F1-Score bisa diilang bagus jika value F1 berada diantara 0,66 hingga 1"
      ],
      "metadata": {
        "id": "l46QOClkD9I5"
      }
    },
    {
      "cell_type": "markdown",
      "source": [
        "#Alasan menggunakan Precision Recall\n",
        "yang dikutip dari : Jurnal The relationship between Recall and Precision\n",
        "https://asistdl.onlinelibrary.wiley.com/doi/abs/10.1002/(SICI)1097-4571(199401)45:1%3C12::AID-ASI2%3E3.0.CO;2-L\n",
        "\n",
        "\"Recall and Precision and, in particular, Recall-Precision plots, have been used for many years to characterize document retrieval performance.\"\n",
        "\n",
        "Alasan saya menggunakan Recall dan precision adalah untuk melihat kinerja model\n",
        "\n",
        "#Berdasarkan Jurnal Diagnose Diabetic Mellitus Illness Based on IoT Smart Architecture\n",
        "yang dikutip dari : https://www.hindawi.com/journals/wcmc/2022/7268571/ \n",
        "\n",
        "\"for the classification considering the evaluative measures like\n",
        "accuracy, precision, recall, and F1-score on PIDD and\n",
        "claimed to have achieved comparatively enhanced results\n",
        "on binary classifications\"\n",
        "\n",
        "Alasan kedua saya menggunakan precision recall adalah karena precision recall lebih cocok digunakan untuk binary classifications\n",
        "\n",
        "#Berdasarkan buku Educating Engineers for Future Industrial Revolutions halaman 331\n",
        "\n",
        "yang dikutip dari : https://www.google.co.id/books/edition/Educating_Engineers_for_Future_Industria/PQ8jEAAAQBAJ?hl=en&gbpv=1&dq=balanced+data+evaluation+metric&pg=PA331&printsec=frontcover\n",
        "\n",
        "\"For each algorithm we used an original and balanced data set to improve evaluation metrics as precision and recall.\"\n",
        "\n",
        "Untuk Balanced dataset menggunakan precision dan recall berdasarkan buku tersebut\n",
        "\n",
        "#Berdasarkan Jurnal Diagnosis of diabetes using machine learning algorithms\n",
        "\n",
        "\"Our model is based on the prediction precision of certain powerful machine learning (ML) algorithms based on different measures such as precision, recall, and F1-measure. The Pima Indian Diabetes (PIDD) dataset has been used, that can predict diabetic onset based on diagnostics manner\"\n",
        "\n",
        "Precision, Recall dan F-1 Score merupakan indikator ketepatan prediksi algoritma Machine Learning"
      ],
      "metadata": {
        "id": "HTI_5nGeYCmL"
      }
    },
    {
      "cell_type": "code",
      "execution_count": null,
      "metadata": {
        "colab": {
          "base_uri": "https://localhost:8080/"
        },
        "id": "8de8y_7LbpQ7",
        "outputId": "a75c3407-ed04-4b7c-8e99-11d66a063fe6"
      },
      "outputs": [
        {
          "output_type": "stream",
          "name": "stdout",
          "text": [
            "F-1 Score :  0.8952380952380952\n",
            "Precision Score :  0.8392857142857143\n",
            "Recall Score :  0.9591836734693877\n"
          ]
        }
      ],
      "source": [
        "y_pred = dtree.predict(X_test)\n",
        "from sklearn.metrics import accuracy_score, f1_score, precision_score, recall_score\n",
        "print('F-1 Score : ',(f1_score(y_test, y_pred)))\n",
        "print('Precision Score : ',(precision_score(y_test, y_pred)))\n",
        "print('Recall Score : ',(recall_score(y_test, y_pred)))"
      ]
    },
    {
      "cell_type": "markdown",
      "metadata": {
        "id": "Vk-YzGW0-uVE"
      },
      "source": [
        "#Berdasarkan Jurnal Diabetes Mellitus Prediction using Classification Techniques\n",
        "Yang dikutip dari : https://www.researchgate.net/profile/Anny-Leema/publication/344072667_Diabetes_Mellitus_Prediction_using_Classification_Techniques/links/5f50f16da6fdcc9879c511e9/Diabetes-Mellitus-Prediction-using-Classification-Techniques.pdf\n",
        "\n",
        "\"Confusion matrix is used to visualize the performance of the\n",
        "algorithms which cross tabulates the observed and predicted\n",
        "classes with associated statistics, evaluation metrics like\n",
        "sensitivity, specificity, precision and accuracy are used to\n",
        "evaluate the performance of the method. Factors like True\n",
        "Positive (TP), True Negative (TN), False Positive (FP) and\n",
        "False Negative (FN) are used\"\n",
        "\n",
        "Alasan saya menggunakan confusion matrix sebagai visualisasi data adalah untuk memvisualisasikan performa dari sebuah algoritma klasifikasi"
      ]
    },
    {
      "cell_type": "markdown",
      "metadata": {
        "id": "oJLhUcb_q4qA"
      },
      "source": [
        "![format confusion matrix.png](data:image/png;base64,iVBORw0KGgoAAAANSUhEUgAAAOoAAACNCAIAAAA2B3H7AAAAAXNSR0IArs4c6QAAAARnQU1BAACxjwv8YQUAAAAJcEhZcwAADsMAAA7DAcdvqGQAABCoSURBVHhe7Z1teeTGEoUvhWAIBXMwhGAwhWWwDMIgCIxgCSyBMAiH3Hd12sc1pZlJ4im1JG+9P+ap/lCp+/RRS7PW2v/7u2lOS9u3OTFt3+bEtH2bE/Nu3/81zRkYfl24sO+ImiJa0nLavvNoSctp+86jJS2n7TuPlrSctu88TiTp9+/fX15efvnll1E+Koez77dv3zj1HUa/EzJ/8FLsKl+/fh2droF9f/vtN7qN8lFJI3wv7DV07Mt1/9dff6nIMJ6fnxX/+eefT09Pis/ILpL+8ccfUUNAWxS+b1+gw14e+PekEe5v3yRrkv719dXOPh27SKq7WdRQ/P777yO6Qdu3gLX02Bfpf/31Vxbmy5cvdCDmE2R9P37EK4GYJzkq2b+5M47auXD2EU3kln2FdmIpg4xs1aNhZV+aLCCHjNplQ5H+6fA5xBHCCezLI4SURUS0o5UijqTGfk1FegJLpccPlmGXLXwXSdf25aF2RIsy2A5ZEEQPu1Ym2hc9EY1uxOwdzoZf0VOHk4r+nE5Nc0iSnsC+oCVJ1zo19iu4iPSskCoBx9P0j7fOLeC8I5qI70WR0bZY2W6WMvZftC+VUUMrb08DDqa/s80hzgXeC6lhLxjGLftaaEHNVftqGRJsFeo2E847oolIK2uIydZff7Egj2F6NrhqX47CviSJmitzIrp8ApxxRAuf077rDLuwi6TSKioQVcKXMi63ozu7L9CTGnqSSl8elFmte5EG8F7YfWSCYTxuX2LUV71gqUY0EYYxooms7Ruhns1Y4iRVk30FPXk80DOD+iclJwubRnhu+7KRKEZlirKvvsbFpwUknqyyYBgjmoi0umVfqwRJ1WhfKl0PPgof2/2Ap51tDh6hOJZ9+YrAMHicSnsndzrq07cEuqEmvuQoSc+aSXR6Kg/1+PjWWm7NLpJKw2iyiP2H8/RPB2gLNEk0PyfQTWLySb1iLQRJ2DhgvVJbw9lHtHAg+2IyxmB8WcuaIhoRQdGRSu3B0lTfi9GUWK0s0mSJDWcf0Sx+aBRYb42YG1kAI6IVAZKiTxSfo9DWNXjU//IAHEgN9XSQ12fCeUe0cCD7fj5a0nLavvNoSctp+86jJS2n7TuPlrSctu88WtJy2r7zaEnLafvOoyUtp+07j5a0nLbvPFrScn4i+35dXpja60ducBZJ7wsVf2i8O9vaN/6AN/6kEaSC2UIOvRU1Cp/RvklD8fT0xExHjw+xFiqunU66xXp9AEYyooVi+wIe0ssfKLL+mThNMArVvLy8HERlUSVpQq/ayLJWm0q1Pg7effB62I4kab19hd7qwMF6h8agy0bSIDpn/Bnsi4BktozsmuhMTckLNCQh20Zr9DhJ0q3s+/z8LD+lN/d+mDdIg1h6swnJ9OKY4BDtMRFtMByi/QZIrjV7Xf7jgMHE1OulM1p1+xOc7scJlvnGIhl0yaUXrB6BbCMqBQHJHGWUhq7xS2F8xm6oarUJdKlHofQOGh0Ex1KjbOqsw4VqNBgXby1oFWQe0cKG9uVTr4cqFswWFDNV66KebsKX8j0Q0CSbAodgX+pRlphW1ZOHbsqmolyuoq8lFYEMHM4nMa00kZCiLhvneQSfvRZUIrO1AibiMWMazYVYqvq5AkFkKVrpo/5JKIjJkV2nU2cvR3z9n5yciODOglYRxwkXgx5RBbas3GAFmY+nhGpxn0OXuFm6SUUfRR+JBQjnYaubtBMc4lZgSIg7CotlfQpyar2BFeIoxqbiI8SzF6J5yYi+3lCPIrMgjt6SNXXxo4CnTE9rlYQittqQhFXRecBrfWtBC4njhItBj6iCuONKQXkOXSwNlWuQFa0J3G2tF1CpZQPXEFtlIINbIeWxQVWfiEb/MOQZUSmaFyPEHAR8IoVuI2rypQh6rJKYLAGdidXZJKHcX6yFjRsB9d5N6LYmDuZxSDiihYtBj6iCaF/fcbAOulgaaqIoEdYDgTRzYkS34lSSnITK5mGvVY6tgpzSnW4ehg5UXMtGaTUvjz+iJj9ogWYXJ4t6MrFqQEeNwjLs2KoMfI7y25OYNgJ2AS9N6rYFcZxwMegRVRDtC8wQ36Aas7U0nFF3QOO7Hv3pySH0IZXXg3ptNipG3dcqp1UB6c5ZyOBdQQfGGy6k4sdIZ69C84oOM2qKg9fsvEEKOiCjxU9CpeRrYYGlYQdBQ68F0O3WglYRxwkXgx5RBcm+gAWRLEqDQamJW4W14PCkl0hSRt3XKqdVEZwR3aPooMq4wcf1+zDrs5egeV0doZ67ovgYiBpdq/GQKE6MISVfCwtcD1TKwaPq7oJWEccJF4Me0cPIqXFiQuJaGhWBSVLJBW2NqKTIMoBa1aRDJAo1tFJkhcDJcaE6oyY11P/I+AYdqLy6GIyZzQM4ta38COQcUSlMn8y3nKFWbbcsAQ7zjohc0gcQh6Lqk1DooCZU5VPipP2bDO5m7ixoFSQf0UK9fWUpwRxG7Rt6YB2FxYLoS0+mKrEE81d9RFqwGMSShkOIvTxaORXjMKKI6J5EFywPOelMa3L8hyHbiIpgIsuE3olTMyiMt2hlRtF26KM5ApZFCirXQukRi3o6kEpNkFYTnddnp+bqglZB5hEt1Nv3cVDNjhTSMcl3fI4j6afhBPblul87lUtZX3VPRNu3nBPYl7sP9z7uero38Ylx0358Ctq+5ZzAvnp48FMam/Hp9l1xHEk/DUnSI9r309CSltP2nUdLWk7bdx4taTlt33m0pOW0fefRkpbT9p1HS1pO23ceLWk5bd95tKTltH3n0ZKW0/adR0taTtt3Hi1pOW3febSk5bR959GSltP2nUdLWk7bdx4taTlt33m0pOW0fefRkpbT9p1HS1pO23ceLWk5bd95tKTltH3n0ZKW0/adR0tazj37Ns3xGX5duLDviJoiWtJy2r7zaEnLafvOoyUtp+07j5a0nM9g3+/fv78sf/BilI9K27ecA9mXM97i/q/yxb76heCjfFT2GuG31W+xTox+JyQN/r2wy6z8i7xHefn1kvrV8qN8Azocfxn2GiH2RUOUVDEqrD8XoPiMJEl3tq/2iWhfkf6Swpq27x3SxZ8Ufn19tbNPR5L0oPYV2on9Zxrib/lN9qVJ3dhaOGTULkul3xOcDp9DHOGOMIykMMLqb3mg/5e3vxXCJ8j6fvyIVwKxRa768x//Fc4+ooXD2ZeH2hG9/SkR7nfIrYddbxvRvkiJrPpDRqyKs+FXhNbhpKI/p1PTHHaRdE1SGNBEAiILVzitFJGRGvs1FekJKKnHDwT3WswkSXoI+yZG22JluxmVabL/on2pxOWKwbusPQ1oTX9nm0Ocy44wjGRfkPLpjkSN/QouYuWosNbiHx/wtoDzjmjhvZAa5iARLS4mW3+xwILc4HTbumpfjkJckrgVlDkR12ACnHFEu8Iwbtk3KgbUXLWv1E6wGavbTDjviBaOZV+I8uFLGZcL/c7uC/Skhp6k0mOZMqt1L3YfgEgKi/9q33WGXUiSvhdSwxzW9o1Qz2aMNYmT3Mm+gp48HuiZQf0x/WhbSMWt2UXSNVcVTnoKam7Zl1gLYSaLKRjGiBYObV/LB0nuaF8qXQ8+Ch/b/aDvK4rn4BHuC8P49/b1HyBDNyupr3HxaQHvtn3Hjy2iySL2H85DO3ryFKFvDOyyFP2cQDetRFwVehKThCUBHnyvnmU7OPuI9kMKr+cucdJ3WbohF77kKG0Q+F5iSnA6UM9a3NpxtiZJuqd9OWNkvTUiImoCWuNgAlRjGfgcxyxHoa9r0Dd+m+ZAaqing7w+E847op2IQoEVljUFfVQJKInIVGoPJiZAeWJkJ1ar/gVtOWI2nH1EC3va99PTkpbT9p1HS1pO23ceLWk5bd95tKTltH3n0ZKW0/adR0taTtt3Hi1pOW3febSk5bR959GSlvMT2ffr8g7aXj8fgrNIel+o+HP43dnWvvGnkfGHtyAVzBZy6EWzUfiM9k0aiqenJ2Y6enyItVBx7XTSLdbrAzCSES0U2xfwkF7vQJH1awY0wShU8/LychCVRZWkCb29JMtabSrV+jh6X2cUDkaStN6+Qi/K4GC98GHQZSNpEJ0z/gz2RUAyW0Z2TXSmpuSdJJKQbaM1epwk6Vb2fX5+lp/Sy5A/zBukQSy9FYVkestJcIj2mIg2GA7RfgMk15q9Lv8Xw2Bi6vWGFK26/Qm/YJWKZNAll95ZewSyjagUBCRzlFEausbv2fEZu6Gq1SbQpR6FYq8hoIPgWGqUTZ11uFCNBuPirQWtgswjWtjQvnzqpVLFgtmCYqZqXdTTTfhSvgcCmmRT4BDsSz3KEtOqevLQTdlUlMtV9LWkIpCBw/kkppUmElLUZeM8j+Cz14JKZLZWwEQ8ZkyjuRBLVT9XIIgsRSt91D8JBTE5sut06uzliO+qk5MTEdxZ0CriOOFi0COqwJaVG6wg8/GUUC3uc+gSN0s3qeij6COxAOE8bHWTdoJD3AoMCXFHYbGsT0FOrTewQhzF2FR8hHj2QjQvGdHXG+pRZBbE0Vuypi5+FPCU6WmtklDEVhuSsCo6D3itby1oIXGccDHoEVUQd1wpKM+hi6Whcg2yojWBu631Aiq1bOAaYqsMZHArpDw2qOoT0egfhjwjKkXzYoSYg4BPpNBtRE2+FEGPVRKTJaAzsTqbJJT7i7WwcSOg3rsJ3dbEwTwOCUe0cDHoEVUQ7es7DtZBF0tDTRQlwnogkGZOjOhWnEqSk1DZPOy1yrFVkFO6083D0IGKa9korebl8UfU5Act0OziZFFPJlYN6KhRWIYdW5WBz1F+exLTRsAu4KVJ3bYgjhMuBj2iCqJ9gRniG1RjtpaGM+oOaHzXoz89OYQ+pPJ6UK/NRsWo+1rltCog3TkLGbwr6MB4w4VU/Bjp7FVoXtFhRk1x8JqdN0hBB2S0+EmolHwtLLA07CBo6LUAut1a0CriOOFi0COqINkXsCCSRWkwKDVxq7AWHJ70EknKqPta5bQqgjOiexQdVBk3+Lh+H2Z99hI0r6sj1HNXFB8DUaNrNR4SxYkxpORrYYHrgUo5eFTdXdAq4jjhYtAjehg5NU5MSFxLoyIwSSq5oK0RlRRZBlCrmnSIRKGGVoqsEDg5LlRn1KSG+h8Z36ADlVcXgzGzeQCntpUfgZwjKoXpk/mWM9Sq7ZYlwGHeEZFL+gDiUFR9Egod1ISqfEqctH+Twd3MnQWtguQjWqi3rywlmMOofUMPrKOwWBB96clUJZZg/qqPSAsWg1jScAixl0crp2IcRhQR3ZPoguUhJ51pTY7/MGQbURFMZJnQO3FqBoXxFq3MKNoOfTRHwLJIQeVaKD1iUU8HUqkJ0mqi8/rs1Fxd0CrIPKKFevs+DqrZkUI6JvmOz3Ek/TScwL5c92uncinrq+6JaPuWcwL7cvfh3sddT/cmPjFu2o9PQdu3nBPYVw8PfkpjMz7dviuOI+mnIUl6RPt+GlrSctq+82hJy2n7zqMlLaftO4+WtJy27zxa0nLavvNoSctp+86jJS2n7TuPlrSctu88WtJy2r7zaEnLafvOoyUtp+07j5a0nLbvPFrSctq+82hJy2n7zqMlLaftO4+WtJy27zxa0nLavvNoSctp+86jJS2n7TuPlrSctu88WtJy2r7zaEnLuWffpjk+w68LvT00J6bt25yYtm9zYtq+zWn5++//A3Xnpu/lu9g3AAAAAElFTkSuQmCC)\n"
      ]
    },
    {
      "cell_type": "markdown",
      "metadata": {
        "id": "dzwelrnDrH87"
      },
      "source": [
        "#Beberapa definisi dari bagian confusion matrix\n",
        "True positive: 41 kasus di mana mesin memperkirakan jika pasien memiliki diabetes, dan mereka memang memiliki diabetes.\n",
        "\n",
        "False-positive: 13 kasus dimana mesin memperkirakan jika pasien memiliki diabetes, padahal sebenarnya tidak memiliki diabetes\n",
        "\n",
        "False-negative: 6 kasus dimana mesin memperkirakan jika pasien tidak memiliki diabetes, padahal sebenarnya memiliki diabetes\n",
        "\n",
        "True Negative: 35 kasus di mana mesin memperkirakan jika pasien tidak memiliki diabetes, dan mereka memang memiliki diabetes."
      ]
    },
    {
      "cell_type": "code",
      "execution_count": null,
      "metadata": {
        "colab": {
          "base_uri": "https://localhost:8080/"
        },
        "id": "H8yyl2c_buAJ",
        "outputId": "24f18d23-78a0-4dc4-891a-bb832bc39c4d"
      },
      "outputs": [
        {
          "output_type": "execute_result",
          "data": {
            "text/plain": [
              "Text(0.5, 1.0, 'Accuracy Score: 0.8842105263157894')"
            ]
          },
          "metadata": {},
          "execution_count": 30
        },
        {
          "output_type": "display_data",
          "data": {
            "text/plain": [
              "<Figure size 360x360 with 2 Axes>"
            ],
            "image/png": "[encoded data removed]"
          },
          "metadata": {
            "needs_background": "light"
          }
        }
      ],
      "source": [
        "cm = confusion_matrix(y_test, y_pred) #memasukkan y_test dan y_pred\n",
        "plt.figure(figsize=(5,5)) #ukuran plotting heatmap\n",
        "#settingan heatmap, \n",
        "#data=cm -> menggunakan variabel cm, \n",
        "#linewidths=.5 -> Lebar garis yang akan membagi setiap sel, \n",
        "#annot=True -> menampilkan value setiap sel,\n",
        "#cmap = 'Blues' -> color space = Blue \n",
        "sns.heatmap(data=cm,linewidths=.5, annot=True,  cmap = 'Blues') \n",
        "plt.ylabel('Actual label') #Mendefinisikan sumbu y untuk Actual label\n",
        "plt.xlabel('Predicted label') #Mendefinisikan sumbu x untuk predicted label\n",
        "all_sample_title = 'Accuracy Score: {0}'.format(dtree.score(X_test, y_test)) #melakukan kalkulasi score akurasi, {0} berfungsi untuk menampilkan angka akurasi\n",
        "plt.title(all_sample_title, size = 15) #setting ukuran tulisan \"Accuracy Score: 0.8\""
      ]
    },
    {
      "cell_type": "markdown",
      "metadata": {
        "id": "GHVQslQKcPYu"
      },
      "source": [
        "#XGBoost"
      ]
    },
    {
      "cell_type": "code",
      "execution_count": null,
      "metadata": {
        "colab": {
          "base_uri": "https://localhost:8080/"
        },
        "id": "_n_x5gx4cRYl",
        "outputId": "ac9e2589-ea98-47b2-ab5c-5cd89d9b94db"
      },
      "outputs": [
        {
          "output_type": "execute_result",
          "data": {
            "text/plain": [
              "XGBClassifier()"
            ]
          },
          "metadata": {},
          "execution_count": 31
        }
      ],
      "source": [
        "from xgboost import XGBClassifier\n",
        "\n",
        "xgb_model = XGBClassifier()\n",
        "xgb_model.fit(X_train, y_train)"
      ]
    },
    {
      "cell_type": "code",
      "execution_count": null,
      "metadata": {
        "colab": {
          "base_uri": "https://localhost:8080/"
        },
        "id": "kvBpltybcXoF",
        "outputId": "aceff5a5-95bc-4561-cf3d-fe80a10d6d3d"
      },
      "outputs": [
        {
          "output_type": "stream",
          "name": "stdout",
          "text": [
            "F-1 Score :  0.7959183673469388\n",
            "Precision Score :  0.7959183673469388\n",
            "Recall Score :  0.7959183673469388\n"
          ]
        }
      ],
      "source": [
        "y_pred = xgb_model.predict(X_test)\n",
        "from sklearn.metrics import accuracy_score, f1_score, precision_score, recall_score\n",
        "print('F-1 Score : ',(f1_score(y_test, y_pred)))\n",
        "print('Precision Score : ',(precision_score(y_test, y_pred)))\n",
        "print('Recall Score : ',(recall_score(y_test, y_pred)))"
      ]
    },
    {
      "cell_type": "code",
      "execution_count": null,
      "metadata": {
        "colab": {
          "base_uri": "https://localhost:8080/"
        },
        "id": "PNbWrPN5ciJb",
        "outputId": "67309b6c-d107-4ab5-887d-530c7c5c14a8"
      },
      "outputs": [
        {
          "output_type": "execute_result",
          "data": {
            "text/plain": [
              "Text(0.5, 1.0, 'Accuracy Score: 0.7894736842105263')"
            ]
          },
          "metadata": {},
          "execution_count": 33
        },
        {
          "output_type": "display_data",
          "data": {
            "text/plain": [
              "<Figure size 360x360 with 2 Axes>"
            ],
            "image/png": "[encoded data removed]"
          },
          "metadata": {
            "needs_background": "light"
          }
        }
      ],
      "source": [
        "cm = confusion_matrix(y_test, y_pred)\n",
        "plt.figure(figsize=(5,5))\n",
        "sns.heatmap(data=cm,linewidths=.5, annot=True,  cmap = 'Blues')\n",
        "plt.ylabel('Actual label')\n",
        "plt.xlabel('Predicted label')\n",
        "all_sample_title = 'Accuracy Score: {0}'.format(xgb_model.score(X_test, y_test)) # menampilkan score akurasi \n",
        "plt.title(all_sample_title, size = 15) #format title untuk accuracy score"
      ]
    },
    {
      "cell_type": "markdown",
      "metadata": {
        "id": "Ka1lVZm3192l"
      },
      "source": [
        "#Metode 80 20"
      ]
    },
    {
      "cell_type": "markdown",
      "metadata": {
        "id": "2qICfmxB-GRh"
      },
      "source": [
        "#Berdasarkan Jurnal Improving the Classification Accuracy using Recursive Feature Elimination with Cross-Validation \n",
        "yang dikutip dari : http://www.puneetmisra.com/admin/uploads/journals/5f136d202b8ba1.18644117.pdf\n",
        "\n",
        "\"In\n",
        "this study, we have used the train_test_split() method of\n",
        "the Scikit-Learn library of python. Through this function, we divide the dataset into a different ratio. However, the 80/20 (train/test) rule is mostly used in the studies.\"\n",
        "\n",
        "Tujuan penggunaan train test split menjadi 80 dan 20 adalah karena rasio tersebut paling sering digunakan dalam penelitian"
      ]
    },
    {
      "cell_type": "code",
      "execution_count": null,
      "metadata": {
        "id": "tLRGvJTf2CeV"
      },
      "outputs": [],
      "source": [
        "#test size 20% and train size 80%\n",
        "from sklearn.model_selection import train_test_split\n",
        "X_train, X_test, y_train, y_test = train_test_split(X,y, test_size=0.2, random_state=0)"
      ]
    },
    {
      "cell_type": "markdown",
      "metadata": {
        "id": "4pY0in6S2Keu"
      },
      "source": [
        "#Decision Tree"
      ]
    },
    {
      "cell_type": "code",
      "execution_count": null,
      "metadata": {
        "colab": {
          "base_uri": "https://localhost:8080/"
        },
        "id": "OrWqRZYW2HJO",
        "outputId": "f479cebe-1c23-410c-d62b-c52eea7d1ccc"
      },
      "outputs": [
        {
          "output_type": "execute_result",
          "data": {
            "text/plain": [
              "DecisionTreeClassifier(random_state=0)"
            ]
          },
          "metadata": {},
          "execution_count": 35
        }
      ],
      "source": [
        "from sklearn.tree import DecisionTreeClassifier\n",
        "\n",
        "dtree = DecisionTreeClassifier(random_state=0)\n",
        "dtree.fit(X_train, y_train)"
      ]
    },
    {
      "cell_type": "code",
      "execution_count": null,
      "metadata": {
        "colab": {
          "base_uri": "https://localhost:8080/"
        },
        "id": "KgC7JENp2Pdt",
        "outputId": "fe2ed853-5bfe-4f79-95df-be452b997223"
      },
      "outputs": [
        {
          "output_type": "stream",
          "name": "stdout",
          "text": [
            "F-1 Score :  0.8826815642458101\n",
            "Precision Score :  0.8681318681318682\n",
            "Recall Score :  0.8977272727272727\n"
          ]
        }
      ],
      "source": [
        "y_pred = dtree.predict(X_test)\n",
        "from sklearn.metrics import accuracy_score, f1_score, precision_score, recall_score\n",
        "print('F-1 Score : ',(f1_score(y_test, y_pred)))\n",
        "print('Precision Score : ',(precision_score(y_test, y_pred)))\n",
        "print('Recall Score : ',(recall_score(y_test, y_pred)))"
      ]
    },
    {
      "cell_type": "code",
      "execution_count": null,
      "metadata": {
        "colab": {
          "base_uri": "https://localhost:8080/"
        },
        "id": "gAhHYXLY2XEh",
        "outputId": "a918fb5f-726c-4fb8-bf0f-a264d5c929c5"
      },
      "outputs": [
        {
          "output_type": "execute_result",
          "data": {
            "text/plain": [
              "Text(0.5, 1.0, 'Accuracy Score: 0.8888888888888888')"
            ]
          },
          "metadata": {},
          "execution_count": 37
        },
        {
          "output_type": "display_data",
          "data": {
            "text/plain": [
              "<Figure size 360x360 with 2 Axes>"
            ],
            "image/png": "[encoded data removed]"
          },
          "metadata": {
            "needs_background": "light"
          }
        }
      ],
      "source": [
        "cm = confusion_matrix(y_test, y_pred)\n",
        "plt.figure(figsize=(5,5))\n",
        "sns.heatmap(data=cm,linewidths=.5, annot=True,  cmap = 'Blues')\n",
        "plt.ylabel('Actual label')\n",
        "plt.xlabel('Predicted label')\n",
        "all_sample_title = 'Accuracy Score: {0}'.format(dtree.score(X_test, y_test))\n",
        "plt.title(all_sample_title, size = 15)"
      ]
    },
    {
      "cell_type": "markdown",
      "metadata": {
        "id": "dT111Azu2juj"
      },
      "source": [
        "#XGBoost"
      ]
    },
    {
      "cell_type": "code",
      "execution_count": null,
      "metadata": {
        "colab": {
          "base_uri": "https://localhost:8080/"
        },
        "id": "jIFy6Na52mu1",
        "outputId": "aba1f488-8a7e-4808-962e-3c7a5af7d36e"
      },
      "outputs": [
        {
          "output_type": "execute_result",
          "data": {
            "text/plain": [
              "XGBClassifier()"
            ]
          },
          "metadata": {},
          "execution_count": 38
        }
      ],
      "source": [
        "from xgboost import XGBClassifier\n",
        "\n",
        "xgb_model = XGBClassifier()\n",
        "xgb_model.fit(X_train, y_train)"
      ]
    },
    {
      "cell_type": "code",
      "execution_count": null,
      "metadata": {
        "colab": {
          "base_uri": "https://localhost:8080/"
        },
        "id": "0VEbgbPn2pvh",
        "outputId": "a84fecac-1155-48ae-9b63-76b46730afdd"
      },
      "outputs": [
        {
          "output_type": "stream",
          "name": "stdout",
          "text": [
            "F-1 Score :  0.8279569892473119\n",
            "Precision Score :  0.7857142857142857\n",
            "Recall Score :  0.875\n"
          ]
        }
      ],
      "source": [
        "y_pred = xgb_model.predict(X_test)\n",
        "from sklearn.metrics import accuracy_score, f1_score, precision_score, recall_score\n",
        "print('F-1 Score : ',(f1_score(y_test, y_pred)))\n",
        "print('Precision Score : ',(precision_score(y_test, y_pred)))\n",
        "print('Recall Score : ',(recall_score(y_test, y_pred)))"
      ]
    },
    {
      "cell_type": "code",
      "execution_count": null,
      "metadata": {
        "colab": {
          "base_uri": "https://localhost:8080/"
        },
        "id": "bYdFRsqH3sox",
        "outputId": "0aac0df5-2106-48a1-fe4a-ded38d207642"
      },
      "outputs": [
        {
          "output_type": "execute_result",
          "data": {
            "text/plain": [
              "Text(0.5, 1.0, 'Accuracy Score: 0.8306878306878307')"
            ]
          },
          "metadata": {},
          "execution_count": 40
        },
        {
          "output_type": "display_data",
          "data": {
            "text/plain": [
              "<Figure size 360x360 with 2 Axes>"
            ],
            "image/png": "[encoded data removed]"
          },
          "metadata": {
            "needs_background": "light"
          }
        }
      ],
      "source": [
        "cm = confusion_matrix(y_test, y_pred)\n",
        "plt.figure(figsize=(5,5))\n",
        "sns.heatmap(data=cm,linewidths=.5, annot=True,  cmap = 'Blues')\n",
        "plt.ylabel('Actual label')\n",
        "plt.xlabel('Predicted label')\n",
        "all_sample_title = 'Accuracy Score: {0}'.format(xgb_model.score(X_test, y_test))\n",
        "plt.title(all_sample_title, size = 15)"
      ]
    },
    {
      "cell_type": "markdown",
      "metadata": {
        "id": "7VDde-zA2-wd"
      },
      "source": [
        "#Metode 70 30"
      ]
    },
    {
      "cell_type": "markdown",
      "metadata": {
        "id": "19YdwQvA7wEB"
      },
      "source": [
        "#Berdasarkan Jurnal A Comparative Analysis for Diabetic Prediction Based on Machine Learning Techniques\n",
        "\n",
        "Yang dikutip dari : https://www.iasj.net/iasj/download/a371daadb33b96fd\n",
        "Disimpulkan bahwa Train Test split dengan rasio 70 dan 30 dapat menghasilkan akurasi yang lebih besar dibandingkan dengan metode K-Fold Cross Validation"
      ]
    },
    {
      "cell_type": "code",
      "execution_count": null,
      "metadata": {
        "id": "P7Un4A7a3Cay"
      },
      "outputs": [],
      "source": [
        "#test size 30% and train size 70%\n",
        "from sklearn.model_selection import train_test_split\n",
        "X_train, X_test, y_train, y_test = train_test_split(X,y, test_size=0.3, random_state=0)"
      ]
    },
    {
      "cell_type": "markdown",
      "metadata": {
        "id": "DqrC89qY3IwJ"
      },
      "source": [
        "#Decision Tree"
      ]
    },
    {
      "cell_type": "code",
      "execution_count": null,
      "metadata": {
        "colab": {
          "base_uri": "https://localhost:8080/"
        },
        "id": "RsnJubj-3GdG",
        "outputId": "0c966cf4-b225-498b-d839-a4a255649d9b"
      },
      "outputs": [
        {
          "output_type": "execute_result",
          "data": {
            "text/plain": [
              "DecisionTreeClassifier(random_state=0)"
            ]
          },
          "metadata": {},
          "execution_count": 42
        }
      ],
      "source": [
        "from sklearn.tree import DecisionTreeClassifier\n",
        "\n",
        "dtree = DecisionTreeClassifier(random_state=0)\n",
        "dtree.fit(X_train, y_train)"
      ]
    },
    {
      "cell_type": "code",
      "execution_count": null,
      "metadata": {
        "colab": {
          "base_uri": "https://localhost:8080/"
        },
        "id": "PHCsz8pM3SqK",
        "outputId": "e8142764-e981-4197-b30c-3b7cd4a2d29b"
      },
      "outputs": [
        {
          "output_type": "stream",
          "name": "stdout",
          "text": [
            "F-1 Score :  0.826388888888889\n",
            "Precision Score :  0.815068493150685\n",
            "Recall Score :  0.8380281690140845\n"
          ]
        }
      ],
      "source": [
        "y_pred = dtree.predict(X_test)\n",
        "from sklearn.metrics import accuracy_score, f1_score, precision_score, recall_score\n",
        "print('F-1 Score : ',(f1_score(y_test, y_pred)))\n",
        "print('Precision Score : ',(precision_score(y_test, y_pred)))\n",
        "print('Recall Score : ',(recall_score(y_test, y_pred)))"
      ]
    },
    {
      "cell_type": "code",
      "execution_count": null,
      "metadata": {
        "colab": {
          "base_uri": "https://localhost:8080/"
        },
        "id": "FrB41lJu3WPU",
        "outputId": "99e116d4-908a-419e-a948-5d1eb159e2c4"
      },
      "outputs": [
        {
          "output_type": "execute_result",
          "data": {
            "text/plain": [
              "Text(0.5, 1.0, 'Accuracy Score: 0.823321554770318')"
            ]
          },
          "metadata": {},
          "execution_count": 44
        },
        {
          "output_type": "display_data",
          "data": {
            "text/plain": [
              "<Figure size 360x360 with 2 Axes>"
            ],
            "image/png": "[encoded data removed]"
          },
          "metadata": {
            "needs_background": "light"
          }
        }
      ],
      "source": [
        "cm = confusion_matrix(y_test, y_pred)\n",
        "plt.figure(figsize=(5,5))\n",
        "sns.heatmap(data=cm,linewidths=.5, annot=True,  cmap = 'Blues')\n",
        "plt.ylabel('Actual label')\n",
        "plt.xlabel('Predicted label')\n",
        "all_sample_title = 'Accuracy Score: {0}'.format(dtree.score(X_test, y_test))\n",
        "plt.title(all_sample_title, size = 15)"
      ]
    },
    {
      "cell_type": "markdown",
      "metadata": {
        "id": "YN3eegyu3dc6"
      },
      "source": [
        "#XGBoost"
      ]
    },
    {
      "cell_type": "code",
      "execution_count": null,
      "metadata": {
        "colab": {
          "base_uri": "https://localhost:8080/"
        },
        "id": "5v8uqT2u3hQl",
        "outputId": "d0406429-d29f-4eaa-b15e-6e0f014a8ebb"
      },
      "outputs": [
        {
          "output_type": "execute_result",
          "data": {
            "text/plain": [
              "XGBClassifier()"
            ]
          },
          "metadata": {},
          "execution_count": 45
        }
      ],
      "source": [
        "from xgboost import XGBClassifier\n",
        "\n",
        "xgb_model = XGBClassifier()\n",
        "xgb_model.fit(X_train, y_train)"
      ]
    },
    {
      "cell_type": "code",
      "execution_count": null,
      "metadata": {
        "colab": {
          "base_uri": "https://localhost:8080/"
        },
        "id": "--sk4x1T3h81",
        "outputId": "6a0e25c1-6c74-4026-ab1e-6db2e113baa3"
      },
      "outputs": [
        {
          "output_type": "stream",
          "name": "stdout",
          "text": [
            "F-1 Score :  0.8214285714285714\n",
            "Precision Score :  0.8333333333333334\n",
            "Recall Score :  0.8098591549295775\n"
          ]
        }
      ],
      "source": [
        "y_pred = xgb_model.predict(X_test)\n",
        "from sklearn.metrics import accuracy_score, f1_score, precision_score, recall_score\n",
        "print('F-1 Score : ',(f1_score(y_test, y_pred)))\n",
        "print('Precision Score : ',(precision_score(y_test, y_pred)))\n",
        "print('Recall Score : ',(recall_score(y_test, y_pred)))"
      ]
    },
    {
      "cell_type": "code",
      "execution_count": null,
      "metadata": {
        "colab": {
          "base_uri": "https://localhost:8080/"
        },
        "id": "FWgMd8pX3kzK",
        "outputId": "d3a45d53-42ef-4e4f-bfbf-84d0feb49465"
      },
      "outputs": [
        {
          "output_type": "execute_result",
          "data": {
            "text/plain": [
              "Text(0.5, 1.0, 'Accuracy Score: 0.823321554770318')"
            ]
          },
          "metadata": {},
          "execution_count": 47
        },
        {
          "output_type": "display_data",
          "data": {
            "text/plain": [
              "<Figure size 360x360 with 2 Axes>"
            ],
            "image/png": "[encoded data removed]"
          },
          "metadata": {
            "needs_background": "light"
          }
        }
      ],
      "source": [
        "cm = confusion_matrix(y_test, y_pred)\n",
        "plt.figure(figsize=(5,5))\n",
        "sns.heatmap(data=cm,linewidths=.5, annot=True,  cmap = 'Blues')\n",
        "plt.ylabel('Actual label')\n",
        "plt.xlabel('Predicted label')\n",
        "all_sample_title = 'Accuracy Score: {0}'.format(xgb_model.score(X_test, y_test))\n",
        "plt.title(all_sample_title, size = 15)"
      ]
    },
    {
      "cell_type": "markdown",
      "metadata": {
        "id": "YZvRiUkZ3z-r"
      },
      "source": [
        "#Metode 60 40"
      ]
    },
    {
      "cell_type": "code",
      "execution_count": null,
      "metadata": {
        "id": "8KKGOZF-32Jx"
      },
      "outputs": [],
      "source": [
        "#test size 40% and train size 60%\n",
        "from sklearn.model_selection import train_test_split\n",
        "X_train, X_test, y_train, y_test = train_test_split(X,y, test_size=0.4, random_state=0)"
      ]
    },
    {
      "cell_type": "markdown",
      "metadata": {
        "id": "QZxLAtlz391p"
      },
      "source": [
        "#Decision Tree"
      ]
    },
    {
      "cell_type": "code",
      "execution_count": null,
      "metadata": {
        "colab": {
          "base_uri": "https://localhost:8080/"
        },
        "id": "B_qxEBvU388q",
        "outputId": "9b7b7f7a-79f0-47ee-a36e-fbb1df990949"
      },
      "outputs": [
        {
          "output_type": "execute_result",
          "data": {
            "text/plain": [
              "DecisionTreeClassifier(random_state=0)"
            ]
          },
          "metadata": {},
          "execution_count": 49
        }
      ],
      "source": [
        "from sklearn.tree import DecisionTreeClassifier\n",
        "\n",
        "dtree = DecisionTreeClassifier(random_state=0)\n",
        "dtree.fit(X_train, y_train)"
      ]
    },
    {
      "cell_type": "code",
      "execution_count": null,
      "metadata": {
        "colab": {
          "base_uri": "https://localhost:8080/"
        },
        "id": "gA-vUx1G4Byh",
        "outputId": "2eff90c7-c532-4024-a625-57732ca92ebb"
      },
      "outputs": [
        {
          "output_type": "stream",
          "name": "stdout",
          "text": [
            "F-1 Score :  0.80306905370844\n",
            "Precision Score :  0.785\n",
            "Recall Score :  0.8219895287958116\n"
          ]
        }
      ],
      "source": [
        "y_pred = dtree.predict(X_test)\n",
        "from sklearn.metrics import accuracy_score, f1_score, precision_score, recall_score\n",
        "print('F-1 Score : ',(f1_score(y_test, y_pred)))\n",
        "print('Precision Score : ',(precision_score(y_test, y_pred)))\n",
        "print('Recall Score : ',(recall_score(y_test, y_pred)))"
      ]
    },
    {
      "cell_type": "code",
      "execution_count": null,
      "metadata": {
        "colab": {
          "base_uri": "https://localhost:8080/"
        },
        "id": "bnUUsFWx4Euj",
        "outputId": "68e67793-cecc-47cc-b325-194545145257"
      },
      "outputs": [
        {
          "output_type": "execute_result",
          "data": {
            "text/plain": [
              "Text(0.5, 1.0, 'Accuracy Score: 0.7957559681697612')"
            ]
          },
          "metadata": {},
          "execution_count": 51
        },
        {
          "output_type": "display_data",
          "data": {
            "text/plain": [
              "<Figure size 360x360 with 2 Axes>"
            ],
            "image/png": "[encoded data removed]"
          },
          "metadata": {
            "needs_background": "light"
          }
        }
      ],
      "source": [
        "cm = confusion_matrix(y_test, y_pred)\n",
        "plt.figure(figsize=(5,5))\n",
        "sns.heatmap(data=cm,linewidths=.5, annot=True,  cmap = 'Blues')\n",
        "plt.ylabel('Actual label')\n",
        "plt.xlabel('Predicted label')\n",
        "all_sample_title = 'Accuracy Score: {0}'.format(dtree.score(X_test, y_test))\n",
        "plt.title(all_sample_title, size = 15)"
      ]
    },
    {
      "cell_type": "markdown",
      "metadata": {
        "id": "35vVEeF-4Mcb"
      },
      "source": [
        "#XGBoost"
      ]
    },
    {
      "cell_type": "code",
      "execution_count": null,
      "metadata": {
        "colab": {
          "base_uri": "https://localhost:8080/"
        },
        "id": "u6ptShnO4N0W",
        "outputId": "1d62d4db-e027-4bbc-a3f9-4854be85d494"
      },
      "outputs": [
        {
          "output_type": "execute_result",
          "data": {
            "text/plain": [
              "XGBClassifier()"
            ]
          },
          "metadata": {},
          "execution_count": 52
        }
      ],
      "source": [
        "from xgboost import XGBClassifier\n",
        "\n",
        "xgb_model = XGBClassifier()\n",
        "xgb_model.fit(X_train, y_train)"
      ]
    },
    {
      "cell_type": "code",
      "execution_count": null,
      "metadata": {
        "colab": {
          "base_uri": "https://localhost:8080/"
        },
        "id": "_9qKRmb84QyR",
        "outputId": "fff5d15a-96c0-42af-9689-f31d945c0994"
      },
      "outputs": [
        {
          "output_type": "stream",
          "name": "stdout",
          "text": [
            "F-1 Score :  0.7816711590296497\n",
            "Precision Score :  0.8055555555555556\n",
            "Recall Score :  0.7591623036649214\n"
          ]
        }
      ],
      "source": [
        "y_pred = xgb_model.predict(X_test)\n",
        "from sklearn.metrics import accuracy_score, f1_score, precision_score, recall_score\n",
        "print('F-1 Score : ',(f1_score(y_test, y_pred)))\n",
        "print('Precision Score : ',(precision_score(y_test, y_pred)))\n",
        "print('Recall Score : ',(recall_score(y_test, y_pred)))"
      ]
    },
    {
      "cell_type": "code",
      "execution_count": null,
      "metadata": {
        "colab": {
          "base_uri": "https://localhost:8080/"
        },
        "id": "ImLIfK4e4TLL",
        "outputId": "1440b98c-ef2a-47df-daee-2cdc14515b10"
      },
      "outputs": [
        {
          "output_type": "execute_result",
          "data": {
            "text/plain": [
              "Text(0.5, 1.0, 'Accuracy Score: 0.7851458885941645')"
            ]
          },
          "metadata": {},
          "execution_count": 54
        },
        {
          "output_type": "display_data",
          "data": {
            "text/plain": [
              "<Figure size 360x360 with 2 Axes>"
            ],
            "image/png": "[encoded data removed]"
          },
          "metadata": {
            "needs_background": "light"
          }
        }
      ],
      "source": [
        "cm = confusion_matrix(y_test, y_pred)\n",
        "plt.figure(figsize=(5,5))\n",
        "sns.heatmap(data=cm,linewidths=.5, annot=True,  cmap = 'Blues')\n",
        "plt.ylabel('Actual label')\n",
        "plt.xlabel('Predicted label')\n",
        "all_sample_title = 'Accuracy Score: {0}'.format(xgb_model.score(X_test, y_test))\n",
        "plt.title(all_sample_title, size = 15)"
      ]
    },
    {
      "cell_type": "markdown",
      "source": [
        "#Random State = 0, Balanced Dataset\n",
        "\n",
        "![hasil1.png](data:image/png;base64,iVBORw0KGgoAAAANSUhEUgAAAncAAADYCAIAAAAGfVInAAAAAXNSR0IArs4c6QAAAARnQU1BAACxjwv8YQUAAAAJcEhZcwAADsMAAA7DAcdvqGQAADrySURBVHhe7Z1RYus2sgXnJzvIz6xhdpK9vOVkP7OzeWUduHMMEhQFApAsdX34NpsASJQbgG8SK//6X5IkSZIkc8hTNkmSJElm8c8p+68kSZIkSUZQTtbqlC1RMohU2iLNJEnyxuQpu4hU2iLNJEnyxuQpu4hU2iLNJEnyxuQpu4hU2iLNJEnyxqw+ZRn5//7v/8qF8ccff/znP/8pF5dpjfbXX39xq1ys5bzSP//8k8Zb+vxgm77//e9/y3Uvf//9N+PwtVyPg2FLlHwwrbJ/aMGOqnbWmp6+pbRIktN42Vg0p5i0BlhO5fobFhL5gafsLhyxPOX1T1nYPdK23u4i4XB935kHr1ei5INhYapKq+J/Snmw1vQCvBIvEH8xiJdMkvN4DVs0p7KpUf2QuK1U3SoXQ2GFxCL5FX+Xhd1Ttg/mviv8DOga8g7HTCq25HdBsSmoij/yK4mHVqcswUNL6Wvr2ftHd8lH4Vvc3FOWZcNPiKra7cqZd8r6IuG5v/SU7d5rmDtDdZyy+k75O0ziITPJ27Mt/idSnbKPcqVv8jb4Fjf3lOUQ1crhrN0eddUpyws4cYu+yvgIJGlAhrxqmoBjSSskIK9TNvIxbJXXkabYH3QFhirRCaqNhiBO2dtLfaGZMgViDEQsYm0TcMnUFCiOmUYzXQou9QJCBmKcW/MfDWIQJWmj78VJdbQsUZJsil+o/FgFfFW1x1YA0VgNIvZFHYvdiWHL9QZ1jwoP1FGU1G0T45JbPCueK0qL5CPxArBodFlo51WsAq1WEXdjGUSsSo01wLqKmDagJG2Axrqly2hJHIuEJJfqqNeIZOTjkri1xjrQgCfRRuPEdIDYtwyZVBdJ4K7mApqm8t4GiDU12mvnUlLP0tw1uAYBH+er9fctviopaKbuGv8YmpUoSb6rS4UnovxiFSijmNJV9frKjdgXu6r3IXbLmMtYgLHWeKKaVaup6pt8IJRBiYjLnxM2PkoQysVt/ChTQaVGxkuTelXed3bw6o82AbficT4ayTh+NKAWXisP3v0KjFOiE1QbDYHb493ibYmjmcAGfaMBLx/TOZ4aeTKgZ+kyBvdxeIS/D/L1uOPxW9CsREmyKX6h8isXBoVHPk41yjKaHSzq82gVVGWsJebQzB8dkDmzBJL3xgvDotEbnxZDRbl3gwZxUhLEsqGZynS7zLjUXk/j9z5lIaYjmLLeyvNa/PTy6cibptOaGhlideGrxlQy3sHHiTaCmFsErfGPUd8kEaqiKDyh8isXNyhCFZtvF1GKimMVVJV5Hq2CqowZtno9QUsR7T1OPhbKoETE5c/RGx91Vp2CKnqvPwrX23BXRJLGXHpxc6kRPuGUBS5jUrySXjgyPgWP5U3TaU2NxjFOxNpf4h18HNrEvgbxuNb4x9CsREnSKH6VX7n4+YO4x5RiNPNVUFXmebQKqjLmcbFetvDQeP9t3+QDiZoEi4ZufIy2rW8q1Z9CacZJya3d9aDyVUztxhKi/d1TFhiztfAOFqS6K74C45ToBHoHLdTA3wq4dFFMIR5BPqbDy0dHH1btgQY0lkCakZE6xTTWpY+jWHmguxRp/HglYuWPoVmJkqRR/Cq5cmH/kgIIKHjFvgqIo01VmefRKqjKWC8Tb8iDaMbXaMZzdVd9oePRydsQNQkWDdr4VKMiShBYFSX7vcsr1l4fl0EUdNyK9ROZWGm6BB0DehYjg/LAQ0v0r3/9+9//LtHPvMca6goMUqJ7uBwnJiiYTpUp7W6TVeBT0DqPwZkRX2lAMpohM3SRl1ttH7f7X2gcz1SDgMd31dGmRMnH48Uf5a1aFSo/31hU7dSqN2st9t3Du1WiPkhsOMKfpe58jfYxoK+m5GOhBkpEXP589sa3Lfpt5tfxXKWvTJpJkuSNeblTlgM1foYVZKqfQH8jeZa0SDNJkrwxL3fKgv9TI3iDv8gCEylR8pM0kyTJG+Nb3Kucsm9JKm2RZpIkeWPylF1EKm2RZpIkeWPylF1EKm2RZpIkeWPylF1EKm2RZpIkeWPylF1EKm2RZpIkeWPylF3Er1P6H/t4nalksSVJ8sbkKbuIVNoizSRJ8sbkKbuIF1T698//od6zyGJLkuSNyVN2ES+oVB/9Wi6eRxZbkiRvTJ6yi5ikVB93TsBX0OeS61P+4dbkC/909fi/hQTcjY9N56s+4ZKvCgTxrW39Py24DmOWKEmS5O3wLc6i3PhGM0Op/89G/FL/3xIC/VWVy/jvmNRGDeLvstEx/mqrMzUOVAKd3zqtaa/8EBiwREmSJG+Hb3EW5cY3mklKdUAq1hHo/5dAnZr6G6qjY9L/ibGPIzhZdcoyYHVrLFMHT5IkeS6+xVmUG99oJik9c8ry19A4TZ2Tp+z21limDp4kSfJcfIuzKDe+0UxSeuaU5avOy4qH/i6rf8g8g0lmkiRJXgHf4izKjW80k5SeOWWVjwOVBvQiUAMulaneME5ZoCUoBv072lFMMpMkSfIK+BZnUW58o5mhlDOSYYWOSeGxTkTO0XJt/00Tt3Tp4+jvrCR16QetMqDMKIYPmCRJ8jr4FmdRbnyjSaUt0kySJG9MnrKLSKUt0kySJG9M85RNkiRJkuQ65WStTtkSJYNIpS3STB/prZtU10d668O9WZQ2R5NKW6SZPtJbN6muj/TWh3uzKG2OJpW2SDN9pLduUl0f6a0P92ZR2hxNKm2RZvpIb92kuj7SWx/uzaK0OZpU2mKxGX1Gh6g+0Cp+S7hcN6CZf0aHiN9R1id+LODue47FvVVzPONNDaDqu94b8LgSzUezC+IX0OGuN3f+9/enzYi39xboN/Uf8hYgp1qqT/dm0TNsvjeptMVKM9q2tGFpvcVBy9LVx2PpEzyUrIhdb7t0I0OwZgG3XnISPC4+Pow4Nv0z3kKOPv8k/DzFGyxTx4yiwIDpyxV0eFMMb+9NMC+eWH3S3BlvAQ1CFLyCN4vW2vwEUmmLlWZYn75oWbH+2VhKQqzkXejiSxd8xfpKnspKb/LjP5Fovme80cZPGuTEt+Ap3mCZOuZeohv4kYoz3lwasft/e2/AvHhcTFOc8RZQZtx1Oa/gzaKFNj+EVNpipRmWpZ+ysQgJuKUkVJcV1Slb7YDV5TxWetOkYodCjs6Ph7wJGuhb8CxvsFJdwNSibB71hu2o2w/xxrPQUi6+Oe8NY5QrDcL5i3iz6BlV+N6k0hYrzbAm/YCMRUh+9/QFXs+7QHXKsph9Clq9OoSmsriimLXmhRw/bs97E3RR92d5g8XqBHJA8UPeMEP7cvEZ3jRHtPAVYvrnvamLN3gRbxY9owrfm1TaYqUZrTS+6jLOy4PVuyV6iWet3vUVhSUeipxy/aA38APjRXa9ZTBx5hjxSW/c4m2FMp/gTUtMlcbUeK7ik96ijTd4EW8WrbL5OaTSFovN+LYFWpAPnRbaAsrFx5yyzAtLmmy4esgb0D5Omo86ZZmdm3nUG415Z5oRf4K3yg+x/JzxhgoUKfYGL+LNouVV+Pak0hbPMsMC49Ha9FmNLGDlgZXslxWx5oWWq8YBH3Yqi73FpDRf7fgPeaOxb2rP8gaL1QFzh3LxoDdBA43wCd6Y7O5pesYbSd6zgiP2RbxZ9KSN741JpS2eZYZ1GxuflpxiYOnGj8NbWMbVT9BcRnuC7cqfwUpv1d8DYrM774182A6e4g3WlxxTw1W5eLDeBFUXbd7eWxyroqPeRDXOK3izaHkVvj2ptMV6M1qr/sMysOR0DLD8fGVu2Z6y3oWRfT+dx0pv+ntAHJPhyuMDb9xy27SXoqd4g5XqAHtbM+frDTDjbT7BGxOMGvM5PuSNlq/mzaLlG9/bk0pbrDTDquNxsPtPiliBuluub3DpC1UNhK/SGJmVXFKT4VklWgKT1QQhtj9x7C3MBGyUagPrvQGPK9ESmCOUC+PYG0J0F9yY+ARvmiBUx+GxNwdLVfLp3ixaa/MTSKUt0kwf6a2bVNdHeuvDvVmUNkeTSlukmT7SWzepro/01od7syhtjiaVtkgzfaS3blJdH+mtD/dmUdocTSptkWb6SG/dpLo+0lsf7s2iJEmSJElGUE7W6pQtUTKIVNoizfSR3rpJdX2ktz7cm0VpczSptEWa6SO9dZPq+khvfbg3i9LmaFJpizTTR3rrJtX1kd76cG8Wpc3RpNIWaaaP9NZNqusjvfXh3iw6Z/M/e5/LDN2fXKXPlznovv1wuw78U2wq5n0gCIOX6ALMffdDZH41Q8w8RHx2TPUhi638Fr4L/nE8+gBC0V38j8KzSrSKK96uOx8IjyvREnbneKZmfKfyTytr5WfD40o0H9aXJhiUG+bzYLt2RaH9YMyp+IMsOv141YrPVgq2Hwn2OvC27j1ela1z3hl2/TuqukFvuX4Xrpt5CP+OE8R3vJXfopqPxhDfFOqKW61Ncyy/yFurTSs/m5XqWnO8WzOUWXSkTbRv5RewzBtz9DMFOTFl5iuH26PHiR0+OBhzNu7NotM2d6equlm2Zh6Ft+W1FSPaXc975/NKW/CerQX5q7lu5iG8XPl2x2ps5bdwC6JsquJnnDWV/4u8Xek7g5XqducYGUEbbpWLb2KPApZ8vHMrv4Blz6q2OOTIGHn/qYL87g8ZNKsMQ2vMBbg3i07b3D1lgeTKH7K6uR2yK36iuVigeJZPxlm2Ga3hoplHQWMIZKWB4la+glJnudKyVTaM0+o7ll/k7aLz4axUd9LP8dyput0GrfwkFpdcgB/9bMFkiZUEViKv5D92CNYm+d1bQYy5AN6kRMTlz0ds8qI03p6ymqemoTbCf6AoKfs5jnG4jMnrrjY1Zb6ORNvdyKsNlNQtSRt9A+C4CqsBhYpe3fXC8SBvHG38G9+CZiXqgmdJst5EycANx/dim1QsIUyEOKZTTTnswe6UwS/DgC4l7SS0L9ESVGO8OS8ZdQWtvINS3eLrtmwEKh6afje/yNuVvjNYqe7MHI9rptVxsTRY6S1gmrHW0Mg7xAHBLb8MlFHjlrrW+p2Be7PotE1t5VRSuf6GuWn+EFuwCo4McfSKpALF5BkBFwTokCkC7oYdksqDbil5G6M0k+hbk31oppYBb6sRyvVtzJggd/VQRgYlt4NsOX6Nu0R3FVa8D6CLjFzFfHeTwPvHazMRvfZ2ytFMj4txyN/u/+NBDfQtA9qo8Xn8uWuQkO23rJUPNGUFu82Ye7SZzS/yBlf6DmexuuM5HtcMt+gLsfREKz8VHleihWAvtjtta6Erzg5dbtHutN2RfMwFuDeLTtvUtLdvTElp/qowh8Ykd2vOraFyW0D0Ukc91/1yybAEdIzBNaDiXWJAh+dqKMEIjt6Kr+X6GzVucbfBAcwiCgt4tL8zt/yu2E2CT40GMU41ZSF7oDKNoIJB4lm7Dz2GYUu0Ciar+iEoqRutvMBGTN/VObsdJ/FbvIkrfYezWN3xHM9MnGKjOxVYrr9p5Sex2JuQvXLxfXAGd+2xVLc7WzXmbHjPEhGXPx+xqerZfptj/ruTbG1S2tY1f40sYnejlzrKtZvicdrifXANqHiXGNBhqHhnvYZip3r6XY5f4xjekO4V8XTuauLObhJ8ai7K8yBvNND0sR1BaWHE94KgY8HTt0RLYMrxksw6DLTyARletcKFSFe5mA9PL9ESur3Blb4zWKnueI7na4a+MY7Tys9gcckB6+ugKnifu3OnQXUAHY85A/dm0Wmb2nyrqVI6kWSG2ymRpDjKhUEXOlZlRyaSDKXRtLP7cxlQNv3w0ICKd4kBnRhKMIJvpuLR4j5+jQO2NSHn8YY+32A3CT41b+N5ja8pe0zQmjLjMBqU60foNtOBTwcI9PRWvoWrE9h7qB6u81u8jXI+kGUPOp7jQzVDvcU4Tis/g2XeAhRBufjJdg3uQrPKz8GYk3BvFp22qTLyWmG/JhMbrhrErJgwjZWMNkoS8JU8d4ndTiTRGmYJIk9LYuXdvgZUvMttvPpbVZ2yDOiD6LVpEE+P5AHHr3EAL1NVCeiVfO7xwkyZzG6SgNH0qvSlAWj621PWvyPq6w/VpQLQ4+5K2IWOJVoCM43vOFOOuJXfhZl6A9pDubjdDUvz+EXehjgfyEp1rTkSg2I4rhmW4a6cVn4Si0sOsLerhTfhVrlog5/tptQacx7uzaJzNpkALbdUc9AWLKImaFNS30lt6IK7qkhdcosGcRmDRAaqDCoZQTFstfpbgQ4SKNc/zwx/ULT06esND6BNiR5Bg0O1IEv2O+9zidfeTYZk/JCUSWUgmsUjItAE4xLCg2CovtplqBKtQu8Pmn5Qsj/z1aUIdYrVKyCjW1PhQSVahWYHHd7UAM70nQ2PK9ESNEGIOR7UDLGa+fblFdXKL4AnlmgJ7DBVVcSett1vSarx7r4XbMdcAG9SIuLy53Kbn8DbK+1e8FlsfaS3blJdH+mtD/dmUdoczXsr5UfL7U+XJ8li6yO9dZPq+khvfbg3i9LmaN5Safxj/yv/5OotzSwgvXWT6vpIb324N4uSJEmSJBlBOVmrU7ZEySBSaYs000d66ybV9ZHe+nBvFqXN0aTSFmmmj/TWTarrI7314d4sSpujSaUt0kwf6a2bVNdHeuvDvVmUNkeTSlukmT7SWzepro/01od7syhtjqZb6R+b/y3BqF9F//NGudig/364+/dzzsNTSrSKUOom/ZfZDz5eI/q6mfhvrYFxSnYyPKtEq9j1FpDU3XL9k4O+3Fr8QQGtl5zElbm3PmMhPptiWb0BjyvRfNCiCQblxr06FC/rzaK1VfgJXFHKhk53bf2KF+9KU1lcbKgLewT68CzcRpI1yTJWXEE+2vPacdBGe/qSX7OAX8GbkI2WNGj1ja0w7q6BJ5ZoPrep98999yBhkOjFCMsODJ5VoslQUf5TLBN0hx57HTov682itQv4E7ii1E9ZoFD88rezuNh4XCxgVp1Wo8vU9lcuDPJ+kNBXl74dAH1bK38sr+ANdMTubmpBq6/42jUPT5rhrFR3Ze6UXFVdgjHjhGDMZfaWeavOP+YYHo59ilf2ZtHaBfwJXFFKxdA9TgLqw8vlt7O42DgaY2ViEhQH2N4mgaSfsvj3b0pAm93uw3kRb7dj4s5udez8zAhjWanuyty5xavCwU+B1eVUlj2oAodh4NineGVvFj3J5htzRWl1ylJkcUnNUWdcAnUTd8FXb7SBkvpZr+rF18ioCjUm8Lhb7y+ispWkTZS18g/R16sbyWQKvHZMNthNCjmM74L8xGWA1ZA2lVfwpgLYrS7n2DnF47W6gNZ7zuDK3FVd0ht9uaTGFEOrDmew0lvABF3RsU/xyt4seobN9+aKUhWWCkLFobKjaIjh1uoLSorGiuMQ9fKKpPoqjnrVg5S5DVxOWR5N7C/AmEoKNSMgT/AQ9CrRKrT8trsbEr4m0/hXjJqvRIF/U4IwuQCeXqJVbL1JQky5uuu0nAPJVq9JLFZ3fe5adFpljOb1qVtVHU5isTfBfGNPEwc+K17Qm0XPsPneXFGqvSzwWiGmesrF7SmOWhKoziq4q/3RazHwJM1iJwVVOYEOnuhYvcxJNNRKeE+9ufxUsHq5VS1sISfBtvvugJPgBUq0iq23aufa/clDbPsGt4PmnU/ZIXNnAWpxVc5Vk7vOh7PYm5C9cnHjwOeWV/Nm0TNsvjdXlB5vXqohUOUpDpSMg9Chb5ydLHWaQWRUherIXT9l432qwf1lzsMIJVoCc4kTlBfe3ePI756yDq9dtUERQsrFfF7B28md69g5l1VmNivVMbUhc2cQLS5JVhLIL5vO4pIDJrs1duBzy6t5s2i5zbfnilIVxO4OTp35wUazOPMCklGXDn397AQuaexFqdEoZRrfmnwRBfrrTtnqhTVHxQ7zjTa7IKpa3kx8V/I8XsGbgqjMXZ93nWOykjmb7UtOYuDcKbkYx8ek8KpVPI9l3gJmB+Xi9Pp1Xs2bRcttvj1XlJ4/Zakbf5DKSMnoHrUVpyyVF0kCDagKVlEqjjbsC2pTFf3rn7LAS8a+xttu9zhsH298vDCDlIsbjOMTR9TuN2ssL+KNyUZM4B6CY+dcVpnZrFQ3ZO7UZKw+iHG0ABcUm1hccoC9anbHPite0JtFy22+Pd1KqSr6Cq8YKNmfecqoZO38o0FJfSdjWG6RiQaqQh2rQu09Q7FWGf0cIKqXvAtdSrQKvSf4ci2pPcmVEyarW8LdikcN9MGDSrQKzQ7Cm4iSU2GIqpkagCe12QXvelpodnBm7sRq5utrW1FRdVqea+BxJVoCU3NjgSYOVYH9Cm8WLV/Ab08qbZFm+khv3aS6PtJbH+7NorQ5mlTaIs30kd66SXV9pLc+3JtFaXM0qbRFmukjvXWT6vpIb324N4uSJEmSJBlBOVmrU7ZEySBSaYs000d66ybV9ZHe+nBvFqXN0aTSFmmmj/TWTarrI7314d4sSpujSaUt0kwf6a2bVNdHeuvDvVmUNkeTSlukmT7SWzepro/01od7syhtjmaGUv8shWD4RyIwZnzaAIP/ceITuh+C8Uu0ivhEjurzJY5/n120+gK3dn+JfhK8Q4lW4Z9kUlI3DpwItKhBcJyfzbIHiV1vXmwHH8fRch5r/1mfrrCA3bn7p3kcz53u2/V4t1ZnwONKRFz+fMYCfnvmKWXkOAW19lonRAeMFuMzLDFlqlujYMwSLYH313S0XH2x3fXW6hs75hufskwtZkcQJXfgU5D3JK40Tiu/gJXqvqxtvDH3SFJ1rTV167rjnCDyzGXZQft0bxCutB3tzr21Hu/W6iR4VomIy59rbX4I85QycpQgUElRiEPw8Q92hG5WFhvLz9+fecUlt45X3UFfcdsWfqzqqSxepDwu/DB3/URy1wnQpkQ3aKNxWvkFrFS3641dXhnAQ+t9dvsC+bBHflnVPd1bVSG04Va52FCtxzO1Ogn3ZtHaBfwJzFNalRqlM7Z6fPzffspWS0sbnLY8FiRxXG456CuqVT0bnl6iJTD32OVRAQqOnWyh/W6DVn4GK9XtenM4ObZJsdtXkpWE6nIqL+UNaLObF9V6pCXty8W5Wh2Fe7Nooc0PYZ5SRo5So6q4pIB0Kagtkt4M1BKiEFV2wquTy+j4Bqcsj4ul5StNX9Uglrdz0Fcgzb3NhqeXaAkcBjwRCUzct79jJxU02FXUyk9ipbpdb8FuMmg5f4XTYjbH3gQeuFsuNtyW4z9F9WitDsS9WbR2AX8C85QycrAtRwpRlcRXGlC7xBSfWnqSlhQigeovypdYeaDXrz5lNd+wpJVcrbRq+sHdvtWqng1PL9EqtE/5HM/4dBhBxVbRyk9isbqtN4E38nCwprZ9yXj7Z50WC2h5E0w8Cm8XOnrfR2t1IO7NouUL+O2Zp5SRKUcC1l5VkVqBDkWmZGmxQcUHccwQa3yg+68+ZaFysjsdphlTdo77Vqt6NrxAiVbBfLVV+cTP+Aw0QrkwWvlJ8J4lWsKut4Ca4Vbrh4xt3885ZY+97Sad7Xp8qFYHwrNKRFz+fMYCfnvmKWVkHQmqSD8eWLpVnYHO0XJhKM8Bo3GoSOV9zDc4ZR0evbu7kdw9ZZ1t3+2qnspib0wt5ksN7M605VNQUbu9Wvl5rFR3xhv5XW+7fXVUKAk0WDad1/GmbapcNKBL1cs5rtWxuDeLFtr8EOYpZeQ4ErTk4oCsFqRQsqpRP1k/5JRlLq1FyK2Y/i67fW+Lurmqh7PSW1USKiHFwYFPQRVFITmt/DyWqTvjDfC2rbeDvp5HHeYVz2b35Wdw7I0pnzkgb8uxucBbt2bgL2/RKpufwzyljOybFAVEpvVjoBYkST8sSaqs1as6qn18WnrHITB+iRbCQ1sTYfqy1KLV97ao3/OUBaYcs6Meqpke+AxoQJmVC6OVn8dKdcfegHprlU2rb8RatsvsvYI3YlAM2rvKxU/oEr2cM7U6Fvdm0TM2vvdmhlKqjWGDkr09S+ikLBc31ACos5L6TlKvuoxAx63gWZEfW6MMWKL56Idi0M8TQeShOmLJaK22+oI2u2DNrseDSrQKzQ5i8zpw4s2AlrtbXis/Fd6tREu4GfoiZuort1VvQm2gshSLEYElNR8eV6IlaIIQc49ZB2GPOJrtrseDWp0NDy0Rcflzuc1PIJW2SDN9pLduUl0f6a0P92ZR2hxNKm2RZvpIb92kuj7SWx/uzaK0OZpU2iLN9JHeukl1faS3PtybRUmSJEmSjKCcrNUpW6JkEKm0RZrpI711k+r6SG99uDeL0uZoUmmLNNNHeusm1fWR3vpwbxalzdGk0hZppo/01k2q6yO99eHeLEqbo0mlLdJMH+mtm1TXR3rrw71ZlDZH063UPxrC8V9mV5u7v5+ujkDLv/76a82HJ9yF9ynRKuITOaoPBIj8we+tx++2Q3T334Jf9ikBPKtEq7jrrcoHd/3QUXfL9WSWPUjs+nmoZio/XoQrVzGPK9ESWnUVn+nR8nbg527fGfC4EhGXP5+xgN+ei0opuKrU4vLP7/9T7HHd+AjqsnJ9HsCblGgJzB0iZtUpxo9ibX+tg7b6Lgj6KuDu3W/EKF7EWyvvHPiR7WiwhpXqWn5O1szWD5kYkL4r1b2CN4LI73o78HO37yTcm0VrF/AncFEptULFlIsNlMtx0agB9Veub/Xnl09kcbHxuDhBWXWyip9qNe5uXjTbnr5VhvFjR5jKK3iDVj448KMj5KCwJ7FS3a6fkzWz68eXrdZ1uZjP070B+djoyMepGRz4udt3Ej/eofz5M5sM4aJSP2UpvuqAVDFFAW151nZ2hsXF5iZZaaDAj1X5rCQDy5L87q2AcTTmbHiNEi1h1xu08i3cDz6X7XTOSnVn/LRq5q4ftoLdjpN4urfq1Kwut7ifR/sOxB9k0arHfw4XlXrNETx6ygK9aLPbTN2F3y2pn8czlxSu8noN3k2XUdAPQccSLYGFp1dlpr6MSYZVCdkepcqosTtxsLE1PINX8AatfIvwg0x15KtQgwWsfNYZP7s1c9fPSeED2b7DPFrrFFeKgVu02a5TUfl5qO9Y3JtFC21+CBeVUh+MEFTFoYrha7luoMIVMYJXG0UZhUhSA3KLWPX61fPnvyUiVl814xHKn4deJVqFdi7/W4LPESRK89qlJZyML+ypvII30cpvcT+SHJcnRxjCYnXHflo1c+yHPBnwxTgbHleiJWy9kfH5ahnurtOtn/N9h8ODSkRc/lxu8xO4qJT6iPVGUBWHKoav5fqQqD+1p4ipP90KyHhx+6lDEEepnuvES56HXiVaBTKZC8/drrrAb+3CTLfe7vYaCC9ZolXseoNWfos3qHa9uz/ZDGSxumM/LWln/LBIScZ6nM3TvVVOtGYPasb9PNp3IO7NouUL+O25qJT6iAOMoqmKQxXD13J9e1xAY/AjgUvyGpCR/Zbglp+yPj5BrGoCb9YHA5ZoCbxwvD9z331/n2MLGlTekIbYcjGfF/F2xqeo/LzIrjebYz8HNXPSD23u1uoonu5NEpQEGtx9pfDT0XcU/iCLVj3+c7iolFrRobiLCoiv5XoDi3O7vJXh63ZkMv7CvsIJovqrwu3j+gjnYQo8LkTtvn+YOYZmLpw9MbSs4RW8nfEptn7UWEUVl4pns+xBx36Oa+akH2o1xp/NK3jzPAK3e1eF+3m07yjcm0WrbH4OF5VeP2VpECPoUiucrxEDxcddNYjDho7R1xtD/Jgpotl5GLBES/AXZrL+8sDL0KBctMGAz5RxoFzcJCCwXEzjRbwd+xQ3PTt+CKI9gbeZykp1LT83JXdq5q4f6jAaLOBFvCnWHnW80Co/D/UdiHuzaO0C/gS6lVIo9A12l2K51/7XovRiHB+KuNz7+YhYySpEoWE94wu+pG6U1CP09bqCXhViBerHFHAtIppFG3DP7l+0vgtj4UElWoVmB75zQcn+zMflsR/aKOkVNRseV6IlaIIQfg6cELvGrR8CZWBNpQU8sURL0BzBhUDY879XRLNjP7t9Z8PjSkRc/lxu8xNIpS3STB/prZtU10d668O9WZQ2R5NKW6SZPtJbN6muj/TWh3uzKG2OJpW2SDN9pLduUl0f6a0P92ZRkiRJkiQjKCdrdcqWKBlEKm2RZvpIb92kuj7SWx/uzaK0OZpU2iLN9JHeukl1faS3PtybRWlzNKm0RZrpI711k+r6SG99uDeL0uZoUmmLNNNHeusm1fWR3vpwbxZNsBm/Diz06/+e9A8EiN/FBvJ/f//fs6tBRPU7y68J71miC/yx6v9dupIhZs7jpSXKjZteZba/zB5Em+3nVwDfnWXVyDuUaBW7fvzDOg4+TCc+K2D30wBiXZfrySx7kNj15p/x0vqEhJbbk86Hw+NKNJ+L69QVVc3ovvjI4B1KRFz+nGYzCsuriuXHtMvFDRp4RiswThcNEnucLqsRXhBeskS9qG5ef6aPct3MeagWPx1RGuuNwOPdn2aQr3xVhELJGGQ2K73BTU/thylHknXaKk4aRzNe25f/U9bvSnVf1vbqKqas/c2diJbbk85nsMwbc7yyTgEzJTK0hUKMsAb3ZtE0m9Wi0rQVC25t64ZmYVMj+PeAuMpcZ/i34bpSXqm1IH81182cp1JHUUXZeAmR365S+npl0qYqVLrAsgW80hvs+mExKgPbtRyQD/P0DUVayxpqJSvV7XqrNivacKtcfNNye9L5DJY9K6pFIOf8OgW6V4Ydym/ZIhXuzaKZNpk/46uqCLxodOtAEGhlehuV2nGvh5ixV/KGJeqCWWtPZ5z1u9JULpq5Akqj/IhDLMWp+nTI+LGqqovulB+ZGZXTYrG3u34wsE2CRJWLn5e37W7pfidWqrvrDWizmw9ablv5SSwuuQA/59cpUFS8KkQvZ33VuTeLJttEE4/AF0uupG4ov6sm4C5t/ExlnOqFlYHK5m5eD+UrcMkttQF/ykUYrURdUEx6Gb2tkoGciHjnbVKx6lLTDA+YIa8GfFO0FQp3FW3AL+muBrqsvq3H0L5Ea+ElfWoo4k2YEXlVQoUmG8UpRbrkq7rw1cecymJvx35a0oAuUR4Q3kAD8lWUFvNZ+ay7dQX44W652NDqeDDgJFZ6C5jmQ+sUKC2+qrS2bRht2SIV7s2i+TYpLF97gsnzaDkSqCQj1F6L06mU0UyHCvjd3Xx8q/TNu92cslfG4H1EdwmJiYCEkCdWYbWSgAQuFcc0SdIg2kA00+NiHPK3+18N5E0N4ltGGzU+jz93JbyqawQyvEzrWy+lsWhVMJp4JGdUTov13lp+mDV5iPJwvGwgCkYCQx3xu6o7riuEhIQtLbfHzifB40q0kEfXqaNiq3YkOp7pOxD3ZtFkm5o84KukbjB5krFlB+5Fm517p84iw9ftkuZrKx9BuXGDCo7HjYKnlOhxeHlfh0zEX49bflfsJoG+4ZwGMY7nA57La4efCCoYJJ61+9BjGLZEa2HKVaUpw/sQlNRPVC2BmmEptLjS2fACJVrFsR8mzi1slOtvqCtvL4eMU+VVbNV3ZBKL1R17201WtNy28pNY7E3IXrm4ceyzgiW5PWWgXCzBvVk02abGZ/4EvnGjg8x2u3cv8lsVFhkZr5ZuNG7liRmZGPyoiMeNgvFL9Djxhk5UHnfjzYPdJCAh9Po0PQ+Y4RE0kCi+RxGUFkbsmwQdC56+JVoIr1p9i7mMl8dGdXcLr13Vj7Mraiw8pURLOOOH/LYAVB7l4ru0CKolGVVUrmeyUt2xNy2xcnHIrlto5WewuOTg+jqlse9sQJe7vcbi3iyaaZMZxh6EJlAseDRUledetN1XhRXjINS7qzGPa+V1CZQ7GX0//PgZBYOX6EG2daaXj9LZfdvWFLC029HzLsdjgtZ6ZhxGg3L9CN1mrsBkY75Q1QPB8Vu5OqeVn8FKbyf9MPdo43hftKtONAgjK98acwbLHnTsDRXnD8iW21Z+Bsu8Bbdl2r9OgWKr/GAMysUS/CUtmmbTHQky/jh5BG/mXtTAq5NbZOKbQawTF0hGx908T4mzgUCDxF7p3+CL8PQSPQjvXBkD3pABtUNx16ePGTK7SQJG03zDs2a6PWVlmK/E6usP1aUC0OM8cx46lmghzDcmIshEqaAi4i28MI3LxU8wcNBxLIu93fVDqbTmHu1VWl5C0YUgKnA2K9W1vBH7fFFRFaTTcnvgfAbrl+qVdQr42W5KdDnuNRz3ZtEEm0yMYUWIK9c3qpor2RuxqVX5AJtqIEp282/IS9byHA8xZiQZTRldDqFvNL0GtOQor0NORFXtJmNqKCWpKSsD0SweEYEMxyXo6A0Y6mCbOIChSrQK3rwqDKF5gd+Ny/BZFZsTShfAm5RoFZo+xBwpv5La/IxFxlVE5WzLRnmv8NnwuBItQROEEOLrSIQ9YjVruT1wPhueWKIlXFynUPlhgyo3bvTtVx3wrBIRlz+X2/wE3l5p94LPYusjvXWT6vpIb324N4vS5mjeWyl/vTv4G94xWWx9pLduUl0f6a0P92ZR2hzNWyqNfwJz5Z9cvaWZBaS3blJdH+mtD/dmUZIkSZIkIygna3XKligZRCptkWb6SG/dpLo+0lsf7s2itDmaVNoizfSR3rpJdX2ktz7cm0VpczSptEWa6SO9dZPq+khvfbg3i9LmaFJpizTTR3rrJtX1kd76cG8Wpc3RdCv94/t/mBOM+lX0P2+Uiw3674e7fz/nPDylREtgyjeL/1BumOqDWbd+5/1M37HwrBIt4Yy3g8rc9XYw5lSWPUjs+nEhrY9HaLU503cGPK5ES2jVVXwuBx5KasNuvUErPxWeVSLi8udym5/AFaVs3HTXclJ8cDr+OlYWGw79FGTJhUmWtD5+iDa8Uuuw3F2ZJ/uO5UW8EXgsD1u23g7GnM1KdTc9tR/mHknMUD+KnVabM30n8XRvQBB53oeyUVyxu06hlZ+Ke7Nooc0P4YpSNiO6s7p0SZH55W9nZbFVa5IVq42evO9W5Hc3L5ptT9CTfYfzCt6A14iY/O4u1vJWohs+5mxWqtv144sXD7vv02pzpu8knu4NyEflkI8T16HBbi218rNxbxYttPkhXFFKZdA9Vhe15aX223lisXEcyipK/WjU5uXbmdDPN9Wtk32Hw1NKtJzwpjh2QFSAYmfXW4WPOZuV6u76YXXvSnNabc70HcjTvWlxKQnVZdCqtzN1OAOeWCLi8udTF/C7ckVpdcpSfHFJLVJ/XILOXd0F/ykv2kBJ/axj9eJrZFTBGhN43K33F6r4SNImylf5h+jrdR29tmL5CcOae1wGyqhxiDrZdzg8pURrcW+g4kQC+XBSsevNqcaczUp1x34OpAWtNmf6juXp3rhk11IM3KLNyXUKd+twEu7Noict4DfmilI/ZVVY2pIoOGK4tfqC0qGx4jhEvTQjqb6Ko471IGVuA5dTlkcT+wswppJCzQjIEzwEvUq0Fl41XGkukgAufBdJcDnn+46Cp5RoLe5NkOFlzhyT7s3ZjjmVxepafqgZ8hDLc0urzZm+w+FxJVrC1hsZn6/K6eQ6dVr5Sbg3i560gN+YK0q1cQdeZ8RUXrm4PcVRS4LdeuKuzobdmvMkzdRSqPoJdMBEx+plTqKh1sPb+vrUfAOpOwAhMdlH+w6BB5VoLZU3UObkxN1bsB1zKovVHfvhFOHW8Q8ZrTZn+g7k6d6oHHeodXdcObv1Bq38DNybRU9awG/MFaU6ZXeLiZqLWlFFKg6UjIPQoW+cnVquEBlVsDpyN/IQ71MN7i9zHkYo0UJ4ZyZVLjbwSnd3LhrsTvZM3yG8iDcuY74UwIFVsfV2/L2YwUp1Z/yQv1szrTZn+o7i6d4oFX8HGtx9JdrsrtNWfgb+khYttPkhXFGqYuJIK9cG9ee1QrM48wKSUa8Off3sBC5prAFV0BqNEqfxrckXUdy/95TlPVuvioTdrbCCZlvVJ/sO4RW8VQWgmlHcYuutGnMBy9Sd9EPNVE62tNqc6TuKV/DmecqGclLcYnedQis/A/dm0Sqbn8MVpedPWUrHH6QSVDK6KwlxylJtkSTQgKpsFaLiaMPCVptqMfyiU5ZX3fXJy3CrXLThOxI2gpN9R/Ei3sjEDxZ89yPeZddb63sxj5Xq7vrBybE0aLU503cgr+AtYm0+x5WzW2/Qyk/CvVn0jAX83nQrpdroK6rKKNmfeUqwZO38o0FJfSdjWG6RiQaqYB2rQu09o6PUM1RtiTYveRe6lGgVvHksWhFzYSIl9Q3JrROf40HfqfDEEq1i601o+uB347LlTbTGnApvUqIlaO4QM2UFldTGCRk1a7U56DsbnliiJWiOUFUIs1ae4ikp89aqt+M6nApPLBFx+XO5zU8glbZIM32kt25SXR/prQ/3ZlHaHE0qbZFm+khv3aS6PtJbH+7NorQ5mlTaIs30kd66SXV9pLc+3JtFSZIkSZKMoJys1SlbomQQqbRFmukjvXWT6vpIb324N4vS5mhSaYs000d66ybV9ZHe+nBvFqXN0aTSFmmmj/TWTarrI7314d4sSpujSaUt0kwf6a2bVNdHeuvDvVmUNkczQ6n/fnow/BeuGVMfQwEM/sfojzdi/BIt4U/71A5RbtgndRx8vkTrd9vP9B0LzyrRKvyTTErq0KfT8hY17J8wMBseV6Il7HqDM3Nv1VVrzKnwuBLN56Cuzny+xMF65Fb1MRez4TVKRFz+fMYCfnvmKWXkOAW1bgcuPEaL8RmWmBrVrVEwZonm89///tdXHcs11hvz0jT1yW2tw3LX7cm+Y1npDRAVrghivi2fFbveGCTaM51lB+1KdV/WNt7gzNxbdXUbcmfM2SzzdlxXd/e3ljfG4RJ8tAXwxBIRlz/XVuGHME8pI/syo8KgXIzAx6e+xw4OK4ut2suYl1YgeZ8X+d1p0swXvzjZdziLFymPi7kzR+10LZ8Vu96AMWME+i7b+1aq2/UGd+d+UFetMWezzNtBXbVqKTjwJlC9rNKEe7No7QL+BOYpZWQqqVzkKfsIzIWfdgmqpchC5a10y2Fxkq9unew7HJ5SoiUwx9jNmTIodsJnxa43iSoXm8upLHsQ7Ho7M3daturqzPdiBiu9OV5Xu7XkHHgTX2dsnrJvyTyljBzLTCVIYelSUHMkvRmoJUTBqRyFVyGX0fGdTlnmG9NkgrxGLMXtyhTKqLFvc2f6DoenlGgJ/AWCJzJZJhhzd9xnRcvb8W44j5Xqdr2dmbt07dbV3e/FJHhoiRbCHL2udmvJOfAmGK1VqJNwbxY9aeN7Y+YpZeRgW3YsZlUYX2mgf9hCkamlJ2lJgRKoLvlKDMTKA73e5pRlUpo4yEPY0y7mK7PCFT3adxQ8pUSr0P7V2qHcZwv3RvtPOGVh6+3M3I/r6vh7MQmeWKKFtOrKa8k59gZIe6I3i5608b0x85QyMoVIwLqtqkeF6FB8SpYWG1SUEOVLrPGB7m9zyjIRX3uVq7vTREVoebTvEHhQiVYhY60JVj5bhDe++jhyeGaE6yxWt/V2cu4HdbUdcwE8rkQL0UzLxU98DTrH6zFP2bdlnlJGVqlp1XnZcWRu60nnaLkwlKdwNQ6VqryP+TanLLM7WGm8EjbKRQMa7K7wM32HsNgbumJe1EBl79inE960FSoJ5JfNaKW6XW8dc6dBjHP8vZjHSm/iuK6QsLsGHfcmGHCZMeHeLFpu8+2Zp5SRo9S0XClNXVaLWShZ/XjoJ+snnLLMKCZVwRzPLEKahaLgZN8hrPRWlYRKSLE48Fnh3nxMunNL8WyWqTvw9tDcva7ufi/msexBwa2smnXltbSLewvIbJNTcW8WLbf59sxTysheiBQWmdaPulrMJP2wJKmlq17VUe3j09I7DoHxS7QQZsGUy4XBy5yZIIpk0jnZdxSLvTG1KCTqodqnWj4rKm8xjsrvzAhDWKmu5e383Ld1dfy9mMfikoODutpdg87Wm0DXMmPCvVn0jI3vvZmhlAXGsEHJ3p4ldFKWixtqANRfSX0nKVldRqDjVvCsyO/WbjcMWKJVoKVaZvoLATDlkvqGpBpHG/DlfdB3KjyxRKvQNGFrb7ttRbOWNxFFRbOSmg+PK9ESNEGoLO3OPZod15Vuwdb8PHhciZawrauDWiJz15t+oAme8lOdRcsX8NuTSlukmT7SWzepro/01od7syhtjiaVtkgzfaS3blJdH+mtD/dmUdocTSptkWb6SG/dpLo+0lsf7s2iJEmSJElGUE7W6pQtUTKIVNoizfSR3rpJdX2ktz7cm0VpczSptEWa6SO9dZPq+khvfbg3i9LmaFJpizTTR3rrJtX1kd76cG8Wpc3RpNIWaaaP9NZNqusjvfXh3ixKm6PpVuofDeH4L2Wrjf9u+y7qCLT866+/lv1S9jG8T4mW8Of3//IvKDfskzoOPl+i9XvxZ/qOhWeVaBUxR5+4/6Z/qwIvOh+Ov8ACur0Jurc+emLlBz8Br1qi+ZypmeqDKSoOvNFRI5TryfiDLFpbhZ/ARaVUTFVScRnleHetVl0+8JRlyr6bYyzWIX7Yswi0/bU2/d2FfbLvWFZ6A0SFKwLNF5i7Au1c2yK87nw4K9XdtPV4A5LcghjBkbTdW5PgcSWazEHNEHgcPp0Db5IW8tfAE0tEXP5cvoA/gYtKKYvd/V2oqnYXqlADKqxc39a2Xz6RlcVWKWKJajGT94VHfncd0mx7EpzsO5zFi5THxdyZo6qxskGb7a530fkMVqrr9hbcjpWdo5ShYPfWJJZ5a9UM7PrcZetNR+xBl0m4N4vWLuBP4KJSNqAoDoqsOiApSsavStN5Vnmd4YnFhlWZrLZ4+dz+FMKiJV/dOtl3ODylREvwCmTKoNihzW7eedT5DFaqu+5te1oAmwDGGHl7ax6LSy6ImlF816fYettm1uDeLHrexveuXFTqtUVQbUbaofharvegF212m6m78Lsl9fN45pLKVl6vwbvp8qDiD6BjidbCTGPJaUZhVUK2O74yauxL/Uzf4fCUEi2BbZ0nMlkm6PXgUAleP1s6nM9gpbrr3m5Hw4+zAUsaiq/Vrams9BZ4zcAZn+Km7Z+OSFNHvopyYz7+LIueYfO9uag0TjJRbUbaoQ4WqlCBit3djarlQcqT1ICqThX0V8+f/1aDWH3VjEcofx56lWgtrLd4W58jSJTmtYsLf7TvKHhKiVahHcp3Lgcbx7seXHE+kMXqLnq7HRY/+kZ7gtawM1jsTXjNiGOfwU3bP21UYKHuzAijcG8WPWnje2MuKuUw86VVbUa+6d+F7jSO9pQaVatbAZltgeqhBFH0eq4TL3keepVoLfHzgajm4j9J7MJMw9ujfYfAg0q0ChlrTfDMrDVCuXiSN+BZJVrCRW9fZ8XPxaiVCxSh35rNYm+iqhk49hlU3lit3t73tNm4N4uetPG9MReVUh9xgFEfVXFot4q1B1wGNAY/SrkkrwEZeXvKVqvXxyeIU5bAm/XBgCVaCHM5eHOfYwsabL3Bmb5DWOwNXTEvaqayR8FQVOWiwXXno1ip7ro3ungvYt6/wtf+PHhQiVaxrRkuD3w63PK71SnLyEznrvwhuDeLnrHxvTcXlVIfccpuUcUcrDSKqSrHOEf5uh2ZjL+wVyRBVLnyiru5PkIHLLndMxLCzDE02wo/2XcIK73xredxMd/q+47JMwfkdeejWKZuiDfMtOS8q7egqpljnxWVNzXWJhaXimfjD7Jouc2356LS66csDWIEXWqF8zVioKa5qwZRo3SMvt4Yqh8no9l5GLBEC+G1mWO5MHgZ/4G3BQa2Mz3ZdxSLvfk3miLxGBQDWnbFwkXnA1mp7ro3ukSvCnq1bs1gccnBtmZaPrd8Wft513URuP+puDeLnrHxvTfdSnUKBtulSOmUe+1/LUovxvGhiMu9n4+IyqNLSX0P6xkv0JK6UVKP0NfrCvw4Ui0//ZgCrkWQVONoA+75oO9UeGKJVqFpQtjz2hNhhtglP+R8Njy0REvQNOFRb77iYHftV1anwjuUaAnbmhGyAX7XLw+80UbJZUcs8LgSEZc/l9v8BFJpizTTR3rrJtX1kd76cG8Wpc3RpNIWaaaP9NZNqusjvfXh3ixKm6NJpS3STB/prZtU10d668O9WZQkSZIkyQjKyeqnbJIkSZIkY8lTNkmSJElmkadskiRJkswiT9kkSZIkmcP//vf/z6tTVzVmuAUAAAAASUVORK5CYII=)"
      ],
      "metadata": {
        "id": "UClRTpB-Jl2o"
      }
    },
    {
      "cell_type": "markdown",
      "source": [
        "#Random State = 42, Balanced Dataset\n",
        "\n",
        "![hasil2.png](data:image/png;base64,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)"
      ],
      "metadata": {
        "id": "FPKJwO-iJ1GT"
      }
    },
    {
      "cell_type": "markdown",
      "source": [
        "#Random State = 0, Imbalanced Dataset\n",
        "\n",
        "![hasil3.png](data:image/png;base64,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)"
      ],
      "metadata": {
        "id": "RDaCj4GVKC0R"
      }
    },
    {
      "cell_type": "markdown",
      "source": [
        "#Random State = 42, Imbalanced Dataset\n",
        "\n",
        "![hasil4.png](data:image/png;base64,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)"
      ],
      "metadata": {
        "id": "toUMXTKoKOEN"
      }
    },
    {
      "cell_type": "markdown",
      "source": [
        "Hasil evaluation metric bisa dilihat disini : https://docs.google.com/document/d/1IZJ_LHIhJSF_-ZleAh3TzgvfvPMctrnW/edit?usp=sharing&ouid=110045745365014605980&rtpof=true&sd=true"
      ],
      "metadata": {
        "id": "l1Iks74RK_4-"
      }
    },
    {
      "cell_type": "markdown",
      "metadata": {
        "id": "FmV2eDpbmirr"
      },
      "source": [
        "#Revisi :\n",
        "Oversampling minority ✔️\n",
        "\n",
        "Heatmap correlation ✔️\n",
        "\n",
        "Train test size 10% 90% ✔️\n",
        "\n",
        "Precision Recall F-1 Score ✔️\n"
      ]
    }
  ],
  "metadata": {
    "colab": {
      "provenance": [],
      "collapsed_sections": [
        "4EQpsSulEcCy",
        "nqR_bs7mYvGh",
        "0tUiXfVGUlmD",
        "4VqWCiSsOr3I",
        "6iuLvSALHev_",
        "L2jgeHISKr-V",
        "sB_tV1C5Um1S",
        "gv0JwSPca4t1",
        "Z40EEUmS10ti",
        "ZhKqFxakba_E",
        "8DE0nQ_gIZop",
        "-M61nx5CLmcb",
        "P_v-H-XjIu-1",
        "ptbPunPuJkKu",
        "xgII1ImzWFl0",
        "2oqtd50iWZtR",
        "LwHZqjeJbQmc",
        "Yczm1-OoKki4",
        "mAnaNMNUCZX0",
        "l46QOClkD9I5",
        "HTI_5nGeYCmL",
        "Vk-YzGW0-uVE",
        "dzwelrnDrH87",
        "GHVQslQKcPYu",
        "Ka1lVZm3192l",
        "2qICfmxB-GRh",
        "4pY0in6S2Keu",
        "dT111Azu2juj",
        "7VDde-zA2-wd",
        "19YdwQvA7wEB",
        "DqrC89qY3IwJ",
        "YN3eegyu3dc6",
        "YZvRiUkZ3z-r",
        "QZxLAtlz391p",
        "35vVEeF-4Mcb",
        "UClRTpB-Jl2o",
        "FPKJwO-iJ1GT",
        "RDaCj4GVKC0R",
        "toUMXTKoKOEN",
        "FmV2eDpbmirr"
      ]
    },
    "kernelspec": {
      "display_name": "Python 3",
      "name": "python3"
    },
    "language_info": {
      "name": "python"
    }
  },
  "nbformat": 4,
  "nbformat_minor": 0
}