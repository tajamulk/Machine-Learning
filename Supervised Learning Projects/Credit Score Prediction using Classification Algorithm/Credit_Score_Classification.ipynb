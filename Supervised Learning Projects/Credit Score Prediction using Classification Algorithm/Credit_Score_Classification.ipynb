{
  "cells": [
    {
      "cell_type": "code",
      "execution_count": null,
      "id": "2749c999",
      "metadata": {
        "id": "2749c999"
      },
      "outputs": [],
      "source": [
        "import pandas as pd\n",
        "import numpy as np\n",
        "import seaborn as sns\n",
        "import matplotlib.pyplot as plt\n",
        "sns.set_theme(color_codes=True)\n",
        "pd.set_option('display.max_columns', None)"
      ]
    },
    {
      "cell_type": "code",
      "execution_count": null,
      "id": "3a87b417",
      "metadata": {
        "id": "3a87b417",
        "outputId": "2cc07b20-65c4-4ac5-93a6-0669256e108d"
      },
      "outputs": [
        {
          "name": "stderr",
          "output_type": "stream",
          "text": [
            "C:\\Users\\Michael\\AppData\\Local\\Temp\\ipykernel_9624\\3829018852.py:1: DtypeWarning: Columns (26) have mixed types. Specify dtype option on import or set low_memory=False.\n",
            "  df_train = pd.read_csv('train.csv')\n"
          ]
        },
        {
          "data": {
            "text/html": [
              "<div>\n",
              "<style scoped>\n",
              "    .dataframe tbody tr th:only-of-type {\n",
              "        vertical-align: middle;\n",
              "    }\n",
              "\n",
              "    .dataframe tbody tr th {\n",
              "        vertical-align: top;\n",
              "    }\n",
              "\n",
              "    .dataframe thead th {\n",
              "        text-align: right;\n",
              "    }\n",
              "</style>\n",
              "<table border=\"1\" class=\"dataframe\">\n",
              "  <thead>\n",
              "    <tr style=\"text-align: right;\">\n",
              "      <th></th>\n",
              "      <th>ID</th>\n",
              "      <th>Customer_ID</th>\n",
              "      <th>Month</th>\n",
              "      <th>Name</th>\n",
              "      <th>Age</th>\n",
              "      <th>SSN</th>\n",
              "      <th>Occupation</th>\n",
              "      <th>Annual_Income</th>\n",
              "      <th>Monthly_Inhand_Salary</th>\n",
              "      <th>Num_Bank_Accounts</th>\n",
              "      <th>Num_Credit_Card</th>\n",
              "      <th>Interest_Rate</th>\n",
              "      <th>Num_of_Loan</th>\n",
              "      <th>Type_of_Loan</th>\n",
              "      <th>Delay_from_due_date</th>\n",
              "      <th>Num_of_Delayed_Payment</th>\n",
              "      <th>Changed_Credit_Limit</th>\n",
              "      <th>Num_Credit_Inquiries</th>\n",
              "      <th>Credit_Mix</th>\n",
              "      <th>Outstanding_Debt</th>\n",
              "      <th>Credit_Utilization_Ratio</th>\n",
              "      <th>Credit_History_Age</th>\n",
              "      <th>Payment_of_Min_Amount</th>\n",
              "      <th>Total_EMI_per_month</th>\n",
              "      <th>Amount_invested_monthly</th>\n",
              "      <th>Payment_Behaviour</th>\n",
              "      <th>Monthly_Balance</th>\n",
              "      <th>Credit_Score</th>\n",
              "    </tr>\n",
              "  </thead>\n",
              "  <tbody>\n",
              "    <tr>\n",
              "      <th>0</th>\n",
              "      <td>0x1602</td>\n",
              "      <td>CUS_0xd40</td>\n",
              "      <td>January</td>\n",
              "      <td>Aaron Maashoh</td>\n",
              "      <td>23</td>\n",
              "      <td>821-00-0265</td>\n",
              "      <td>Scientist</td>\n",
              "      <td>19114.12</td>\n",
              "      <td>1824.843333</td>\n",
              "      <td>3</td>\n",
              "      <td>4</td>\n",
              "      <td>3</td>\n",
              "      <td>4</td>\n",
              "      <td>Auto Loan, Credit-Builder Loan, Personal Loan,...</td>\n",
              "      <td>3</td>\n",
              "      <td>7</td>\n",
              "      <td>11.27</td>\n",
              "      <td>4.0</td>\n",
              "      <td>_</td>\n",
              "      <td>809.98</td>\n",
              "      <td>26.822620</td>\n",
              "      <td>22 Years and 1 Months</td>\n",
              "      <td>No</td>\n",
              "      <td>49.574949</td>\n",
              "      <td>80.41529543900253</td>\n",
              "      <td>High_spent_Small_value_payments</td>\n",
              "      <td>312.49408867943663</td>\n",
              "      <td>Good</td>\n",
              "    </tr>\n",
              "    <tr>\n",
              "      <th>1</th>\n",
              "      <td>0x1603</td>\n",
              "      <td>CUS_0xd40</td>\n",
              "      <td>February</td>\n",
              "      <td>Aaron Maashoh</td>\n",
              "      <td>23</td>\n",
              "      <td>821-00-0265</td>\n",
              "      <td>Scientist</td>\n",
              "      <td>19114.12</td>\n",
              "      <td>NaN</td>\n",
              "      <td>3</td>\n",
              "      <td>4</td>\n",
              "      <td>3</td>\n",
              "      <td>4</td>\n",
              "      <td>Auto Loan, Credit-Builder Loan, Personal Loan,...</td>\n",
              "      <td>-1</td>\n",
              "      <td>NaN</td>\n",
              "      <td>11.27</td>\n",
              "      <td>4.0</td>\n",
              "      <td>Good</td>\n",
              "      <td>809.98</td>\n",
              "      <td>31.944960</td>\n",
              "      <td>NaN</td>\n",
              "      <td>No</td>\n",
              "      <td>49.574949</td>\n",
              "      <td>118.28022162236736</td>\n",
              "      <td>Low_spent_Large_value_payments</td>\n",
              "      <td>284.62916249607184</td>\n",
              "      <td>Good</td>\n",
              "    </tr>\n",
              "    <tr>\n",
              "      <th>2</th>\n",
              "      <td>0x1604</td>\n",
              "      <td>CUS_0xd40</td>\n",
              "      <td>March</td>\n",
              "      <td>Aaron Maashoh</td>\n",
              "      <td>-500</td>\n",
              "      <td>821-00-0265</td>\n",
              "      <td>Scientist</td>\n",
              "      <td>19114.12</td>\n",
              "      <td>NaN</td>\n",
              "      <td>3</td>\n",
              "      <td>4</td>\n",
              "      <td>3</td>\n",
              "      <td>4</td>\n",
              "      <td>Auto Loan, Credit-Builder Loan, Personal Loan,...</td>\n",
              "      <td>3</td>\n",
              "      <td>7</td>\n",
              "      <td>_</td>\n",
              "      <td>4.0</td>\n",
              "      <td>Good</td>\n",
              "      <td>809.98</td>\n",
              "      <td>28.609352</td>\n",
              "      <td>22 Years and 3 Months</td>\n",
              "      <td>No</td>\n",
              "      <td>49.574949</td>\n",
              "      <td>81.699521264648</td>\n",
              "      <td>Low_spent_Medium_value_payments</td>\n",
              "      <td>331.2098628537912</td>\n",
              "      <td>Good</td>\n",
              "    </tr>\n",
              "    <tr>\n",
              "      <th>3</th>\n",
              "      <td>0x1605</td>\n",
              "      <td>CUS_0xd40</td>\n",
              "      <td>April</td>\n",
              "      <td>Aaron Maashoh</td>\n",
              "      <td>23</td>\n",
              "      <td>821-00-0265</td>\n",
              "      <td>Scientist</td>\n",
              "      <td>19114.12</td>\n",
              "      <td>NaN</td>\n",
              "      <td>3</td>\n",
              "      <td>4</td>\n",
              "      <td>3</td>\n",
              "      <td>4</td>\n",
              "      <td>Auto Loan, Credit-Builder Loan, Personal Loan,...</td>\n",
              "      <td>5</td>\n",
              "      <td>4</td>\n",
              "      <td>6.27</td>\n",
              "      <td>4.0</td>\n",
              "      <td>Good</td>\n",
              "      <td>809.98</td>\n",
              "      <td>31.377862</td>\n",
              "      <td>22 Years and 4 Months</td>\n",
              "      <td>No</td>\n",
              "      <td>49.574949</td>\n",
              "      <td>199.4580743910713</td>\n",
              "      <td>Low_spent_Small_value_payments</td>\n",
              "      <td>223.45130972736786</td>\n",
              "      <td>Good</td>\n",
              "    </tr>\n",
              "    <tr>\n",
              "      <th>4</th>\n",
              "      <td>0x1606</td>\n",
              "      <td>CUS_0xd40</td>\n",
              "      <td>May</td>\n",
              "      <td>Aaron Maashoh</td>\n",
              "      <td>23</td>\n",
              "      <td>821-00-0265</td>\n",
              "      <td>Scientist</td>\n",
              "      <td>19114.12</td>\n",
              "      <td>1824.843333</td>\n",
              "      <td>3</td>\n",
              "      <td>4</td>\n",
              "      <td>3</td>\n",
              "      <td>4</td>\n",
              "      <td>Auto Loan, Credit-Builder Loan, Personal Loan,...</td>\n",
              "      <td>6</td>\n",
              "      <td>NaN</td>\n",
              "      <td>11.27</td>\n",
              "      <td>4.0</td>\n",
              "      <td>Good</td>\n",
              "      <td>809.98</td>\n",
              "      <td>24.797347</td>\n",
              "      <td>22 Years and 5 Months</td>\n",
              "      <td>No</td>\n",
              "      <td>49.574949</td>\n",
              "      <td>41.420153086217326</td>\n",
              "      <td>High_spent_Medium_value_payments</td>\n",
              "      <td>341.48923103222177</td>\n",
              "      <td>Good</td>\n",
              "    </tr>\n",
              "    <tr>\n",
              "      <th>...</th>\n",
              "      <td>...</td>\n",
              "      <td>...</td>\n",
              "      <td>...</td>\n",
              "      <td>...</td>\n",
              "      <td>...</td>\n",
              "      <td>...</td>\n",
              "      <td>...</td>\n",
              "      <td>...</td>\n",
              "      <td>...</td>\n",
              "      <td>...</td>\n",
              "      <td>...</td>\n",
              "      <td>...</td>\n",
              "      <td>...</td>\n",
              "      <td>...</td>\n",
              "      <td>...</td>\n",
              "      <td>...</td>\n",
              "      <td>...</td>\n",
              "      <td>...</td>\n",
              "      <td>...</td>\n",
              "      <td>...</td>\n",
              "      <td>...</td>\n",
              "      <td>...</td>\n",
              "      <td>...</td>\n",
              "      <td>...</td>\n",
              "      <td>...</td>\n",
              "      <td>...</td>\n",
              "      <td>...</td>\n",
              "      <td>...</td>\n",
              "    </tr>\n",
              "    <tr>\n",
              "      <th>99995</th>\n",
              "      <td>0x25fe9</td>\n",
              "      <td>CUS_0x942c</td>\n",
              "      <td>April</td>\n",
              "      <td>Nicks</td>\n",
              "      <td>25</td>\n",
              "      <td>078-73-5990</td>\n",
              "      <td>Mechanic</td>\n",
              "      <td>39628.99</td>\n",
              "      <td>3359.415833</td>\n",
              "      <td>4</td>\n",
              "      <td>6</td>\n",
              "      <td>7</td>\n",
              "      <td>2</td>\n",
              "      <td>Auto Loan, and Student Loan</td>\n",
              "      <td>23</td>\n",
              "      <td>7</td>\n",
              "      <td>11.5</td>\n",
              "      <td>3.0</td>\n",
              "      <td>_</td>\n",
              "      <td>502.38</td>\n",
              "      <td>34.663572</td>\n",
              "      <td>31 Years and 6 Months</td>\n",
              "      <td>No</td>\n",
              "      <td>35.104023</td>\n",
              "      <td>60.97133255718485</td>\n",
              "      <td>High_spent_Large_value_payments</td>\n",
              "      <td>479.866228</td>\n",
              "      <td>Poor</td>\n",
              "    </tr>\n",
              "    <tr>\n",
              "      <th>99996</th>\n",
              "      <td>0x25fea</td>\n",
              "      <td>CUS_0x942c</td>\n",
              "      <td>May</td>\n",
              "      <td>Nicks</td>\n",
              "      <td>25</td>\n",
              "      <td>078-73-5990</td>\n",
              "      <td>Mechanic</td>\n",
              "      <td>39628.99</td>\n",
              "      <td>3359.415833</td>\n",
              "      <td>4</td>\n",
              "      <td>6</td>\n",
              "      <td>7</td>\n",
              "      <td>2</td>\n",
              "      <td>Auto Loan, and Student Loan</td>\n",
              "      <td>18</td>\n",
              "      <td>7</td>\n",
              "      <td>11.5</td>\n",
              "      <td>3.0</td>\n",
              "      <td>_</td>\n",
              "      <td>502.38</td>\n",
              "      <td>40.565631</td>\n",
              "      <td>31 Years and 7 Months</td>\n",
              "      <td>No</td>\n",
              "      <td>35.104023</td>\n",
              "      <td>54.18595028760385</td>\n",
              "      <td>High_spent_Medium_value_payments</td>\n",
              "      <td>496.65161</td>\n",
              "      <td>Poor</td>\n",
              "    </tr>\n",
              "    <tr>\n",
              "      <th>99997</th>\n",
              "      <td>0x25feb</td>\n",
              "      <td>CUS_0x942c</td>\n",
              "      <td>June</td>\n",
              "      <td>Nicks</td>\n",
              "      <td>25</td>\n",
              "      <td>078-73-5990</td>\n",
              "      <td>Mechanic</td>\n",
              "      <td>39628.99</td>\n",
              "      <td>3359.415833</td>\n",
              "      <td>4</td>\n",
              "      <td>6</td>\n",
              "      <td>5729</td>\n",
              "      <td>2</td>\n",
              "      <td>Auto Loan, and Student Loan</td>\n",
              "      <td>27</td>\n",
              "      <td>6</td>\n",
              "      <td>11.5</td>\n",
              "      <td>3.0</td>\n",
              "      <td>Good</td>\n",
              "      <td>502.38</td>\n",
              "      <td>41.255522</td>\n",
              "      <td>31 Years and 8 Months</td>\n",
              "      <td>No</td>\n",
              "      <td>35.104023</td>\n",
              "      <td>24.02847744864441</td>\n",
              "      <td>High_spent_Large_value_payments</td>\n",
              "      <td>516.809083</td>\n",
              "      <td>Poor</td>\n",
              "    </tr>\n",
              "    <tr>\n",
              "      <th>99998</th>\n",
              "      <td>0x25fec</td>\n",
              "      <td>CUS_0x942c</td>\n",
              "      <td>July</td>\n",
              "      <td>Nicks</td>\n",
              "      <td>25</td>\n",
              "      <td>078-73-5990</td>\n",
              "      <td>Mechanic</td>\n",
              "      <td>39628.99</td>\n",
              "      <td>3359.415833</td>\n",
              "      <td>4</td>\n",
              "      <td>6</td>\n",
              "      <td>7</td>\n",
              "      <td>2</td>\n",
              "      <td>Auto Loan, and Student Loan</td>\n",
              "      <td>20</td>\n",
              "      <td>NaN</td>\n",
              "      <td>11.5</td>\n",
              "      <td>3.0</td>\n",
              "      <td>Good</td>\n",
              "      <td>502.38</td>\n",
              "      <td>33.638208</td>\n",
              "      <td>31 Years and 9 Months</td>\n",
              "      <td>No</td>\n",
              "      <td>35.104023</td>\n",
              "      <td>251.67258219721603</td>\n",
              "      <td>Low_spent_Large_value_payments</td>\n",
              "      <td>319.164979</td>\n",
              "      <td>Standard</td>\n",
              "    </tr>\n",
              "    <tr>\n",
              "      <th>99999</th>\n",
              "      <td>0x25fed</td>\n",
              "      <td>CUS_0x942c</td>\n",
              "      <td>August</td>\n",
              "      <td>Nicks</td>\n",
              "      <td>25</td>\n",
              "      <td>078-73-5990</td>\n",
              "      <td>Mechanic</td>\n",
              "      <td>39628.99_</td>\n",
              "      <td>3359.415833</td>\n",
              "      <td>4</td>\n",
              "      <td>6</td>\n",
              "      <td>7</td>\n",
              "      <td>2</td>\n",
              "      <td>Auto Loan, and Student Loan</td>\n",
              "      <td>18</td>\n",
              "      <td>6</td>\n",
              "      <td>11.5</td>\n",
              "      <td>3.0</td>\n",
              "      <td>Good</td>\n",
              "      <td>502.38</td>\n",
              "      <td>34.192463</td>\n",
              "      <td>31 Years and 10 Months</td>\n",
              "      <td>No</td>\n",
              "      <td>35.104023</td>\n",
              "      <td>167.1638651610451</td>\n",
              "      <td>!@9#%8</td>\n",
              "      <td>393.673696</td>\n",
              "      <td>Poor</td>\n",
              "    </tr>\n",
              "  </tbody>\n",
              "</table>\n",
              "<p>100000 rows × 28 columns</p>\n",
              "</div>"
            ],
            "text/plain": [
              "            ID Customer_ID     Month           Name   Age          SSN  \\\n",
              "0       0x1602   CUS_0xd40   January  Aaron Maashoh    23  821-00-0265   \n",
              "1       0x1603   CUS_0xd40  February  Aaron Maashoh    23  821-00-0265   \n",
              "2       0x1604   CUS_0xd40     March  Aaron Maashoh  -500  821-00-0265   \n",
              "3       0x1605   CUS_0xd40     April  Aaron Maashoh    23  821-00-0265   \n",
              "4       0x1606   CUS_0xd40       May  Aaron Maashoh    23  821-00-0265   \n",
              "...        ...         ...       ...            ...   ...          ...   \n",
              "99995  0x25fe9  CUS_0x942c     April          Nicks    25  078-73-5990   \n",
              "99996  0x25fea  CUS_0x942c       May          Nicks    25  078-73-5990   \n",
              "99997  0x25feb  CUS_0x942c      June          Nicks    25  078-73-5990   \n",
              "99998  0x25fec  CUS_0x942c      July          Nicks    25  078-73-5990   \n",
              "99999  0x25fed  CUS_0x942c    August          Nicks    25  078-73-5990   \n",
              "\n",
              "      Occupation Annual_Income  Monthly_Inhand_Salary  Num_Bank_Accounts  \\\n",
              "0      Scientist      19114.12            1824.843333                  3   \n",
              "1      Scientist      19114.12                    NaN                  3   \n",
              "2      Scientist      19114.12                    NaN                  3   \n",
              "3      Scientist      19114.12                    NaN                  3   \n",
              "4      Scientist      19114.12            1824.843333                  3   \n",
              "...          ...           ...                    ...                ...   \n",
              "99995   Mechanic      39628.99            3359.415833                  4   \n",
              "99996   Mechanic      39628.99            3359.415833                  4   \n",
              "99997   Mechanic      39628.99            3359.415833                  4   \n",
              "99998   Mechanic      39628.99            3359.415833                  4   \n",
              "99999   Mechanic     39628.99_            3359.415833                  4   \n",
              "\n",
              "       Num_Credit_Card  Interest_Rate Num_of_Loan  \\\n",
              "0                    4              3           4   \n",
              "1                    4              3           4   \n",
              "2                    4              3           4   \n",
              "3                    4              3           4   \n",
              "4                    4              3           4   \n",
              "...                ...            ...         ...   \n",
              "99995                6              7           2   \n",
              "99996                6              7           2   \n",
              "99997                6           5729           2   \n",
              "99998                6              7           2   \n",
              "99999                6              7           2   \n",
              "\n",
              "                                            Type_of_Loan  Delay_from_due_date  \\\n",
              "0      Auto Loan, Credit-Builder Loan, Personal Loan,...                    3   \n",
              "1      Auto Loan, Credit-Builder Loan, Personal Loan,...                   -1   \n",
              "2      Auto Loan, Credit-Builder Loan, Personal Loan,...                    3   \n",
              "3      Auto Loan, Credit-Builder Loan, Personal Loan,...                    5   \n",
              "4      Auto Loan, Credit-Builder Loan, Personal Loan,...                    6   \n",
              "...                                                  ...                  ...   \n",
              "99995                        Auto Loan, and Student Loan                   23   \n",
              "99996                        Auto Loan, and Student Loan                   18   \n",
              "99997                        Auto Loan, and Student Loan                   27   \n",
              "99998                        Auto Loan, and Student Loan                   20   \n",
              "99999                        Auto Loan, and Student Loan                   18   \n",
              "\n",
              "      Num_of_Delayed_Payment Changed_Credit_Limit  Num_Credit_Inquiries  \\\n",
              "0                          7                11.27                   4.0   \n",
              "1                        NaN                11.27                   4.0   \n",
              "2                          7                    _                   4.0   \n",
              "3                          4                 6.27                   4.0   \n",
              "4                        NaN                11.27                   4.0   \n",
              "...                      ...                  ...                   ...   \n",
              "99995                      7                 11.5                   3.0   \n",
              "99996                      7                 11.5                   3.0   \n",
              "99997                      6                 11.5                   3.0   \n",
              "99998                    NaN                 11.5                   3.0   \n",
              "99999                      6                 11.5                   3.0   \n",
              "\n",
              "      Credit_Mix Outstanding_Debt  Credit_Utilization_Ratio  \\\n",
              "0              _           809.98                 26.822620   \n",
              "1           Good           809.98                 31.944960   \n",
              "2           Good           809.98                 28.609352   \n",
              "3           Good           809.98                 31.377862   \n",
              "4           Good           809.98                 24.797347   \n",
              "...          ...              ...                       ...   \n",
              "99995          _           502.38                 34.663572   \n",
              "99996          _           502.38                 40.565631   \n",
              "99997       Good           502.38                 41.255522   \n",
              "99998       Good           502.38                 33.638208   \n",
              "99999       Good           502.38                 34.192463   \n",
              "\n",
              "           Credit_History_Age Payment_of_Min_Amount  Total_EMI_per_month  \\\n",
              "0       22 Years and 1 Months                    No            49.574949   \n",
              "1                         NaN                    No            49.574949   \n",
              "2       22 Years and 3 Months                    No            49.574949   \n",
              "3       22 Years and 4 Months                    No            49.574949   \n",
              "4       22 Years and 5 Months                    No            49.574949   \n",
              "...                       ...                   ...                  ...   \n",
              "99995   31 Years and 6 Months                    No            35.104023   \n",
              "99996   31 Years and 7 Months                    No            35.104023   \n",
              "99997   31 Years and 8 Months                    No            35.104023   \n",
              "99998   31 Years and 9 Months                    No            35.104023   \n",
              "99999  31 Years and 10 Months                    No            35.104023   \n",
              "\n",
              "      Amount_invested_monthly                 Payment_Behaviour  \\\n",
              "0           80.41529543900253   High_spent_Small_value_payments   \n",
              "1          118.28022162236736    Low_spent_Large_value_payments   \n",
              "2             81.699521264648   Low_spent_Medium_value_payments   \n",
              "3           199.4580743910713    Low_spent_Small_value_payments   \n",
              "4          41.420153086217326  High_spent_Medium_value_payments   \n",
              "...                       ...                               ...   \n",
              "99995       60.97133255718485   High_spent_Large_value_payments   \n",
              "99996       54.18595028760385  High_spent_Medium_value_payments   \n",
              "99997       24.02847744864441   High_spent_Large_value_payments   \n",
              "99998      251.67258219721603    Low_spent_Large_value_payments   \n",
              "99999       167.1638651610451                            !@9#%8   \n",
              "\n",
              "          Monthly_Balance Credit_Score  \n",
              "0      312.49408867943663         Good  \n",
              "1      284.62916249607184         Good  \n",
              "2       331.2098628537912         Good  \n",
              "3      223.45130972736786         Good  \n",
              "4      341.48923103222177         Good  \n",
              "...                   ...          ...  \n",
              "99995          479.866228         Poor  \n",
              "99996           496.65161         Poor  \n",
              "99997          516.809083         Poor  \n",
              "99998          319.164979     Standard  \n",
              "99999          393.673696         Poor  \n",
              "\n",
              "[100000 rows x 28 columns]"
            ]
          },
          "execution_count": 3,
          "metadata": {},
          "output_type": "execute_result"
        }
      ],
      "source": [
        "df_train = pd.read_csv('train.csv')\n",
        "df_train"
      ]
    },
    {
      "cell_type": "code",
      "execution_count": null,
      "id": "957cfdea",
      "metadata": {
        "id": "957cfdea",
        "outputId": "522736bc-b68e-4a2a-dd40-b1ecd80cd992"
      },
      "outputs": [
        {
          "data": {
            "text/html": [
              "<div>\n",
              "<style scoped>\n",
              "    .dataframe tbody tr th:only-of-type {\n",
              "        vertical-align: middle;\n",
              "    }\n",
              "\n",
              "    .dataframe tbody tr th {\n",
              "        vertical-align: top;\n",
              "    }\n",
              "\n",
              "    .dataframe thead th {\n",
              "        text-align: right;\n",
              "    }\n",
              "</style>\n",
              "<table border=\"1\" class=\"dataframe\">\n",
              "  <thead>\n",
              "    <tr style=\"text-align: right;\">\n",
              "      <th></th>\n",
              "      <th>ID</th>\n",
              "      <th>Customer_ID</th>\n",
              "      <th>Month</th>\n",
              "      <th>Name</th>\n",
              "      <th>Age</th>\n",
              "      <th>SSN</th>\n",
              "      <th>Occupation</th>\n",
              "      <th>Annual_Income</th>\n",
              "      <th>Monthly_Inhand_Salary</th>\n",
              "      <th>Num_Bank_Accounts</th>\n",
              "      <th>Num_Credit_Card</th>\n",
              "      <th>Interest_Rate</th>\n",
              "      <th>Num_of_Loan</th>\n",
              "      <th>Type_of_Loan</th>\n",
              "      <th>Delay_from_due_date</th>\n",
              "      <th>Num_of_Delayed_Payment</th>\n",
              "      <th>Changed_Credit_Limit</th>\n",
              "      <th>Num_Credit_Inquiries</th>\n",
              "      <th>Credit_Mix</th>\n",
              "      <th>Outstanding_Debt</th>\n",
              "      <th>Credit_Utilization_Ratio</th>\n",
              "      <th>Credit_History_Age</th>\n",
              "      <th>Payment_of_Min_Amount</th>\n",
              "      <th>Total_EMI_per_month</th>\n",
              "      <th>Amount_invested_monthly</th>\n",
              "      <th>Payment_Behaviour</th>\n",
              "      <th>Monthly_Balance</th>\n",
              "    </tr>\n",
              "  </thead>\n",
              "  <tbody>\n",
              "    <tr>\n",
              "      <th>0</th>\n",
              "      <td>0x160a</td>\n",
              "      <td>CUS_0xd40</td>\n",
              "      <td>September</td>\n",
              "      <td>Aaron Maashoh</td>\n",
              "      <td>23</td>\n",
              "      <td>821-00-0265</td>\n",
              "      <td>Scientist</td>\n",
              "      <td>19114.12</td>\n",
              "      <td>1824.843333</td>\n",
              "      <td>3</td>\n",
              "      <td>4</td>\n",
              "      <td>3</td>\n",
              "      <td>4</td>\n",
              "      <td>Auto Loan, Credit-Builder Loan, Personal Loan,...</td>\n",
              "      <td>3</td>\n",
              "      <td>7</td>\n",
              "      <td>11.27</td>\n",
              "      <td>2022.0</td>\n",
              "      <td>Good</td>\n",
              "      <td>809.98</td>\n",
              "      <td>35.030402</td>\n",
              "      <td>22 Years and 9 Months</td>\n",
              "      <td>No</td>\n",
              "      <td>49.574949</td>\n",
              "      <td>236.64268203272135</td>\n",
              "      <td>Low_spent_Small_value_payments</td>\n",
              "      <td>186.26670208571772</td>\n",
              "    </tr>\n",
              "    <tr>\n",
              "      <th>1</th>\n",
              "      <td>0x160b</td>\n",
              "      <td>CUS_0xd40</td>\n",
              "      <td>October</td>\n",
              "      <td>Aaron Maashoh</td>\n",
              "      <td>24</td>\n",
              "      <td>821-00-0265</td>\n",
              "      <td>Scientist</td>\n",
              "      <td>19114.12</td>\n",
              "      <td>1824.843333</td>\n",
              "      <td>3</td>\n",
              "      <td>4</td>\n",
              "      <td>3</td>\n",
              "      <td>4</td>\n",
              "      <td>Auto Loan, Credit-Builder Loan, Personal Loan,...</td>\n",
              "      <td>3</td>\n",
              "      <td>9</td>\n",
              "      <td>13.27</td>\n",
              "      <td>4.0</td>\n",
              "      <td>Good</td>\n",
              "      <td>809.98</td>\n",
              "      <td>33.053114</td>\n",
              "      <td>22 Years and 10 Months</td>\n",
              "      <td>No</td>\n",
              "      <td>49.574949</td>\n",
              "      <td>21.465380264657146</td>\n",
              "      <td>High_spent_Medium_value_payments</td>\n",
              "      <td>361.44400385378196</td>\n",
              "    </tr>\n",
              "    <tr>\n",
              "      <th>2</th>\n",
              "      <td>0x160c</td>\n",
              "      <td>CUS_0xd40</td>\n",
              "      <td>November</td>\n",
              "      <td>Aaron Maashoh</td>\n",
              "      <td>24</td>\n",
              "      <td>821-00-0265</td>\n",
              "      <td>Scientist</td>\n",
              "      <td>19114.12</td>\n",
              "      <td>1824.843333</td>\n",
              "      <td>3</td>\n",
              "      <td>4</td>\n",
              "      <td>3</td>\n",
              "      <td>4</td>\n",
              "      <td>Auto Loan, Credit-Builder Loan, Personal Loan,...</td>\n",
              "      <td>-1</td>\n",
              "      <td>4</td>\n",
              "      <td>12.27</td>\n",
              "      <td>4.0</td>\n",
              "      <td>Good</td>\n",
              "      <td>809.98</td>\n",
              "      <td>33.811894</td>\n",
              "      <td>NaN</td>\n",
              "      <td>No</td>\n",
              "      <td>49.574949</td>\n",
              "      <td>148.23393788500925</td>\n",
              "      <td>Low_spent_Medium_value_payments</td>\n",
              "      <td>264.67544623342997</td>\n",
              "    </tr>\n",
              "    <tr>\n",
              "      <th>3</th>\n",
              "      <td>0x160d</td>\n",
              "      <td>CUS_0xd40</td>\n",
              "      <td>December</td>\n",
              "      <td>Aaron Maashoh</td>\n",
              "      <td>24_</td>\n",
              "      <td>821-00-0265</td>\n",
              "      <td>Scientist</td>\n",
              "      <td>19114.12</td>\n",
              "      <td>NaN</td>\n",
              "      <td>3</td>\n",
              "      <td>4</td>\n",
              "      <td>3</td>\n",
              "      <td>4</td>\n",
              "      <td>Auto Loan, Credit-Builder Loan, Personal Loan,...</td>\n",
              "      <td>4</td>\n",
              "      <td>5</td>\n",
              "      <td>11.27</td>\n",
              "      <td>4.0</td>\n",
              "      <td>Good</td>\n",
              "      <td>809.98</td>\n",
              "      <td>32.430559</td>\n",
              "      <td>23 Years and 0 Months</td>\n",
              "      <td>No</td>\n",
              "      <td>49.574949</td>\n",
              "      <td>39.08251089460281</td>\n",
              "      <td>High_spent_Medium_value_payments</td>\n",
              "      <td>343.82687322383634</td>\n",
              "    </tr>\n",
              "    <tr>\n",
              "      <th>4</th>\n",
              "      <td>0x1616</td>\n",
              "      <td>CUS_0x21b1</td>\n",
              "      <td>September</td>\n",
              "      <td>Rick Rothackerj</td>\n",
              "      <td>28</td>\n",
              "      <td>004-07-5839</td>\n",
              "      <td>_______</td>\n",
              "      <td>34847.84</td>\n",
              "      <td>3037.986667</td>\n",
              "      <td>2</td>\n",
              "      <td>4</td>\n",
              "      <td>6</td>\n",
              "      <td>1</td>\n",
              "      <td>Credit-Builder Loan</td>\n",
              "      <td>3</td>\n",
              "      <td>1</td>\n",
              "      <td>5.42</td>\n",
              "      <td>5.0</td>\n",
              "      <td>Good</td>\n",
              "      <td>605.03</td>\n",
              "      <td>25.926822</td>\n",
              "      <td>27 Years and 3 Months</td>\n",
              "      <td>No</td>\n",
              "      <td>18.816215</td>\n",
              "      <td>39.684018417945296</td>\n",
              "      <td>High_spent_Large_value_payments</td>\n",
              "      <td>485.2984336755923</td>\n",
              "    </tr>\n",
              "    <tr>\n",
              "      <th>...</th>\n",
              "      <td>...</td>\n",
              "      <td>...</td>\n",
              "      <td>...</td>\n",
              "      <td>...</td>\n",
              "      <td>...</td>\n",
              "      <td>...</td>\n",
              "      <td>...</td>\n",
              "      <td>...</td>\n",
              "      <td>...</td>\n",
              "      <td>...</td>\n",
              "      <td>...</td>\n",
              "      <td>...</td>\n",
              "      <td>...</td>\n",
              "      <td>...</td>\n",
              "      <td>...</td>\n",
              "      <td>...</td>\n",
              "      <td>...</td>\n",
              "      <td>...</td>\n",
              "      <td>...</td>\n",
              "      <td>...</td>\n",
              "      <td>...</td>\n",
              "      <td>...</td>\n",
              "      <td>...</td>\n",
              "      <td>...</td>\n",
              "      <td>...</td>\n",
              "      <td>...</td>\n",
              "      <td>...</td>\n",
              "    </tr>\n",
              "    <tr>\n",
              "      <th>49995</th>\n",
              "      <td>0x25fe5</td>\n",
              "      <td>CUS_0x8600</td>\n",
              "      <td>December</td>\n",
              "      <td>Sarah McBridec</td>\n",
              "      <td>4975</td>\n",
              "      <td>031-35-0942</td>\n",
              "      <td>Architect</td>\n",
              "      <td>20002.88</td>\n",
              "      <td>1929.906667</td>\n",
              "      <td>10</td>\n",
              "      <td>8</td>\n",
              "      <td>29</td>\n",
              "      <td>5</td>\n",
              "      <td>Personal Loan, Auto Loan, Mortgage Loan, Stude...</td>\n",
              "      <td>33</td>\n",
              "      <td>25</td>\n",
              "      <td>18.31</td>\n",
              "      <td>12.0</td>\n",
              "      <td>_</td>\n",
              "      <td>3571.7</td>\n",
              "      <td>34.780553</td>\n",
              "      <td>NaN</td>\n",
              "      <td>Yes</td>\n",
              "      <td>60.964772</td>\n",
              "      <td>146.48632477751087</td>\n",
              "      <td>Low_spent_Small_value_payments</td>\n",
              "      <td>275.53956951573343</td>\n",
              "    </tr>\n",
              "    <tr>\n",
              "      <th>49996</th>\n",
              "      <td>0x25fee</td>\n",
              "      <td>CUS_0x942c</td>\n",
              "      <td>September</td>\n",
              "      <td>Nicks</td>\n",
              "      <td>25</td>\n",
              "      <td>078-73-5990</td>\n",
              "      <td>Mechanic</td>\n",
              "      <td>39628.99</td>\n",
              "      <td>NaN</td>\n",
              "      <td>4</td>\n",
              "      <td>6</td>\n",
              "      <td>7</td>\n",
              "      <td>2_</td>\n",
              "      <td>Auto Loan, and Student Loan</td>\n",
              "      <td>20</td>\n",
              "      <td>NaN</td>\n",
              "      <td>11.5</td>\n",
              "      <td>7.0</td>\n",
              "      <td>Good</td>\n",
              "      <td>502.38</td>\n",
              "      <td>27.758522</td>\n",
              "      <td>31 Years and 11 Months</td>\n",
              "      <td>NM</td>\n",
              "      <td>35.104023</td>\n",
              "      <td>181.44299902757518</td>\n",
              "      <td>Low_spent_Small_value_payments</td>\n",
              "      <td>409.39456169535066</td>\n",
              "    </tr>\n",
              "    <tr>\n",
              "      <th>49997</th>\n",
              "      <td>0x25fef</td>\n",
              "      <td>CUS_0x942c</td>\n",
              "      <td>October</td>\n",
              "      <td>Nicks</td>\n",
              "      <td>25</td>\n",
              "      <td>078-73-5990</td>\n",
              "      <td>Mechanic</td>\n",
              "      <td>39628.99</td>\n",
              "      <td>3359.415833</td>\n",
              "      <td>4</td>\n",
              "      <td>6</td>\n",
              "      <td>7</td>\n",
              "      <td>2</td>\n",
              "      <td>Auto Loan, and Student Loan</td>\n",
              "      <td>23</td>\n",
              "      <td>5</td>\n",
              "      <td>13.5</td>\n",
              "      <td>7.0</td>\n",
              "      <td>Good</td>\n",
              "      <td>502.38</td>\n",
              "      <td>36.858542</td>\n",
              "      <td>32 Years and 0 Months</td>\n",
              "      <td>No</td>\n",
              "      <td>35.104023</td>\n",
              "      <td>__10000__</td>\n",
              "      <td>Low_spent_Large_value_payments</td>\n",
              "      <td>349.7263321025098</td>\n",
              "    </tr>\n",
              "    <tr>\n",
              "      <th>49998</th>\n",
              "      <td>0x25ff0</td>\n",
              "      <td>CUS_0x942c</td>\n",
              "      <td>November</td>\n",
              "      <td>Nicks</td>\n",
              "      <td>25</td>\n",
              "      <td>078-73-5990</td>\n",
              "      <td>Mechanic</td>\n",
              "      <td>39628.99</td>\n",
              "      <td>NaN</td>\n",
              "      <td>4</td>\n",
              "      <td>6</td>\n",
              "      <td>7</td>\n",
              "      <td>2_</td>\n",
              "      <td>Auto Loan, and Student Loan</td>\n",
              "      <td>21</td>\n",
              "      <td>6_</td>\n",
              "      <td>11.5</td>\n",
              "      <td>7.0</td>\n",
              "      <td>Good</td>\n",
              "      <td>502.38</td>\n",
              "      <td>39.139840</td>\n",
              "      <td>32 Years and 1 Months</td>\n",
              "      <td>No</td>\n",
              "      <td>35.104023</td>\n",
              "      <td>97.59857973344877</td>\n",
              "      <td>High_spent_Small_value_payments</td>\n",
              "      <td>463.23898098947717</td>\n",
              "    </tr>\n",
              "    <tr>\n",
              "      <th>49999</th>\n",
              "      <td>0x25ff1</td>\n",
              "      <td>CUS_0x942c</td>\n",
              "      <td>December</td>\n",
              "      <td>Nicks</td>\n",
              "      <td>25</td>\n",
              "      <td>078-73-5990</td>\n",
              "      <td>Mechanic</td>\n",
              "      <td>39628.99</td>\n",
              "      <td>3359.415833</td>\n",
              "      <td>4</td>\n",
              "      <td>6</td>\n",
              "      <td>7</td>\n",
              "      <td>2</td>\n",
              "      <td>Auto Loan, and Student Loan</td>\n",
              "      <td>22</td>\n",
              "      <td>5</td>\n",
              "      <td>11.5</td>\n",
              "      <td>7.0</td>\n",
              "      <td>_</td>\n",
              "      <td>502.38</td>\n",
              "      <td>34.108530</td>\n",
              "      <td>32 Years and 2 Months</td>\n",
              "      <td>No</td>\n",
              "      <td>35.104023</td>\n",
              "      <td>220.45787812168732</td>\n",
              "      <td>Low_spent_Medium_value_payments</td>\n",
              "      <td>360.37968260123847</td>\n",
              "    </tr>\n",
              "  </tbody>\n",
              "</table>\n",
              "<p>50000 rows × 27 columns</p>\n",
              "</div>"
            ],
            "text/plain": [
              "            ID Customer_ID      Month             Name   Age          SSN  \\\n",
              "0       0x160a   CUS_0xd40  September    Aaron Maashoh    23  821-00-0265   \n",
              "1       0x160b   CUS_0xd40    October    Aaron Maashoh    24  821-00-0265   \n",
              "2       0x160c   CUS_0xd40   November    Aaron Maashoh    24  821-00-0265   \n",
              "3       0x160d   CUS_0xd40   December    Aaron Maashoh   24_  821-00-0265   \n",
              "4       0x1616  CUS_0x21b1  September  Rick Rothackerj    28  004-07-5839   \n",
              "...        ...         ...        ...              ...   ...          ...   \n",
              "49995  0x25fe5  CUS_0x8600   December   Sarah McBridec  4975  031-35-0942   \n",
              "49996  0x25fee  CUS_0x942c  September            Nicks    25  078-73-5990   \n",
              "49997  0x25fef  CUS_0x942c    October            Nicks    25  078-73-5990   \n",
              "49998  0x25ff0  CUS_0x942c   November            Nicks    25  078-73-5990   \n",
              "49999  0x25ff1  CUS_0x942c   December            Nicks    25  078-73-5990   \n",
              "\n",
              "      Occupation Annual_Income  Monthly_Inhand_Salary  Num_Bank_Accounts  \\\n",
              "0      Scientist      19114.12            1824.843333                  3   \n",
              "1      Scientist      19114.12            1824.843333                  3   \n",
              "2      Scientist      19114.12            1824.843333                  3   \n",
              "3      Scientist      19114.12                    NaN                  3   \n",
              "4        _______      34847.84            3037.986667                  2   \n",
              "...          ...           ...                    ...                ...   \n",
              "49995  Architect      20002.88            1929.906667                 10   \n",
              "49996   Mechanic      39628.99                    NaN                  4   \n",
              "49997   Mechanic      39628.99            3359.415833                  4   \n",
              "49998   Mechanic      39628.99                    NaN                  4   \n",
              "49999   Mechanic      39628.99            3359.415833                  4   \n",
              "\n",
              "       Num_Credit_Card  Interest_Rate Num_of_Loan  \\\n",
              "0                    4              3           4   \n",
              "1                    4              3           4   \n",
              "2                    4              3           4   \n",
              "3                    4              3           4   \n",
              "4                    4              6           1   \n",
              "...                ...            ...         ...   \n",
              "49995                8             29           5   \n",
              "49996                6              7          2_   \n",
              "49997                6              7           2   \n",
              "49998                6              7          2_   \n",
              "49999                6              7           2   \n",
              "\n",
              "                                            Type_of_Loan  Delay_from_due_date  \\\n",
              "0      Auto Loan, Credit-Builder Loan, Personal Loan,...                    3   \n",
              "1      Auto Loan, Credit-Builder Loan, Personal Loan,...                    3   \n",
              "2      Auto Loan, Credit-Builder Loan, Personal Loan,...                   -1   \n",
              "3      Auto Loan, Credit-Builder Loan, Personal Loan,...                    4   \n",
              "4                                    Credit-Builder Loan                    3   \n",
              "...                                                  ...                  ...   \n",
              "49995  Personal Loan, Auto Loan, Mortgage Loan, Stude...                   33   \n",
              "49996                        Auto Loan, and Student Loan                   20   \n",
              "49997                        Auto Loan, and Student Loan                   23   \n",
              "49998                        Auto Loan, and Student Loan                   21   \n",
              "49999                        Auto Loan, and Student Loan                   22   \n",
              "\n",
              "      Num_of_Delayed_Payment Changed_Credit_Limit  Num_Credit_Inquiries  \\\n",
              "0                          7                11.27                2022.0   \n",
              "1                          9                13.27                   4.0   \n",
              "2                          4                12.27                   4.0   \n",
              "3                          5                11.27                   4.0   \n",
              "4                          1                 5.42                   5.0   \n",
              "...                      ...                  ...                   ...   \n",
              "49995                     25                18.31                  12.0   \n",
              "49996                    NaN                 11.5                   7.0   \n",
              "49997                      5                 13.5                   7.0   \n",
              "49998                     6_                 11.5                   7.0   \n",
              "49999                      5                 11.5                   7.0   \n",
              "\n",
              "      Credit_Mix Outstanding_Debt  Credit_Utilization_Ratio  \\\n",
              "0           Good           809.98                 35.030402   \n",
              "1           Good           809.98                 33.053114   \n",
              "2           Good           809.98                 33.811894   \n",
              "3           Good           809.98                 32.430559   \n",
              "4           Good           605.03                 25.926822   \n",
              "...          ...              ...                       ...   \n",
              "49995          _           3571.7                 34.780553   \n",
              "49996       Good           502.38                 27.758522   \n",
              "49997       Good           502.38                 36.858542   \n",
              "49998       Good           502.38                 39.139840   \n",
              "49999          _           502.38                 34.108530   \n",
              "\n",
              "           Credit_History_Age Payment_of_Min_Amount  Total_EMI_per_month  \\\n",
              "0       22 Years and 9 Months                    No            49.574949   \n",
              "1      22 Years and 10 Months                    No            49.574949   \n",
              "2                         NaN                    No            49.574949   \n",
              "3       23 Years and 0 Months                    No            49.574949   \n",
              "4       27 Years and 3 Months                    No            18.816215   \n",
              "...                       ...                   ...                  ...   \n",
              "49995                     NaN                   Yes            60.964772   \n",
              "49996  31 Years and 11 Months                    NM            35.104023   \n",
              "49997   32 Years and 0 Months                    No            35.104023   \n",
              "49998   32 Years and 1 Months                    No            35.104023   \n",
              "49999   32 Years and 2 Months                    No            35.104023   \n",
              "\n",
              "      Amount_invested_monthly                 Payment_Behaviour  \\\n",
              "0          236.64268203272135    Low_spent_Small_value_payments   \n",
              "1          21.465380264657146  High_spent_Medium_value_payments   \n",
              "2          148.23393788500925   Low_spent_Medium_value_payments   \n",
              "3           39.08251089460281  High_spent_Medium_value_payments   \n",
              "4          39.684018417945296   High_spent_Large_value_payments   \n",
              "...                       ...                               ...   \n",
              "49995      146.48632477751087    Low_spent_Small_value_payments   \n",
              "49996      181.44299902757518    Low_spent_Small_value_payments   \n",
              "49997               __10000__    Low_spent_Large_value_payments   \n",
              "49998       97.59857973344877   High_spent_Small_value_payments   \n",
              "49999      220.45787812168732   Low_spent_Medium_value_payments   \n",
              "\n",
              "          Monthly_Balance  \n",
              "0      186.26670208571772  \n",
              "1      361.44400385378196  \n",
              "2      264.67544623342997  \n",
              "3      343.82687322383634  \n",
              "4       485.2984336755923  \n",
              "...                   ...  \n",
              "49995  275.53956951573343  \n",
              "49996  409.39456169535066  \n",
              "49997   349.7263321025098  \n",
              "49998  463.23898098947717  \n",
              "49999  360.37968260123847  \n",
              "\n",
              "[50000 rows x 27 columns]"
            ]
          },
          "execution_count": 4,
          "metadata": {},
          "output_type": "execute_result"
        }
      ],
      "source": [
        "df_test = pd.read_csv('test.csv')\n",
        "df_test"
      ]
    },
    {
      "cell_type": "markdown",
      "id": "89c1b606",
      "metadata": {
        "id": "89c1b606"
      },
      "source": [
        "# Data Preprocessing Part 1"
      ]
    },
    {
      "cell_type": "code",
      "execution_count": null,
      "id": "387283d5",
      "metadata": {
        "id": "387283d5",
        "outputId": "d3ea9a9a-97b5-4e02-bba8-17b18c031350"
      },
      "outputs": [
        {
          "data": {
            "text/plain": [
              "array(['Scientist', '_______', 'Teacher', 'Engineer', 'Entrepreneur',\n",
              "       'Developer', 'Lawyer', 'Media_Manager', 'Doctor', 'Journalist',\n",
              "       'Manager', 'Accountant', 'Musician', 'Mechanic', 'Writer',\n",
              "       'Architect'], dtype=object)"
            ]
          },
          "execution_count": 5,
          "metadata": {},
          "output_type": "execute_result"
        }
      ],
      "source": [
        "df_train['Occupation'].unique()"
      ]
    },
    {
      "cell_type": "code",
      "execution_count": null,
      "id": "b502f637",
      "metadata": {
        "id": "b502f637",
        "outputId": "27234696-d599-4fa6-c28b-92d527889f1c"
      },
      "outputs": [
        {
          "data": {
            "text/plain": [
              "array(['Scientist', 'Other', 'Teacher', 'Engineer', 'Entrepreneur',\n",
              "       'Developer', 'Lawyer', 'Media_Manager', 'Doctor', 'Journalist',\n",
              "       'Manager', 'Accountant', 'Musician', 'Mechanic', 'Writer',\n",
              "       'Architect'], dtype=object)"
            ]
          },
          "execution_count": 6,
          "metadata": {},
          "output_type": "execute_result"
        }
      ],
      "source": [
        "df_train['Occupation'] = df_train['Occupation'].str.replace('_______', 'Other', regex=True)\n",
        "df_train['Occupation'].unique()"
      ]
    },
    {
      "cell_type": "code",
      "execution_count": null,
      "id": "385c550e",
      "metadata": {
        "id": "385c550e"
      },
      "outputs": [],
      "source": [
        "#Remove unwanted columns\n",
        "cols_to_drop = [\n",
        "    'ID',\n",
        "    'Customer_ID',\n",
        "    'Name',\n",
        "    'SSN'\n",
        "]"
      ]
    },
    {
      "cell_type": "code",
      "execution_count": null,
      "id": "4a91426e",
      "metadata": {
        "id": "4a91426e",
        "outputId": "2460dc3e-9b03-4fdd-caca-f33dd1b72af4"
      },
      "outputs": [
        {
          "data": {
            "text/plain": [
              "(100000, 24)"
            ]
          },
          "execution_count": 8,
          "metadata": {},
          "output_type": "execute_result"
        }
      ],
      "source": [
        "df_train.drop(columns = cols_to_drop, inplace = True)\n",
        "df_train.shape"
      ]
    },
    {
      "cell_type": "code",
      "execution_count": null,
      "id": "a2c827f9",
      "metadata": {
        "id": "a2c827f9",
        "outputId": "c445bbd3-1efb-49be-9d7c-4b27fa0a47a6"
      },
      "outputs": [
        {
          "data": {
            "text/plain": [
              "Monthly_Inhand_Salary      15.002\n",
              "Type_of_Loan               11.408\n",
              "Credit_History_Age          9.030\n",
              "Num_of_Delayed_Payment      7.002\n",
              "Amount_invested_monthly     4.479\n",
              "Num_Credit_Inquiries        1.965\n",
              "Monthly_Balance             1.200\n",
              "dtype: float64"
            ]
          },
          "execution_count": 9,
          "metadata": {},
          "output_type": "execute_result"
        }
      ],
      "source": [
        "#Check Missing Value percentage each attribute\n",
        "check_missing = df_train.isnull().sum() * 100 / df_train.shape[0]\n",
        "check_missing[check_missing > 0].sort_values(ascending=False)"
      ]
    },
    {
      "cell_type": "code",
      "execution_count": null,
      "id": "5ec88cae",
      "metadata": {
        "id": "5ec88cae",
        "outputId": "7e0c5069-300c-477f-91b6-0bf3e41a0802"
      },
      "outputs": [
        {
          "data": {
            "text/plain": [
              "Month                          8\n",
              "Age                         1788\n",
              "Occupation                    16\n",
              "Annual_Income              18940\n",
              "Num_of_Loan                  434\n",
              "Type_of_Loan                6260\n",
              "Num_of_Delayed_Payment       749\n",
              "Changed_Credit_Limit        4384\n",
              "Credit_Mix                     4\n",
              "Outstanding_Debt           13178\n",
              "Credit_History_Age           404\n",
              "Payment_of_Min_Amount          3\n",
              "Amount_invested_monthly    91049\n",
              "Payment_Behaviour              7\n",
              "Monthly_Balance            98792\n",
              "Credit_Score                   3\n",
              "dtype: int64"
            ]
          },
          "execution_count": 10,
          "metadata": {},
          "output_type": "execute_result"
        }
      ],
      "source": [
        "#Drop Categorial Data that have 1 & 0 category, and have lot of category\n",
        "df_train.select_dtypes(include='object').nunique()"
      ]
    },
    {
      "cell_type": "code",
      "execution_count": null,
      "id": "5498a513",
      "metadata": {
        "id": "5498a513",
        "outputId": "d7fde242-56c0-4849-886d-43d636616e0c"
      },
      "outputs": [
        {
          "data": {
            "text/plain": [
              "Month                        object\n",
              "Age                          object\n",
              "Occupation                   object\n",
              "Annual_Income                object\n",
              "Monthly_Inhand_Salary       float64\n",
              "Num_Bank_Accounts             int64\n",
              "Num_Credit_Card               int64\n",
              "Interest_Rate                 int64\n",
              "Num_of_Loan                  object\n",
              "Type_of_Loan                 object\n",
              "Delay_from_due_date           int64\n",
              "Num_of_Delayed_Payment       object\n",
              "Changed_Credit_Limit         object\n",
              "Num_Credit_Inquiries        float64\n",
              "Credit_Mix                   object\n",
              "Outstanding_Debt             object\n",
              "Credit_Utilization_Ratio    float64\n",
              "Credit_History_Age           object\n",
              "Payment_of_Min_Amount        object\n",
              "Total_EMI_per_month         float64\n",
              "Amount_invested_monthly      object\n",
              "Payment_Behaviour            object\n",
              "Monthly_Balance              object\n",
              "Credit_Score                 object\n",
              "dtype: object"
            ]
          },
          "execution_count": 11,
          "metadata": {},
          "output_type": "execute_result"
        }
      ],
      "source": [
        "df_train.dtypes"
      ]
    },
    {
      "cell_type": "code",
      "execution_count": null,
      "id": "88a21068",
      "metadata": {
        "id": "88a21068",
        "outputId": "971f044f-32a8-4c08-b03c-16dc9b7e0d18"
      },
      "outputs": [
        {
          "name": "stderr",
          "output_type": "stream",
          "text": [
            "C:\\Users\\Michael\\AppData\\Local\\Temp\\ipykernel_9624\\1573765794.py:1: FutureWarning: The default value of regex will change from True to False in a future version.\n",
            "  df_train['Age'] = df_train['Age'].str.replace(r'\\D', '')\n",
            "C:\\Users\\Michael\\AppData\\Local\\Temp\\ipykernel_9624\\1573765794.py:2: FutureWarning: The default value of regex will change from True to False in a future version.\n",
            "  df_train['Annual_Income'] = df_train['Annual_Income'].str.replace(r'\\D', '')\n",
            "C:\\Users\\Michael\\AppData\\Local\\Temp\\ipykernel_9624\\1573765794.py:3: FutureWarning: The default value of regex will change from True to False in a future version.\n",
            "  df_train['Num_of_Loan'] = df_train['Num_of_Loan'].str.replace(r'\\D', '')\n",
            "C:\\Users\\Michael\\AppData\\Local\\Temp\\ipykernel_9624\\1573765794.py:4: FutureWarning: The default value of regex will change from True to False in a future version.\n",
            "  df_train['Num_of_Delayed_Payment'] = df_train['Num_of_Delayed_Payment'].str.replace(r'\\D', '')\n",
            "C:\\Users\\Michael\\AppData\\Local\\Temp\\ipykernel_9624\\1573765794.py:5: FutureWarning: The default value of regex will change from True to False in a future version.\n",
            "  df_train['Changed_Credit_Limit'] = df_train['Changed_Credit_Limit'].str.replace(r'\\D', '')\n",
            "C:\\Users\\Michael\\AppData\\Local\\Temp\\ipykernel_9624\\1573765794.py:6: FutureWarning: The default value of regex will change from True to False in a future version.\n",
            "  df_train['Outstanding_Debt'] = df_train['Outstanding_Debt'].str.replace(r'\\D', '')\n",
            "C:\\Users\\Michael\\AppData\\Local\\Temp\\ipykernel_9624\\1573765794.py:7: FutureWarning: The default value of regex will change from True to False in a future version.\n",
            "  df_train['Amount_invested_monthly'] = df_train['Amount_invested_monthly'].str.replace(r'\\D', '')\n",
            "C:\\Users\\Michael\\AppData\\Local\\Temp\\ipykernel_9624\\1573765794.py:8: FutureWarning: The default value of regex will change from True to False in a future version.\n",
            "  df_train['Monthly_Balance'] = df_train['Monthly_Balance'].str.replace(r'\\D', '')\n"
          ]
        }
      ],
      "source": [
        "df_train['Age'] = df_train['Age'].str.replace(r'\\D', '')\n",
        "df_train['Annual_Income'] = df_train['Annual_Income'].str.replace(r'\\D', '')\n",
        "df_train['Num_of_Loan'] = df_train['Num_of_Loan'].str.replace(r'\\D', '')\n",
        "df_train['Num_of_Delayed_Payment'] = df_train['Num_of_Delayed_Payment'].str.replace(r'\\D', '')\n",
        "df_train['Changed_Credit_Limit'] = df_train['Changed_Credit_Limit'].str.replace(r'\\D', '')\n",
        "df_train['Outstanding_Debt'] = df_train['Outstanding_Debt'].str.replace(r'\\D', '')\n",
        "df_train['Amount_invested_monthly'] = df_train['Amount_invested_monthly'].str.replace(r'\\D', '')\n",
        "df_train['Monthly_Balance'] = df_train['Monthly_Balance'].str.replace(r'\\D', '')"
      ]
    },
    {
      "cell_type": "code",
      "execution_count": null,
      "id": "2fccd72a",
      "metadata": {
        "id": "2fccd72a",
        "outputId": "5bb2dcb8-89e2-4f70-b97f-5a81580cc2ef"
      },
      "outputs": [
        {
          "data": {
            "text/html": [
              "<div>\n",
              "<style scoped>\n",
              "    .dataframe tbody tr th:only-of-type {\n",
              "        vertical-align: middle;\n",
              "    }\n",
              "\n",
              "    .dataframe tbody tr th {\n",
              "        vertical-align: top;\n",
              "    }\n",
              "\n",
              "    .dataframe thead th {\n",
              "        text-align: right;\n",
              "    }\n",
              "</style>\n",
              "<table border=\"1\" class=\"dataframe\">\n",
              "  <thead>\n",
              "    <tr style=\"text-align: right;\">\n",
              "      <th></th>\n",
              "      <th>Month</th>\n",
              "      <th>Age</th>\n",
              "      <th>Occupation</th>\n",
              "      <th>Annual_Income</th>\n",
              "      <th>Monthly_Inhand_Salary</th>\n",
              "      <th>Num_Bank_Accounts</th>\n",
              "      <th>Num_Credit_Card</th>\n",
              "      <th>Interest_Rate</th>\n",
              "      <th>Num_of_Loan</th>\n",
              "      <th>Delay_from_due_date</th>\n",
              "      <th>Num_of_Delayed_Payment</th>\n",
              "      <th>Changed_Credit_Limit</th>\n",
              "      <th>Num_Credit_Inquiries</th>\n",
              "      <th>Credit_Mix</th>\n",
              "      <th>Outstanding_Debt</th>\n",
              "      <th>Credit_Utilization_Ratio</th>\n",
              "      <th>Payment_of_Min_Amount</th>\n",
              "      <th>Total_EMI_per_month</th>\n",
              "      <th>Amount_invested_monthly</th>\n",
              "      <th>Payment_Behaviour</th>\n",
              "      <th>Monthly_Balance</th>\n",
              "      <th>Credit_Score</th>\n",
              "    </tr>\n",
              "  </thead>\n",
              "  <tbody>\n",
              "    <tr>\n",
              "      <th>0</th>\n",
              "      <td>January</td>\n",
              "      <td>23</td>\n",
              "      <td>Scientist</td>\n",
              "      <td>1911412</td>\n",
              "      <td>1824.843333</td>\n",
              "      <td>3</td>\n",
              "      <td>4</td>\n",
              "      <td>3</td>\n",
              "      <td>4</td>\n",
              "      <td>3</td>\n",
              "      <td>7</td>\n",
              "      <td>1127</td>\n",
              "      <td>4.0</td>\n",
              "      <td>_</td>\n",
              "      <td>80998</td>\n",
              "      <td>26.822620</td>\n",
              "      <td>No</td>\n",
              "      <td>49.574949</td>\n",
              "      <td>8041529543900253</td>\n",
              "      <td>High_spent_Small_value_payments</td>\n",
              "      <td>31249408867943663</td>\n",
              "      <td>Good</td>\n",
              "    </tr>\n",
              "    <tr>\n",
              "      <th>1</th>\n",
              "      <td>February</td>\n",
              "      <td>23</td>\n",
              "      <td>Scientist</td>\n",
              "      <td>1911412</td>\n",
              "      <td>NaN</td>\n",
              "      <td>3</td>\n",
              "      <td>4</td>\n",
              "      <td>3</td>\n",
              "      <td>4</td>\n",
              "      <td>-1</td>\n",
              "      <td>NaN</td>\n",
              "      <td>1127</td>\n",
              "      <td>4.0</td>\n",
              "      <td>Good</td>\n",
              "      <td>80998</td>\n",
              "      <td>31.944960</td>\n",
              "      <td>No</td>\n",
              "      <td>49.574949</td>\n",
              "      <td>11828022162236736</td>\n",
              "      <td>Low_spent_Large_value_payments</td>\n",
              "      <td>28462916249607184</td>\n",
              "      <td>Good</td>\n",
              "    </tr>\n",
              "    <tr>\n",
              "      <th>2</th>\n",
              "      <td>March</td>\n",
              "      <td>500</td>\n",
              "      <td>Scientist</td>\n",
              "      <td>1911412</td>\n",
              "      <td>NaN</td>\n",
              "      <td>3</td>\n",
              "      <td>4</td>\n",
              "      <td>3</td>\n",
              "      <td>4</td>\n",
              "      <td>3</td>\n",
              "      <td>7</td>\n",
              "      <td></td>\n",
              "      <td>4.0</td>\n",
              "      <td>Good</td>\n",
              "      <td>80998</td>\n",
              "      <td>28.609352</td>\n",
              "      <td>No</td>\n",
              "      <td>49.574949</td>\n",
              "      <td>81699521264648</td>\n",
              "      <td>Low_spent_Medium_value_payments</td>\n",
              "      <td>3312098628537912</td>\n",
              "      <td>Good</td>\n",
              "    </tr>\n",
              "    <tr>\n",
              "      <th>3</th>\n",
              "      <td>April</td>\n",
              "      <td>23</td>\n",
              "      <td>Scientist</td>\n",
              "      <td>1911412</td>\n",
              "      <td>NaN</td>\n",
              "      <td>3</td>\n",
              "      <td>4</td>\n",
              "      <td>3</td>\n",
              "      <td>4</td>\n",
              "      <td>5</td>\n",
              "      <td>4</td>\n",
              "      <td>627</td>\n",
              "      <td>4.0</td>\n",
              "      <td>Good</td>\n",
              "      <td>80998</td>\n",
              "      <td>31.377862</td>\n",
              "      <td>No</td>\n",
              "      <td>49.574949</td>\n",
              "      <td>1994580743910713</td>\n",
              "      <td>Low_spent_Small_value_payments</td>\n",
              "      <td>22345130972736786</td>\n",
              "      <td>Good</td>\n",
              "    </tr>\n",
              "    <tr>\n",
              "      <th>4</th>\n",
              "      <td>May</td>\n",
              "      <td>23</td>\n",
              "      <td>Scientist</td>\n",
              "      <td>1911412</td>\n",
              "      <td>1824.843333</td>\n",
              "      <td>3</td>\n",
              "      <td>4</td>\n",
              "      <td>3</td>\n",
              "      <td>4</td>\n",
              "      <td>6</td>\n",
              "      <td>NaN</td>\n",
              "      <td>1127</td>\n",
              "      <td>4.0</td>\n",
              "      <td>Good</td>\n",
              "      <td>80998</td>\n",
              "      <td>24.797347</td>\n",
              "      <td>No</td>\n",
              "      <td>49.574949</td>\n",
              "      <td>41420153086217326</td>\n",
              "      <td>High_spent_Medium_value_payments</td>\n",
              "      <td>34148923103222177</td>\n",
              "      <td>Good</td>\n",
              "    </tr>\n",
              "    <tr>\n",
              "      <th>...</th>\n",
              "      <td>...</td>\n",
              "      <td>...</td>\n",
              "      <td>...</td>\n",
              "      <td>...</td>\n",
              "      <td>...</td>\n",
              "      <td>...</td>\n",
              "      <td>...</td>\n",
              "      <td>...</td>\n",
              "      <td>...</td>\n",
              "      <td>...</td>\n",
              "      <td>...</td>\n",
              "      <td>...</td>\n",
              "      <td>...</td>\n",
              "      <td>...</td>\n",
              "      <td>...</td>\n",
              "      <td>...</td>\n",
              "      <td>...</td>\n",
              "      <td>...</td>\n",
              "      <td>...</td>\n",
              "      <td>...</td>\n",
              "      <td>...</td>\n",
              "      <td>...</td>\n",
              "    </tr>\n",
              "    <tr>\n",
              "      <th>99995</th>\n",
              "      <td>April</td>\n",
              "      <td>25</td>\n",
              "      <td>Mechanic</td>\n",
              "      <td>3962899</td>\n",
              "      <td>3359.415833</td>\n",
              "      <td>4</td>\n",
              "      <td>6</td>\n",
              "      <td>7</td>\n",
              "      <td>2</td>\n",
              "      <td>23</td>\n",
              "      <td>7</td>\n",
              "      <td>115</td>\n",
              "      <td>3.0</td>\n",
              "      <td>_</td>\n",
              "      <td>50238</td>\n",
              "      <td>34.663572</td>\n",
              "      <td>No</td>\n",
              "      <td>35.104023</td>\n",
              "      <td>6097133255718485</td>\n",
              "      <td>High_spent_Large_value_payments</td>\n",
              "      <td>NaN</td>\n",
              "      <td>Poor</td>\n",
              "    </tr>\n",
              "    <tr>\n",
              "      <th>99996</th>\n",
              "      <td>May</td>\n",
              "      <td>25</td>\n",
              "      <td>Mechanic</td>\n",
              "      <td>3962899</td>\n",
              "      <td>3359.415833</td>\n",
              "      <td>4</td>\n",
              "      <td>6</td>\n",
              "      <td>7</td>\n",
              "      <td>2</td>\n",
              "      <td>18</td>\n",
              "      <td>7</td>\n",
              "      <td>115</td>\n",
              "      <td>3.0</td>\n",
              "      <td>_</td>\n",
              "      <td>50238</td>\n",
              "      <td>40.565631</td>\n",
              "      <td>No</td>\n",
              "      <td>35.104023</td>\n",
              "      <td>5418595028760385</td>\n",
              "      <td>High_spent_Medium_value_payments</td>\n",
              "      <td>NaN</td>\n",
              "      <td>Poor</td>\n",
              "    </tr>\n",
              "    <tr>\n",
              "      <th>99997</th>\n",
              "      <td>June</td>\n",
              "      <td>25</td>\n",
              "      <td>Mechanic</td>\n",
              "      <td>3962899</td>\n",
              "      <td>3359.415833</td>\n",
              "      <td>4</td>\n",
              "      <td>6</td>\n",
              "      <td>5729</td>\n",
              "      <td>2</td>\n",
              "      <td>27</td>\n",
              "      <td>6</td>\n",
              "      <td>115</td>\n",
              "      <td>3.0</td>\n",
              "      <td>Good</td>\n",
              "      <td>50238</td>\n",
              "      <td>41.255522</td>\n",
              "      <td>No</td>\n",
              "      <td>35.104023</td>\n",
              "      <td>2402847744864441</td>\n",
              "      <td>High_spent_Large_value_payments</td>\n",
              "      <td>NaN</td>\n",
              "      <td>Poor</td>\n",
              "    </tr>\n",
              "    <tr>\n",
              "      <th>99998</th>\n",
              "      <td>July</td>\n",
              "      <td>25</td>\n",
              "      <td>Mechanic</td>\n",
              "      <td>3962899</td>\n",
              "      <td>3359.415833</td>\n",
              "      <td>4</td>\n",
              "      <td>6</td>\n",
              "      <td>7</td>\n",
              "      <td>2</td>\n",
              "      <td>20</td>\n",
              "      <td>NaN</td>\n",
              "      <td>115</td>\n",
              "      <td>3.0</td>\n",
              "      <td>Good</td>\n",
              "      <td>50238</td>\n",
              "      <td>33.638208</td>\n",
              "      <td>No</td>\n",
              "      <td>35.104023</td>\n",
              "      <td>25167258219721603</td>\n",
              "      <td>Low_spent_Large_value_payments</td>\n",
              "      <td>NaN</td>\n",
              "      <td>Standard</td>\n",
              "    </tr>\n",
              "    <tr>\n",
              "      <th>99999</th>\n",
              "      <td>August</td>\n",
              "      <td>25</td>\n",
              "      <td>Mechanic</td>\n",
              "      <td>3962899</td>\n",
              "      <td>3359.415833</td>\n",
              "      <td>4</td>\n",
              "      <td>6</td>\n",
              "      <td>7</td>\n",
              "      <td>2</td>\n",
              "      <td>18</td>\n",
              "      <td>6</td>\n",
              "      <td>115</td>\n",
              "      <td>3.0</td>\n",
              "      <td>Good</td>\n",
              "      <td>50238</td>\n",
              "      <td>34.192463</td>\n",
              "      <td>No</td>\n",
              "      <td>35.104023</td>\n",
              "      <td>1671638651610451</td>\n",
              "      <td>!@9#%8</td>\n",
              "      <td>NaN</td>\n",
              "      <td>Poor</td>\n",
              "    </tr>\n",
              "  </tbody>\n",
              "</table>\n",
              "<p>100000 rows × 22 columns</p>\n",
              "</div>"
            ],
            "text/plain": [
              "          Month  Age Occupation Annual_Income  Monthly_Inhand_Salary  \\\n",
              "0       January   23  Scientist       1911412            1824.843333   \n",
              "1      February   23  Scientist       1911412                    NaN   \n",
              "2         March  500  Scientist       1911412                    NaN   \n",
              "3         April   23  Scientist       1911412                    NaN   \n",
              "4           May   23  Scientist       1911412            1824.843333   \n",
              "...         ...  ...        ...           ...                    ...   \n",
              "99995     April   25   Mechanic       3962899            3359.415833   \n",
              "99996       May   25   Mechanic       3962899            3359.415833   \n",
              "99997      June   25   Mechanic       3962899            3359.415833   \n",
              "99998      July   25   Mechanic       3962899            3359.415833   \n",
              "99999    August   25   Mechanic       3962899            3359.415833   \n",
              "\n",
              "       Num_Bank_Accounts  Num_Credit_Card  Interest_Rate Num_of_Loan  \\\n",
              "0                      3                4              3           4   \n",
              "1                      3                4              3           4   \n",
              "2                      3                4              3           4   \n",
              "3                      3                4              3           4   \n",
              "4                      3                4              3           4   \n",
              "...                  ...              ...            ...         ...   \n",
              "99995                  4                6              7           2   \n",
              "99996                  4                6              7           2   \n",
              "99997                  4                6           5729           2   \n",
              "99998                  4                6              7           2   \n",
              "99999                  4                6              7           2   \n",
              "\n",
              "       Delay_from_due_date Num_of_Delayed_Payment Changed_Credit_Limit  \\\n",
              "0                        3                      7                 1127   \n",
              "1                       -1                    NaN                 1127   \n",
              "2                        3                      7                        \n",
              "3                        5                      4                  627   \n",
              "4                        6                    NaN                 1127   \n",
              "...                    ...                    ...                  ...   \n",
              "99995                   23                      7                  115   \n",
              "99996                   18                      7                  115   \n",
              "99997                   27                      6                  115   \n",
              "99998                   20                    NaN                  115   \n",
              "99999                   18                      6                  115   \n",
              "\n",
              "       Num_Credit_Inquiries Credit_Mix Outstanding_Debt  \\\n",
              "0                       4.0          _            80998   \n",
              "1                       4.0       Good            80998   \n",
              "2                       4.0       Good            80998   \n",
              "3                       4.0       Good            80998   \n",
              "4                       4.0       Good            80998   \n",
              "...                     ...        ...              ...   \n",
              "99995                   3.0          _            50238   \n",
              "99996                   3.0          _            50238   \n",
              "99997                   3.0       Good            50238   \n",
              "99998                   3.0       Good            50238   \n",
              "99999                   3.0       Good            50238   \n",
              "\n",
              "       Credit_Utilization_Ratio Payment_of_Min_Amount  Total_EMI_per_month  \\\n",
              "0                     26.822620                    No            49.574949   \n",
              "1                     31.944960                    No            49.574949   \n",
              "2                     28.609352                    No            49.574949   \n",
              "3                     31.377862                    No            49.574949   \n",
              "4                     24.797347                    No            49.574949   \n",
              "...                         ...                   ...                  ...   \n",
              "99995                 34.663572                    No            35.104023   \n",
              "99996                 40.565631                    No            35.104023   \n",
              "99997                 41.255522                    No            35.104023   \n",
              "99998                 33.638208                    No            35.104023   \n",
              "99999                 34.192463                    No            35.104023   \n",
              "\n",
              "      Amount_invested_monthly                 Payment_Behaviour  \\\n",
              "0            8041529543900253   High_spent_Small_value_payments   \n",
              "1           11828022162236736    Low_spent_Large_value_payments   \n",
              "2              81699521264648   Low_spent_Medium_value_payments   \n",
              "3            1994580743910713    Low_spent_Small_value_payments   \n",
              "4           41420153086217326  High_spent_Medium_value_payments   \n",
              "...                       ...                               ...   \n",
              "99995        6097133255718485   High_spent_Large_value_payments   \n",
              "99996        5418595028760385  High_spent_Medium_value_payments   \n",
              "99997        2402847744864441   High_spent_Large_value_payments   \n",
              "99998       25167258219721603    Low_spent_Large_value_payments   \n",
              "99999        1671638651610451                            !@9#%8   \n",
              "\n",
              "         Monthly_Balance Credit_Score  \n",
              "0      31249408867943663         Good  \n",
              "1      28462916249607184         Good  \n",
              "2       3312098628537912         Good  \n",
              "3      22345130972736786         Good  \n",
              "4      34148923103222177         Good  \n",
              "...                  ...          ...  \n",
              "99995                NaN         Poor  \n",
              "99996                NaN         Poor  \n",
              "99997                NaN         Poor  \n",
              "99998                NaN     Standard  \n",
              "99999                NaN         Poor  \n",
              "\n",
              "[100000 rows x 22 columns]"
            ]
          },
          "execution_count": 21,
          "metadata": {},
          "output_type": "execute_result"
        }
      ],
      "source": [
        "df_train"
      ]
    },
    {
      "cell_type": "code",
      "execution_count": null,
      "id": "9e719e54",
      "metadata": {
        "id": "9e719e54",
        "outputId": "c335650c-4665-46c9-fc39-ec4d8cbdd69d"
      },
      "outputs": [
        {
          "data": {
            "text/plain": [
              "(100000, 23)"
            ]
          },
          "execution_count": 15,
          "metadata": {},
          "output_type": "execute_result"
        }
      ],
      "source": [
        "df_train.drop(columns = 'Type_of_Loan', inplace = True)\n",
        "df_train.shape"
      ]
    },
    {
      "cell_type": "code",
      "execution_count": null,
      "id": "c4caf747",
      "metadata": {
        "id": "c4caf747",
        "outputId": "eb7ada9f-7caa-4fda-867f-032281aaf6cc"
      },
      "outputs": [
        {
          "data": {
            "text/plain": [
              "(100000, 22)"
            ]
          },
          "execution_count": 16,
          "metadata": {},
          "output_type": "execute_result"
        }
      ],
      "source": [
        "df_train.drop(columns = 'Credit_History_Age', inplace = True)\n",
        "df_train.shape"
      ]
    },
    {
      "cell_type": "code",
      "execution_count": null,
      "id": "c317cd07",
      "metadata": {
        "id": "c317cd07",
        "outputId": "28a0726c-7f23-484b-bd05-52804b3f8191"
      },
      "outputs": [
        {
          "data": {
            "text/plain": [
              "Month                        object\n",
              "Age                           int64\n",
              "Occupation                   object\n",
              "Annual_Income                 int64\n",
              "Monthly_Inhand_Salary       float64\n",
              "Num_Bank_Accounts             int64\n",
              "Num_Credit_Card               int64\n",
              "Interest_Rate                 int64\n",
              "Num_of_Loan                   int64\n",
              "Delay_from_due_date           int64\n",
              "Num_of_Delayed_Payment      float64\n",
              "Changed_Credit_Limit        float64\n",
              "Num_Credit_Inquiries        float64\n",
              "Credit_Mix                   object\n",
              "Outstanding_Debt              int64\n",
              "Credit_Utilization_Ratio    float64\n",
              "Payment_of_Min_Amount        object\n",
              "Total_EMI_per_month         float64\n",
              "Amount_invested_monthly     float64\n",
              "Payment_Behaviour            object\n",
              "Monthly_Balance              object\n",
              "Credit_Score                 object\n",
              "dtype: object"
            ]
          },
          "execution_count": 23,
          "metadata": {},
          "output_type": "execute_result"
        }
      ],
      "source": [
        "#convert object data types column to integer\n",
        "df_train['Age'] = pd.to_numeric(df_train['Age'])\n",
        "df_train['Annual_Income'] = pd.to_numeric(df_train['Annual_Income'])\n",
        "df_train['Num_of_Loan'] = pd.to_numeric(df_train['Num_of_Loan'])\n",
        "df_train['Num_of_Delayed_Payment'] = pd.to_numeric(df_train['Num_of_Delayed_Payment'])\n",
        "df_train['Changed_Credit_Limit'] = pd.to_numeric(df_train['Changed_Credit_Limit'])\n",
        "df_train['Outstanding_Debt'] = pd.to_numeric(df_train['Outstanding_Debt'])\n",
        "df_train['Outstanding_Debt'] = pd.to_numeric(df_train['Outstanding_Debt'])\n",
        "df_train['Amount_invested_monthly'] = pd.to_numeric(df_train['Amount_invested_monthly'])\n",
        "\n",
        "df_train.dtypes"
      ]
    },
    {
      "cell_type": "code",
      "execution_count": null,
      "id": "ba030be1",
      "metadata": {
        "id": "ba030be1",
        "outputId": "337b1fdf-34be-4d1e-80e2-9f6ff34344d6"
      },
      "outputs": [
        {
          "data": {
            "text/plain": [
              "(100000, 21)"
            ]
          },
          "execution_count": 24,
          "metadata": {},
          "output_type": "execute_result"
        }
      ],
      "source": [
        "df_train.drop(columns = 'Monthly_Balance', inplace = True)\n",
        "df_train.shape"
      ]
    },
    {
      "cell_type": "markdown",
      "id": "a5ac3c08",
      "metadata": {
        "id": "a5ac3c08"
      },
      "source": [
        "# Exploratory Data Analysis"
      ]
    },
    {
      "cell_type": "code",
      "execution_count": null,
      "id": "2411cf90",
      "metadata": {
        "id": "2411cf90",
        "outputId": "8ca148ac-25a2-43c7-b9bf-e0ea5f0dc0cc"
      },
      "outputs": [
        {
          "data": {
            "text/plain": [
              "<AxesSubplot:xlabel='Credit_Score', ylabel='count'>"
            ]
          },
          "execution_count": 26,
          "metadata": {},
          "output_type": "execute_result"
        },
        {
          "data": {
            "image/png": "[encoded data removed]",
            "text/plain": [
              "<Figure size 640x480 with 1 Axes>"
            ]
          },
          "metadata": {},
          "output_type": "display_data"
        }
      ],
      "source": [
        "sns.countplot(data=df_train, x=\"Credit_Score\", hue=\"Payment_Behaviour\")"
      ]
    },
    {
      "cell_type": "code",
      "execution_count": null,
      "id": "ced54ea3",
      "metadata": {
        "id": "ced54ea3",
        "outputId": "23c70f18-cb67-44a9-afcf-d96ac8836a0e"
      },
      "outputs": [
        {
          "data": {
            "text/plain": [
              "<AxesSubplot:xlabel='Credit_Score', ylabel='Age'>"
            ]
          },
          "execution_count": 28,
          "metadata": {},
          "output_type": "execute_result"
        },
        {
          "data": {
            "image/png": "[encoded data removed]",
            "text/plain": [
              "<Figure size 640x480 with 1 Axes>"
            ]
          },
          "metadata": {},
          "output_type": "display_data"
        }
      ],
      "source": [
        "sns.barplot(data=df_train, x=\"Credit_Score\", y=\"Age\")\n",
        "#This is most likely have alot of outlier so this analysis is false"
      ]
    },
    {
      "cell_type": "code",
      "execution_count": null,
      "id": "b3c93785",
      "metadata": {
        "id": "b3c93785",
        "outputId": "09d08b95-45aa-4dba-ed49-0b85531e23a2"
      },
      "outputs": [
        {
          "data": {
            "text/plain": [
              "(array([ 0,  1,  2,  3,  4,  5,  6,  7,  8,  9, 10, 11, 12, 13, 14, 15]),\n",
              " [Text(0, 0, 'Scientist'),\n",
              "  Text(1, 0, 'Other'),\n",
              "  Text(2, 0, 'Teacher'),\n",
              "  Text(3, 0, 'Engineer'),\n",
              "  Text(4, 0, 'Entrepreneur'),\n",
              "  Text(5, 0, 'Developer'),\n",
              "  Text(6, 0, 'Lawyer'),\n",
              "  Text(7, 0, 'Media_Manager'),\n",
              "  Text(8, 0, 'Doctor'),\n",
              "  Text(9, 0, 'Journalist'),\n",
              "  Text(10, 0, 'Manager'),\n",
              "  Text(11, 0, 'Accountant'),\n",
              "  Text(12, 0, 'Musician'),\n",
              "  Text(13, 0, 'Mechanic'),\n",
              "  Text(14, 0, 'Writer'),\n",
              "  Text(15, 0, 'Architect')])"
            ]
          },
          "execution_count": 31,
          "metadata": {},
          "output_type": "execute_result"
        },
        {
          "data": {
            "image/png": "[encoded data removed]",
            "text/plain": [
              "<Figure size 640x480 with 1 Axes>"
            ]
          },
          "metadata": {},
          "output_type": "display_data"
        }
      ],
      "source": [
        "sns.countplot(data=df_train, x=\"Occupation\", hue=\"Credit_Score\")\n",
        "plt.xticks (rotation='vertical')"
      ]
    },
    {
      "cell_type": "code",
      "execution_count": null,
      "id": "2147b34e",
      "metadata": {
        "id": "2147b34e",
        "outputId": "d3875145-35d6-4cdd-ddec-12775a9cf81d"
      },
      "outputs": [
        {
          "data": {
            "text/plain": [
              "<AxesSubplot:xlabel='Credit_Score', ylabel='Num_Bank_Accounts'>"
            ]
          },
          "execution_count": 32,
          "metadata": {},
          "output_type": "execute_result"
        },
        {
          "data": {
            "image/png": "[encoded data removed]",
            "text/plain": [
              "<Figure size 640x480 with 1 Axes>"
            ]
          },
          "metadata": {},
          "output_type": "display_data"
        }
      ],
      "source": [
        "sns.barplot(data=df_train, x=\"Credit_Score\", y=\"Num_Bank_Accounts\")"
      ]
    },
    {
      "cell_type": "code",
      "execution_count": null,
      "id": "16ed32d6",
      "metadata": {
        "id": "16ed32d6",
        "outputId": "e1dddba1-b550-4bcd-b583-ef50526726b6"
      },
      "outputs": [
        {
          "data": {
            "text/plain": [
              "<AxesSubplot:xlabel='Credit_Score', ylabel='Num_Credit_Card'>"
            ]
          },
          "execution_count": 33,
          "metadata": {},
          "output_type": "execute_result"
        },
        {
          "data": {
            "image/png": "[encoded data removed]",
            "text/plain": [
              "<Figure size 640x480 with 1 Axes>"
            ]
          },
          "metadata": {},
          "output_type": "display_data"
        }
      ],
      "source": [
        "sns.barplot(data=df_train, x=\"Credit_Score\", y=\"Num_Credit_Card\")"
      ]
    },
    {
      "cell_type": "code",
      "execution_count": null,
      "id": "7a37ed90",
      "metadata": {
        "id": "7a37ed90",
        "outputId": "73acee1b-892f-4289-c948-3d2c2afc5620"
      },
      "outputs": [
        {
          "data": {
            "text/plain": [
              "<AxesSubplot:xlabel='Payment_of_Min_Amount', ylabel='count'>"
            ]
          },
          "execution_count": 34,
          "metadata": {},
          "output_type": "execute_result"
        },
        {
          "data": {
            "image/png": "[encoded data removed]",
            "text/plain": [
              "<Figure size 640x480 with 1 Axes>"
            ]
          },
          "metadata": {},
          "output_type": "display_data"
        }
      ],
      "source": [
        "sns.countplot(data=df_train, x=\"Payment_of_Min_Amount\", hue=\"Credit_Score\")\n",
        "#Give some Promotion to the people that have no Payment_of_Min_Amount"
      ]
    },
    {
      "cell_type": "code",
      "execution_count": null,
      "id": "667c3775",
      "metadata": {
        "id": "667c3775",
        "outputId": "80bf5cf7-598e-4312-b156-e074c0312c8e"
      },
      "outputs": [
        {
          "data": {
            "text/plain": [
              "<AxesSubplot:xlabel='Credit_Mix', ylabel='count'>"
            ]
          },
          "execution_count": 36,
          "metadata": {},
          "output_type": "execute_result"
        },
        {
          "data": {
            "image/png": "[encoded data removed]",
            "text/plain": [
              "<Figure size 640x480 with 1 Axes>"
            ]
          },
          "metadata": {},
          "output_type": "display_data"
        }
      ],
      "source": [
        "sns.countplot(data=df_train, x=\"Credit_Mix\", hue=\"Credit_Score\")\n",
        "#We can give some promotion to the people with good Credit Mix"
      ]
    },
    {
      "cell_type": "markdown",
      "id": "a3aa3418",
      "metadata": {
        "id": "a3aa3418"
      },
      "source": [
        "# Data Preprocessing Part 2"
      ]
    },
    {
      "cell_type": "code",
      "execution_count": null,
      "id": "b8e40388",
      "metadata": {
        "id": "b8e40388",
        "outputId": "1cdf0db8-7269-4768-e143-c79525f3629a"
      },
      "outputs": [
        {
          "data": {
            "text/html": [
              "<div>\n",
              "<style scoped>\n",
              "    .dataframe tbody tr th:only-of-type {\n",
              "        vertical-align: middle;\n",
              "    }\n",
              "\n",
              "    .dataframe tbody tr th {\n",
              "        vertical-align: top;\n",
              "    }\n",
              "\n",
              "    .dataframe thead th {\n",
              "        text-align: right;\n",
              "    }\n",
              "</style>\n",
              "<table border=\"1\" class=\"dataframe\">\n",
              "  <thead>\n",
              "    <tr style=\"text-align: right;\">\n",
              "      <th></th>\n",
              "      <th>Month</th>\n",
              "      <th>Age</th>\n",
              "      <th>Occupation</th>\n",
              "      <th>Annual_Income</th>\n",
              "      <th>Monthly_Inhand_Salary</th>\n",
              "      <th>Num_Bank_Accounts</th>\n",
              "      <th>Num_Credit_Card</th>\n",
              "      <th>Interest_Rate</th>\n",
              "      <th>Num_of_Loan</th>\n",
              "      <th>Delay_from_due_date</th>\n",
              "      <th>Num_of_Delayed_Payment</th>\n",
              "      <th>Changed_Credit_Limit</th>\n",
              "      <th>Num_Credit_Inquiries</th>\n",
              "      <th>Credit_Mix</th>\n",
              "      <th>Outstanding_Debt</th>\n",
              "      <th>Credit_Utilization_Ratio</th>\n",
              "      <th>Payment_of_Min_Amount</th>\n",
              "      <th>Total_EMI_per_month</th>\n",
              "      <th>Amount_invested_monthly</th>\n",
              "      <th>Payment_Behaviour</th>\n",
              "      <th>Credit_Score</th>\n",
              "    </tr>\n",
              "  </thead>\n",
              "  <tbody>\n",
              "    <tr>\n",
              "      <th>0</th>\n",
              "      <td>January</td>\n",
              "      <td>23</td>\n",
              "      <td>Scientist</td>\n",
              "      <td>1911412</td>\n",
              "      <td>1824.843333</td>\n",
              "      <td>3</td>\n",
              "      <td>4</td>\n",
              "      <td>3</td>\n",
              "      <td>4</td>\n",
              "      <td>3</td>\n",
              "      <td>7.0</td>\n",
              "      <td>1127.0</td>\n",
              "      <td>4.0</td>\n",
              "      <td>_</td>\n",
              "      <td>80998</td>\n",
              "      <td>26.822620</td>\n",
              "      <td>No</td>\n",
              "      <td>49.574949</td>\n",
              "      <td>8.041530e+15</td>\n",
              "      <td>High_spent_Small_value_payments</td>\n",
              "      <td>Good</td>\n",
              "    </tr>\n",
              "    <tr>\n",
              "      <th>1</th>\n",
              "      <td>February</td>\n",
              "      <td>23</td>\n",
              "      <td>Scientist</td>\n",
              "      <td>1911412</td>\n",
              "      <td>NaN</td>\n",
              "      <td>3</td>\n",
              "      <td>4</td>\n",
              "      <td>3</td>\n",
              "      <td>4</td>\n",
              "      <td>-1</td>\n",
              "      <td>NaN</td>\n",
              "      <td>1127.0</td>\n",
              "      <td>4.0</td>\n",
              "      <td>Good</td>\n",
              "      <td>80998</td>\n",
              "      <td>31.944960</td>\n",
              "      <td>No</td>\n",
              "      <td>49.574949</td>\n",
              "      <td>1.182802e+16</td>\n",
              "      <td>Low_spent_Large_value_payments</td>\n",
              "      <td>Good</td>\n",
              "    </tr>\n",
              "    <tr>\n",
              "      <th>2</th>\n",
              "      <td>March</td>\n",
              "      <td>500</td>\n",
              "      <td>Scientist</td>\n",
              "      <td>1911412</td>\n",
              "      <td>NaN</td>\n",
              "      <td>3</td>\n",
              "      <td>4</td>\n",
              "      <td>3</td>\n",
              "      <td>4</td>\n",
              "      <td>3</td>\n",
              "      <td>7.0</td>\n",
              "      <td>NaN</td>\n",
              "      <td>4.0</td>\n",
              "      <td>Good</td>\n",
              "      <td>80998</td>\n",
              "      <td>28.609352</td>\n",
              "      <td>No</td>\n",
              "      <td>49.574949</td>\n",
              "      <td>8.169952e+13</td>\n",
              "      <td>Low_spent_Medium_value_payments</td>\n",
              "      <td>Good</td>\n",
              "    </tr>\n",
              "    <tr>\n",
              "      <th>3</th>\n",
              "      <td>April</td>\n",
              "      <td>23</td>\n",
              "      <td>Scientist</td>\n",
              "      <td>1911412</td>\n",
              "      <td>NaN</td>\n",
              "      <td>3</td>\n",
              "      <td>4</td>\n",
              "      <td>3</td>\n",
              "      <td>4</td>\n",
              "      <td>5</td>\n",
              "      <td>4.0</td>\n",
              "      <td>627.0</td>\n",
              "      <td>4.0</td>\n",
              "      <td>Good</td>\n",
              "      <td>80998</td>\n",
              "      <td>31.377862</td>\n",
              "      <td>No</td>\n",
              "      <td>49.574949</td>\n",
              "      <td>1.994581e+15</td>\n",
              "      <td>Low_spent_Small_value_payments</td>\n",
              "      <td>Good</td>\n",
              "    </tr>\n",
              "    <tr>\n",
              "      <th>4</th>\n",
              "      <td>May</td>\n",
              "      <td>23</td>\n",
              "      <td>Scientist</td>\n",
              "      <td>1911412</td>\n",
              "      <td>1824.843333</td>\n",
              "      <td>3</td>\n",
              "      <td>4</td>\n",
              "      <td>3</td>\n",
              "      <td>4</td>\n",
              "      <td>6</td>\n",
              "      <td>NaN</td>\n",
              "      <td>1127.0</td>\n",
              "      <td>4.0</td>\n",
              "      <td>Good</td>\n",
              "      <td>80998</td>\n",
              "      <td>24.797347</td>\n",
              "      <td>No</td>\n",
              "      <td>49.574949</td>\n",
              "      <td>4.142015e+16</td>\n",
              "      <td>High_spent_Medium_value_payments</td>\n",
              "      <td>Good</td>\n",
              "    </tr>\n",
              "  </tbody>\n",
              "</table>\n",
              "</div>"
            ],
            "text/plain": [
              "      Month  Age Occupation  Annual_Income  Monthly_Inhand_Salary  \\\n",
              "0   January   23  Scientist        1911412            1824.843333   \n",
              "1  February   23  Scientist        1911412                    NaN   \n",
              "2     March  500  Scientist        1911412                    NaN   \n",
              "3     April   23  Scientist        1911412                    NaN   \n",
              "4       May   23  Scientist        1911412            1824.843333   \n",
              "\n",
              "   Num_Bank_Accounts  Num_Credit_Card  Interest_Rate  Num_of_Loan  \\\n",
              "0                  3                4              3            4   \n",
              "1                  3                4              3            4   \n",
              "2                  3                4              3            4   \n",
              "3                  3                4              3            4   \n",
              "4                  3                4              3            4   \n",
              "\n",
              "   Delay_from_due_date  Num_of_Delayed_Payment  Changed_Credit_Limit  \\\n",
              "0                    3                     7.0                1127.0   \n",
              "1                   -1                     NaN                1127.0   \n",
              "2                    3                     7.0                   NaN   \n",
              "3                    5                     4.0                 627.0   \n",
              "4                    6                     NaN                1127.0   \n",
              "\n",
              "   Num_Credit_Inquiries Credit_Mix  Outstanding_Debt  \\\n",
              "0                   4.0          _             80998   \n",
              "1                   4.0       Good             80998   \n",
              "2                   4.0       Good             80998   \n",
              "3                   4.0       Good             80998   \n",
              "4                   4.0       Good             80998   \n",
              "\n",
              "   Credit_Utilization_Ratio Payment_of_Min_Amount  Total_EMI_per_month  \\\n",
              "0                 26.822620                    No            49.574949   \n",
              "1                 31.944960                    No            49.574949   \n",
              "2                 28.609352                    No            49.574949   \n",
              "3                 31.377862                    No            49.574949   \n",
              "4                 24.797347                    No            49.574949   \n",
              "\n",
              "   Amount_invested_monthly                 Payment_Behaviour Credit_Score  \n",
              "0             8.041530e+15   High_spent_Small_value_payments         Good  \n",
              "1             1.182802e+16    Low_spent_Large_value_payments         Good  \n",
              "2             8.169952e+13   Low_spent_Medium_value_payments         Good  \n",
              "3             1.994581e+15    Low_spent_Small_value_payments         Good  \n",
              "4             4.142015e+16  High_spent_Medium_value_payments         Good  "
            ]
          },
          "execution_count": 37,
          "metadata": {},
          "output_type": "execute_result"
        }
      ],
      "source": [
        "df_train.head()"
      ]
    },
    {
      "cell_type": "code",
      "execution_count": null,
      "id": "2e5616f8",
      "metadata": {
        "id": "2e5616f8",
        "outputId": "e069e187-6b24-4e43-e842-32acb4ea813e"
      },
      "outputs": [
        {
          "data": {
            "text/plain": [
              "(100000, 20)"
            ]
          },
          "execution_count": 38,
          "metadata": {},
          "output_type": "execute_result"
        }
      ],
      "source": [
        "df_train.drop(columns = 'Month', inplace = True)\n",
        "df_train.shape"
      ]
    },
    {
      "cell_type": "code",
      "execution_count": null,
      "id": "0c60b0a2",
      "metadata": {
        "id": "0c60b0a2",
        "outputId": "1795e3ad-3c3e-4e29-e3ff-9f1fbb8fb7ca"
      },
      "outputs": [
        {
          "data": {
            "text/plain": [
              "array(['Scientist', 'Other', 'Teacher', 'Engineer', 'Entrepreneur',\n",
              "       'Developer', 'Lawyer', 'Media_Manager', 'Doctor', 'Journalist',\n",
              "       'Manager', 'Accountant', 'Musician', 'Mechanic', 'Writer',\n",
              "       'Architect'], dtype=object)"
            ]
          },
          "execution_count": 40,
          "metadata": {},
          "output_type": "execute_result"
        }
      ],
      "source": [
        "df_train['Occupation'].unique()"
      ]
    },
    {
      "cell_type": "code",
      "execution_count": null,
      "id": "b99fb75e",
      "metadata": {
        "id": "b99fb75e",
        "outputId": "bb757609-b9f6-4f63-a4dd-cc19af876d54"
      },
      "outputs": [
        {
          "data": {
            "text/plain": [
              "array([13, 12, 14,  4,  5,  2,  7, 10,  3,  6,  8,  0, 11,  9, 15,  1])"
            ]
          },
          "execution_count": 41,
          "metadata": {},
          "output_type": "execute_result"
        }
      ],
      "source": [
        "from sklearn import preprocessing\n",
        "label_encoder = preprocessing.LabelEncoder()\n",
        "df_train['Occupation']= label_encoder.fit_transform(df_train['Occupation'])\n",
        "df_train['Occupation'].unique()"
      ]
    },
    {
      "cell_type": "code",
      "execution_count": null,
      "id": "ffb86a63",
      "metadata": {
        "id": "ffb86a63",
        "outputId": "145802f5-be8b-4299-bb8e-c05e92970b54"
      },
      "outputs": [
        {
          "data": {
            "text/plain": [
              "array(['_', 'Good', 'Standard', 'Bad'], dtype=object)"
            ]
          },
          "execution_count": 42,
          "metadata": {},
          "output_type": "execute_result"
        }
      ],
      "source": [
        "df_train['Credit_Mix'].unique()"
      ]
    },
    {
      "cell_type": "code",
      "execution_count": null,
      "id": "12e08a9a",
      "metadata": {
        "id": "12e08a9a",
        "outputId": "aecfea1a-0406-45b6-d716-8a337c90f037"
      },
      "outputs": [
        {
          "data": {
            "text/plain": [
              "array([3, 1, 2, 0])"
            ]
          },
          "execution_count": 43,
          "metadata": {},
          "output_type": "execute_result"
        }
      ],
      "source": [
        "df_train['Credit_Mix']= label_encoder.fit_transform(df_train['Credit_Mix'])\n",
        "df_train['Credit_Mix'].unique()"
      ]
    },
    {
      "cell_type": "code",
      "execution_count": null,
      "id": "1a279124",
      "metadata": {
        "id": "1a279124",
        "outputId": "78040a08-489e-46f6-93f6-202899de7995"
      },
      "outputs": [
        {
          "data": {
            "text/plain": [
              "array([1, 0, 2])"
            ]
          },
          "execution_count": 44,
          "metadata": {},
          "output_type": "execute_result"
        }
      ],
      "source": [
        "df_train['Payment_of_Min_Amount']= label_encoder.fit_transform(df_train['Payment_of_Min_Amount'])\n",
        "df_train['Payment_of_Min_Amount'].unique()"
      ]
    },
    {
      "cell_type": "code",
      "execution_count": null,
      "id": "86caa54b",
      "metadata": {
        "id": "86caa54b",
        "outputId": "685ce3da-8050-4c8f-daa5-c8872bfe688a"
      },
      "outputs": [
        {
          "data": {
            "text/plain": [
              "array(['High_spent_Small_value_payments',\n",
              "       'Low_spent_Large_value_payments',\n",
              "       'Low_spent_Medium_value_payments',\n",
              "       'Low_spent_Small_value_payments',\n",
              "       'High_spent_Medium_value_payments', '!@9#%8',\n",
              "       'High_spent_Large_value_payments'], dtype=object)"
            ]
          },
          "execution_count": 45,
          "metadata": {},
          "output_type": "execute_result"
        }
      ],
      "source": [
        "df_train['Payment_Behaviour'].unique()"
      ]
    },
    {
      "cell_type": "code",
      "execution_count": null,
      "id": "188d708b",
      "metadata": {
        "id": "188d708b",
        "outputId": "dc2b3ead-c5d1-41ae-896e-1b0855c8bc81"
      },
      "outputs": [
        {
          "data": {
            "text/plain": [
              "array([3, 4, 5, 6, 2, 0, 1])"
            ]
          },
          "execution_count": 46,
          "metadata": {},
          "output_type": "execute_result"
        }
      ],
      "source": [
        "df_train['Payment_Behaviour']= label_encoder.fit_transform(df_train['Payment_Behaviour'])\n",
        "df_train['Payment_Behaviour'].unique()"
      ]
    },
    {
      "cell_type": "code",
      "execution_count": null,
      "id": "1b45a5dc",
      "metadata": {
        "id": "1b45a5dc",
        "outputId": "e30286cb-e128-4877-9617-3784c8a850bc"
      },
      "outputs": [
        {
          "data": {
            "text/plain": [
              "array(['Good', 'Standard', 'Poor'], dtype=object)"
            ]
          },
          "execution_count": 47,
          "metadata": {},
          "output_type": "execute_result"
        }
      ],
      "source": [
        "df_train['Credit_Score'].unique()"
      ]
    },
    {
      "cell_type": "code",
      "execution_count": null,
      "id": "5fe0c41a",
      "metadata": {
        "id": "5fe0c41a",
        "outputId": "195ba2a4-cb89-47dc-82fb-44f15945019e"
      },
      "outputs": [
        {
          "data": {
            "text/plain": [
              "array([0, 2, 1])"
            ]
          },
          "execution_count": 48,
          "metadata": {},
          "output_type": "execute_result"
        }
      ],
      "source": [
        "df_train['Credit_Score']= label_encoder.fit_transform(df_train['Credit_Score'])\n",
        "df_train['Credit_Score'].unique()\n",
        "# 0 -> Good\n",
        "# 1 -> Poor\n",
        "# 2 -> Standard"
      ]
    },
    {
      "cell_type": "code",
      "execution_count": null,
      "id": "094cd404",
      "metadata": {
        "id": "094cd404",
        "outputId": "d1964089-2c4e-4ab0-968c-da62d324053f"
      },
      "outputs": [
        {
          "data": {
            "text/plain": [
              "Age                           int64\n",
              "Occupation                    int32\n",
              "Annual_Income                 int64\n",
              "Monthly_Inhand_Salary       float64\n",
              "Num_Bank_Accounts             int64\n",
              "Num_Credit_Card               int64\n",
              "Interest_Rate                 int64\n",
              "Num_of_Loan                   int64\n",
              "Delay_from_due_date           int64\n",
              "Num_of_Delayed_Payment      float64\n",
              "Changed_Credit_Limit        float64\n",
              "Num_Credit_Inquiries        float64\n",
              "Credit_Mix                    int32\n",
              "Outstanding_Debt              int64\n",
              "Credit_Utilization_Ratio    float64\n",
              "Payment_of_Min_Amount         int32\n",
              "Total_EMI_per_month         float64\n",
              "Amount_invested_monthly     float64\n",
              "Payment_Behaviour             int32\n",
              "Credit_Score                  int32\n",
              "dtype: object"
            ]
          },
          "execution_count": 49,
          "metadata": {},
          "output_type": "execute_result"
        }
      ],
      "source": [
        "df_train.dtypes"
      ]
    },
    {
      "cell_type": "markdown",
      "id": "0b2f21bd",
      "metadata": {
        "id": "0b2f21bd"
      },
      "source": [
        "# Balance the Class Value"
      ]
    },
    {
      "cell_type": "code",
      "execution_count": null,
      "id": "4c46f21c",
      "metadata": {
        "id": "4c46f21c",
        "outputId": "771e0966-cc51-4d54-e2e1-3df7d072ae71"
      },
      "outputs": [
        {
          "name": "stderr",
          "output_type": "stream",
          "text": [
            "D:\\anaconda3\\lib\\site-packages\\seaborn\\_decorators.py:36: FutureWarning: Pass the following variable as a keyword arg: x. From version 0.12, the only valid positional argument will be `data`, and passing other arguments without an explicit keyword will result in an error or misinterpretation.\n",
            "  warnings.warn(\n"
          ]
        },
        {
          "data": {
            "text/plain": [
              "2    53174\n",
              "1    28998\n",
              "0    17828\n",
              "Name: Credit_Score, dtype: int64"
            ]
          },
          "execution_count": 51,
          "metadata": {},
          "output_type": "execute_result"
        },
        {
          "data": {
            "image/png": "[encoded data removed]",
            "text/plain": [
              "<Figure size 640x480 with 1 Axes>"
            ]
          },
          "metadata": {},
          "output_type": "display_data"
        }
      ],
      "source": [
        "#Counting 1 and 0 Value in Response column\n",
        "sns.countplot(df_train['Credit_Score'])\n",
        "df_train['Credit_Score'].value_counts()"
      ]
    },
    {
      "cell_type": "code",
      "execution_count": null,
      "id": "ad9cd29d",
      "metadata": {
        "id": "ad9cd29d"
      },
      "outputs": [],
      "source": [
        "from sklearn.utils import resample\n",
        "#create two different dataframe of majority and minority class \n",
        "df_majority = df_train[(df_train['Credit_Score']==2)] \n",
        "df_minority = df_train[(df_train['Credit_Score']==1)] \n",
        "df_minority2 = df_train[(df_train['Credit_Score']==0)] \n",
        "# upsample minority class\n",
        "df_minority_upsampled = resample(df_minority, \n",
        "                                 replace=True,    # sample with replacement\n",
        "                                 n_samples= 53174, # to match majority class\n",
        "                                 random_state=0)  # reproducible results\n",
        "df_minority_upsampled2 = resample(df_minority2, \n",
        "                                 replace=True,    # sample with replacement\n",
        "                                 n_samples= 53174, # to match majority class\n",
        "                                 random_state=0)  # reproducible results\n",
        "# Combine majority class with upsampled minority class\n",
        "df_upsampled = pd.concat([df_minority_upsampled, df_minority_upsampled2, df_majority])"
      ]
    },
    {
      "cell_type": "code",
      "execution_count": null,
      "id": "95980fd8",
      "metadata": {
        "id": "95980fd8",
        "outputId": "4763ae0c-864d-4c67-a2fe-72851f6713c1"
      },
      "outputs": [
        {
          "name": "stderr",
          "output_type": "stream",
          "text": [
            "D:\\anaconda3\\lib\\site-packages\\seaborn\\_decorators.py:36: FutureWarning: Pass the following variable as a keyword arg: x. From version 0.12, the only valid positional argument will be `data`, and passing other arguments without an explicit keyword will result in an error or misinterpretation.\n",
            "  warnings.warn(\n"
          ]
        },
        {
          "data": {
            "text/plain": [
              "1    53174\n",
              "0    53174\n",
              "2    53174\n",
              "Name: Credit_Score, dtype: int64"
            ]
          },
          "execution_count": 54,
          "metadata": {},
          "output_type": "execute_result"
        },
        {
          "data": {
            "image/png": "[encoded data removed]",
            "text/plain": [
              "<Figure size 640x480 with 1 Axes>"
            ]
          },
          "metadata": {},
          "output_type": "display_data"
        }
      ],
      "source": [
        "#Counting 1 and 0 Value in Response column\n",
        "sns.countplot(df_upsampled['Credit_Score'])\n",
        "df_upsampled['Credit_Score'].value_counts()"
      ]
    },
    {
      "cell_type": "code",
      "execution_count": null,
      "id": "ee665d05",
      "metadata": {
        "id": "ee665d05",
        "outputId": "2c969c58-9f96-441f-be28-36333810138f"
      },
      "outputs": [
        {
          "data": {
            "text/html": [
              "<div>\n",
              "<style scoped>\n",
              "    .dataframe tbody tr th:only-of-type {\n",
              "        vertical-align: middle;\n",
              "    }\n",
              "\n",
              "    .dataframe tbody tr th {\n",
              "        vertical-align: top;\n",
              "    }\n",
              "\n",
              "    .dataframe thead th {\n",
              "        text-align: right;\n",
              "    }\n",
              "</style>\n",
              "<table border=\"1\" class=\"dataframe\">\n",
              "  <thead>\n",
              "    <tr style=\"text-align: right;\">\n",
              "      <th></th>\n",
              "      <th>Age</th>\n",
              "      <th>Occupation</th>\n",
              "      <th>Annual_Income</th>\n",
              "      <th>Monthly_Inhand_Salary</th>\n",
              "      <th>Num_Bank_Accounts</th>\n",
              "      <th>Num_Credit_Card</th>\n",
              "      <th>Interest_Rate</th>\n",
              "      <th>Num_of_Loan</th>\n",
              "      <th>Delay_from_due_date</th>\n",
              "      <th>Num_of_Delayed_Payment</th>\n",
              "      <th>Changed_Credit_Limit</th>\n",
              "      <th>Num_Credit_Inquiries</th>\n",
              "      <th>Credit_Mix</th>\n",
              "      <th>Outstanding_Debt</th>\n",
              "      <th>Credit_Utilization_Ratio</th>\n",
              "      <th>Payment_of_Min_Amount</th>\n",
              "      <th>Total_EMI_per_month</th>\n",
              "      <th>Amount_invested_monthly</th>\n",
              "      <th>Payment_Behaviour</th>\n",
              "      <th>Credit_Score</th>\n",
              "    </tr>\n",
              "  </thead>\n",
              "  <tbody>\n",
              "    <tr>\n",
              "      <th>9152</th>\n",
              "      <td>26</td>\n",
              "      <td>5</td>\n",
              "      <td>5427588</td>\n",
              "      <td>4758.990000</td>\n",
              "      <td>7</td>\n",
              "      <td>10</td>\n",
              "      <td>30</td>\n",
              "      <td>6</td>\n",
              "      <td>16</td>\n",
              "      <td>16.0</td>\n",
              "      <td>404.0</td>\n",
              "      <td>10.0</td>\n",
              "      <td>0</td>\n",
              "      <td>456966</td>\n",
              "      <td>35.390935</td>\n",
              "      <td>2</td>\n",
              "      <td>192.165937</td>\n",
              "      <td>7.867231e+14</td>\n",
              "      <td>1</td>\n",
              "      <td>1</td>\n",
              "    </tr>\n",
              "    <tr>\n",
              "      <th>36712</th>\n",
              "      <td>44</td>\n",
              "      <td>12</td>\n",
              "      <td>7226435</td>\n",
              "      <td>662.202917</td>\n",
              "      <td>8</td>\n",
              "      <td>5</td>\n",
              "      <td>20</td>\n",
              "      <td>613</td>\n",
              "      <td>13</td>\n",
              "      <td>15.0</td>\n",
              "      <td>872.0</td>\n",
              "      <td>9.0</td>\n",
              "      <td>2</td>\n",
              "      <td>153348</td>\n",
              "      <td>27.876525</td>\n",
              "      <td>2</td>\n",
              "      <td>16.193507</td>\n",
              "      <td>1.642255e+16</td>\n",
              "      <td>1</td>\n",
              "      <td>1</td>\n",
              "    </tr>\n",
              "    <tr>\n",
              "      <th>33570</th>\n",
              "      <td>25</td>\n",
              "      <td>0</td>\n",
              "      <td>807946</td>\n",
              "      <td>NaN</td>\n",
              "      <td>7</td>\n",
              "      <td>7</td>\n",
              "      <td>23</td>\n",
              "      <td>5</td>\n",
              "      <td>24</td>\n",
              "      <td>16.0</td>\n",
              "      <td>1376.0</td>\n",
              "      <td>11.0</td>\n",
              "      <td>3</td>\n",
              "      <td>151552</td>\n",
              "      <td>23.507905</td>\n",
              "      <td>2</td>\n",
              "      <td>25.585426</td>\n",
              "      <td>3.500000e+15</td>\n",
              "      <td>4</td>\n",
              "      <td>1</td>\n",
              "    </tr>\n",
              "    <tr>\n",
              "      <th>67473</th>\n",
              "      <td>43</td>\n",
              "      <td>1</td>\n",
              "      <td>5126634</td>\n",
              "      <td>NaN</td>\n",
              "      <td>6</td>\n",
              "      <td>6</td>\n",
              "      <td>24</td>\n",
              "      <td>7</td>\n",
              "      <td>19</td>\n",
              "      <td>21.0</td>\n",
              "      <td>2679.0</td>\n",
              "      <td>10.0</td>\n",
              "      <td>3</td>\n",
              "      <td>489558</td>\n",
              "      <td>26.107994</td>\n",
              "      <td>2</td>\n",
              "      <td>176.470206</td>\n",
              "      <td>7.410064e+15</td>\n",
              "      <td>0</td>\n",
              "      <td>1</td>\n",
              "    </tr>\n",
              "    <tr>\n",
              "      <th>44343</th>\n",
              "      <td>22</td>\n",
              "      <td>3</td>\n",
              "      <td>1310002</td>\n",
              "      <td>1246.668333</td>\n",
              "      <td>7</td>\n",
              "      <td>5</td>\n",
              "      <td>6</td>\n",
              "      <td>5</td>\n",
              "      <td>6</td>\n",
              "      <td>20.0</td>\n",
              "      <td>1064.0</td>\n",
              "      <td>13.0</td>\n",
              "      <td>2</td>\n",
              "      <td>72729</td>\n",
              "      <td>37.332404</td>\n",
              "      <td>2</td>\n",
              "      <td>41.177132</td>\n",
              "      <td>9.554955e+15</td>\n",
              "      <td>6</td>\n",
              "      <td>1</td>\n",
              "    </tr>\n",
              "    <tr>\n",
              "      <th>...</th>\n",
              "      <td>...</td>\n",
              "      <td>...</td>\n",
              "      <td>...</td>\n",
              "      <td>...</td>\n",
              "      <td>...</td>\n",
              "      <td>...</td>\n",
              "      <td>...</td>\n",
              "      <td>...</td>\n",
              "      <td>...</td>\n",
              "      <td>...</td>\n",
              "      <td>...</td>\n",
              "      <td>...</td>\n",
              "      <td>...</td>\n",
              "      <td>...</td>\n",
              "      <td>...</td>\n",
              "      <td>...</td>\n",
              "      <td>...</td>\n",
              "      <td>...</td>\n",
              "      <td>...</td>\n",
              "      <td>...</td>\n",
              "    </tr>\n",
              "    <tr>\n",
              "      <th>99989</th>\n",
              "      <td>28</td>\n",
              "      <td>12</td>\n",
              "      <td>2000288</td>\n",
              "      <td>1929.906667</td>\n",
              "      <td>10</td>\n",
              "      <td>8</td>\n",
              "      <td>29</td>\n",
              "      <td>5</td>\n",
              "      <td>33</td>\n",
              "      <td>25.0</td>\n",
              "      <td>1631.0</td>\n",
              "      <td>9.0</td>\n",
              "      <td>0</td>\n",
              "      <td>35717</td>\n",
              "      <td>33.359987</td>\n",
              "      <td>2</td>\n",
              "      <td>60.964772</td>\n",
              "      <td>7.436660e+15</td>\n",
              "      <td>0</td>\n",
              "      <td>2</td>\n",
              "    </tr>\n",
              "    <tr>\n",
              "      <th>99990</th>\n",
              "      <td>28</td>\n",
              "      <td>1</td>\n",
              "      <td>2000288</td>\n",
              "      <td>1929.906667</td>\n",
              "      <td>10</td>\n",
              "      <td>8</td>\n",
              "      <td>29</td>\n",
              "      <td>5</td>\n",
              "      <td>33</td>\n",
              "      <td>26.0</td>\n",
              "      <td>1831.0</td>\n",
              "      <td>9.0</td>\n",
              "      <td>0</td>\n",
              "      <td>35717</td>\n",
              "      <td>25.123535</td>\n",
              "      <td>2</td>\n",
              "      <td>60.964772</td>\n",
              "      <td>1.732755e+15</td>\n",
              "      <td>4</td>\n",
              "      <td>2</td>\n",
              "    </tr>\n",
              "    <tr>\n",
              "      <th>99991</th>\n",
              "      <td>29</td>\n",
              "      <td>1</td>\n",
              "      <td>2000288</td>\n",
              "      <td>1929.906667</td>\n",
              "      <td>10</td>\n",
              "      <td>8</td>\n",
              "      <td>29</td>\n",
              "      <td>5</td>\n",
              "      <td>33</td>\n",
              "      <td>25.0</td>\n",
              "      <td>1831.0</td>\n",
              "      <td>9.0</td>\n",
              "      <td>0</td>\n",
              "      <td>35717</td>\n",
              "      <td>37.140784</td>\n",
              "      <td>2</td>\n",
              "      <td>60.964772</td>\n",
              "      <td>3.466291e+15</td>\n",
              "      <td>1</td>\n",
              "      <td>2</td>\n",
              "    </tr>\n",
              "    <tr>\n",
              "      <th>99993</th>\n",
              "      <td>25</td>\n",
              "      <td>9</td>\n",
              "      <td>3962899</td>\n",
              "      <td>3359.415833</td>\n",
              "      <td>4</td>\n",
              "      <td>6</td>\n",
              "      <td>7</td>\n",
              "      <td>2</td>\n",
              "      <td>23</td>\n",
              "      <td>NaN</td>\n",
              "      <td>115.0</td>\n",
              "      <td>3.0</td>\n",
              "      <td>1</td>\n",
              "      <td>50238</td>\n",
              "      <td>29.135447</td>\n",
              "      <td>1</td>\n",
              "      <td>58638.000000</td>\n",
              "      <td>1.807331e+15</td>\n",
              "      <td>5</td>\n",
              "      <td>2</td>\n",
              "    </tr>\n",
              "    <tr>\n",
              "      <th>99998</th>\n",
              "      <td>25</td>\n",
              "      <td>9</td>\n",
              "      <td>3962899</td>\n",
              "      <td>3359.415833</td>\n",
              "      <td>4</td>\n",
              "      <td>6</td>\n",
              "      <td>7</td>\n",
              "      <td>2</td>\n",
              "      <td>20</td>\n",
              "      <td>NaN</td>\n",
              "      <td>115.0</td>\n",
              "      <td>3.0</td>\n",
              "      <td>1</td>\n",
              "      <td>50238</td>\n",
              "      <td>33.638208</td>\n",
              "      <td>1</td>\n",
              "      <td>35.104023</td>\n",
              "      <td>2.516726e+16</td>\n",
              "      <td>4</td>\n",
              "      <td>2</td>\n",
              "    </tr>\n",
              "  </tbody>\n",
              "</table>\n",
              "<p>159522 rows × 20 columns</p>\n",
              "</div>"
            ],
            "text/plain": [
              "       Age  Occupation  Annual_Income  Monthly_Inhand_Salary  \\\n",
              "9152    26           5        5427588            4758.990000   \n",
              "36712   44          12        7226435             662.202917   \n",
              "33570   25           0         807946                    NaN   \n",
              "67473   43           1        5126634                    NaN   \n",
              "44343   22           3        1310002            1246.668333   \n",
              "...    ...         ...            ...                    ...   \n",
              "99989   28          12        2000288            1929.906667   \n",
              "99990   28           1        2000288            1929.906667   \n",
              "99991   29           1        2000288            1929.906667   \n",
              "99993   25           9        3962899            3359.415833   \n",
              "99998   25           9        3962899            3359.415833   \n",
              "\n",
              "       Num_Bank_Accounts  Num_Credit_Card  Interest_Rate  Num_of_Loan  \\\n",
              "9152                   7               10             30            6   \n",
              "36712                  8                5             20          613   \n",
              "33570                  7                7             23            5   \n",
              "67473                  6                6             24            7   \n",
              "44343                  7                5              6            5   \n",
              "...                  ...              ...            ...          ...   \n",
              "99989                 10                8             29            5   \n",
              "99990                 10                8             29            5   \n",
              "99991                 10                8             29            5   \n",
              "99993                  4                6              7            2   \n",
              "99998                  4                6              7            2   \n",
              "\n",
              "       Delay_from_due_date  Num_of_Delayed_Payment  Changed_Credit_Limit  \\\n",
              "9152                    16                    16.0                 404.0   \n",
              "36712                   13                    15.0                 872.0   \n",
              "33570                   24                    16.0                1376.0   \n",
              "67473                   19                    21.0                2679.0   \n",
              "44343                    6                    20.0                1064.0   \n",
              "...                    ...                     ...                   ...   \n",
              "99989                   33                    25.0                1631.0   \n",
              "99990                   33                    26.0                1831.0   \n",
              "99991                   33                    25.0                1831.0   \n",
              "99993                   23                     NaN                 115.0   \n",
              "99998                   20                     NaN                 115.0   \n",
              "\n",
              "       Num_Credit_Inquiries  Credit_Mix  Outstanding_Debt  \\\n",
              "9152                   10.0           0            456966   \n",
              "36712                   9.0           2            153348   \n",
              "33570                  11.0           3            151552   \n",
              "67473                  10.0           3            489558   \n",
              "44343                  13.0           2             72729   \n",
              "...                     ...         ...               ...   \n",
              "99989                   9.0           0             35717   \n",
              "99990                   9.0           0             35717   \n",
              "99991                   9.0           0             35717   \n",
              "99993                   3.0           1             50238   \n",
              "99998                   3.0           1             50238   \n",
              "\n",
              "       Credit_Utilization_Ratio  Payment_of_Min_Amount  Total_EMI_per_month  \\\n",
              "9152                  35.390935                      2           192.165937   \n",
              "36712                 27.876525                      2            16.193507   \n",
              "33570                 23.507905                      2            25.585426   \n",
              "67473                 26.107994                      2           176.470206   \n",
              "44343                 37.332404                      2            41.177132   \n",
              "...                         ...                    ...                  ...   \n",
              "99989                 33.359987                      2            60.964772   \n",
              "99990                 25.123535                      2            60.964772   \n",
              "99991                 37.140784                      2            60.964772   \n",
              "99993                 29.135447                      1         58638.000000   \n",
              "99998                 33.638208                      1            35.104023   \n",
              "\n",
              "       Amount_invested_monthly  Payment_Behaviour  Credit_Score  \n",
              "9152              7.867231e+14                  1             1  \n",
              "36712             1.642255e+16                  1             1  \n",
              "33570             3.500000e+15                  4             1  \n",
              "67473             7.410064e+15                  0             1  \n",
              "44343             9.554955e+15                  6             1  \n",
              "...                        ...                ...           ...  \n",
              "99989             7.436660e+15                  0             2  \n",
              "99990             1.732755e+15                  4             2  \n",
              "99991             3.466291e+15                  1             2  \n",
              "99993             1.807331e+15                  5             2  \n",
              "99998             2.516726e+16                  4             2  \n",
              "\n",
              "[159522 rows x 20 columns]"
            ]
          },
          "execution_count": 56,
          "metadata": {},
          "output_type": "execute_result"
        }
      ],
      "source": [
        "df_upsampled"
      ]
    },
    {
      "cell_type": "code",
      "execution_count": null,
      "id": "1d31d497",
      "metadata": {
        "id": "1d31d497",
        "outputId": "eb43d8b5-148f-468f-b966-2d51dd8871bb"
      },
      "outputs": [
        {
          "data": {
            "text/plain": [
              "(115553, 20)"
            ]
          },
          "execution_count": 60,
          "metadata": {},
          "output_type": "execute_result"
        }
      ],
      "source": [
        "df_upsampled.dropna(inplace = True)\n",
        "df_upsampled.shape"
      ]
    },
    {
      "cell_type": "markdown",
      "id": "ad3d1fa8",
      "metadata": {
        "id": "ad3d1fa8"
      },
      "source": [
        "# Clean the Outlier"
      ]
    },
    {
      "cell_type": "code",
      "execution_count": null,
      "id": "7dc206f5",
      "metadata": {
        "id": "7dc206f5",
        "outputId": "c3e3f6d3-3359-4365-ee4e-ebbf02a23677"
      },
      "outputs": [
        {
          "data": {
            "text/plain": [
              "(95700, 20)"
            ]
          },
          "execution_count": 61,
          "metadata": {},
          "output_type": "execute_result"
        }
      ],
      "source": [
        "#Remove Outlier using Z-Score Method\n",
        "import scipy.stats as stats\n",
        "z = np.abs(stats.zscore(df_upsampled))\n",
        "data_clean = df_upsampled[(z<3).all(axis = 1)] \n",
        "data_clean.shape"
      ]
    },
    {
      "cell_type": "markdown",
      "id": "79803093",
      "metadata": {
        "id": "79803093"
      },
      "source": [
        "# Correlation Heatmap"
      ]
    },
    {
      "cell_type": "code",
      "execution_count": null,
      "id": "4ea407a4",
      "metadata": {
        "id": "4ea407a4",
        "outputId": "79ecb006-39b5-44d4-8dd5-4acf7e2fe432"
      },
      "outputs": [
        {
          "data": {
            "text/plain": [
              "<AxesSubplot:>"
            ]
          },
          "execution_count": 62,
          "metadata": {},
          "output_type": "execute_result"
        },
        {
          "data": {
            "image/png": "[encoded data removed]",
            "text/plain": [
              "<Figure size 640x480 with 2 Axes>"
            ]
          },
          "metadata": {},
          "output_type": "display_data"
        }
      ],
      "source": [
        "sns.heatmap(data_clean.corr(), fmt='.2g')"
      ]
    },
    {
      "cell_type": "markdown",
      "id": "3f860374",
      "metadata": {
        "id": "3f860374"
      },
      "source": [
        "# Machine Learning Model Building"
      ]
    },
    {
      "cell_type": "code",
      "execution_count": null,
      "id": "fa8c5cd7",
      "metadata": {
        "id": "fa8c5cd7"
      },
      "outputs": [],
      "source": [
        "X = data_clean.drop('Credit_Score', axis=1)\n",
        "y = data_clean['Credit_Score']"
      ]
    },
    {
      "cell_type": "code",
      "execution_count": null,
      "id": "e02cc3ec",
      "metadata": {
        "id": "e02cc3ec"
      },
      "outputs": [],
      "source": [
        "#test size 20% and train size 80%\n",
        "from sklearn.model_selection import train_test_split\n",
        "from sklearn.metrics import accuracy_score\n",
        "X_train, X_test, y_train, y_test = train_test_split(X,y, test_size=0.2,random_state=0)"
      ]
    },
    {
      "cell_type": "markdown",
      "id": "d93ad6f6",
      "metadata": {
        "id": "d93ad6f6"
      },
      "source": [
        "# Decision Tree"
      ]
    },
    {
      "cell_type": "code",
      "execution_count": null,
      "id": "71604618",
      "metadata": {
        "id": "71604618",
        "outputId": "b9e7dfcb-cc19-4cd0-85a4-8a91ecf89b4d"
      },
      "outputs": [
        {
          "data": {
            "text/plain": [
              "DecisionTreeClassifier(random_state=0)"
            ]
          },
          "execution_count": 65,
          "metadata": {},
          "output_type": "execute_result"
        }
      ],
      "source": [
        "from sklearn.tree import DecisionTreeClassifier\n",
        "dtree = DecisionTreeClassifier(random_state=0)\n",
        "dtree.fit(X_train, y_train)"
      ]
    },
    {
      "cell_type": "code",
      "execution_count": null,
      "id": "bce5e220",
      "metadata": {
        "id": "bce5e220",
        "outputId": "8a9836d3-d75a-4bde-c3a8-9fb7e8516606"
      },
      "outputs": [
        {
          "name": "stdout",
          "output_type": "stream",
          "text": [
            "Accuracy Score : 87.17 %\n"
          ]
        }
      ],
      "source": [
        "y_pred = dtree.predict(X_test)\n",
        "print(\"Accuracy Score :\", round(accuracy_score(y_test, y_pred)*100 ,2), \"%\")"
      ]
    },
    {
      "cell_type": "code",
      "execution_count": null,
      "id": "e1db26ce",
      "metadata": {
        "id": "e1db26ce",
        "outputId": "02379a1d-ca6c-420b-a266-6e95aedf669a"
      },
      "outputs": [
        {
          "name": "stdout",
          "output_type": "stream",
          "text": [
            "F-1 Score :  0.8716823406478579\n",
            "Precision Score :  0.8716823406478579\n",
            "Recall Score :  0.8716823406478579\n"
          ]
        }
      ],
      "source": [
        "from sklearn.metrics import accuracy_score, f1_score, precision_score, recall_score\n",
        "print('F-1 Score : ',(f1_score(y_test, y_pred, average='micro')))\n",
        "print('Precision Score : ',(precision_score(y_test, y_pred, average='micro')))\n",
        "print('Recall Score : ',(recall_score(y_test, y_pred, average='micro')))"
      ]
    },
    {
      "cell_type": "markdown",
      "id": "f27743e0",
      "metadata": {
        "id": "f27743e0"
      },
      "source": [
        "# Random Forest "
      ]
    },
    {
      "cell_type": "code",
      "execution_count": null,
      "id": "fb62afad",
      "metadata": {
        "id": "fb62afad",
        "outputId": "ee354460-cdac-4d05-85e2-b62d5711396a"
      },
      "outputs": [
        {
          "data": {
            "text/plain": [
              "RandomForestClassifier(random_state=0)"
            ]
          },
          "execution_count": 75,
          "metadata": {},
          "output_type": "execute_result"
        }
      ],
      "source": [
        "from sklearn.ensemble import RandomForestClassifier\n",
        "rfc = RandomForestClassifier(random_state=0)\n",
        "rfc.fit(X_train, y_train)"
      ]
    },
    {
      "cell_type": "code",
      "execution_count": null,
      "id": "ff957c77",
      "metadata": {
        "id": "ff957c77",
        "outputId": "6c26a9ca-c045-4a3d-f474-88cd8e34b8e3"
      },
      "outputs": [
        {
          "name": "stdout",
          "output_type": "stream",
          "text": [
            "Accuracy Score : 90.4 %\n"
          ]
        }
      ],
      "source": [
        "y_pred = rfc.predict(X_test)\n",
        "print(\"Accuracy Score :\", round(accuracy_score(y_test, y_pred)*100 ,2), \"%\")"
      ]
    },
    {
      "cell_type": "code",
      "execution_count": null,
      "id": "1627a63a",
      "metadata": {
        "id": "1627a63a",
        "outputId": "c91c9680-9d13-4f09-f22b-fa14dee3e7e3"
      },
      "outputs": [
        {
          "name": "stdout",
          "output_type": "stream",
          "text": [
            "F-1 Score :  0.9040229885057471\n",
            "Precision Score :  0.9040229885057471\n",
            "Recall Score :  0.9040229885057471\n"
          ]
        }
      ],
      "source": [
        "from sklearn.metrics import accuracy_score, f1_score, precision_score, recall_score\n",
        "print('F-1 Score : ',(f1_score(y_test, y_pred, average='micro')))\n",
        "print('Precision Score : ',(precision_score(y_test, y_pred, average='micro')))\n",
        "print('Recall Score : ',(recall_score(y_test, y_pred, average='micro')))"
      ]
    },
    {
      "cell_type": "markdown",
      "id": "59323d33",
      "metadata": {
        "id": "59323d33"
      },
      "source": [
        "# Logistic Regression"
      ]
    },
    {
      "cell_type": "code",
      "execution_count": null,
      "id": "09906772",
      "metadata": {
        "id": "09906772",
        "outputId": "9e93efe2-451d-4d40-d3a6-95c1196356ad"
      },
      "outputs": [
        {
          "data": {
            "text/plain": [
              "LogisticRegression(random_state=0)"
            ]
          },
          "execution_count": 72,
          "metadata": {},
          "output_type": "execute_result"
        }
      ],
      "source": [
        "from sklearn.linear_model import LogisticRegression\n",
        "lr = LogisticRegression(random_state=0)\n",
        "lr.fit(X_train, y_train)"
      ]
    },
    {
      "cell_type": "code",
      "execution_count": null,
      "id": "541904fd",
      "metadata": {
        "id": "541904fd",
        "outputId": "fa0acb7e-aa9b-4a25-f1c6-ab8b805c140d"
      },
      "outputs": [
        {
          "name": "stdout",
          "output_type": "stream",
          "text": [
            "Accuracy Score : 32.94 %\n"
          ]
        }
      ],
      "source": [
        "y_pred = lr.predict(X_test)\n",
        "print(\"Accuracy Score :\", round(accuracy_score(y_test, y_pred)*100 ,2), \"%\")"
      ]
    },
    {
      "cell_type": "code",
      "execution_count": null,
      "id": "d783f3e7",
      "metadata": {
        "id": "d783f3e7",
        "outputId": "e4fd736c-9680-4c35-c123-1ab56992f7cf"
      },
      "outputs": [
        {
          "name": "stdout",
          "output_type": "stream",
          "text": [
            "F-1 Score :  0.32936259143155694\n",
            "Precision Score :  0.32936259143155694\n",
            "Recall Score :  0.32936259143155694\n"
          ]
        }
      ],
      "source": [
        "from sklearn.metrics import accuracy_score, f1_score, precision_score, recall_score\n",
        "print('F-1 Score : ',(f1_score(y_test, y_pred, average='micro')))\n",
        "print('Precision Score : ',(precision_score(y_test, y_pred, average='micro')))\n",
        "print('Recall Score : ',(recall_score(y_test, y_pred, average='micro')))"
      ]
    },
    {
      "cell_type": "markdown",
      "id": "3fdcfe87",
      "metadata": {
        "id": "3fdcfe87"
      },
      "source": [
        "# Visualize Random Forest Classifier"
      ]
    },
    {
      "cell_type": "code",
      "execution_count": null,
      "id": "c2635a74",
      "metadata": {
        "id": "c2635a74"
      },
      "outputs": [],
      "source": [
        "rfc = RandomForestClassifier(random_state=0)\n",
        "rfc.fit(X_train, y_train)"
      ]
    },
    {
      "cell_type": "code",
      "execution_count": null,
      "id": "b2057330",
      "metadata": {
        "id": "b2057330",
        "outputId": "25355f40-3b08-43e5-9e38-e251110241fa"
      },
      "outputs": [
        {
          "data": {
            "text/plain": [
              "Text(0.5, 1.0, 'Accuracy Score: 0.9040229885057471')"
            ]
          },
          "execution_count": 79,
          "metadata": {},
          "output_type": "execute_result"
        },
        {
          "data": {
            "image/png": "[encoded data removed]",
            "text/plain": [
              "<Figure size 500x500 with 2 Axes>"
            ]
          },
          "metadata": {},
          "output_type": "display_data"
        }
      ],
      "source": [
        "from sklearn.metrics import confusion_matrix\n",
        "cm = confusion_matrix(y_test, y_pred)\n",
        "plt.figure(figsize=(5,5))\n",
        "sns.heatmap(data=cm,linewidths=.5, annot=True,  cmap = 'Blues')\n",
        "plt.ylabel('Actual label')\n",
        "plt.xlabel('Predicted label')\n",
        "all_sample_title = 'Accuracy Score: {0}'.format(rfc.score(X_test, y_test))\n",
        "plt.title(all_sample_title, size = 15)"
      ]
    },
    {
      "cell_type": "code",
      "execution_count": null,
      "id": "b25bb0a1",
      "metadata": {
        "id": "b25bb0a1",
        "outputId": "5cd78f62-65a7-46b1-ae50-d35ffab85177"
      },
      "outputs": [
        {
          "data": {
            "text/html": [
              "<div>\n",
              "<style scoped>\n",
              "    .dataframe tbody tr th:only-of-type {\n",
              "        vertical-align: middle;\n",
              "    }\n",
              "\n",
              "    .dataframe tbody tr th {\n",
              "        vertical-align: top;\n",
              "    }\n",
              "\n",
              "    .dataframe thead th {\n",
              "        text-align: right;\n",
              "    }\n",
              "</style>\n",
              "<table border=\"1\" class=\"dataframe\">\n",
              "  <thead>\n",
              "    <tr style=\"text-align: right;\">\n",
              "      <th></th>\n",
              "      <th>Feature Name</th>\n",
              "      <th>Importance</th>\n",
              "    </tr>\n",
              "  </thead>\n",
              "  <tbody>\n",
              "    <tr>\n",
              "      <th>13</th>\n",
              "      <td>Outstanding_Debt</td>\n",
              "      <td>0.113455</td>\n",
              "    </tr>\n",
              "    <tr>\n",
              "      <th>6</th>\n",
              "      <td>Interest_Rate</td>\n",
              "      <td>0.108273</td>\n",
              "    </tr>\n",
              "    <tr>\n",
              "      <th>8</th>\n",
              "      <td>Delay_from_due_date</td>\n",
              "      <td>0.078463</td>\n",
              "    </tr>\n",
              "    <tr>\n",
              "      <th>10</th>\n",
              "      <td>Changed_Credit_Limit</td>\n",
              "      <td>0.055394</td>\n",
              "    </tr>\n",
              "    <tr>\n",
              "      <th>11</th>\n",
              "      <td>Num_Credit_Inquiries</td>\n",
              "      <td>0.054140</td>\n",
              "    </tr>\n",
              "    <tr>\n",
              "      <th>12</th>\n",
              "      <td>Credit_Mix</td>\n",
              "      <td>0.052410</td>\n",
              "    </tr>\n",
              "    <tr>\n",
              "      <th>14</th>\n",
              "      <td>Credit_Utilization_Ratio</td>\n",
              "      <td>0.049102</td>\n",
              "    </tr>\n",
              "    <tr>\n",
              "      <th>17</th>\n",
              "      <td>Amount_invested_monthly</td>\n",
              "      <td>0.048619</td>\n",
              "    </tr>\n",
              "    <tr>\n",
              "      <th>3</th>\n",
              "      <td>Monthly_Inhand_Salary</td>\n",
              "      <td>0.048491</td>\n",
              "    </tr>\n",
              "    <tr>\n",
              "      <th>16</th>\n",
              "      <td>Total_EMI_per_month</td>\n",
              "      <td>0.048256</td>\n",
              "    </tr>\n",
              "    <tr>\n",
              "      <th>9</th>\n",
              "      <td>Num_of_Delayed_Payment</td>\n",
              "      <td>0.048188</td>\n",
              "    </tr>\n",
              "    <tr>\n",
              "      <th>15</th>\n",
              "      <td>Payment_of_Min_Amount</td>\n",
              "      <td>0.048061</td>\n",
              "    </tr>\n",
              "    <tr>\n",
              "      <th>2</th>\n",
              "      <td>Annual_Income</td>\n",
              "      <td>0.045603</td>\n",
              "    </tr>\n",
              "    <tr>\n",
              "      <th>0</th>\n",
              "      <td>Age</td>\n",
              "      <td>0.040301</td>\n",
              "    </tr>\n",
              "    <tr>\n",
              "      <th>5</th>\n",
              "      <td>Num_Credit_Card</td>\n",
              "      <td>0.038909</td>\n",
              "    </tr>\n",
              "    <tr>\n",
              "      <th>4</th>\n",
              "      <td>Num_Bank_Accounts</td>\n",
              "      <td>0.036192</td>\n",
              "    </tr>\n",
              "    <tr>\n",
              "      <th>1</th>\n",
              "      <td>Occupation</td>\n",
              "      <td>0.031202</td>\n",
              "    </tr>\n",
              "    <tr>\n",
              "      <th>7</th>\n",
              "      <td>Num_of_Loan</td>\n",
              "      <td>0.029091</td>\n",
              "    </tr>\n",
              "    <tr>\n",
              "      <th>18</th>\n",
              "      <td>Payment_Behaviour</td>\n",
              "      <td>0.025851</td>\n",
              "    </tr>\n",
              "  </tbody>\n",
              "</table>\n",
              "</div>"
            ],
            "text/plain": [
              "                Feature Name  Importance\n",
              "13          Outstanding_Debt    0.113455\n",
              "6              Interest_Rate    0.108273\n",
              "8        Delay_from_due_date    0.078463\n",
              "10      Changed_Credit_Limit    0.055394\n",
              "11      Num_Credit_Inquiries    0.054140\n",
              "12                Credit_Mix    0.052410\n",
              "14  Credit_Utilization_Ratio    0.049102\n",
              "17   Amount_invested_monthly    0.048619\n",
              "3      Monthly_Inhand_Salary    0.048491\n",
              "16       Total_EMI_per_month    0.048256\n",
              "9     Num_of_Delayed_Payment    0.048188\n",
              "15     Payment_of_Min_Amount    0.048061\n",
              "2              Annual_Income    0.045603\n",
              "0                        Age    0.040301\n",
              "5            Num_Credit_Card    0.038909\n",
              "4          Num_Bank_Accounts    0.036192\n",
              "1                 Occupation    0.031202\n",
              "7                Num_of_Loan    0.029091\n",
              "18         Payment_Behaviour    0.025851"
            ]
          },
          "execution_count": 80,
          "metadata": {},
          "output_type": "execute_result"
        }
      ],
      "source": [
        "#Feature Importance\n",
        "imp_df = pd.DataFrame({\n",
        "    \"Feature Name\": X_train.columns,\n",
        "    \"Importance\": rfc.feature_importances_\n",
        "})\n",
        "fi = imp_df.sort_values(by=\"Importance\", ascending=False)\n",
        "fi"
      ]
    },
    {
      "cell_type": "code",
      "execution_count": null,
      "id": "6053845e",
      "metadata": {
        "id": "6053845e",
        "outputId": "95430a52-799b-4c28-c125-7a1ca726f3d5"
      },
      "outputs": [
        {
          "data": {
            "image/png": "[encoded data removed]",
            "text/plain": [
              "<Figure size 1000x800 with 1 Axes>"
            ]
          },
          "metadata": {},
          "output_type": "display_data"
        }
      ],
      "source": [
        "fi2 = fi.head(10)\n",
        "plt.figure(figsize=(10,8))\n",
        "sns.barplot(data=fi2, x='Importance', y='Feature Name')\n",
        "plt.title('Top 10 Feature Importance Each Attributes (Random Forest)', fontsize=18)\n",
        "plt.xlabel ('Importance', fontsize=16)\n",
        "plt.ylabel ('Feature Name', fontsize=16)\n",
        "plt.show()"
      ]
    }
  ],
  "metadata": {
    "kernelspec": {
      "display_name": "Python 3 (ipykernel)",
      "language": "python",
      "name": "python3"
    },
    "language_info": {
      "codemirror_mode": {
        "name": "ipython",
        "version": 3
      },
      "file_extension": ".py",
      "mimetype": "text/x-python",
      "name": "python",
      "nbconvert_exporter": "python",
      "pygments_lexer": "ipython3",
      "version": "3.9.13"
    },
    "colab": {
      "provenance": []
    }
  },
  "nbformat": 4,
  "nbformat_minor": 5
}