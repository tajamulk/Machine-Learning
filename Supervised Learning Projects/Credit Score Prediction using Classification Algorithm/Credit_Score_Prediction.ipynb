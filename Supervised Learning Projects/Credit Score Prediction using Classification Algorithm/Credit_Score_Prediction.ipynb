{
 "cells": [
  {
   "cell_type": "code",
   "execution_count": 1,
   "id": "bc4f3aa5",
   "metadata": {},
   "outputs": [],
   "source": [
    "import pandas as pd\n",
    "import numpy as np\n",
    "import matplotlib.pyplot as plt\n",
    "%matplotlib inline\n",
    "import seaborn as sns\n",
    "import warnings\n",
    "warnings.filterwarnings('ignore')"
   ]
  },
  {
   "cell_type": "code",
   "execution_count": 2,
   "id": "6415e435",
   "metadata": {},
   "outputs": [],
   "source": [
    "df=pd.read_csv(r'credit score.csv')"
   ]
  },
  {
   "cell_type": "code",
   "execution_count": 3,
   "id": "7bff8cbf",
   "metadata": {},
   "outputs": [
    {
     "data": {
      "text/html": [
       "<div>\n",
       "<style scoped>\n",
       "    .dataframe tbody tr th:only-of-type {\n",
       "        vertical-align: middle;\n",
       "    }\n",
       "\n",
       "    .dataframe tbody tr th {\n",
       "        vertical-align: top;\n",
       "    }\n",
       "\n",
       "    .dataframe thead th {\n",
       "        text-align: right;\n",
       "    }\n",
       "</style>\n",
       "<table border=\"1\" class=\"dataframe\">\n",
       "  <thead>\n",
       "    <tr style=\"text-align: right;\">\n",
       "      <th></th>\n",
       "      <th>ID</th>\n",
       "      <th>Customer_ID</th>\n",
       "      <th>Month</th>\n",
       "      <th>Name</th>\n",
       "      <th>Age</th>\n",
       "      <th>SSN</th>\n",
       "      <th>Occupation</th>\n",
       "      <th>Annual_Income</th>\n",
       "      <th>Monthly_Inhand_Salary</th>\n",
       "      <th>Num_Bank_Accounts</th>\n",
       "      <th>...</th>\n",
       "      <th>Credit_Mix</th>\n",
       "      <th>Outstanding_Debt</th>\n",
       "      <th>Credit_Utilization_Ratio</th>\n",
       "      <th>Credit_History_Age</th>\n",
       "      <th>Payment_of_Min_Amount</th>\n",
       "      <th>Total_EMI_per_month</th>\n",
       "      <th>Amount_invested_monthly</th>\n",
       "      <th>Payment_Behaviour</th>\n",
       "      <th>Monthly_Balance</th>\n",
       "      <th>Credit_Score</th>\n",
       "    </tr>\n",
       "  </thead>\n",
       "  <tbody>\n",
       "    <tr>\n",
       "      <th>0</th>\n",
       "      <td>0x1602</td>\n",
       "      <td>CUS_0xd40</td>\n",
       "      <td>January</td>\n",
       "      <td>Aaron Maashoh</td>\n",
       "      <td>23</td>\n",
       "      <td>821-00-0265</td>\n",
       "      <td>Scientist</td>\n",
       "      <td>19114.12</td>\n",
       "      <td>1824.843333</td>\n",
       "      <td>3</td>\n",
       "      <td>...</td>\n",
       "      <td>_</td>\n",
       "      <td>809.98</td>\n",
       "      <td>26.822620</td>\n",
       "      <td>22 Years and 1 Months</td>\n",
       "      <td>No</td>\n",
       "      <td>49.574949</td>\n",
       "      <td>80.41529543900253</td>\n",
       "      <td>High_spent_Small_value_payments</td>\n",
       "      <td>312.49408867943663</td>\n",
       "      <td>Good</td>\n",
       "    </tr>\n",
       "    <tr>\n",
       "      <th>1</th>\n",
       "      <td>0x1603</td>\n",
       "      <td>CUS_0xd40</td>\n",
       "      <td>February</td>\n",
       "      <td>Aaron Maashoh</td>\n",
       "      <td>23</td>\n",
       "      <td>821-00-0265</td>\n",
       "      <td>Scientist</td>\n",
       "      <td>19114.12</td>\n",
       "      <td>NaN</td>\n",
       "      <td>3</td>\n",
       "      <td>...</td>\n",
       "      <td>Good</td>\n",
       "      <td>809.98</td>\n",
       "      <td>31.944960</td>\n",
       "      <td>NaN</td>\n",
       "      <td>No</td>\n",
       "      <td>49.574949</td>\n",
       "      <td>118.28022162236736</td>\n",
       "      <td>Low_spent_Large_value_payments</td>\n",
       "      <td>284.62916249607184</td>\n",
       "      <td>Good</td>\n",
       "    </tr>\n",
       "    <tr>\n",
       "      <th>2</th>\n",
       "      <td>0x1604</td>\n",
       "      <td>CUS_0xd40</td>\n",
       "      <td>March</td>\n",
       "      <td>Aaron Maashoh</td>\n",
       "      <td>-500</td>\n",
       "      <td>821-00-0265</td>\n",
       "      <td>Scientist</td>\n",
       "      <td>19114.12</td>\n",
       "      <td>NaN</td>\n",
       "      <td>3</td>\n",
       "      <td>...</td>\n",
       "      <td>Good</td>\n",
       "      <td>809.98</td>\n",
       "      <td>28.609352</td>\n",
       "      <td>22 Years and 3 Months</td>\n",
       "      <td>No</td>\n",
       "      <td>49.574949</td>\n",
       "      <td>81.699521264648</td>\n",
       "      <td>Low_spent_Medium_value_payments</td>\n",
       "      <td>331.2098628537912</td>\n",
       "      <td>Good</td>\n",
       "    </tr>\n",
       "  </tbody>\n",
       "</table>\n",
       "<p>3 rows × 28 columns</p>\n",
       "</div>"
      ],
      "text/plain": [
       "       ID Customer_ID     Month           Name   Age          SSN Occupation  \\\n",
       "0  0x1602   CUS_0xd40   January  Aaron Maashoh    23  821-00-0265  Scientist   \n",
       "1  0x1603   CUS_0xd40  February  Aaron Maashoh    23  821-00-0265  Scientist   \n",
       "2  0x1604   CUS_0xd40     March  Aaron Maashoh  -500  821-00-0265  Scientist   \n",
       "\n",
       "  Annual_Income  Monthly_Inhand_Salary  Num_Bank_Accounts  ...  Credit_Mix  \\\n",
       "0      19114.12            1824.843333                  3  ...           _   \n",
       "1      19114.12                    NaN                  3  ...        Good   \n",
       "2      19114.12                    NaN                  3  ...        Good   \n",
       "\n",
       "   Outstanding_Debt Credit_Utilization_Ratio     Credit_History_Age  \\\n",
       "0            809.98                26.822620  22 Years and 1 Months   \n",
       "1            809.98                31.944960                    NaN   \n",
       "2            809.98                28.609352  22 Years and 3 Months   \n",
       "\n",
       "   Payment_of_Min_Amount Total_EMI_per_month Amount_invested_monthly  \\\n",
       "0                     No           49.574949       80.41529543900253   \n",
       "1                     No           49.574949      118.28022162236736   \n",
       "2                     No           49.574949         81.699521264648   \n",
       "\n",
       "                 Payment_Behaviour     Monthly_Balance Credit_Score  \n",
       "0  High_spent_Small_value_payments  312.49408867943663         Good  \n",
       "1   Low_spent_Large_value_payments  284.62916249607184         Good  \n",
       "2  Low_spent_Medium_value_payments   331.2098628537912         Good  \n",
       "\n",
       "[3 rows x 28 columns]"
      ]
     },
     "execution_count": 3,
     "metadata": {},
     "output_type": "execute_result"
    }
   ],
   "source": [
    "df.head(3)"
   ]
  },
  {
   "cell_type": "code",
   "execution_count": 4,
   "id": "ff587fd7",
   "metadata": {},
   "outputs": [
    {
     "data": {
      "text/plain": [
       "(100000, 28)"
      ]
     },
     "execution_count": 4,
     "metadata": {},
     "output_type": "execute_result"
    }
   ],
   "source": [
    "df.shape"
   ]
  },
  {
   "cell_type": "code",
   "execution_count": 5,
   "id": "94fdd0ed",
   "metadata": {},
   "outputs": [
    {
     "name": "stdout",
     "output_type": "stream",
     "text": [
      "<class 'pandas.core.frame.DataFrame'>\n",
      "RangeIndex: 100000 entries, 0 to 99999\n",
      "Data columns (total 28 columns):\n",
      " #   Column                    Non-Null Count   Dtype  \n",
      "---  ------                    --------------   -----  \n",
      " 0   ID                        100000 non-null  object \n",
      " 1   Customer_ID               100000 non-null  object \n",
      " 2   Month                     100000 non-null  object \n",
      " 3   Name                      90015 non-null   object \n",
      " 4   Age                       100000 non-null  object \n",
      " 5   SSN                       100000 non-null  object \n",
      " 6   Occupation                100000 non-null  object \n",
      " 7   Annual_Income             100000 non-null  object \n",
      " 8   Monthly_Inhand_Salary     84998 non-null   float64\n",
      " 9   Num_Bank_Accounts         100000 non-null  int64  \n",
      " 10  Num_Credit_Card           100000 non-null  int64  \n",
      " 11  Interest_Rate             100000 non-null  int64  \n",
      " 12  Num_of_Loan               100000 non-null  object \n",
      " 13  Type_of_Loan              88592 non-null   object \n",
      " 14  Delay_from_due_date       100000 non-null  int64  \n",
      " 15  Num_of_Delayed_Payment    92998 non-null   object \n",
      " 16  Changed_Credit_Limit      100000 non-null  object \n",
      " 17  Num_Credit_Inquiries      98035 non-null   float64\n",
      " 18  Credit_Mix                100000 non-null  object \n",
      " 19  Outstanding_Debt          100000 non-null  object \n",
      " 20  Credit_Utilization_Ratio  100000 non-null  float64\n",
      " 21  Credit_History_Age        90970 non-null   object \n",
      " 22  Payment_of_Min_Amount     100000 non-null  object \n",
      " 23  Total_EMI_per_month       100000 non-null  float64\n",
      " 24  Amount_invested_monthly   95521 non-null   object \n",
      " 25  Payment_Behaviour         100000 non-null  object \n",
      " 26  Monthly_Balance           98800 non-null   object \n",
      " 27  Credit_Score              100000 non-null  object \n",
      "dtypes: float64(4), int64(4), object(20)\n",
      "memory usage: 21.4+ MB\n"
     ]
    }
   ],
   "source": [
    "df.info()\n",
    "# Column SSN--> Social Security Number"
   ]
  },
  {
   "cell_type": "code",
   "execution_count": 6,
   "id": "a7629bf4",
   "metadata": {},
   "outputs": [
    {
     "data": {
      "text/html": [
       "<div>\n",
       "<style scoped>\n",
       "    .dataframe tbody tr th:only-of-type {\n",
       "        vertical-align: middle;\n",
       "    }\n",
       "\n",
       "    .dataframe tbody tr th {\n",
       "        vertical-align: top;\n",
       "    }\n",
       "\n",
       "    .dataframe thead th {\n",
       "        text-align: right;\n",
       "    }\n",
       "</style>\n",
       "<table border=\"1\" class=\"dataframe\">\n",
       "  <thead>\n",
       "    <tr style=\"text-align: right;\">\n",
       "      <th></th>\n",
       "      <th>count</th>\n",
       "      <th>mean</th>\n",
       "      <th>std</th>\n",
       "      <th>min</th>\n",
       "      <th>25%</th>\n",
       "      <th>50%</th>\n",
       "      <th>75%</th>\n",
       "      <th>max</th>\n",
       "    </tr>\n",
       "  </thead>\n",
       "  <tbody>\n",
       "    <tr>\n",
       "      <th>Monthly_Inhand_Salary</th>\n",
       "      <td>84998.0</td>\n",
       "      <td>4194.170850</td>\n",
       "      <td>3183.686167</td>\n",
       "      <td>303.645417</td>\n",
       "      <td>1625.568229</td>\n",
       "      <td>3093.745000</td>\n",
       "      <td>5957.448333</td>\n",
       "      <td>15204.633333</td>\n",
       "    </tr>\n",
       "    <tr>\n",
       "      <th>Num_Bank_Accounts</th>\n",
       "      <td>100000.0</td>\n",
       "      <td>17.091280</td>\n",
       "      <td>117.404834</td>\n",
       "      <td>-1.000000</td>\n",
       "      <td>3.000000</td>\n",
       "      <td>6.000000</td>\n",
       "      <td>7.000000</td>\n",
       "      <td>1798.000000</td>\n",
       "    </tr>\n",
       "    <tr>\n",
       "      <th>Num_Credit_Card</th>\n",
       "      <td>100000.0</td>\n",
       "      <td>22.474430</td>\n",
       "      <td>129.057410</td>\n",
       "      <td>0.000000</td>\n",
       "      <td>4.000000</td>\n",
       "      <td>5.000000</td>\n",
       "      <td>7.000000</td>\n",
       "      <td>1499.000000</td>\n",
       "    </tr>\n",
       "    <tr>\n",
       "      <th>Interest_Rate</th>\n",
       "      <td>100000.0</td>\n",
       "      <td>72.466040</td>\n",
       "      <td>466.422621</td>\n",
       "      <td>1.000000</td>\n",
       "      <td>8.000000</td>\n",
       "      <td>13.000000</td>\n",
       "      <td>20.000000</td>\n",
       "      <td>5797.000000</td>\n",
       "    </tr>\n",
       "    <tr>\n",
       "      <th>Delay_from_due_date</th>\n",
       "      <td>100000.0</td>\n",
       "      <td>21.068780</td>\n",
       "      <td>14.860104</td>\n",
       "      <td>-5.000000</td>\n",
       "      <td>10.000000</td>\n",
       "      <td>18.000000</td>\n",
       "      <td>28.000000</td>\n",
       "      <td>67.000000</td>\n",
       "    </tr>\n",
       "    <tr>\n",
       "      <th>Num_Credit_Inquiries</th>\n",
       "      <td>98035.0</td>\n",
       "      <td>27.754251</td>\n",
       "      <td>193.177339</td>\n",
       "      <td>0.000000</td>\n",
       "      <td>3.000000</td>\n",
       "      <td>6.000000</td>\n",
       "      <td>9.000000</td>\n",
       "      <td>2597.000000</td>\n",
       "    </tr>\n",
       "    <tr>\n",
       "      <th>Credit_Utilization_Ratio</th>\n",
       "      <td>100000.0</td>\n",
       "      <td>32.285173</td>\n",
       "      <td>5.116875</td>\n",
       "      <td>20.000000</td>\n",
       "      <td>28.052567</td>\n",
       "      <td>32.305784</td>\n",
       "      <td>36.496663</td>\n",
       "      <td>50.000000</td>\n",
       "    </tr>\n",
       "    <tr>\n",
       "      <th>Total_EMI_per_month</th>\n",
       "      <td>100000.0</td>\n",
       "      <td>1403.118217</td>\n",
       "      <td>8306.041270</td>\n",
       "      <td>0.000000</td>\n",
       "      <td>30.306660</td>\n",
       "      <td>69.249473</td>\n",
       "      <td>161.224249</td>\n",
       "      <td>82331.000000</td>\n",
       "    </tr>\n",
       "  </tbody>\n",
       "</table>\n",
       "</div>"
      ],
      "text/plain": [
       "                             count         mean          std         min  \\\n",
       "Monthly_Inhand_Salary      84998.0  4194.170850  3183.686167  303.645417   \n",
       "Num_Bank_Accounts         100000.0    17.091280   117.404834   -1.000000   \n",
       "Num_Credit_Card           100000.0    22.474430   129.057410    0.000000   \n",
       "Interest_Rate             100000.0    72.466040   466.422621    1.000000   \n",
       "Delay_from_due_date       100000.0    21.068780    14.860104   -5.000000   \n",
       "Num_Credit_Inquiries       98035.0    27.754251   193.177339    0.000000   \n",
       "Credit_Utilization_Ratio  100000.0    32.285173     5.116875   20.000000   \n",
       "Total_EMI_per_month       100000.0  1403.118217  8306.041270    0.000000   \n",
       "\n",
       "                                  25%          50%          75%           max  \n",
       "Monthly_Inhand_Salary     1625.568229  3093.745000  5957.448333  15204.633333  \n",
       "Num_Bank_Accounts            3.000000     6.000000     7.000000   1798.000000  \n",
       "Num_Credit_Card              4.000000     5.000000     7.000000   1499.000000  \n",
       "Interest_Rate                8.000000    13.000000    20.000000   5797.000000  \n",
       "Delay_from_due_date         10.000000    18.000000    28.000000     67.000000  \n",
       "Num_Credit_Inquiries         3.000000     6.000000     9.000000   2597.000000  \n",
       "Credit_Utilization_Ratio    28.052567    32.305784    36.496663     50.000000  \n",
       "Total_EMI_per_month         30.306660    69.249473   161.224249  82331.000000  "
      ]
     },
     "execution_count": 6,
     "metadata": {},
     "output_type": "execute_result"
    }
   ],
   "source": [
    "df.describe().T"
   ]
  },
  {
   "cell_type": "code",
   "execution_count": 7,
   "id": "7450c9f4",
   "metadata": {},
   "outputs": [
    {
     "data": {
      "text/plain": [
       "ID                              0\n",
       "Customer_ID                     0\n",
       "Month                           0\n",
       "Name                         9985\n",
       "Age                             0\n",
       "SSN                             0\n",
       "Occupation                      0\n",
       "Annual_Income                   0\n",
       "Monthly_Inhand_Salary       15002\n",
       "Num_Bank_Accounts               0\n",
       "Num_Credit_Card                 0\n",
       "Interest_Rate                   0\n",
       "Num_of_Loan                     0\n",
       "Type_of_Loan                11408\n",
       "Delay_from_due_date             0\n",
       "Num_of_Delayed_Payment       7002\n",
       "Changed_Credit_Limit            0\n",
       "Num_Credit_Inquiries         1965\n",
       "Credit_Mix                      0\n",
       "Outstanding_Debt                0\n",
       "Credit_Utilization_Ratio        0\n",
       "Credit_History_Age           9030\n",
       "Payment_of_Min_Amount           0\n",
       "Total_EMI_per_month             0\n",
       "Amount_invested_monthly      4479\n",
       "Payment_Behaviour               0\n",
       "Monthly_Balance              1200\n",
       "Credit_Score                    0\n",
       "dtype: int64"
      ]
     },
     "execution_count": 7,
     "metadata": {},
     "output_type": "execute_result"
    }
   ],
   "source": [
    "df.isna().sum()"
   ]
  },
  {
   "cell_type": "code",
   "execution_count": 8,
   "id": "6e47d3d7",
   "metadata": {},
   "outputs": [
    {
     "data": {
      "text/plain": [
       "<AxesSubplot:xlabel='Credit_Score', ylabel='Monthly_Inhand_Salary'>"
      ]
     },
     "execution_count": 8,
     "metadata": {},
     "output_type": "execute_result"
    },
    {
     "data": {
      "image/png": "[encoded data removed]",
      "text/plain": [
       "<Figure size 432x288 with 1 Axes>"
      ]
     },
     "metadata": {
      "needs_background": "light"
     },
     "output_type": "display_data"
    }
   ],
   "source": [
    "sns.boxplot(x=df['Credit_Score'], y=df['Monthly_Inhand_Salary'],data=df )"
   ]
  },
  {
   "cell_type": "code",
   "execution_count": 9,
   "id": "0dc011a4",
   "metadata": {},
   "outputs": [],
   "source": [
    "df1=df.copy()"
   ]
  },
  {
   "cell_type": "code",
   "execution_count": 10,
   "id": "3c0c33e6",
   "metadata": {},
   "outputs": [
    {
     "data": {
      "text/html": [
       "<div>\n",
       "<style scoped>\n",
       "    .dataframe tbody tr th:only-of-type {\n",
       "        vertical-align: middle;\n",
       "    }\n",
       "\n",
       "    .dataframe tbody tr th {\n",
       "        vertical-align: top;\n",
       "    }\n",
       "\n",
       "    .dataframe thead th {\n",
       "        text-align: right;\n",
       "    }\n",
       "</style>\n",
       "<table border=\"1\" class=\"dataframe\">\n",
       "  <thead>\n",
       "    <tr style=\"text-align: right;\">\n",
       "      <th></th>\n",
       "      <th>ID</th>\n",
       "      <th>Customer_ID</th>\n",
       "      <th>Month</th>\n",
       "      <th>Name</th>\n",
       "      <th>Age</th>\n",
       "      <th>SSN</th>\n",
       "      <th>Occupation</th>\n",
       "      <th>Annual_Income</th>\n",
       "      <th>Monthly_Inhand_Salary</th>\n",
       "      <th>Num_Bank_Accounts</th>\n",
       "      <th>...</th>\n",
       "      <th>Credit_Mix</th>\n",
       "      <th>Outstanding_Debt</th>\n",
       "      <th>Credit_Utilization_Ratio</th>\n",
       "      <th>Credit_History_Age</th>\n",
       "      <th>Payment_of_Min_Amount</th>\n",
       "      <th>Total_EMI_per_month</th>\n",
       "      <th>Amount_invested_monthly</th>\n",
       "      <th>Payment_Behaviour</th>\n",
       "      <th>Monthly_Balance</th>\n",
       "      <th>Credit_Score</th>\n",
       "    </tr>\n",
       "  </thead>\n",
       "  <tbody>\n",
       "    <tr>\n",
       "      <th>0</th>\n",
       "      <td>0x1602</td>\n",
       "      <td>CUS_0xd40</td>\n",
       "      <td>January</td>\n",
       "      <td>Aaron Maashoh</td>\n",
       "      <td>23</td>\n",
       "      <td>821-00-0265</td>\n",
       "      <td>Scientist</td>\n",
       "      <td>19114.12</td>\n",
       "      <td>1824.843333</td>\n",
       "      <td>3</td>\n",
       "      <td>...</td>\n",
       "      <td>_</td>\n",
       "      <td>809.98</td>\n",
       "      <td>26.822620</td>\n",
       "      <td>22 Years and 1 Months</td>\n",
       "      <td>No</td>\n",
       "      <td>49.574949</td>\n",
       "      <td>80.41529543900253</td>\n",
       "      <td>High_spent_Small_value_payments</td>\n",
       "      <td>312.49408867943663</td>\n",
       "      <td>Good</td>\n",
       "    </tr>\n",
       "    <tr>\n",
       "      <th>1</th>\n",
       "      <td>0x1603</td>\n",
       "      <td>CUS_0xd40</td>\n",
       "      <td>February</td>\n",
       "      <td>Aaron Maashoh</td>\n",
       "      <td>23</td>\n",
       "      <td>821-00-0265</td>\n",
       "      <td>Scientist</td>\n",
       "      <td>19114.12</td>\n",
       "      <td>NaN</td>\n",
       "      <td>3</td>\n",
       "      <td>...</td>\n",
       "      <td>Good</td>\n",
       "      <td>809.98</td>\n",
       "      <td>31.944960</td>\n",
       "      <td>NaN</td>\n",
       "      <td>No</td>\n",
       "      <td>49.574949</td>\n",
       "      <td>118.28022162236736</td>\n",
       "      <td>Low_spent_Large_value_payments</td>\n",
       "      <td>284.62916249607184</td>\n",
       "      <td>Good</td>\n",
       "    </tr>\n",
       "    <tr>\n",
       "      <th>2</th>\n",
       "      <td>0x1604</td>\n",
       "      <td>CUS_0xd40</td>\n",
       "      <td>March</td>\n",
       "      <td>Aaron Maashoh</td>\n",
       "      <td>-500</td>\n",
       "      <td>821-00-0265</td>\n",
       "      <td>Scientist</td>\n",
       "      <td>19114.12</td>\n",
       "      <td>NaN</td>\n",
       "      <td>3</td>\n",
       "      <td>...</td>\n",
       "      <td>Good</td>\n",
       "      <td>809.98</td>\n",
       "      <td>28.609352</td>\n",
       "      <td>22 Years and 3 Months</td>\n",
       "      <td>No</td>\n",
       "      <td>49.574949</td>\n",
       "      <td>81.699521264648</td>\n",
       "      <td>Low_spent_Medium_value_payments</td>\n",
       "      <td>331.2098628537912</td>\n",
       "      <td>Good</td>\n",
       "    </tr>\n",
       "    <tr>\n",
       "      <th>3</th>\n",
       "      <td>0x1605</td>\n",
       "      <td>CUS_0xd40</td>\n",
       "      <td>April</td>\n",
       "      <td>Aaron Maashoh</td>\n",
       "      <td>23</td>\n",
       "      <td>821-00-0265</td>\n",
       "      <td>Scientist</td>\n",
       "      <td>19114.12</td>\n",
       "      <td>NaN</td>\n",
       "      <td>3</td>\n",
       "      <td>...</td>\n",
       "      <td>Good</td>\n",
       "      <td>809.98</td>\n",
       "      <td>31.377862</td>\n",
       "      <td>22 Years and 4 Months</td>\n",
       "      <td>No</td>\n",
       "      <td>49.574949</td>\n",
       "      <td>199.4580743910713</td>\n",
       "      <td>Low_spent_Small_value_payments</td>\n",
       "      <td>223.45130972736786</td>\n",
       "      <td>Good</td>\n",
       "    </tr>\n",
       "    <tr>\n",
       "      <th>4</th>\n",
       "      <td>0x1606</td>\n",
       "      <td>CUS_0xd40</td>\n",
       "      <td>May</td>\n",
       "      <td>Aaron Maashoh</td>\n",
       "      <td>23</td>\n",
       "      <td>821-00-0265</td>\n",
       "      <td>Scientist</td>\n",
       "      <td>19114.12</td>\n",
       "      <td>1824.843333</td>\n",
       "      <td>3</td>\n",
       "      <td>...</td>\n",
       "      <td>Good</td>\n",
       "      <td>809.98</td>\n",
       "      <td>24.797347</td>\n",
       "      <td>22 Years and 5 Months</td>\n",
       "      <td>No</td>\n",
       "      <td>49.574949</td>\n",
       "      <td>41.420153086217326</td>\n",
       "      <td>High_spent_Medium_value_payments</td>\n",
       "      <td>341.48923103222177</td>\n",
       "      <td>Good</td>\n",
       "    </tr>\n",
       "  </tbody>\n",
       "</table>\n",
       "<p>5 rows × 28 columns</p>\n",
       "</div>"
      ],
      "text/plain": [
       "       ID Customer_ID     Month           Name   Age          SSN Occupation  \\\n",
       "0  0x1602   CUS_0xd40   January  Aaron Maashoh    23  821-00-0265  Scientist   \n",
       "1  0x1603   CUS_0xd40  February  Aaron Maashoh    23  821-00-0265  Scientist   \n",
       "2  0x1604   CUS_0xd40     March  Aaron Maashoh  -500  821-00-0265  Scientist   \n",
       "3  0x1605   CUS_0xd40     April  Aaron Maashoh    23  821-00-0265  Scientist   \n",
       "4  0x1606   CUS_0xd40       May  Aaron Maashoh    23  821-00-0265  Scientist   \n",
       "\n",
       "  Annual_Income  Monthly_Inhand_Salary  Num_Bank_Accounts  ...  Credit_Mix  \\\n",
       "0      19114.12            1824.843333                  3  ...           _   \n",
       "1      19114.12                    NaN                  3  ...        Good   \n",
       "2      19114.12                    NaN                  3  ...        Good   \n",
       "3      19114.12                    NaN                  3  ...        Good   \n",
       "4      19114.12            1824.843333                  3  ...        Good   \n",
       "\n",
       "   Outstanding_Debt Credit_Utilization_Ratio     Credit_History_Age  \\\n",
       "0            809.98                26.822620  22 Years and 1 Months   \n",
       "1            809.98                31.944960                    NaN   \n",
       "2            809.98                28.609352  22 Years and 3 Months   \n",
       "3            809.98                31.377862  22 Years and 4 Months   \n",
       "4            809.98                24.797347  22 Years and 5 Months   \n",
       "\n",
       "   Payment_of_Min_Amount Total_EMI_per_month Amount_invested_monthly  \\\n",
       "0                     No           49.574949       80.41529543900253   \n",
       "1                     No           49.574949      118.28022162236736   \n",
       "2                     No           49.574949         81.699521264648   \n",
       "3                     No           49.574949       199.4580743910713   \n",
       "4                     No           49.574949      41.420153086217326   \n",
       "\n",
       "                  Payment_Behaviour     Monthly_Balance Credit_Score  \n",
       "0   High_spent_Small_value_payments  312.49408867943663         Good  \n",
       "1    Low_spent_Large_value_payments  284.62916249607184         Good  \n",
       "2   Low_spent_Medium_value_payments   331.2098628537912         Good  \n",
       "3    Low_spent_Small_value_payments  223.45130972736786         Good  \n",
       "4  High_spent_Medium_value_payments  341.48923103222177         Good  \n",
       "\n",
       "[5 rows x 28 columns]"
      ]
     },
     "execution_count": 10,
     "metadata": {},
     "output_type": "execute_result"
    }
   ],
   "source": [
    "df1.head()"
   ]
  },
  {
   "cell_type": "code",
   "execution_count": 11,
   "id": "6ef893a4",
   "metadata": {},
   "outputs": [
    {
     "name": "stdout",
     "output_type": "stream",
     "text": [
      "<class 'pandas.core.frame.DataFrame'>\n",
      "RangeIndex: 100000 entries, 0 to 99999\n",
      "Data columns (total 28 columns):\n",
      " #   Column                    Non-Null Count   Dtype  \n",
      "---  ------                    --------------   -----  \n",
      " 0   ID                        100000 non-null  object \n",
      " 1   Customer_ID               100000 non-null  object \n",
      " 2   Month                     100000 non-null  object \n",
      " 3   Name                      90015 non-null   object \n",
      " 4   Age                       100000 non-null  object \n",
      " 5   SSN                       100000 non-null  object \n",
      " 6   Occupation                100000 non-null  object \n",
      " 7   Annual_Income             100000 non-null  object \n",
      " 8   Monthly_Inhand_Salary     84998 non-null   float64\n",
      " 9   Num_Bank_Accounts         100000 non-null  int64  \n",
      " 10  Num_Credit_Card           100000 non-null  int64  \n",
      " 11  Interest_Rate             100000 non-null  int64  \n",
      " 12  Num_of_Loan               100000 non-null  object \n",
      " 13  Type_of_Loan              88592 non-null   object \n",
      " 14  Delay_from_due_date       100000 non-null  int64  \n",
      " 15  Num_of_Delayed_Payment    92998 non-null   object \n",
      " 16  Changed_Credit_Limit      100000 non-null  object \n",
      " 17  Num_Credit_Inquiries      98035 non-null   float64\n",
      " 18  Credit_Mix                100000 non-null  object \n",
      " 19  Outstanding_Debt          100000 non-null  object \n",
      " 20  Credit_Utilization_Ratio  100000 non-null  float64\n",
      " 21  Credit_History_Age        90970 non-null   object \n",
      " 22  Payment_of_Min_Amount     100000 non-null  object \n",
      " 23  Total_EMI_per_month       100000 non-null  float64\n",
      " 24  Amount_invested_monthly   95521 non-null   object \n",
      " 25  Payment_Behaviour         100000 non-null  object \n",
      " 26  Monthly_Balance           98800 non-null   object \n",
      " 27  Credit_Score              100000 non-null  object \n",
      "dtypes: float64(4), int64(4), object(20)\n",
      "memory usage: 21.4+ MB\n"
     ]
    }
   ],
   "source": [
    "df1.info()"
   ]
  },
  {
   "cell_type": "code",
   "execution_count": null,
   "id": "c0a99e23",
   "metadata": {},
   "outputs": [],
   "source": []
  },
  {
   "cell_type": "code",
   "execution_count": 12,
   "id": "90052510",
   "metadata": {},
   "outputs": [
    {
     "data": {
      "text/plain": [
       "dtype('float64')"
      ]
     },
     "execution_count": 12,
     "metadata": {},
     "output_type": "execute_result"
    }
   ],
   "source": [
    "df1['Annual_Income']= df1['Annual_Income'].str.replace('_','').astype(float)\n",
    "df1['Annual_Income'].dtype"
   ]
  },
  {
   "cell_type": "code",
   "execution_count": 13,
   "id": "f8590b6b",
   "metadata": {},
   "outputs": [],
   "source": [
    "df1['Monthly_Inhand_Salary']= df1['Monthly_Inhand_Salary'].replace(np.nan, 0)"
   ]
  },
  {
   "cell_type": "code",
   "execution_count": 14,
   "id": "73293f10",
   "metadata": {},
   "outputs": [
    {
     "data": {
      "text/plain": [
       "0"
      ]
     },
     "execution_count": 14,
     "metadata": {},
     "output_type": "execute_result"
    }
   ],
   "source": [
    "df1['Monthly_Inhand_Salary'].isna().sum()"
   ]
  },
  {
   "cell_type": "code",
   "execution_count": 15,
   "id": "7822371d",
   "metadata": {},
   "outputs": [
    {
     "data": {
      "text/plain": [
       "0"
      ]
     },
     "execution_count": 15,
     "metadata": {},
     "output_type": "execute_result"
    }
   ],
   "source": [
    "df1['Num_Bank_Accounts'].isna().sum()"
   ]
  },
  {
   "cell_type": "code",
   "execution_count": 16,
   "id": "a27d28b2",
   "metadata": {},
   "outputs": [
    {
     "data": {
      "text/plain": [
       "array([   4, 1385,    5, ...,  955, 1430,  679], dtype=int64)"
      ]
     },
     "execution_count": 16,
     "metadata": {},
     "output_type": "execute_result"
    }
   ],
   "source": [
    "df1['Num_Credit_Card'].unique()"
   ]
  },
  {
   "cell_type": "code",
   "execution_count": 17,
   "id": "79816947",
   "metadata": {},
   "outputs": [
    {
     "data": {
      "text/plain": [
       "dtype('int64')"
      ]
     },
     "execution_count": 17,
     "metadata": {},
     "output_type": "execute_result"
    }
   ],
   "source": [
    "df1['Interest_Rate'].dtype"
   ]
  },
  {
   "cell_type": "code",
   "execution_count": 18,
   "id": "98834301",
   "metadata": {},
   "outputs": [
    {
     "data": {
      "text/plain": [
       "array(['4', '1', '3', '967', '-100', '0', '0_', '2', '3_', '2_', '7', '5',\n",
       "       '5_', '6', '8', '8_', '9', '9_', '4_', '7_', '1_', '1464', '6_',\n",
       "       '622', '352', '472', '1017', '945', '146', '563', '341', '444',\n",
       "       '720', '1485', '49', '737', '1106', '466', '728', '313', '843',\n",
       "       '597_', '617', '119', '663', '640', '92_', '1019', '501', '1302',\n",
       "       '39', '716', '848', '931', '1214', '186', '424', '1001', '1110',\n",
       "       '1152', '457', '1433', '1187', '52', '1480', '1047', '1035',\n",
       "       '1347_', '33', '193', '699', '329', '1451', '484', '132', '649',\n",
       "       '995', '545', '684', '1135', '1094', '1204', '654', '58', '348',\n",
       "       '614', '1363', '323', '1406', '1348', '430', '153', '1461', '905',\n",
       "       '1312', '1424', '1154', '95', '1353', '1228', '819', '1006', '795',\n",
       "       '359', '1209', '590', '696', '1185_', '1465', '911', '1181', '70',\n",
       "       '816', '1369', '143', '1416', '455', '55', '1096', '1474', '420',\n",
       "       '1131', '904', '89', '1259', '527', '1241', '449', '983', '418',\n",
       "       '319', '23', '238', '638', '138', '235_', '280', '1070', '1484',\n",
       "       '274', '494', '1459_', '404', '1354', '1495', '1391', '601',\n",
       "       '1313', '1319', '898', '231', '752', '174', '961', '1046', '834',\n",
       "       '284', '438', '288', '1463', '1151', '719', '198', '1015', '855',\n",
       "       '841', '392', '1444', '103', '1320_', '745', '172', '252', '630_',\n",
       "       '241', '31', '405', '1217', '1030', '1257', '137', '157', '164',\n",
       "       '1088', '1236', '777', '1048', '613', '330', '1439', '321', '661',\n",
       "       '952', '939', '562', '1202', '302', '943', '394', '955', '1318',\n",
       "       '936', '781', '100', '1329', '1365', '860', '217', '191', '32',\n",
       "       '282', '351', '1387', '757', '416', '833', '359_', '292', '1225_',\n",
       "       '1227', '639', '859', '243', '267', '510', '332', '996', '597',\n",
       "       '311', '492', '820', '336', '123', '540', '131_', '1311_', '1441',\n",
       "       '895', '891', '50', '940', '935', '596', '29', '1182', '1129_',\n",
       "       '1014', '251', '365', '291', '1447', '742', '1085', '148', '462',\n",
       "       '832', '881', '1225', '1412', '785_', '1127', '910', '538', '999',\n",
       "       '733', '101', '237', '87', '659', '633', '387', '447', '629',\n",
       "       '831', '1384', '773', '621', '1419', '289', '143_', '285', '1393',\n",
       "       '1131_', '27_', '1359', '1482', '1189', '1294', '201', '579',\n",
       "       '814', '141', '1320', '581', '1171_', '295', '290', '433', '679',\n",
       "       '1040', '1054', '1430', '1023', '1077', '1457', '1150', '701',\n",
       "       '1382', '889', '437', '372', '1222', '126', '1159', '868', '19',\n",
       "       '1297', '227_', '190', '809', '1216', '1074', '571', '520', '1274',\n",
       "       '1340', '991', '316', '697', '926', '873', '1002', '378_', '65',\n",
       "       '875', '867', '548', '652', '1372', '606', '1036', '1300', '17',\n",
       "       '1178', '802', '1219_', '1271', '1137', '1496', '439', '196',\n",
       "       '636', '192', '228', '1053', '229', '753', '1296', '1371', '254',\n",
       "       '863', '464', '515', '838', '1160', '1289', '1298', '799', '182',\n",
       "       '574', '527_', '242', '415', '869', '958', '54', '1265', '656',\n",
       "       '275', '778', '208', '147', '350', '507', '463', '497', '1129',\n",
       "       '927', '653', '662', '529', '635', '1027_', '897', '1039', '227',\n",
       "       '1345', '924', '696_', '1279', '546', '1112', '1210', '526', '300',\n",
       "       '1103', '504', '136', '1400', '78', '686', '1091', '344', '215',\n",
       "       '84', '628', '1470', '968', '1478', '83', '1196', '1307', '1132_',\n",
       "       '1008', '917', '657', '56', '18', '41', '801', '978', '216', '349',\n",
       "       '966'], dtype=object)"
      ]
     },
     "execution_count": 18,
     "metadata": {},
     "output_type": "execute_result"
    }
   ],
   "source": [
    "df1['Num_of_Loan'].unique()"
   ]
  },
  {
   "cell_type": "code",
   "execution_count": 19,
   "id": "a2f151da",
   "metadata": {},
   "outputs": [],
   "source": [
    "df1['Num_of_Loan']=df1['Num_of_Loan'].str.replace('_','').astype(int)"
   ]
  },
  {
   "cell_type": "code",
   "execution_count": 20,
   "id": "644b5545",
   "metadata": {},
   "outputs": [
    {
     "data": {
      "text/plain": [
       "dtype('int32')"
      ]
     },
     "execution_count": 20,
     "metadata": {},
     "output_type": "execute_result"
    }
   ],
   "source": [
    "df1['Num_of_Loan'].dtype"
   ]
  },
  {
   "cell_type": "code",
   "execution_count": 21,
   "id": "7f6e5761",
   "metadata": {},
   "outputs": [
    {
     "data": {
      "text/plain": [
       "array([ 3, -1,  5,  6,  8,  7, 13, 10,  0,  4,  9,  1, 12, 11, 30, 31, 34,\n",
       "       27, 14,  2, -2, 16, 17, 15, 23, 22, 21, 18, 19, 52, 51, 48, 53, 26,\n",
       "       43, 28, 25, 20, 47, 46, 49, 24, 61, 29, 50, 58, 45, 59, 55, 56, 57,\n",
       "       54, 62, 65, 64, 67, 36, 41, 33, 32, 39, 44, 42, 60, 35, 38, -3, 63,\n",
       "       40, 37, -5, -4, 66], dtype=int64)"
      ]
     },
     "execution_count": 21,
     "metadata": {},
     "output_type": "execute_result"
    }
   ],
   "source": [
    "df1['Delay_from_due_date'].unique()"
   ]
  },
  {
   "cell_type": "code",
   "execution_count": 22,
   "id": "5521389a",
   "metadata": {},
   "outputs": [],
   "source": [
    "df1['Delay_from_due_date']=df1['Delay_from_due_date'].replace('-','')"
   ]
  },
  {
   "cell_type": "code",
   "execution_count": 23,
   "id": "de89f04a",
   "metadata": {},
   "outputs": [
    {
     "data": {
      "text/plain": [
       "dtype('int64')"
      ]
     },
     "execution_count": 23,
     "metadata": {},
     "output_type": "execute_result"
    }
   ],
   "source": [
    "df1['Delay_from_due_date'].dtype"
   ]
  },
  {
   "cell_type": "code",
   "execution_count": 24,
   "id": "0891a4d3",
   "metadata": {},
   "outputs": [
    {
     "data": {
      "text/plain": [
       "array(['7', nan, '4', '8_', '6', '1', '-1', '3_', '0', '8', '5', '3', '9',\n",
       "       '12', '15', '17', '10', '2', '2_', '11', '14', '20', '22', '13',\n",
       "       '13_', '14_', '16', '12_', '18', '19', '23', '24', '21', '3318',\n",
       "       '3083', '22_', '1338', '4_', '26', '11_', '3104', '21_', '25',\n",
       "       '10_', '183_', '9_', '1106', '834', '19_', '24_', '17_', '23_',\n",
       "       '2672', '20_', '2008', '-3', '538', '6_', '1_', '16_', '27', '-2',\n",
       "       '3478', '2420', '15_', '707', '708', '26_', '18_', '3815', '28',\n",
       "       '5_', '1867', '2250', '1463', '25_', '7_', '4126', '2882', '1941',\n",
       "       '2655', '2628', '132', '3069', '306', '0_', '3539', '3684', '1823',\n",
       "       '4128', '1946', '827', '2297', '2566', '904', '182', '929', '3568',\n",
       "       '2503', '1552', '2812', '1697', '3764', '851', '3905', '923', '88',\n",
       "       '1668', '3253', '808', '2689', '3858', '642', '3457', '1402',\n",
       "       '1732', '3154', '847', '3037', '2204', '3103', '1063', '2056',\n",
       "       '1282', '1841', '2569_', '211', '793', '3484', '411', '3491',\n",
       "       '2072', '3050', '1049', '2162', '3402', '2753', '27_', '1718',\n",
       "       '1014', '3260', '3855', '84', '2311', '3251', '1832', '4069',\n",
       "       '3010', '733', '4241', '166', '2461', '1749', '3200', '663_',\n",
       "       '2185', '4161', '3009', '359', '2015', '1523', '594', '1079',\n",
       "       '1199', '186', '1015', '1989', '281', '559', '2165', '1509',\n",
       "       '3545', '779', '192', '4311', '-2_', '2323', '1471', '1538',\n",
       "       '3529', '439', '3456', '3040', '2697', '3179', '1332', '3175',\n",
       "       '3112', '829', '4022', '3870', '4023', '531', '1511', '3092',\n",
       "       '3191', '2400', '3621', '3536', '544', '1864', '28_', '142',\n",
       "       '2300', '264', '72', '497', '398', '2222', '3960', '1473', '3043',\n",
       "       '4216', '2903', '2658', '-1_', '4042', '1323_', '2184', '921',\n",
       "       '1328', '3404', '2438', '809', '47', '1996', '4164', '1370',\n",
       "       '1204', '2167', '4011', '2590', '2594', '2533', '1663', '1018',\n",
       "       '2919', '3458', '3316', '2589', '2801', '3355', '2529', '2488',\n",
       "       '4266', '1243', '739', '845', '4107', '1884', '337', '2660', '290',\n",
       "       '674', '2450', '3738', '1792', '2823', '2570', '775', '960', '482',\n",
       "       '1706', '2493', '3623', '3031', '2794_', '2219_', '758_', '1849',\n",
       "       '3559', '4096', '3726', '1953', '2657', '4043', '2938', '4384',\n",
       "       '1647', '2694', '3533', '519', '2677', '2413', '-3_', '4139',\n",
       "       '2609', '4326', '4211', '823', '3011', '1608', '2860', '4219',\n",
       "       '4047', '1531', '742', '52', '4024', '1673', '49', '2243', '1685',\n",
       "       '1869', '2587', '3489', '749', '1164', '2616', '848_', '4134',\n",
       "       '1530', '1502', '4075', '3845', '1060', '2573', '2128', '328',\n",
       "       '640', '2585', '2230', '1795', '1180', '1534', '3739', '3313',\n",
       "       '4191', '996', '372', '3340', '3177', '602', '787', '4135', '3878',\n",
       "       '4059', '1218', '4051', '1766', '1359', '3107', '585', '1263',\n",
       "       '2511', '709', '3632', '4077', '2943', '2793', '3245', '2317',\n",
       "       '1640', '2237_', '3819', '252', '3978', '1498', '1833', '2737',\n",
       "       '1192', '1481', '700', '271', '2286', '273', '1215', '3944',\n",
       "       '2070', '1478', '3749', '871', '2508', '2959', '130', '294',\n",
       "       '3097_', '3511', '415', '2196', '2138', '2149', '1874', '1553',\n",
       "       '3847', '3222', '1222', '2907', '3051', '98', '1598', '416',\n",
       "       '2314', '2955', '1691', '1450', '2021', '1636', '80', '3708',\n",
       "       '195', '320', '2945', '1911', '3416', '3796', '4159', '2255',\n",
       "       '938', '4397', '3776', '2148', '1994', '853', '1178', '1633',\n",
       "       '196', '3864', '714', '1687', '1034', '468', '1337', '2044',\n",
       "       '1541', '3661', '1211', '2645', '2007', '102', '1891', '3162',\n",
       "       '3142', '2566_', '2766', '3881', '2728', '2671', '1952', '3580',\n",
       "       '2705', '4251', '3840_', '972', '3119', '3502', '4185', '2954',\n",
       "       '683', '1614', '1572', '4302', '3447', '1852', '2131', '1900',\n",
       "       '1699', '133', '2018', '2127', '508', '210', '577', '1664', '2604',\n",
       "       '1411', '2351', '867', '1371', '2352', '1191', '905', '4053',\n",
       "       '3869', '933', '3660', '3300', '3629', '3208', '2142', '2521',\n",
       "       '450', '583', '876', '121', '3919', '2560', '2578', '2060', '813',\n",
       "       '1236', '1489', '4360', '1154', '2544', '4172', '2924', '426',\n",
       "       '4270', '2768', '3909', '3951', '2712', '2498', '3171', '1750',\n",
       "       '197', '2569', '265', '4293', '887', '2707', '2397', '4337',\n",
       "       '4249', '2751', '2950', '1859', '107', '2348', '2506', '2810',\n",
       "       '2873', '1301', '2262', '1890', '3078', '3865', '3268', '2777',\n",
       "       '3105', '1278', '3793', '2276', '2879', '4298', '2141', '223',\n",
       "       '2239', '846', '1862', '2756', '1181', '1184', '2617', '3972',\n",
       "       '2334', '3900', '2759', '4169', '2280', '2492', '2729', '3750',\n",
       "       '1825', '309', '2431', '3099', '2080', '2279', '2666', '3722',\n",
       "       '1976', '529', '1985', '3060', '4278', '3212', '46', '3148',\n",
       "       '3467', '4231', '3790', '473', '1536', '3955', '2324', '2381',\n",
       "       '1177', '371', '2896', '3880', '2991', '4319', '1061', '662',\n",
       "       '4144', '693', '2006', '3115', '2278_', '3751', '1861', '4262',\n",
       "       '2913', '2615', '3492', '800', '3766', '384', '3407', '1087',\n",
       "       '3329', '1086', '2216', '1087_', '2457', '3522', '3274', '3488',\n",
       "       '2854', '238', '351', '3706', '4280', '4095', '2926', '1329',\n",
       "       '3370', '283', '1392', '1743', '2429', '974', '3156', '1133',\n",
       "       '4388', '3243', '4282', '2523', '4281', '3415', '2001', '441',\n",
       "       '94', '3499', '969', '3368', '106', '1004', '2638', '3946', '2956',\n",
       "       '4324', '85', '4113', '819', '615', '1172', '2553', '1765', '3495',\n",
       "       '2820', '4239', '4340', '1295_', '2636', '4295', '1653', '1325',\n",
       "       '1879', '1096', '1735', '3584', '1073', '1975', '3827', '2552',\n",
       "       '3754', '2378', '532', '926', '2376', '3636', '3763', '778',\n",
       "       '2621', '804', '754', '2418', '4019', '3926', '3861_', '3574',\n",
       "       '175', '162', '2834', '3765', '2354', '523', '2274', '1606',\n",
       "       '1443', '1354', '2142_', '1422', '2278', '1045', '4106', '3155',\n",
       "       '666', '659', '3229', '1216', '2076', '1473_', '2384', '1954',\n",
       "       '719', '2534', '4002', '541', '2875', '4344', '2081', '3894',\n",
       "       '1256', '676', '4178', '399', '86', '1571', '4037', '1967', '4005',\n",
       "       '3216', '1150', '2591', '1801', '3721', '1775', '2260', '3707',\n",
       "       '4292', '1820', '145', '1480', '1850', '430', '217', '3920_',\n",
       "       '1389', '1579', '3391', '2385', '3336', '3392', '3688', '221',\n",
       "       '2047'], dtype=object)"
      ]
     },
     "execution_count": 24,
     "metadata": {},
     "output_type": "execute_result"
    }
   ],
   "source": [
    "df1['Num_of_Delayed_Payment'].unique()"
   ]
  },
  {
   "cell_type": "code",
   "execution_count": 25,
   "id": "cd4e5720",
   "metadata": {},
   "outputs": [],
   "source": [
    "df1['Num_of_Delayed_Payment']=df1['Num_of_Delayed_Payment'].str.replace('_','')"
   ]
  },
  {
   "cell_type": "code",
   "execution_count": 26,
   "id": "083464ad",
   "metadata": {},
   "outputs": [],
   "source": [
    "df1['Num_of_Delayed_Payment']= df1['Num_of_Delayed_Payment'].replace('-','')"
   ]
  },
  {
   "cell_type": "code",
   "execution_count": 27,
   "id": "9a5c7da0",
   "metadata": {},
   "outputs": [
    {
     "data": {
      "text/plain": [
       "array(['7', nan, '4', '8', '6', '1', '-1', '3', '0', '5', '9', '12', '15',\n",
       "       '17', '10', '2', '11', '14', '20', '22', '13', '16', '18', '19',\n",
       "       '23', '24', '21', '3318', '3083', '1338', '26', '3104', '25',\n",
       "       '183', '1106', '834', '2672', '2008', '-3', '538', '27', '-2',\n",
       "       '3478', '2420', '707', '708', '3815', '28', '1867', '2250', '1463',\n",
       "       '4126', '2882', '1941', '2655', '2628', '132', '3069', '306',\n",
       "       '3539', '3684', '1823', '4128', '1946', '827', '2297', '2566',\n",
       "       '904', '182', '929', '3568', '2503', '1552', '2812', '1697',\n",
       "       '3764', '851', '3905', '923', '88', '1668', '3253', '808', '2689',\n",
       "       '3858', '642', '3457', '1402', '1732', '3154', '847', '3037',\n",
       "       '2204', '3103', '1063', '2056', '1282', '1841', '2569', '211',\n",
       "       '793', '3484', '411', '3491', '2072', '3050', '1049', '2162',\n",
       "       '3402', '2753', '1718', '1014', '3260', '3855', '84', '2311',\n",
       "       '3251', '1832', '4069', '3010', '733', '4241', '166', '2461',\n",
       "       '1749', '3200', '663', '2185', '4161', '3009', '359', '2015',\n",
       "       '1523', '594', '1079', '1199', '186', '1015', '1989', '281', '559',\n",
       "       '2165', '1509', '3545', '779', '192', '4311', '2323', '1471',\n",
       "       '1538', '3529', '439', '3456', '3040', '2697', '3179', '1332',\n",
       "       '3175', '3112', '829', '4022', '3870', '4023', '531', '1511',\n",
       "       '3092', '3191', '2400', '3621', '3536', '544', '1864', '142',\n",
       "       '2300', '264', '72', '497', '398', '2222', '3960', '1473', '3043',\n",
       "       '4216', '2903', '2658', '4042', '1323', '2184', '921', '1328',\n",
       "       '3404', '2438', '809', '47', '1996', '4164', '1370', '1204',\n",
       "       '2167', '4011', '2590', '2594', '2533', '1663', '1018', '2919',\n",
       "       '3458', '3316', '2589', '2801', '3355', '2529', '2488', '4266',\n",
       "       '1243', '739', '845', '4107', '1884', '337', '2660', '290', '674',\n",
       "       '2450', '3738', '1792', '2823', '2570', '775', '960', '482',\n",
       "       '1706', '2493', '3623', '3031', '2794', '2219', '758', '1849',\n",
       "       '3559', '4096', '3726', '1953', '2657', '4043', '2938', '4384',\n",
       "       '1647', '2694', '3533', '519', '2677', '2413', '4139', '2609',\n",
       "       '4326', '4211', '823', '3011', '1608', '2860', '4219', '4047',\n",
       "       '1531', '742', '52', '4024', '1673', '49', '2243', '1685', '1869',\n",
       "       '2587', '3489', '749', '1164', '2616', '848', '4134', '1530',\n",
       "       '1502', '4075', '3845', '1060', '2573', '2128', '328', '640',\n",
       "       '2585', '2230', '1795', '1180', '1534', '3739', '3313', '4191',\n",
       "       '996', '372', '3340', '3177', '602', '787', '4135', '3878', '4059',\n",
       "       '1218', '4051', '1766', '1359', '3107', '585', '1263', '2511',\n",
       "       '709', '3632', '4077', '2943', '2793', '3245', '2317', '1640',\n",
       "       '2237', '3819', '252', '3978', '1498', '1833', '2737', '1192',\n",
       "       '1481', '700', '271', '2286', '273', '1215', '3944', '2070',\n",
       "       '1478', '3749', '871', '2508', '2959', '130', '294', '3097',\n",
       "       '3511', '415', '2196', '2138', '2149', '1874', '1553', '3847',\n",
       "       '3222', '1222', '2907', '3051', '98', '1598', '416', '2314',\n",
       "       '2955', '1691', '1450', '2021', '1636', '80', '3708', '195', '320',\n",
       "       '2945', '1911', '3416', '3796', '4159', '2255', '938', '4397',\n",
       "       '3776', '2148', '1994', '853', '1178', '1633', '196', '3864',\n",
       "       '714', '1687', '1034', '468', '1337', '2044', '1541', '3661',\n",
       "       '1211', '2645', '2007', '102', '1891', '3162', '3142', '2766',\n",
       "       '3881', '2728', '2671', '1952', '3580', '2705', '4251', '3840',\n",
       "       '972', '3119', '3502', '4185', '2954', '683', '1614', '1572',\n",
       "       '4302', '3447', '1852', '2131', '1900', '1699', '133', '2018',\n",
       "       '2127', '508', '210', '577', '1664', '2604', '1411', '2351', '867',\n",
       "       '1371', '2352', '1191', '905', '4053', '3869', '933', '3660',\n",
       "       '3300', '3629', '3208', '2142', '2521', '450', '583', '876', '121',\n",
       "       '3919', '2560', '2578', '2060', '813', '1236', '1489', '4360',\n",
       "       '1154', '2544', '4172', '2924', '426', '4270', '2768', '3909',\n",
       "       '3951', '2712', '2498', '3171', '1750', '197', '265', '4293',\n",
       "       '887', '2707', '2397', '4337', '4249', '2751', '2950', '1859',\n",
       "       '107', '2348', '2506', '2810', '2873', '1301', '2262', '1890',\n",
       "       '3078', '3865', '3268', '2777', '3105', '1278', '3793', '2276',\n",
       "       '2879', '4298', '2141', '223', '2239', '846', '1862', '2756',\n",
       "       '1181', '1184', '2617', '3972', '2334', '3900', '2759', '4169',\n",
       "       '2280', '2492', '2729', '3750', '1825', '309', '2431', '3099',\n",
       "       '2080', '2279', '2666', '3722', '1976', '529', '1985', '3060',\n",
       "       '4278', '3212', '46', '3148', '3467', '4231', '3790', '473',\n",
       "       '1536', '3955', '2324', '2381', '1177', '371', '2896', '3880',\n",
       "       '2991', '4319', '1061', '662', '4144', '693', '2006', '3115',\n",
       "       '2278', '3751', '1861', '4262', '2913', '2615', '3492', '800',\n",
       "       '3766', '384', '3407', '1087', '3329', '1086', '2216', '2457',\n",
       "       '3522', '3274', '3488', '2854', '238', '351', '3706', '4280',\n",
       "       '4095', '2926', '1329', '3370', '283', '1392', '1743', '2429',\n",
       "       '974', '3156', '1133', '4388', '3243', '4282', '2523', '4281',\n",
       "       '3415', '2001', '441', '94', '3499', '969', '3368', '106', '1004',\n",
       "       '2638', '3946', '2956', '4324', '85', '4113', '819', '615', '1172',\n",
       "       '2553', '1765', '3495', '2820', '4239', '4340', '1295', '2636',\n",
       "       '4295', '1653', '1325', '1879', '1096', '1735', '3584', '1073',\n",
       "       '1975', '3827', '2552', '3754', '2378', '532', '926', '2376',\n",
       "       '3636', '3763', '778', '2621', '804', '754', '2418', '4019',\n",
       "       '3926', '3861', '3574', '175', '162', '2834', '3765', '2354',\n",
       "       '523', '2274', '1606', '1443', '1354', '1422', '1045', '4106',\n",
       "       '3155', '666', '659', '3229', '1216', '2076', '2384', '1954',\n",
       "       '719', '2534', '4002', '541', '2875', '4344', '2081', '3894',\n",
       "       '1256', '676', '4178', '399', '86', '1571', '4037', '1967', '4005',\n",
       "       '3216', '1150', '2591', '1801', '3721', '1775', '2260', '3707',\n",
       "       '4292', '1820', '145', '1480', '1850', '430', '217', '3920',\n",
       "       '1389', '1579', '3391', '2385', '3336', '3392', '3688', '221',\n",
       "       '2047'], dtype=object)"
      ]
     },
     "execution_count": 27,
     "metadata": {},
     "output_type": "execute_result"
    }
   ],
   "source": [
    "df1['Num_of_Delayed_Payment'].unique()"
   ]
  },
  {
   "cell_type": "code",
   "execution_count": 28,
   "id": "6151b7d8",
   "metadata": {},
   "outputs": [],
   "source": [
    "df1['Num_of_Delayed_Payment']=df1['Num_of_Delayed_Payment'].replace(np.nan,0)"
   ]
  },
  {
   "cell_type": "code",
   "execution_count": 29,
   "id": "4aa0078c",
   "metadata": {},
   "outputs": [
    {
     "data": {
      "text/plain": [
       "0"
      ]
     },
     "execution_count": 29,
     "metadata": {},
     "output_type": "execute_result"
    }
   ],
   "source": [
    "df1['Num_of_Delayed_Payment'].isna().sum()"
   ]
  },
  {
   "cell_type": "code",
   "execution_count": 30,
   "id": "fa4e982e",
   "metadata": {},
   "outputs": [],
   "source": [
    "df1['Num_of_Delayed_Payment']=df1['Num_of_Delayed_Payment'].str.replace('-','')"
   ]
  },
  {
   "cell_type": "code",
   "execution_count": 31,
   "id": "dafc9867",
   "metadata": {},
   "outputs": [
    {
     "data": {
      "text/plain": [
       "array(['7', nan, '4', '8', '6', '1', '3', '0', '5', '9', '12', '15', '17',\n",
       "       '10', '2', '11', '14', '20', '22', '13', '16', '18', '19', '23',\n",
       "       '24', '21', '3318', '3083', '1338', '26', '3104', '25', '183',\n",
       "       '1106', '834', '2672', '2008', '538', '27', '3478', '2420', '707',\n",
       "       '708', '3815', '28', '1867', '2250', '1463', '4126', '2882',\n",
       "       '1941', '2655', '2628', '132', '3069', '306', '3539', '3684',\n",
       "       '1823', '4128', '1946', '827', '2297', '2566', '904', '182', '929',\n",
       "       '3568', '2503', '1552', '2812', '1697', '3764', '851', '3905',\n",
       "       '923', '88', '1668', '3253', '808', '2689', '3858', '642', '3457',\n",
       "       '1402', '1732', '3154', '847', '3037', '2204', '3103', '1063',\n",
       "       '2056', '1282', '1841', '2569', '211', '793', '3484', '411',\n",
       "       '3491', '2072', '3050', '1049', '2162', '3402', '2753', '1718',\n",
       "       '1014', '3260', '3855', '84', '2311', '3251', '1832', '4069',\n",
       "       '3010', '733', '4241', '166', '2461', '1749', '3200', '663',\n",
       "       '2185', '4161', '3009', '359', '2015', '1523', '594', '1079',\n",
       "       '1199', '186', '1015', '1989', '281', '559', '2165', '1509',\n",
       "       '3545', '779', '192', '4311', '2323', '1471', '1538', '3529',\n",
       "       '439', '3456', '3040', '2697', '3179', '1332', '3175', '3112',\n",
       "       '829', '4022', '3870', '4023', '531', '1511', '3092', '3191',\n",
       "       '2400', '3621', '3536', '544', '1864', '142', '2300', '264', '72',\n",
       "       '497', '398', '2222', '3960', '1473', '3043', '4216', '2903',\n",
       "       '2658', '4042', '1323', '2184', '921', '1328', '3404', '2438',\n",
       "       '809', '47', '1996', '4164', '1370', '1204', '2167', '4011',\n",
       "       '2590', '2594', '2533', '1663', '1018', '2919', '3458', '3316',\n",
       "       '2589', '2801', '3355', '2529', '2488', '4266', '1243', '739',\n",
       "       '845', '4107', '1884', '337', '2660', '290', '674', '2450', '3738',\n",
       "       '1792', '2823', '2570', '775', '960', '482', '1706', '2493',\n",
       "       '3623', '3031', '2794', '2219', '758', '1849', '3559', '4096',\n",
       "       '3726', '1953', '2657', '4043', '2938', '4384', '1647', '2694',\n",
       "       '3533', '519', '2677', '2413', '4139', '2609', '4326', '4211',\n",
       "       '823', '3011', '1608', '2860', '4219', '4047', '1531', '742', '52',\n",
       "       '4024', '1673', '49', '2243', '1685', '1869', '2587', '3489',\n",
       "       '749', '1164', '2616', '848', '4134', '1530', '1502', '4075',\n",
       "       '3845', '1060', '2573', '2128', '328', '640', '2585', '2230',\n",
       "       '1795', '1180', '1534', '3739', '3313', '4191', '996', '372',\n",
       "       '3340', '3177', '602', '787', '4135', '3878', '4059', '1218',\n",
       "       '4051', '1766', '1359', '3107', '585', '1263', '2511', '709',\n",
       "       '3632', '4077', '2943', '2793', '3245', '2317', '1640', '2237',\n",
       "       '3819', '252', '3978', '1498', '1833', '2737', '1192', '1481',\n",
       "       '700', '271', '2286', '273', '1215', '3944', '2070', '1478',\n",
       "       '3749', '871', '2508', '2959', '130', '294', '3097', '3511', '415',\n",
       "       '2196', '2138', '2149', '1874', '1553', '3847', '3222', '1222',\n",
       "       '2907', '3051', '98', '1598', '416', '2314', '2955', '1691',\n",
       "       '1450', '2021', '1636', '80', '3708', '195', '320', '2945', '1911',\n",
       "       '3416', '3796', '4159', '2255', '938', '4397', '3776', '2148',\n",
       "       '1994', '853', '1178', '1633', '196', '3864', '714', '1687',\n",
       "       '1034', '468', '1337', '2044', '1541', '3661', '1211', '2645',\n",
       "       '2007', '102', '1891', '3162', '3142', '2766', '3881', '2728',\n",
       "       '2671', '1952', '3580', '2705', '4251', '3840', '972', '3119',\n",
       "       '3502', '4185', '2954', '683', '1614', '1572', '4302', '3447',\n",
       "       '1852', '2131', '1900', '1699', '133', '2018', '2127', '508',\n",
       "       '210', '577', '1664', '2604', '1411', '2351', '867', '1371',\n",
       "       '2352', '1191', '905', '4053', '3869', '933', '3660', '3300',\n",
       "       '3629', '3208', '2142', '2521', '450', '583', '876', '121', '3919',\n",
       "       '2560', '2578', '2060', '813', '1236', '1489', '4360', '1154',\n",
       "       '2544', '4172', '2924', '426', '4270', '2768', '3909', '3951',\n",
       "       '2712', '2498', '3171', '1750', '197', '265', '4293', '887',\n",
       "       '2707', '2397', '4337', '4249', '2751', '2950', '1859', '107',\n",
       "       '2348', '2506', '2810', '2873', '1301', '2262', '1890', '3078',\n",
       "       '3865', '3268', '2777', '3105', '1278', '3793', '2276', '2879',\n",
       "       '4298', '2141', '223', '2239', '846', '1862', '2756', '1181',\n",
       "       '1184', '2617', '3972', '2334', '3900', '2759', '4169', '2280',\n",
       "       '2492', '2729', '3750', '1825', '309', '2431', '3099', '2080',\n",
       "       '2279', '2666', '3722', '1976', '529', '1985', '3060', '4278',\n",
       "       '3212', '46', '3148', '3467', '4231', '3790', '473', '1536',\n",
       "       '3955', '2324', '2381', '1177', '371', '2896', '3880', '2991',\n",
       "       '4319', '1061', '662', '4144', '693', '2006', '3115', '2278',\n",
       "       '3751', '1861', '4262', '2913', '2615', '3492', '800', '3766',\n",
       "       '384', '3407', '1087', '3329', '1086', '2216', '2457', '3522',\n",
       "       '3274', '3488', '2854', '238', '351', '3706', '4280', '4095',\n",
       "       '2926', '1329', '3370', '283', '1392', '1743', '2429', '974',\n",
       "       '3156', '1133', '4388', '3243', '4282', '2523', '4281', '3415',\n",
       "       '2001', '441', '94', '3499', '969', '3368', '106', '1004', '2638',\n",
       "       '3946', '2956', '4324', '85', '4113', '819', '615', '1172', '2553',\n",
       "       '1765', '3495', '2820', '4239', '4340', '1295', '2636', '4295',\n",
       "       '1653', '1325', '1879', '1096', '1735', '3584', '1073', '1975',\n",
       "       '3827', '2552', '3754', '2378', '532', '926', '2376', '3636',\n",
       "       '3763', '778', '2621', '804', '754', '2418', '4019', '3926',\n",
       "       '3861', '3574', '175', '162', '2834', '3765', '2354', '523',\n",
       "       '2274', '1606', '1443', '1354', '1422', '1045', '4106', '3155',\n",
       "       '666', '659', '3229', '1216', '2076', '2384', '1954', '719',\n",
       "       '2534', '4002', '541', '2875', '4344', '2081', '3894', '1256',\n",
       "       '676', '4178', '399', '86', '1571', '4037', '1967', '4005', '3216',\n",
       "       '1150', '2591', '1801', '3721', '1775', '2260', '3707', '4292',\n",
       "       '1820', '145', '1480', '1850', '430', '217', '3920', '1389',\n",
       "       '1579', '3391', '2385', '3336', '3392', '3688', '221', '2047'],\n",
       "      dtype=object)"
      ]
     },
     "execution_count": 31,
     "metadata": {},
     "output_type": "execute_result"
    }
   ],
   "source": [
    "df1['Num_of_Delayed_Payment'].unique()"
   ]
  },
  {
   "cell_type": "code",
   "execution_count": 32,
   "id": "8f8e2304",
   "metadata": {},
   "outputs": [
    {
     "data": {
      "text/plain": [
       "array(['_', 'Good', 'Standard', 'Bad'], dtype=object)"
      ]
     },
     "execution_count": 32,
     "metadata": {},
     "output_type": "execute_result"
    }
   ],
   "source": [
    "df1['Credit_Mix'].unique()"
   ]
  },
  {
   "cell_type": "code",
   "execution_count": 33,
   "id": "9091988e",
   "metadata": {},
   "outputs": [],
   "source": [
    "df1['Credit_Mix']= df1['Credit_Mix'].replace('_','None')"
   ]
  },
  {
   "cell_type": "code",
   "execution_count": 34,
   "id": "25df947f",
   "metadata": {},
   "outputs": [
    {
     "data": {
      "text/plain": [
       "array(['None', 'Good', 'Standard', 'Bad'], dtype=object)"
      ]
     },
     "execution_count": 34,
     "metadata": {},
     "output_type": "execute_result"
    }
   ],
   "source": [
    "df1['Credit_Mix'].unique()"
   ]
  },
  {
   "cell_type": "code",
   "execution_count": 35,
   "id": "6a2edde9",
   "metadata": {},
   "outputs": [],
   "source": [
    "from sklearn.preprocessing import LabelEncoder\n",
    "le=LabelEncoder()"
   ]
  },
  {
   "cell_type": "code",
   "execution_count": 36,
   "id": "dd80d1af",
   "metadata": {},
   "outputs": [],
   "source": [
    "df1['Credit_Mix'] = le.fit_transform(df1['Credit_Mix'])"
   ]
  },
  {
   "cell_type": "code",
   "execution_count": 37,
   "id": "9ea79d25",
   "metadata": {},
   "outputs": [
    {
     "data": {
      "text/plain": [
       "array([2, 1, 3, 0])"
      ]
     },
     "execution_count": 37,
     "metadata": {},
     "output_type": "execute_result"
    }
   ],
   "source": [
    "df1['Credit_Mix'].unique()"
   ]
  },
  {
   "cell_type": "code",
   "execution_count": 38,
   "id": "ac1cf31d",
   "metadata": {},
   "outputs": [
    {
     "data": {
      "text/plain": [
       "array(['809.98', '605.03', '1303.01', ..., '3571.7_', '3571.7', '502.38'],\n",
       "      dtype=object)"
      ]
     },
     "execution_count": 38,
     "metadata": {},
     "output_type": "execute_result"
    }
   ],
   "source": [
    "df1['Outstanding_Debt'].unique()"
   ]
  },
  {
   "cell_type": "code",
   "execution_count": 39,
   "id": "42d70f8b",
   "metadata": {},
   "outputs": [],
   "source": [
    "df1['Outstanding_Debt']=df1['Outstanding_Debt'].str.replace('_','').astype(float)"
   ]
  },
  {
   "cell_type": "code",
   "execution_count": 40,
   "id": "0acc4262",
   "metadata": {},
   "outputs": [
    {
     "data": {
      "text/plain": [
       "dtype('float64')"
      ]
     },
     "execution_count": 40,
     "metadata": {},
     "output_type": "execute_result"
    }
   ],
   "source": [
    "df1['Outstanding_Debt'].dtype"
   ]
  },
  {
   "cell_type": "code",
   "execution_count": 41,
   "id": "16fa7e90",
   "metadata": {},
   "outputs": [
    {
     "data": {
      "text/plain": [
       "array([ 809.98,  605.03, 1303.01, ...,  620.64, 3571.7 ,  502.38])"
      ]
     },
     "execution_count": 41,
     "metadata": {},
     "output_type": "execute_result"
    }
   ],
   "source": [
    "df1['Outstanding_Debt'].unique()"
   ]
  },
  {
   "cell_type": "code",
   "execution_count": 42,
   "id": "7322605b",
   "metadata": {},
   "outputs": [
    {
     "data": {
      "text/plain": [
       "0         22 Years and 1 Months\n",
       "1                           NaN\n",
       "2         22 Years and 3 Months\n",
       "3         22 Years and 4 Months\n",
       "4         22 Years and 5 Months\n",
       "                  ...          \n",
       "99995     31 Years and 6 Months\n",
       "99996     31 Years and 7 Months\n",
       "99997     31 Years and 8 Months\n",
       "99998     31 Years and 9 Months\n",
       "99999    31 Years and 10 Months\n",
       "Name: Credit_History_Age, Length: 100000, dtype: object"
      ]
     },
     "execution_count": 42,
     "metadata": {},
     "output_type": "execute_result"
    }
   ],
   "source": [
    "df1['Credit_History_Age']"
   ]
  },
  {
   "cell_type": "code",
   "execution_count": 43,
   "id": "cd2f699f",
   "metadata": {},
   "outputs": [
    {
     "data": {
      "text/plain": [
       "Index(['ID', 'Customer_ID', 'Month', 'Name', 'Age', 'SSN', 'Occupation',\n",
       "       'Annual_Income', 'Monthly_Inhand_Salary', 'Num_Bank_Accounts',\n",
       "       'Num_Credit_Card', 'Interest_Rate', 'Num_of_Loan', 'Type_of_Loan',\n",
       "       'Delay_from_due_date', 'Num_of_Delayed_Payment', 'Changed_Credit_Limit',\n",
       "       'Num_Credit_Inquiries', 'Credit_Mix', 'Outstanding_Debt',\n",
       "       'Credit_Utilization_Ratio', 'Credit_History_Age',\n",
       "       'Payment_of_Min_Amount', 'Total_EMI_per_month',\n",
       "       'Amount_invested_monthly', 'Payment_Behaviour', 'Monthly_Balance',\n",
       "       'Credit_Score'],\n",
       "      dtype='object')"
      ]
     },
     "execution_count": 43,
     "metadata": {},
     "output_type": "execute_result"
    }
   ],
   "source": [
    "df1.columns"
   ]
  },
  {
   "cell_type": "code",
   "execution_count": 44,
   "id": "e44817cc",
   "metadata": {},
   "outputs": [],
   "source": [
    "#df['Credit_History_Age']=df['Credit_History_Age'].str.extract('(^\\d*)')"
   ]
  },
  {
   "cell_type": "code",
   "execution_count": 45,
   "id": "aba0bb92",
   "metadata": {},
   "outputs": [],
   "source": [
    "df1['Credit_History_Age']=df1['Credit_History_Age'].str.findall(r'(\\d+(?:\\.\\d+)?)')"
   ]
  },
  {
   "cell_type": "code",
   "execution_count": 46,
   "id": "62325acc",
   "metadata": {},
   "outputs": [],
   "source": [
    "df1['Credit_History_Age']=df1['Credit_History_Age'].replace(np.nan,  0)"
   ]
  },
  {
   "cell_type": "code",
   "execution_count": 47,
   "id": "ee1ed5b5",
   "metadata": {},
   "outputs": [
    {
     "data": {
      "text/plain": [
       "0"
      ]
     },
     "execution_count": 47,
     "metadata": {},
     "output_type": "execute_result"
    }
   ],
   "source": [
    "df1['Credit_History_Age'].isna().sum()"
   ]
  },
  {
   "cell_type": "code",
   "execution_count": 48,
   "id": "c84c2cc1",
   "metadata": {},
   "outputs": [
    {
     "data": {
      "text/plain": [
       "0         [22, 1]\n",
       "1               0\n",
       "2         [22, 3]\n",
       "3         [22, 4]\n",
       "4         [22, 5]\n",
       "           ...   \n",
       "99995     [31, 6]\n",
       "99996     [31, 7]\n",
       "99997     [31, 8]\n",
       "99998     [31, 9]\n",
       "99999    [31, 10]\n",
       "Name: Credit_History_Age, Length: 100000, dtype: object"
      ]
     },
     "execution_count": 48,
     "metadata": {},
     "output_type": "execute_result"
    }
   ],
   "source": [
    "df1['Credit_History_Age']"
   ]
  },
  {
   "cell_type": "code",
   "execution_count": 49,
   "id": "6938a031",
   "metadata": {},
   "outputs": [],
   "source": [
    "#pd.DataFrame(df1['Credit_History_Age'].to_list(), columns=['Year','Month'])"
   ]
  },
  {
   "cell_type": "code",
   "execution_count": 50,
   "id": "560b3199",
   "metadata": {},
   "outputs": [
    {
     "data": {
      "text/plain": [
       "array(['312.49408867943663', '284.62916249607184', '331.2098628537912',\n",
       "       ..., 516.8090832742814, 319.1649785257098, 393.6736955618808],\n",
       "      dtype=object)"
      ]
     },
     "execution_count": 50,
     "metadata": {},
     "output_type": "execute_result"
    }
   ],
   "source": [
    "df1['Monthly_Balance'].unique()"
   ]
  },
  {
   "cell_type": "code",
   "execution_count": 51,
   "id": "869fdae4",
   "metadata": {},
   "outputs": [],
   "source": [
    "df1['Monthly_Balance']=df1['Monthly_Balance'].replace(np.nan,0)"
   ]
  },
  {
   "cell_type": "code",
   "execution_count": 52,
   "id": "3f8afdf2",
   "metadata": {},
   "outputs": [
    {
     "data": {
      "text/plain": [
       "0"
      ]
     },
     "execution_count": 52,
     "metadata": {},
     "output_type": "execute_result"
    }
   ],
   "source": [
    "df1['Monthly_Balance'].isna().sum()"
   ]
  },
  {
   "cell_type": "code",
   "execution_count": 53,
   "id": "8144b523",
   "metadata": {},
   "outputs": [],
   "source": [
    "df1['Monthly_Balance']= df1['Monthly_Balance'].str.replace('_','')"
   ]
  },
  {
   "cell_type": "code",
   "execution_count": 54,
   "id": "8363ab72",
   "metadata": {},
   "outputs": [],
   "source": [
    "df1['Monthly_Balance']=df1['Monthly_Balance'].astype('float')"
   ]
  },
  {
   "cell_type": "code",
   "execution_count": 55,
   "id": "8fe608d2",
   "metadata": {},
   "outputs": [
    {
     "data": {
      "text/plain": [
       "dtype('float64')"
      ]
     },
     "execution_count": 55,
     "metadata": {},
     "output_type": "execute_result"
    }
   ],
   "source": [
    "df1['Monthly_Balance'].dtype"
   ]
  },
  {
   "cell_type": "code",
   "execution_count": 56,
   "id": "32df849f",
   "metadata": {},
   "outputs": [],
   "source": [
    "df1['Monthly_Balance']=df1['Monthly_Balance'].replace(np.nan,0)"
   ]
  },
  {
   "cell_type": "code",
   "execution_count": 57,
   "id": "edb7eb53",
   "metadata": {},
   "outputs": [
    {
     "data": {
      "text/plain": [
       "array(['Good', 'Standard', 'Poor'], dtype=object)"
      ]
     },
     "execution_count": 57,
     "metadata": {},
     "output_type": "execute_result"
    }
   ],
   "source": [
    "df1['Credit_Score'].unique()"
   ]
  },
  {
   "cell_type": "code",
   "execution_count": 58,
   "id": "06679b32",
   "metadata": {},
   "outputs": [
    {
     "data": {
      "text/plain": [
       "0"
      ]
     },
     "execution_count": 58,
     "metadata": {},
     "output_type": "execute_result"
    }
   ],
   "source": [
    "df1['Credit_Score'].isna().sum()"
   ]
  },
  {
   "cell_type": "code",
   "execution_count": 59,
   "id": "f12f8c7f",
   "metadata": {},
   "outputs": [],
   "source": [
    "df1['Credit_Score']=le.fit_transform(df['Credit_Score'])"
   ]
  },
  {
   "cell_type": "code",
   "execution_count": 60,
   "id": "392802e2",
   "metadata": {},
   "outputs": [
    {
     "data": {
      "text/plain": [
       "array([0, 2, 1])"
      ]
     },
     "execution_count": 60,
     "metadata": {},
     "output_type": "execute_result"
    }
   ],
   "source": [
    "df1['Credit_Score'].unique()"
   ]
  },
  {
   "cell_type": "code",
   "execution_count": 61,
   "id": "377274d8",
   "metadata": {},
   "outputs": [],
   "source": [
    "from sklearn.model_selection import train_test_split"
   ]
  },
  {
   "cell_type": "code",
   "execution_count": 62,
   "id": "65363ae8",
   "metadata": {},
   "outputs": [],
   "source": [
    "x=df1[['Annual_Income', 'Monthly_Inhand_Salary', 'Num_Bank_Accounts',\n",
    "       'Num_Credit_Card', 'Interest_Rate', 'Num_of_Loan',\n",
    "       'Delay_from_due_date', 'Num_of_Delayed_Payment',\n",
    "       'Credit_Mix', 'Outstanding_Debt',\n",
    "        'Monthly_Balance']]"
   ]
  },
  {
   "cell_type": "code",
   "execution_count": 63,
   "id": "e5e0f502",
   "metadata": {},
   "outputs": [
    {
     "data": {
      "text/html": [
       "<div>\n",
       "<style scoped>\n",
       "    .dataframe tbody tr th:only-of-type {\n",
       "        vertical-align: middle;\n",
       "    }\n",
       "\n",
       "    .dataframe tbody tr th {\n",
       "        vertical-align: top;\n",
       "    }\n",
       "\n",
       "    .dataframe thead th {\n",
       "        text-align: right;\n",
       "    }\n",
       "</style>\n",
       "<table border=\"1\" class=\"dataframe\">\n",
       "  <thead>\n",
       "    <tr style=\"text-align: right;\">\n",
       "      <th></th>\n",
       "      <th>Annual_Income</th>\n",
       "      <th>Monthly_Inhand_Salary</th>\n",
       "      <th>Num_Bank_Accounts</th>\n",
       "      <th>Num_Credit_Card</th>\n",
       "      <th>Interest_Rate</th>\n",
       "      <th>Num_of_Loan</th>\n",
       "      <th>Delay_from_due_date</th>\n",
       "      <th>Num_of_Delayed_Payment</th>\n",
       "      <th>Credit_Mix</th>\n",
       "      <th>Outstanding_Debt</th>\n",
       "      <th>Monthly_Balance</th>\n",
       "    </tr>\n",
       "  </thead>\n",
       "  <tbody>\n",
       "    <tr>\n",
       "      <th>0</th>\n",
       "      <td>19114.12</td>\n",
       "      <td>1824.843333</td>\n",
       "      <td>3</td>\n",
       "      <td>4</td>\n",
       "      <td>3</td>\n",
       "      <td>4</td>\n",
       "      <td>3</td>\n",
       "      <td>7</td>\n",
       "      <td>2</td>\n",
       "      <td>809.98</td>\n",
       "      <td>312.494089</td>\n",
       "    </tr>\n",
       "    <tr>\n",
       "      <th>1</th>\n",
       "      <td>19114.12</td>\n",
       "      <td>0.000000</td>\n",
       "      <td>3</td>\n",
       "      <td>4</td>\n",
       "      <td>3</td>\n",
       "      <td>4</td>\n",
       "      <td>-1</td>\n",
       "      <td>NaN</td>\n",
       "      <td>1</td>\n",
       "      <td>809.98</td>\n",
       "      <td>284.629162</td>\n",
       "    </tr>\n",
       "    <tr>\n",
       "      <th>2</th>\n",
       "      <td>19114.12</td>\n",
       "      <td>0.000000</td>\n",
       "      <td>3</td>\n",
       "      <td>4</td>\n",
       "      <td>3</td>\n",
       "      <td>4</td>\n",
       "      <td>3</td>\n",
       "      <td>7</td>\n",
       "      <td>1</td>\n",
       "      <td>809.98</td>\n",
       "      <td>331.209863</td>\n",
       "    </tr>\n",
       "    <tr>\n",
       "      <th>3</th>\n",
       "      <td>19114.12</td>\n",
       "      <td>0.000000</td>\n",
       "      <td>3</td>\n",
       "      <td>4</td>\n",
       "      <td>3</td>\n",
       "      <td>4</td>\n",
       "      <td>5</td>\n",
       "      <td>4</td>\n",
       "      <td>1</td>\n",
       "      <td>809.98</td>\n",
       "      <td>223.451310</td>\n",
       "    </tr>\n",
       "    <tr>\n",
       "      <th>4</th>\n",
       "      <td>19114.12</td>\n",
       "      <td>1824.843333</td>\n",
       "      <td>3</td>\n",
       "      <td>4</td>\n",
       "      <td>3</td>\n",
       "      <td>4</td>\n",
       "      <td>6</td>\n",
       "      <td>NaN</td>\n",
       "      <td>1</td>\n",
       "      <td>809.98</td>\n",
       "      <td>341.489231</td>\n",
       "    </tr>\n",
       "  </tbody>\n",
       "</table>\n",
       "</div>"
      ],
      "text/plain": [
       "   Annual_Income  Monthly_Inhand_Salary  Num_Bank_Accounts  Num_Credit_Card  \\\n",
       "0       19114.12            1824.843333                  3                4   \n",
       "1       19114.12               0.000000                  3                4   \n",
       "2       19114.12               0.000000                  3                4   \n",
       "3       19114.12               0.000000                  3                4   \n",
       "4       19114.12            1824.843333                  3                4   \n",
       "\n",
       "   Interest_Rate  Num_of_Loan  Delay_from_due_date Num_of_Delayed_Payment  \\\n",
       "0              3            4                    3                      7   \n",
       "1              3            4                   -1                    NaN   \n",
       "2              3            4                    3                      7   \n",
       "3              3            4                    5                      4   \n",
       "4              3            4                    6                    NaN   \n",
       "\n",
       "   Credit_Mix  Outstanding_Debt  Monthly_Balance  \n",
       "0           2            809.98       312.494089  \n",
       "1           1            809.98       284.629162  \n",
       "2           1            809.98       331.209863  \n",
       "3           1            809.98       223.451310  \n",
       "4           1            809.98       341.489231  "
      ]
     },
     "execution_count": 63,
     "metadata": {},
     "output_type": "execute_result"
    }
   ],
   "source": [
    "x.head()"
   ]
  },
  {
   "cell_type": "code",
   "execution_count": 74,
   "id": "e00fc299",
   "metadata": {},
   "outputs": [],
   "source": [
    "x['Num_of_Delayed_Payment']=x['Num_of_Delayed_Payment'].replace(np.nan,0)"
   ]
  },
  {
   "cell_type": "code",
   "execution_count": 75,
   "id": "c8825933",
   "metadata": {},
   "outputs": [
    {
     "data": {
      "text/plain": [
       "Annual_Income             0\n",
       "Monthly_Inhand_Salary     0\n",
       "Num_Bank_Accounts         0\n",
       "Num_Credit_Card           0\n",
       "Interest_Rate             0\n",
       "Num_of_Loan               0\n",
       "Delay_from_due_date       0\n",
       "Num_of_Delayed_Payment    0\n",
       "Credit_Mix                0\n",
       "Outstanding_Debt          0\n",
       "Monthly_Balance           0\n",
       "dtype: int64"
      ]
     },
     "execution_count": 75,
     "metadata": {},
     "output_type": "execute_result"
    }
   ],
   "source": [
    "x.isna().sum()"
   ]
  },
  {
   "cell_type": "code",
   "execution_count": 79,
   "id": "f1fdea77",
   "metadata": {},
   "outputs": [],
   "source": [
    "y=df1[['Credit_Score']]"
   ]
  },
  {
   "cell_type": "code",
   "execution_count": 84,
   "id": "1b1bd38e",
   "metadata": {},
   "outputs": [],
   "source": [
    "x_train,x_test,y_train,y_test= train_test_split(x,y,test_size=0.2,random_state=42)"
   ]
  },
  {
   "cell_type": "code",
   "execution_count": 85,
   "id": "e1f365a3",
   "metadata": {},
   "outputs": [],
   "source": [
    "from sklearn.linear_model import LogisticRegression\n",
    "lr=LogisticRegression()"
   ]
  },
  {
   "cell_type": "code",
   "execution_count": 86,
   "id": "8c1f397a",
   "metadata": {},
   "outputs": [
    {
     "data": {
      "text/html": [
       "<style>#sk-container-id-1 {color: black;background-color: white;}#sk-container-id-1 pre{padding: 0;}#sk-container-id-1 div.sk-toggleable {background-color: white;}#sk-container-id-1 label.sk-toggleable__label {cursor: pointer;display: block;width: 100%;margin-bottom: 0;padding: 0.3em;box-sizing: border-box;text-align: center;}#sk-container-id-1 label.sk-toggleable__label-arrow:before {content: \"▸\";float: left;margin-right: 0.25em;color: #696969;}#sk-container-id-1 label.sk-toggleable__label-arrow:hover:before {color: black;}#sk-container-id-1 div.sk-estimator:hover label.sk-toggleable__label-arrow:before {color: black;}#sk-container-id-1 div.sk-toggleable__content {max-height: 0;max-width: 0;overflow: hidden;text-align: left;background-color: #f0f8ff;}#sk-container-id-1 div.sk-toggleable__content pre {margin: 0.2em;color: black;border-radius: 0.25em;background-color: #f0f8ff;}#sk-container-id-1 input.sk-toggleable__control:checked~div.sk-toggleable__content {max-height: 200px;max-width: 100%;overflow: auto;}#sk-container-id-1 input.sk-toggleable__control:checked~label.sk-toggleable__label-arrow:before {content: \"▾\";}#sk-container-id-1 div.sk-estimator input.sk-toggleable__control:checked~label.sk-toggleable__label {background-color: #d4ebff;}#sk-container-id-1 div.sk-label input.sk-toggleable__control:checked~label.sk-toggleable__label {background-color: #d4ebff;}#sk-container-id-1 input.sk-hidden--visually {border: 0;clip: rect(1px 1px 1px 1px);clip: rect(1px, 1px, 1px, 1px);height: 1px;margin: -1px;overflow: hidden;padding: 0;position: absolute;width: 1px;}#sk-container-id-1 div.sk-estimator {font-family: monospace;background-color: #f0f8ff;border: 1px dotted black;border-radius: 0.25em;box-sizing: border-box;margin-bottom: 0.5em;}#sk-container-id-1 div.sk-estimator:hover {background-color: #d4ebff;}#sk-container-id-1 div.sk-parallel-item::after {content: \"\";width: 100%;border-bottom: 1px solid gray;flex-grow: 1;}#sk-container-id-1 div.sk-label:hover label.sk-toggleable__label {background-color: #d4ebff;}#sk-container-id-1 div.sk-serial::before {content: \"\";position: absolute;border-left: 1px solid gray;box-sizing: border-box;top: 0;bottom: 0;left: 50%;z-index: 0;}#sk-container-id-1 div.sk-serial {display: flex;flex-direction: column;align-items: center;background-color: white;padding-right: 0.2em;padding-left: 0.2em;position: relative;}#sk-container-id-1 div.sk-item {position: relative;z-index: 1;}#sk-container-id-1 div.sk-parallel {display: flex;align-items: stretch;justify-content: center;background-color: white;position: relative;}#sk-container-id-1 div.sk-item::before, #sk-container-id-1 div.sk-parallel-item::before {content: \"\";position: absolute;border-left: 1px solid gray;box-sizing: border-box;top: 0;bottom: 0;left: 50%;z-index: -1;}#sk-container-id-1 div.sk-parallel-item {display: flex;flex-direction: column;z-index: 1;position: relative;background-color: white;}#sk-container-id-1 div.sk-parallel-item:first-child::after {align-self: flex-end;width: 50%;}#sk-container-id-1 div.sk-parallel-item:last-child::after {align-self: flex-start;width: 50%;}#sk-container-id-1 div.sk-parallel-item:only-child::after {width: 0;}#sk-container-id-1 div.sk-dashed-wrapped {border: 1px dashed gray;margin: 0 0.4em 0.5em 0.4em;box-sizing: border-box;padding-bottom: 0.4em;background-color: white;}#sk-container-id-1 div.sk-label label {font-family: monospace;font-weight: bold;display: inline-block;line-height: 1.2em;}#sk-container-id-1 div.sk-label-container {text-align: center;}#sk-container-id-1 div.sk-container {/* jupyter's `normalize.less` sets `[hidden] { display: none; }` but bootstrap.min.css set `[hidden] { display: none !important; }` so we also need the `!important` here to be able to override the default hidden behavior on the sphinx rendered scikit-learn.org. See: https://github.com/scikit-learn/scikit-learn/issues/21755 */display: inline-block !important;position: relative;}#sk-container-id-1 div.sk-text-repr-fallback {display: none;}</style><div id=\"sk-container-id-1\" class=\"sk-top-container\"><div class=\"sk-text-repr-fallback\"><pre>LogisticRegression()</pre><b>In a Jupyter environment, please rerun this cell to show the HTML representation or trust the notebook. <br />On GitHub, the HTML representation is unable to render, please try loading this page with nbviewer.org.</b></div><div class=\"sk-container\" hidden><div class=\"sk-item\"><div class=\"sk-estimator sk-toggleable\"><input class=\"sk-toggleable__control sk-hidden--visually\" id=\"sk-estimator-id-1\" type=\"checkbox\" checked><label for=\"sk-estimator-id-1\" class=\"sk-toggleable__label sk-toggleable__label-arrow\">LogisticRegression</label><div class=\"sk-toggleable__content\"><pre>LogisticRegression()</pre></div></div></div></div></div>"
      ],
      "text/plain": [
       "LogisticRegression()"
      ]
     },
     "execution_count": 86,
     "metadata": {},
     "output_type": "execute_result"
    }
   ],
   "source": [
    "lr.fit(x_train,y_train)"
   ]
  },
  {
   "cell_type": "code",
   "execution_count": 87,
   "id": "04f6ec21",
   "metadata": {},
   "outputs": [],
   "source": [
    "y_pred= lr.predict(x_test)"
   ]
  },
  {
   "cell_type": "code",
   "execution_count": 88,
   "id": "68de82df",
   "metadata": {},
   "outputs": [
    {
     "data": {
      "text/plain": [
       "array([0, 0, 0, ..., 0, 0, 0])"
      ]
     },
     "execution_count": 88,
     "metadata": {},
     "output_type": "execute_result"
    }
   ],
   "source": [
    "y_pred"
   ]
  },
  {
   "cell_type": "code",
   "execution_count": 101,
   "id": "d7c6bb7e",
   "metadata": {},
   "outputs": [],
   "source": [
    "from sklearn.metrics import classification_report, accuracy_score"
   ]
  },
  {
   "cell_type": "code",
   "execution_count": 90,
   "id": "a1359b13",
   "metadata": {},
   "outputs": [
    {
     "name": "stdout",
     "output_type": "stream",
     "text": [
      "              precision    recall  f1-score   support\n",
      "\n",
      "           0       1.00      0.18      0.30     20000\n",
      "           1       0.00      0.00      0.00         0\n",
      "           2       0.00      0.00      0.00         0\n",
      "\n",
      "    accuracy                           0.18     20000\n",
      "   macro avg       0.33      0.06      0.10     20000\n",
      "weighted avg       1.00      0.18      0.30     20000\n",
      "\n"
     ]
    }
   ],
   "source": [
    "cr= classification_report(y_pred, y_test)\n",
    "print(cr)"
   ]
  },
  {
   "cell_type": "code",
   "execution_count": 96,
   "id": "2a3b395c",
   "metadata": {},
   "outputs": [],
   "source": [
    "from sklearn.tree import DecisionTreeClassifier"
   ]
  },
  {
   "cell_type": "code",
   "execution_count": 97,
   "id": "b97a9523",
   "metadata": {},
   "outputs": [],
   "source": [
    "dt=DecisionTreeClassifier()"
   ]
  },
  {
   "cell_type": "code",
   "execution_count": 98,
   "id": "1236bac8",
   "metadata": {},
   "outputs": [
    {
     "data": {
      "text/html": [
       "<style>#sk-container-id-3 {color: black;background-color: white;}#sk-container-id-3 pre{padding: 0;}#sk-container-id-3 div.sk-toggleable {background-color: white;}#sk-container-id-3 label.sk-toggleable__label {cursor: pointer;display: block;width: 100%;margin-bottom: 0;padding: 0.3em;box-sizing: border-box;text-align: center;}#sk-container-id-3 label.sk-toggleable__label-arrow:before {content: \"▸\";float: left;margin-right: 0.25em;color: #696969;}#sk-container-id-3 label.sk-toggleable__label-arrow:hover:before {color: black;}#sk-container-id-3 div.sk-estimator:hover label.sk-toggleable__label-arrow:before {color: black;}#sk-container-id-3 div.sk-toggleable__content {max-height: 0;max-width: 0;overflow: hidden;text-align: left;background-color: #f0f8ff;}#sk-container-id-3 div.sk-toggleable__content pre {margin: 0.2em;color: black;border-radius: 0.25em;background-color: #f0f8ff;}#sk-container-id-3 input.sk-toggleable__control:checked~div.sk-toggleable__content {max-height: 200px;max-width: 100%;overflow: auto;}#sk-container-id-3 input.sk-toggleable__control:checked~label.sk-toggleable__label-arrow:before {content: \"▾\";}#sk-container-id-3 div.sk-estimator input.sk-toggleable__control:checked~label.sk-toggleable__label {background-color: #d4ebff;}#sk-container-id-3 div.sk-label input.sk-toggleable__control:checked~label.sk-toggleable__label {background-color: #d4ebff;}#sk-container-id-3 input.sk-hidden--visually {border: 0;clip: rect(1px 1px 1px 1px);clip: rect(1px, 1px, 1px, 1px);height: 1px;margin: -1px;overflow: hidden;padding: 0;position: absolute;width: 1px;}#sk-container-id-3 div.sk-estimator {font-family: monospace;background-color: #f0f8ff;border: 1px dotted black;border-radius: 0.25em;box-sizing: border-box;margin-bottom: 0.5em;}#sk-container-id-3 div.sk-estimator:hover {background-color: #d4ebff;}#sk-container-id-3 div.sk-parallel-item::after {content: \"\";width: 100%;border-bottom: 1px solid gray;flex-grow: 1;}#sk-container-id-3 div.sk-label:hover label.sk-toggleable__label {background-color: #d4ebff;}#sk-container-id-3 div.sk-serial::before {content: \"\";position: absolute;border-left: 1px solid gray;box-sizing: border-box;top: 0;bottom: 0;left: 50%;z-index: 0;}#sk-container-id-3 div.sk-serial {display: flex;flex-direction: column;align-items: center;background-color: white;padding-right: 0.2em;padding-left: 0.2em;position: relative;}#sk-container-id-3 div.sk-item {position: relative;z-index: 1;}#sk-container-id-3 div.sk-parallel {display: flex;align-items: stretch;justify-content: center;background-color: white;position: relative;}#sk-container-id-3 div.sk-item::before, #sk-container-id-3 div.sk-parallel-item::before {content: \"\";position: absolute;border-left: 1px solid gray;box-sizing: border-box;top: 0;bottom: 0;left: 50%;z-index: -1;}#sk-container-id-3 div.sk-parallel-item {display: flex;flex-direction: column;z-index: 1;position: relative;background-color: white;}#sk-container-id-3 div.sk-parallel-item:first-child::after {align-self: flex-end;width: 50%;}#sk-container-id-3 div.sk-parallel-item:last-child::after {align-self: flex-start;width: 50%;}#sk-container-id-3 div.sk-parallel-item:only-child::after {width: 0;}#sk-container-id-3 div.sk-dashed-wrapped {border: 1px dashed gray;margin: 0 0.4em 0.5em 0.4em;box-sizing: border-box;padding-bottom: 0.4em;background-color: white;}#sk-container-id-3 div.sk-label label {font-family: monospace;font-weight: bold;display: inline-block;line-height: 1.2em;}#sk-container-id-3 div.sk-label-container {text-align: center;}#sk-container-id-3 div.sk-container {/* jupyter's `normalize.less` sets `[hidden] { display: none; }` but bootstrap.min.css set `[hidden] { display: none !important; }` so we also need the `!important` here to be able to override the default hidden behavior on the sphinx rendered scikit-learn.org. See: https://github.com/scikit-learn/scikit-learn/issues/21755 */display: inline-block !important;position: relative;}#sk-container-id-3 div.sk-text-repr-fallback {display: none;}</style><div id=\"sk-container-id-3\" class=\"sk-top-container\"><div class=\"sk-text-repr-fallback\"><pre>DecisionTreeClassifier()</pre><b>In a Jupyter environment, please rerun this cell to show the HTML representation or trust the notebook. <br />On GitHub, the HTML representation is unable to render, please try loading this page with nbviewer.org.</b></div><div class=\"sk-container\" hidden><div class=\"sk-item\"><div class=\"sk-estimator sk-toggleable\"><input class=\"sk-toggleable__control sk-hidden--visually\" id=\"sk-estimator-id-3\" type=\"checkbox\" checked><label for=\"sk-estimator-id-3\" class=\"sk-toggleable__label sk-toggleable__label-arrow\">DecisionTreeClassifier</label><div class=\"sk-toggleable__content\"><pre>DecisionTreeClassifier()</pre></div></div></div></div></div>"
      ],
      "text/plain": [
       "DecisionTreeClassifier()"
      ]
     },
     "execution_count": 98,
     "metadata": {},
     "output_type": "execute_result"
    }
   ],
   "source": [
    "dt.fit(x_train,y_train)"
   ]
  },
  {
   "cell_type": "code",
   "execution_count": 99,
   "id": "1f5cdb57",
   "metadata": {},
   "outputs": [],
   "source": [
    "y_pred= dt.predict(x_test)"
   ]
  },
  {
   "cell_type": "code",
   "execution_count": 100,
   "id": "7c24f272",
   "metadata": {},
   "outputs": [
    {
     "name": "stdout",
     "output_type": "stream",
     "text": [
      "              precision    recall  f1-score   support\n",
      "\n",
      "           0       0.61      0.60      0.60      3594\n",
      "           1       0.69      0.69      0.69      5884\n",
      "           2       0.72      0.73      0.73     10522\n",
      "\n",
      "    accuracy                           0.70     20000\n",
      "   macro avg       0.68      0.67      0.67     20000\n",
      "weighted avg       0.69      0.70      0.69     20000\n",
      "\n"
     ]
    }
   ],
   "source": [
    "cr=classification_report(y_pred,y_test)\n",
    "print(cr)"
   ]
  },
  {
   "cell_type": "code",
   "execution_count": 102,
   "id": "62d5ad8c",
   "metadata": {},
   "outputs": [
    {
     "data": {
      "text/plain": [
       "0.69515"
      ]
     },
     "execution_count": 102,
     "metadata": {},
     "output_type": "execute_result"
    }
   ],
   "source": [
    "accuracy_score(y_pred,y_test)"
   ]
  },
  {
   "cell_type": "code",
   "execution_count": 103,
   "id": "2113ca00",
   "metadata": {},
   "outputs": [],
   "source": [
    "from sklearn.ensemble import RandomForestClassifier"
   ]
  },
  {
   "cell_type": "code",
   "execution_count": 104,
   "id": "71d52a5a",
   "metadata": {},
   "outputs": [],
   "source": [
    "rf= RandomForestClassifier()"
   ]
  },
  {
   "cell_type": "code",
   "execution_count": 105,
   "id": "6e7141b1",
   "metadata": {},
   "outputs": [
    {
     "data": {
      "text/html": [
       "<style>#sk-container-id-4 {color: black;background-color: white;}#sk-container-id-4 pre{padding: 0;}#sk-container-id-4 div.sk-toggleable {background-color: white;}#sk-container-id-4 label.sk-toggleable__label {cursor: pointer;display: block;width: 100%;margin-bottom: 0;padding: 0.3em;box-sizing: border-box;text-align: center;}#sk-container-id-4 label.sk-toggleable__label-arrow:before {content: \"▸\";float: left;margin-right: 0.25em;color: #696969;}#sk-container-id-4 label.sk-toggleable__label-arrow:hover:before {color: black;}#sk-container-id-4 div.sk-estimator:hover label.sk-toggleable__label-arrow:before {color: black;}#sk-container-id-4 div.sk-toggleable__content {max-height: 0;max-width: 0;overflow: hidden;text-align: left;background-color: #f0f8ff;}#sk-container-id-4 div.sk-toggleable__content pre {margin: 0.2em;color: black;border-radius: 0.25em;background-color: #f0f8ff;}#sk-container-id-4 input.sk-toggleable__control:checked~div.sk-toggleable__content {max-height: 200px;max-width: 100%;overflow: auto;}#sk-container-id-4 input.sk-toggleable__control:checked~label.sk-toggleable__label-arrow:before {content: \"▾\";}#sk-container-id-4 div.sk-estimator input.sk-toggleable__control:checked~label.sk-toggleable__label {background-color: #d4ebff;}#sk-container-id-4 div.sk-label input.sk-toggleable__control:checked~label.sk-toggleable__label {background-color: #d4ebff;}#sk-container-id-4 input.sk-hidden--visually {border: 0;clip: rect(1px 1px 1px 1px);clip: rect(1px, 1px, 1px, 1px);height: 1px;margin: -1px;overflow: hidden;padding: 0;position: absolute;width: 1px;}#sk-container-id-4 div.sk-estimator {font-family: monospace;background-color: #f0f8ff;border: 1px dotted black;border-radius: 0.25em;box-sizing: border-box;margin-bottom: 0.5em;}#sk-container-id-4 div.sk-estimator:hover {background-color: #d4ebff;}#sk-container-id-4 div.sk-parallel-item::after {content: \"\";width: 100%;border-bottom: 1px solid gray;flex-grow: 1;}#sk-container-id-4 div.sk-label:hover label.sk-toggleable__label {background-color: #d4ebff;}#sk-container-id-4 div.sk-serial::before {content: \"\";position: absolute;border-left: 1px solid gray;box-sizing: border-box;top: 0;bottom: 0;left: 50%;z-index: 0;}#sk-container-id-4 div.sk-serial {display: flex;flex-direction: column;align-items: center;background-color: white;padding-right: 0.2em;padding-left: 0.2em;position: relative;}#sk-container-id-4 div.sk-item {position: relative;z-index: 1;}#sk-container-id-4 div.sk-parallel {display: flex;align-items: stretch;justify-content: center;background-color: white;position: relative;}#sk-container-id-4 div.sk-item::before, #sk-container-id-4 div.sk-parallel-item::before {content: \"\";position: absolute;border-left: 1px solid gray;box-sizing: border-box;top: 0;bottom: 0;left: 50%;z-index: -1;}#sk-container-id-4 div.sk-parallel-item {display: flex;flex-direction: column;z-index: 1;position: relative;background-color: white;}#sk-container-id-4 div.sk-parallel-item:first-child::after {align-self: flex-end;width: 50%;}#sk-container-id-4 div.sk-parallel-item:last-child::after {align-self: flex-start;width: 50%;}#sk-container-id-4 div.sk-parallel-item:only-child::after {width: 0;}#sk-container-id-4 div.sk-dashed-wrapped {border: 1px dashed gray;margin: 0 0.4em 0.5em 0.4em;box-sizing: border-box;padding-bottom: 0.4em;background-color: white;}#sk-container-id-4 div.sk-label label {font-family: monospace;font-weight: bold;display: inline-block;line-height: 1.2em;}#sk-container-id-4 div.sk-label-container {text-align: center;}#sk-container-id-4 div.sk-container {/* jupyter's `normalize.less` sets `[hidden] { display: none; }` but bootstrap.min.css set `[hidden] { display: none !important; }` so we also need the `!important` here to be able to override the default hidden behavior on the sphinx rendered scikit-learn.org. See: https://github.com/scikit-learn/scikit-learn/issues/21755 */display: inline-block !important;position: relative;}#sk-container-id-4 div.sk-text-repr-fallback {display: none;}</style><div id=\"sk-container-id-4\" class=\"sk-top-container\"><div class=\"sk-text-repr-fallback\"><pre>RandomForestClassifier()</pre><b>In a Jupyter environment, please rerun this cell to show the HTML representation or trust the notebook. <br />On GitHub, the HTML representation is unable to render, please try loading this page with nbviewer.org.</b></div><div class=\"sk-container\" hidden><div class=\"sk-item\"><div class=\"sk-estimator sk-toggleable\"><input class=\"sk-toggleable__control sk-hidden--visually\" id=\"sk-estimator-id-4\" type=\"checkbox\" checked><label for=\"sk-estimator-id-4\" class=\"sk-toggleable__label sk-toggleable__label-arrow\">RandomForestClassifier</label><div class=\"sk-toggleable__content\"><pre>RandomForestClassifier()</pre></div></div></div></div></div>"
      ],
      "text/plain": [
       "RandomForestClassifier()"
      ]
     },
     "execution_count": 105,
     "metadata": {},
     "output_type": "execute_result"
    }
   ],
   "source": [
    "rf.fit(x_train, y_train)"
   ]
  },
  {
   "cell_type": "code",
   "execution_count": 106,
   "id": "d35f91ed",
   "metadata": {},
   "outputs": [],
   "source": [
    "y_pred=rf.predict(x_test)"
   ]
  },
  {
   "cell_type": "code",
   "execution_count": 107,
   "id": "0d1f18bb",
   "metadata": {},
   "outputs": [
    {
     "name": "stdout",
     "output_type": "stream",
     "text": [
      "              precision    recall  f1-score   support\n",
      "\n",
      "           0       0.70      0.72      0.71      3413\n",
      "           1       0.78      0.78      0.78      5910\n",
      "           2       0.80      0.79      0.79     10677\n",
      "\n",
      "    accuracy                           0.77     20000\n",
      "   macro avg       0.76      0.76      0.76     20000\n",
      "weighted avg       0.78      0.77      0.77     20000\n",
      "\n"
     ]
    }
   ],
   "source": [
    "cr=classification_report(y_pred, y_test)\n",
    "print(cr)"
   ]
  },
  {
   "cell_type": "code",
   "execution_count": 109,
   "id": "d4129025",
   "metadata": {},
   "outputs": [
    {
     "data": {
      "text/plain": [
       "0.77465"
      ]
     },
     "execution_count": 109,
     "metadata": {},
     "output_type": "execute_result"
    }
   ],
   "source": [
    "accuracy_score(y_pred,y_test)"
   ]
  },
  {
   "cell_type": "code",
   "execution_count": 110,
   "id": "5812f4ee",
   "metadata": {},
   "outputs": [],
   "source": [
    "# Perform LDA-->"
   ]
  },
  {
   "cell_type": "code",
   "execution_count": 113,
   "id": "048c11cd",
   "metadata": {},
   "outputs": [
    {
     "data": {
      "text/plain": [
       "2    53174\n",
       "1    28998\n",
       "0    17828\n",
       "Name: Credit_Score, dtype: int64"
      ]
     },
     "execution_count": 113,
     "metadata": {},
     "output_type": "execute_result"
    }
   ],
   "source": [
    "df1['Credit_Score'].value_counts()     # n_components=3-1=2"
   ]
  },
  {
   "cell_type": "markdown",
   "id": "4ca9fd28",
   "metadata": {},
   "source": [
    "### LDA"
   ]
  },
  {
   "cell_type": "code",
   "execution_count": 114,
   "id": "4519ba29",
   "metadata": {},
   "outputs": [],
   "source": [
    "from sklearn.discriminant_analysis import LinearDiscriminantAnalysis as LDA\n",
    "lda=LDA(n_components=2)"
   ]
  },
  {
   "cell_type": "code",
   "execution_count": 115,
   "id": "37cb6c29",
   "metadata": {},
   "outputs": [],
   "source": [
    "x_train= lda.fit_transform(x_train,y_train)\n",
    "x_test=lda.transform(x_test)"
   ]
  },
  {
   "cell_type": "code",
   "execution_count": 116,
   "id": "8c330927",
   "metadata": {},
   "outputs": [
    {
     "data": {
      "text/plain": [
       "(80000, 2)"
      ]
     },
     "execution_count": 116,
     "metadata": {},
     "output_type": "execute_result"
    }
   ],
   "source": [
    "x_train.shape"
   ]
  },
  {
   "cell_type": "code",
   "execution_count": 118,
   "id": "9e6a57c2",
   "metadata": {},
   "outputs": [],
   "source": [
    "from sklearn.tree import DecisionTreeClassifier\n",
    "dt=DecisionTreeClassifier()"
   ]
  },
  {
   "cell_type": "code",
   "execution_count": 119,
   "id": "682f040b",
   "metadata": {},
   "outputs": [
    {
     "data": {
      "text/html": [
       "<style>#sk-container-id-5 {color: black;background-color: white;}#sk-container-id-5 pre{padding: 0;}#sk-container-id-5 div.sk-toggleable {background-color: white;}#sk-container-id-5 label.sk-toggleable__label {cursor: pointer;display: block;width: 100%;margin-bottom: 0;padding: 0.3em;box-sizing: border-box;text-align: center;}#sk-container-id-5 label.sk-toggleable__label-arrow:before {content: \"▸\";float: left;margin-right: 0.25em;color: #696969;}#sk-container-id-5 label.sk-toggleable__label-arrow:hover:before {color: black;}#sk-container-id-5 div.sk-estimator:hover label.sk-toggleable__label-arrow:before {color: black;}#sk-container-id-5 div.sk-toggleable__content {max-height: 0;max-width: 0;overflow: hidden;text-align: left;background-color: #f0f8ff;}#sk-container-id-5 div.sk-toggleable__content pre {margin: 0.2em;color: black;border-radius: 0.25em;background-color: #f0f8ff;}#sk-container-id-5 input.sk-toggleable__control:checked~div.sk-toggleable__content {max-height: 200px;max-width: 100%;overflow: auto;}#sk-container-id-5 input.sk-toggleable__control:checked~label.sk-toggleable__label-arrow:before {content: \"▾\";}#sk-container-id-5 div.sk-estimator input.sk-toggleable__control:checked~label.sk-toggleable__label {background-color: #d4ebff;}#sk-container-id-5 div.sk-label input.sk-toggleable__control:checked~label.sk-toggleable__label {background-color: #d4ebff;}#sk-container-id-5 input.sk-hidden--visually {border: 0;clip: rect(1px 1px 1px 1px);clip: rect(1px, 1px, 1px, 1px);height: 1px;margin: -1px;overflow: hidden;padding: 0;position: absolute;width: 1px;}#sk-container-id-5 div.sk-estimator {font-family: monospace;background-color: #f0f8ff;border: 1px dotted black;border-radius: 0.25em;box-sizing: border-box;margin-bottom: 0.5em;}#sk-container-id-5 div.sk-estimator:hover {background-color: #d4ebff;}#sk-container-id-5 div.sk-parallel-item::after {content: \"\";width: 100%;border-bottom: 1px solid gray;flex-grow: 1;}#sk-container-id-5 div.sk-label:hover label.sk-toggleable__label {background-color: #d4ebff;}#sk-container-id-5 div.sk-serial::before {content: \"\";position: absolute;border-left: 1px solid gray;box-sizing: border-box;top: 0;bottom: 0;left: 50%;z-index: 0;}#sk-container-id-5 div.sk-serial {display: flex;flex-direction: column;align-items: center;background-color: white;padding-right: 0.2em;padding-left: 0.2em;position: relative;}#sk-container-id-5 div.sk-item {position: relative;z-index: 1;}#sk-container-id-5 div.sk-parallel {display: flex;align-items: stretch;justify-content: center;background-color: white;position: relative;}#sk-container-id-5 div.sk-item::before, #sk-container-id-5 div.sk-parallel-item::before {content: \"\";position: absolute;border-left: 1px solid gray;box-sizing: border-box;top: 0;bottom: 0;left: 50%;z-index: -1;}#sk-container-id-5 div.sk-parallel-item {display: flex;flex-direction: column;z-index: 1;position: relative;background-color: white;}#sk-container-id-5 div.sk-parallel-item:first-child::after {align-self: flex-end;width: 50%;}#sk-container-id-5 div.sk-parallel-item:last-child::after {align-self: flex-start;width: 50%;}#sk-container-id-5 div.sk-parallel-item:only-child::after {width: 0;}#sk-container-id-5 div.sk-dashed-wrapped {border: 1px dashed gray;margin: 0 0.4em 0.5em 0.4em;box-sizing: border-box;padding-bottom: 0.4em;background-color: white;}#sk-container-id-5 div.sk-label label {font-family: monospace;font-weight: bold;display: inline-block;line-height: 1.2em;}#sk-container-id-5 div.sk-label-container {text-align: center;}#sk-container-id-5 div.sk-container {/* jupyter's `normalize.less` sets `[hidden] { display: none; }` but bootstrap.min.css set `[hidden] { display: none !important; }` so we also need the `!important` here to be able to override the default hidden behavior on the sphinx rendered scikit-learn.org. See: https://github.com/scikit-learn/scikit-learn/issues/21755 */display: inline-block !important;position: relative;}#sk-container-id-5 div.sk-text-repr-fallback {display: none;}</style><div id=\"sk-container-id-5\" class=\"sk-top-container\"><div class=\"sk-text-repr-fallback\"><pre>DecisionTreeClassifier()</pre><b>In a Jupyter environment, please rerun this cell to show the HTML representation or trust the notebook. <br />On GitHub, the HTML representation is unable to render, please try loading this page with nbviewer.org.</b></div><div class=\"sk-container\" hidden><div class=\"sk-item\"><div class=\"sk-estimator sk-toggleable\"><input class=\"sk-toggleable__control sk-hidden--visually\" id=\"sk-estimator-id-5\" type=\"checkbox\" checked><label for=\"sk-estimator-id-5\" class=\"sk-toggleable__label sk-toggleable__label-arrow\">DecisionTreeClassifier</label><div class=\"sk-toggleable__content\"><pre>DecisionTreeClassifier()</pre></div></div></div></div></div>"
      ],
      "text/plain": [
       "DecisionTreeClassifier()"
      ]
     },
     "execution_count": 119,
     "metadata": {},
     "output_type": "execute_result"
    }
   ],
   "source": [
    "dt.fit(x_train,y_train)"
   ]
  },
  {
   "cell_type": "code",
   "execution_count": 120,
   "id": "eda5269b",
   "metadata": {},
   "outputs": [],
   "source": [
    "y_pred= dt.predict(x_test)"
   ]
  },
  {
   "cell_type": "code",
   "execution_count": 122,
   "id": "b79b2b80",
   "metadata": {},
   "outputs": [
    {
     "name": "stdout",
     "output_type": "stream",
     "text": [
      "              precision    recall  f1-score   support\n",
      "\n",
      "           0       0.57      0.55      0.56      3691\n",
      "           1       0.64      0.61      0.62      6126\n",
      "           2       0.68      0.70      0.69     10183\n",
      "\n",
      "    accuracy                           0.65     20000\n",
      "   macro avg       0.63      0.62      0.63     20000\n",
      "weighted avg       0.65      0.65      0.65     20000\n",
      "\n"
     ]
    }
   ],
   "source": [
    "cr=classification_report(y_pred, y_test)\n",
    "print(cr)"
   ]
  },
  {
   "cell_type": "code",
   "execution_count": 124,
   "id": "f9f8ff83",
   "metadata": {},
   "outputs": [],
   "source": [
    "from sklearn.ensemble import RandomForestClassifier\n",
    "rf=RandomForestClassifier()"
   ]
  },
  {
   "cell_type": "code",
   "execution_count": 125,
   "id": "6af449e9",
   "metadata": {},
   "outputs": [
    {
     "data": {
      "text/html": [
       "<style>#sk-container-id-6 {color: black;background-color: white;}#sk-container-id-6 pre{padding: 0;}#sk-container-id-6 div.sk-toggleable {background-color: white;}#sk-container-id-6 label.sk-toggleable__label {cursor: pointer;display: block;width: 100%;margin-bottom: 0;padding: 0.3em;box-sizing: border-box;text-align: center;}#sk-container-id-6 label.sk-toggleable__label-arrow:before {content: \"▸\";float: left;margin-right: 0.25em;color: #696969;}#sk-container-id-6 label.sk-toggleable__label-arrow:hover:before {color: black;}#sk-container-id-6 div.sk-estimator:hover label.sk-toggleable__label-arrow:before {color: black;}#sk-container-id-6 div.sk-toggleable__content {max-height: 0;max-width: 0;overflow: hidden;text-align: left;background-color: #f0f8ff;}#sk-container-id-6 div.sk-toggleable__content pre {margin: 0.2em;color: black;border-radius: 0.25em;background-color: #f0f8ff;}#sk-container-id-6 input.sk-toggleable__control:checked~div.sk-toggleable__content {max-height: 200px;max-width: 100%;overflow: auto;}#sk-container-id-6 input.sk-toggleable__control:checked~label.sk-toggleable__label-arrow:before {content: \"▾\";}#sk-container-id-6 div.sk-estimator input.sk-toggleable__control:checked~label.sk-toggleable__label {background-color: #d4ebff;}#sk-container-id-6 div.sk-label input.sk-toggleable__control:checked~label.sk-toggleable__label {background-color: #d4ebff;}#sk-container-id-6 input.sk-hidden--visually {border: 0;clip: rect(1px 1px 1px 1px);clip: rect(1px, 1px, 1px, 1px);height: 1px;margin: -1px;overflow: hidden;padding: 0;position: absolute;width: 1px;}#sk-container-id-6 div.sk-estimator {font-family: monospace;background-color: #f0f8ff;border: 1px dotted black;border-radius: 0.25em;box-sizing: border-box;margin-bottom: 0.5em;}#sk-container-id-6 div.sk-estimator:hover {background-color: #d4ebff;}#sk-container-id-6 div.sk-parallel-item::after {content: \"\";width: 100%;border-bottom: 1px solid gray;flex-grow: 1;}#sk-container-id-6 div.sk-label:hover label.sk-toggleable__label {background-color: #d4ebff;}#sk-container-id-6 div.sk-serial::before {content: \"\";position: absolute;border-left: 1px solid gray;box-sizing: border-box;top: 0;bottom: 0;left: 50%;z-index: 0;}#sk-container-id-6 div.sk-serial {display: flex;flex-direction: column;align-items: center;background-color: white;padding-right: 0.2em;padding-left: 0.2em;position: relative;}#sk-container-id-6 div.sk-item {position: relative;z-index: 1;}#sk-container-id-6 div.sk-parallel {display: flex;align-items: stretch;justify-content: center;background-color: white;position: relative;}#sk-container-id-6 div.sk-item::before, #sk-container-id-6 div.sk-parallel-item::before {content: \"\";position: absolute;border-left: 1px solid gray;box-sizing: border-box;top: 0;bottom: 0;left: 50%;z-index: -1;}#sk-container-id-6 div.sk-parallel-item {display: flex;flex-direction: column;z-index: 1;position: relative;background-color: white;}#sk-container-id-6 div.sk-parallel-item:first-child::after {align-self: flex-end;width: 50%;}#sk-container-id-6 div.sk-parallel-item:last-child::after {align-self: flex-start;width: 50%;}#sk-container-id-6 div.sk-parallel-item:only-child::after {width: 0;}#sk-container-id-6 div.sk-dashed-wrapped {border: 1px dashed gray;margin: 0 0.4em 0.5em 0.4em;box-sizing: border-box;padding-bottom: 0.4em;background-color: white;}#sk-container-id-6 div.sk-label label {font-family: monospace;font-weight: bold;display: inline-block;line-height: 1.2em;}#sk-container-id-6 div.sk-label-container {text-align: center;}#sk-container-id-6 div.sk-container {/* jupyter's `normalize.less` sets `[hidden] { display: none; }` but bootstrap.min.css set `[hidden] { display: none !important; }` so we also need the `!important` here to be able to override the default hidden behavior on the sphinx rendered scikit-learn.org. See: https://github.com/scikit-learn/scikit-learn/issues/21755 */display: inline-block !important;position: relative;}#sk-container-id-6 div.sk-text-repr-fallback {display: none;}</style><div id=\"sk-container-id-6\" class=\"sk-top-container\"><div class=\"sk-text-repr-fallback\"><pre>RandomForestClassifier()</pre><b>In a Jupyter environment, please rerun this cell to show the HTML representation or trust the notebook. <br />On GitHub, the HTML representation is unable to render, please try loading this page with nbviewer.org.</b></div><div class=\"sk-container\" hidden><div class=\"sk-item\"><div class=\"sk-estimator sk-toggleable\"><input class=\"sk-toggleable__control sk-hidden--visually\" id=\"sk-estimator-id-6\" type=\"checkbox\" checked><label for=\"sk-estimator-id-6\" class=\"sk-toggleable__label sk-toggleable__label-arrow\">RandomForestClassifier</label><div class=\"sk-toggleable__content\"><pre>RandomForestClassifier()</pre></div></div></div></div></div>"
      ],
      "text/plain": [
       "RandomForestClassifier()"
      ]
     },
     "execution_count": 125,
     "metadata": {},
     "output_type": "execute_result"
    }
   ],
   "source": [
    "rf.fit(x_train, y_train)"
   ]
  },
  {
   "cell_type": "code",
   "execution_count": 126,
   "id": "2ea875cd",
   "metadata": {},
   "outputs": [],
   "source": [
    "y_pred= rf.predict(x_test)"
   ]
  },
  {
   "cell_type": "code",
   "execution_count": 127,
   "id": "68e03286",
   "metadata": {},
   "outputs": [
    {
     "name": "stdout",
     "output_type": "stream",
     "text": [
      "              precision    recall  f1-score   support\n",
      "\n",
      "           0       0.58      0.61      0.59      3361\n",
      "           1       0.64      0.67      0.65      5618\n",
      "           2       0.74      0.71      0.72     11021\n",
      "\n",
      "    accuracy                           0.68     20000\n",
      "   macro avg       0.65      0.66      0.65     20000\n",
      "weighted avg       0.68      0.68      0.68     20000\n",
      "\n"
     ]
    }
   ],
   "source": [
    "cr= classification_report(y_pred, y_test)\n",
    "print(cr)"
   ]
  },
  {
   "cell_type": "code",
   "execution_count": null,
   "id": "16578408",
   "metadata": {},
   "outputs": [],
   "source": []
  },
  {
   "cell_type": "code",
   "execution_count": null,
   "id": "d4524230",
   "metadata": {},
   "outputs": [],
   "source": []
  }
 ],
 "metadata": {
  "kernelspec": {
   "display_name": "Python 3 (ipykernel)",
   "language": "python",
   "name": "python3"
  },
  "language_info": {
   "codemirror_mode": {
    "name": "ipython",
    "version": 3
   },
   "file_extension": ".py",
   "mimetype": "text/x-python",
   "name": "python",
   "nbconvert_exporter": "python",
   "pygments_lexer": "ipython3",
   "version": "3.9.7"
  }
 },
 "nbformat": 4,
 "nbformat_minor": 5
}
